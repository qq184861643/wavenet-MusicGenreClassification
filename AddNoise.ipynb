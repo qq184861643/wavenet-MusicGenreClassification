{
 "cells": [
  {
   "cell_type": "code",
   "execution_count": 6,
   "metadata": {
    "collapsed": false
   },
   "outputs": [],
   "source": [
    "import keras\n",
    "import numpy as np"
   ]
  },
  {
   "cell_type": "code",
   "execution_count": 4,
   "metadata": {
    "collapsed": false
   },
   "outputs": [],
   "source": [
    "from kapre.augmentation import AdditiveNoise"
   ]
  },
  {
   "cell_type": "code",
   "execution_count": 321,
   "metadata": {
    "collapsed": false
   },
   "outputs": [],
   "source": [
    "def find(rowAll, numBaseline, recomList):\n",
    "    if recomList:\n",
    "        columnAll = len(recomList[0])\n",
    "        finalList = []\n",
    "        for i in range(0, rowAll):\n",
    "            count = 0\n",
    "            for j in range(1, columnAll):\n",
    "                if recomList[i][j] != '*':\n",
    "                    count = count + 1\n",
    "                if count >= numBaseline:\n",
    "                    finalList.append(recomList[i][0])\n",
    "        print ' '.join(finalList)\n",
    "    else:\n",
    "        return"
   ]
  },
  {
   "cell_type": "code",
   "execution_count": 322,
   "metadata": {
    "collapsed": false
   },
   "outputs": [
    {
     "name": "stdout",
     "output_type": "stream",
     "text": [
      "A B E\n"
     ]
    }
   ],
   "source": [
    "find(5, 2, [['A','B','C'],['C','F','*'],['B','D','E'], ['D','G','*'], ['E','H','I']])"
   ]
  },
  {
   "cell_type": "code",
   "execution_count": 452,
   "metadata": {
    "collapsed": false
   },
   "outputs": [],
   "source": [
    "def getInput(myString):\n",
    "    sNum = myString.split(\" \", 1)\n",
    "    rowAll = int(sNum[0])\n",
    "    sNum1 = sNum[1].split(\"\\n\", 1)\n",
    "    numBaseline = int(sNum1[0])\n",
    "    recomListRaw = sNum1[1]\n",
    "    sList = recomListRaw.split(\"\\n\", rowAll - 1)\n",
    "    recomList = []\n",
    "    for i in range(0, rowAll):\n",
    "        recomList.append(list(sList[i].split(\" \")))\n",
    "#     print rowAll, numBaseline\n",
    "#     print recomList\n",
    "    find(rowAll, numBaseline, recomList)"
   ]
  },
  {
   "cell_type": "code",
   "execution_count": 453,
   "metadata": {
    "collapsed": false
   },
   "outputs": [
    {
     "name": "stdout",
     "output_type": "stream",
     "text": [
      "5 2\n",
      "A B C\n",
      "C F *\n",
      "B D E\n",
      "D G *\n",
      "E H I\n",
      "A B E\n"
     ]
    }
   ],
   "source": [
    "myString = '5 2\\nA B C\\nC F *\\nB D E\\nD G *\\nE H I'\n",
    "print myString\n",
    "getInput(myString)"
   ]
  },
  {
   "cell_type": "code",
   "execution_count": 454,
   "metadata": {
    "collapsed": false
   },
   "outputs": [
    {
     "name": "stdout",
     "output_type": "stream",
     "text": [
      "A B E\n"
     ]
    }
   ],
   "source": [
    "getInput(myString)"
   ]
  },
  {
   "cell_type": "code",
   "execution_count": 340,
   "metadata": {
    "collapsed": false
   },
   "outputs": [],
   "source": [
    "class Solution:\n",
    "    def find(rowAll, numBaseline, recomList):\n",
    "        if recomList:\n",
    "            columnAll = len(recomList[0])\n",
    "            finalList = []\n",
    "            for i in range(0, rowAll):\n",
    "                count = 0\n",
    "                for j in range(1, columnAll):\n",
    "                    if recomList[i][j] != '*':\n",
    "                        count = count + 1\n",
    "                if count >= numBaseline:\n",
    "                    finalList.append(recomList[i][0])\n",
    "            print ' '.join(finalList)\n",
    "        else:\n",
    "            return\n",
    "    def getInput(myString):\n",
    "        sNum = myString.split(\" \", 1)\n",
    "        rowAll = int(sNum[0])\n",
    "        sNum1 = sNum[1].split(\"\\n\", 1)\n",
    "        numBaseline = int(sNum1[0])\n",
    "        recomListRaw = sNum1[1]\n",
    "        sList = recomListRaw.split(\"\\n\", rowAll - 1)\n",
    "        recomList = []\n",
    "        for i in range(0, rowAll):\n",
    "            recomList.append(list(sList[i].split(\" \")))\n",
    "        find(rowAll, numBaseline, recomList)\n",
    "while True:\n",
    "    try:\n",
    "        myString = raw_input()\n",
    "        Solution().getInput(myString)\n",
    "    except:\n",
    "        break"
   ]
  },
  {
   "cell_type": "code",
   "execution_count": 355,
   "metadata": {
    "collapsed": false
   },
   "outputs": [
    {
     "name": "stdout",
     "output_type": "stream",
     "text": [
      "5 2\n"
     ]
    }
   ],
   "source": [
    "class Solution:\n",
    "    def find(rowAll, numBaseline, recomList):\n",
    "        if recomList:\n",
    "            columnAll = len(recomList[0])\n",
    "            finalList = []\n",
    "            for i in range(0, rowAll):\n",
    "                count = 0\n",
    "                for j in range(1, columnAll):\n",
    "                    if recomList[i][j] != '*':\n",
    "                        count = count + 1\n",
    "                if count >= numBaseline:\n",
    "                    finalList.append(recomList[i][0])\n",
    "            print ' '.join(finalList)\n",
    "        else:\n",
    "            return\n",
    "while True:\n",
    "    try:\n",
    "        sNum = raw_input().split(\" \", 1)\n",
    "        rowAll = int(sNum[0])\n",
    "        sNum1 = sNum[1].split(\"\\n\", 1)\n",
    "        #print rowAll\n",
    "        numBaseline = int(sNum1[0])\n",
    "        #print numBaseline\n",
    "        recomListRaw = sNum1[1]\n",
    "        #print recomListRaw\n",
    "        sList = recomListRaw.split(\"\\n\", rowAll - 1)\n",
    "        recomList = []\n",
    "        for i in range(0, rowAll):\n",
    "            recomList.append(list(sList[i].split(\" \")))\n",
    "        Solution().find(rowAll, numBaseline, recomList)\n",
    "    except:\n",
    "        break"
   ]
  },
  {
   "cell_type": "code",
   "execution_count": 357,
   "metadata": {
    "collapsed": false
   },
   "outputs": [],
   "source": [
    "import sys\n",
    "try:\n",
    "    while True:\n",
    "        line = sys.stdin.readline().strip() # 一次只读一行\n",
    "        if line == '': # 如果是空行(^Z)就停止\n",
    "            break\n",
    "        lines = line.split() # 将每行的输入分隔\n",
    "        print int(lines[0])+int(lines[1]) # 打印输入的这一行\n",
    "except:\n",
    "    pass"
   ]
  },
  {
   "cell_type": "code",
   "execution_count": 208,
   "metadata": {
    "collapsed": false
   },
   "outputs": [],
   "source": [
    "def splitnum(group, totalSum):\n",
    "    splitList = []\n",
    "    def dfs(groupNow, sumRemain, startValue):\n",
    "        if groupNow == group and sumRemain == 0:\n",
    "            print(' '.join(map(str, splitList)))\n",
    "        elif groupNow == group and sumRemain != 0:\n",
    "            return\n",
    "        for i in range(startValue, 10):\n",
    "            splitList.append(i)\n",
    "            dfs(groupNow+1, sumRemain-i, i+1)\n",
    "            splitList.pop()#移除列表中的一个元素（默认最后一个元素），并且返回该元素的值\n",
    "    dfs(0, totalSum, 1)"
   ]
  },
  {
   "cell_type": "code",
   "execution_count": 209,
   "metadata": {
    "collapsed": false
   },
   "outputs": [
    {
     "name": "stdout",
     "output_type": "stream",
     "text": [
      "1 5 9\n",
      "1 6 8\n",
      "2 4 9\n",
      "2 5 8\n",
      "2 6 7\n",
      "3 4 8\n",
      "3 5 7\n",
      "4 5 6\n"
     ]
    }
   ],
   "source": [
    "splitnum(3, 15)"
   ]
  },
  {
   "cell_type": "code",
   "execution_count": 210,
   "metadata": {
    "collapsed": false
   },
   "outputs": [
    {
     "name": "stdout",
     "output_type": "stream",
     "text": [
      "1 2 8 9\n",
      "1 3 7 9\n",
      "1 4 6 9\n",
      "1 4 7 8\n",
      "1 5 6 8\n",
      "2 3 6 9\n",
      "2 3 7 8\n",
      "2 4 5 9\n",
      "2 4 6 8\n",
      "2 5 6 7\n",
      "3 4 5 8\n",
      "3 4 6 7\n"
     ]
    }
   ],
   "source": [
    "splitnum(4,20)"
   ]
  },
  {
   "cell_type": "code",
   "execution_count": 287,
   "metadata": {
    "collapsed": false
   },
   "outputs": [
    {
     "name": "stdout",
     "output_type": "stream",
     "text": [
      "3 15\n",
      "1 5 9\n",
      "1 6 8\n",
      "2 4 9\n",
      "2 5 8\n",
      "2 6 7\n",
      "3 4 8\n",
      "3 5 7\n",
      "4 5 6\n",
      "4 20\n",
      "1 2 8 9\n",
      "1 3 7 9\n",
      "1 4 6 9\n",
      "1 4 7 8\n",
      "1 5 6 8\n",
      "2 3 6 9\n",
      "2 3 7 8\n",
      "2 4 5 9\n",
      "2 4 6 8\n",
      "2 5 6 7\n",
      "3 4 5 8\n",
      "3 4 6 7\n"
     ]
    }
   ],
   "source": [
    "class Solution:\n",
    "    def splitnum(self, group, totalSum):\n",
    "        splitList = []\n",
    "        def dfs(groupNow, sumRemain, startValue):\n",
    "            if groupNow == group and sumRemain == 0:\n",
    "                print(' '.join(map(str, splitList))) #用空格把splitList中的元素连接起来\n",
    "            elif groupNow == group and sumRemain != 0:\n",
    "                return\n",
    "            for i in range(startValue, 10):\n",
    "                splitList.append(i) #放入元素\n",
    "                dfs(groupNow+1, sumRemain-i, i+1)\n",
    "                splitList.pop() #移除列表中的一个元素（默认最后一个元素）。若不满足条件，则把当前放进去的元素弹出来\n",
    "        dfs(0, totalSum, 1)\n",
    "while True: #写出测试用例的代码系统才能通过\n",
    "    try:\n",
    "        s = raw_input().split() #通过指定分隔符对字符串进行切片，默认为所有的空字符，包括空格、换行(\\n)、制表符(\\t)等。获取系统输入。\n",
    "        group = int(s[0]) #将获取的系统输入分给两个函数参数\n",
    "        totalSum = int(s[1])\n",
    "        Solution().splitnum(group, totalSum) #类名.函数名(参数)\n",
    "    except:\n",
    "        break"
   ]
  },
  {
   "cell_type": "code",
   "execution_count": 435,
   "metadata": {
    "collapsed": false
   },
   "outputs": [
    {
     "name": "stdout",
     "output_type": "stream",
     "text": [
      "1 2\n",
      "1\n",
      "2 5\n",
      "3\n",
      "1 5\n",
      "3\n",
      "1 6\n",
      "4\n",
      "2 6\n",
      "4\n",
      "3 6\n",
      "3\n"
     ]
    }
   ],
   "source": [
    "def getNumStr(start):\n",
    "    numList = []\n",
    "    for i in range(1, start+1):\n",
    "        numList.append(i)\n",
    "    startNum = ''.join(map(str, numList))\n",
    "    return startNum\n",
    "def judge(start, final):\n",
    "    numList = []\n",
    "    for i in range(start, final+1):\n",
    "        numList.append(getNumStr(i))\n",
    "    numList = map(int, numList)\n",
    "    count = 0\n",
    "    for j in range(0,len(numList)):\n",
    "        if numList[j] % 3 == 0:\n",
    "            count = count + 1\n",
    "    print count\n",
    "while True:\n",
    "    try:\n",
    "        s = raw_input().split()\n",
    "        start = int(s[0])\n",
    "        final = int(s[1])\n",
    "        judge(start, final) \n",
    "    except:\n",
    "        break"
   ]
  },
  {
   "cell_type": "code",
   "execution_count": 423,
   "metadata": {
    "collapsed": false
   },
   "outputs": [
    {
     "data": {
      "text/plain": [
       "3"
      ]
     },
     "execution_count": 423,
     "metadata": {},
     "output_type": "execute_result"
    }
   ],
   "source": [
    "judge(2,5)"
   ]
  },
  {
   "cell_type": "code",
   "execution_count": 421,
   "metadata": {
    "collapsed": false
   },
   "outputs": [
    {
     "data": {
      "text/plain": [
       "'12345'"
      ]
     },
     "execution_count": 421,
     "metadata": {},
     "output_type": "execute_result"
    }
   ],
   "source": [
    "getNumStr(5)"
   ]
  },
  {
   "cell_type": "code",
   "execution_count": 450,
   "metadata": {
    "collapsed": false
   },
   "outputs": [
    {
     "name": "stdout",
     "output_type": "stream",
     "text": [
      "None\n"
     ]
    }
   ],
   "source": [
    "print None"
   ]
  },
  {
   "cell_type": "code",
   "execution_count": 4,
   "metadata": {
    "collapsed": false
   },
   "outputs": [],
   "source": [
    "def singleLine(rowIndex, recomList, recomEr):\n",
    "    recomErsList = []\n",
    "    recomErsList.extend(recomList[rowIndex])\n",
    "#     print recomErsList\n",
    "    def singleStep(recomErsList, recomEr, recomList, startValue):\n",
    "        for i in range(startValue, len(recomErsList)):\n",
    "            try:\n",
    "                location = recomEr.index(recomErsList[i])\n",
    "                if location:\n",
    "                    addList = recomList[location]\n",
    "                    addList.pop(0)\n",
    "                    recomErsList.extend(addList)\n",
    "#                     print addList\n",
    "#                     print recomErsList\n",
    "                    for j in range(0, len(recomErsList)):\n",
    "                        if recomErsList[j] == '*':\n",
    "                            recomErsList.remove('*')\n",
    "            except:\n",
    "                for k in range(0, len(recomErsList)):\n",
    "                    if recomErsList[k] == '*':\n",
    "                        recomErsList.remove('*')\n",
    "                return\n",
    "        singleStep(recomErsList, recomEr, recomList, startValue + 1)\n",
    "    singleStep(recomErsList, recomEr, recomList, 1)\n",
    "#     return list(set(recomErsList))\n",
    "    return len(list(set(recomErsList)))-1"
   ]
  },
  {
   "cell_type": "code",
   "execution_count": null,
   "metadata": {
    "collapsed": false
   },
   "outputs": [],
   "source": [
    "import sys\n",
    "sys.setrecursionlimit(100000000)\n",
    "def find(rowAll, numBaseline, recomList):\n",
    "    recomEr = []\n",
    "    columnAll = len(recomList[0]) #3\n",
    "    for i in range(0, rowAll):\n",
    "        recomEr.append(recomList[i][0])\n",
    "    totalList = []\n",
    "    for j in range(0, rowAll):\n",
    "        totalList.append(singleLine(j, recomList, recomEr))\n",
    "    finalList = []\n",
    "    for m in range(0, rowAll):\n",
    "        if totalList[m] >= numBaseline:\n",
    "            finalList.append(recomEr[m])\n",
    "    print ' '.join(finalList)\n",
    "    \n",
    "find(5, 2, [['A','B','C'],['C','F','*'],['B','D','E'], ['D','G','*'], ['E','H','I']])"
   ]
  },
  {
   "cell_type": "code",
   "execution_count": 23,
   "metadata": {
    "collapsed": false
   },
   "outputs": [
    {
     "data": {
      "text/plain": [
       "1000"
      ]
     },
     "execution_count": 23,
     "metadata": {},
     "output_type": "execute_result"
    }
   ],
   "source": [
    "sys.getrecursionlimit()"
   ]
  },
  {
   "cell_type": "code",
   "execution_count": 47,
   "metadata": {
    "collapsed": false
   },
   "outputs": [],
   "source": [
    "sys.setrecursionlimit( 2100000000)"
   ]
  },
  {
   "cell_type": "code",
   "execution_count": 5,
   "metadata": {
    "collapsed": false
   },
   "outputs": [
    {
     "data": {
      "text/plain": [
       "8"
      ]
     },
     "execution_count": 5,
     "metadata": {},
     "output_type": "execute_result"
    }
   ],
   "source": [
    "singleLine(0, [['A','B','C'],['C','F','*'],['B','D','E'], ['D','G','*'], ['E','H','I']], ['A', 'C', 'B', 'D', 'E'])"
   ]
  },
  {
   "cell_type": "code",
   "execution_count": 6,
   "metadata": {
    "collapsed": false
   },
   "outputs": [
    {
     "data": {
      "text/plain": [
       "5"
      ]
     },
     "execution_count": 6,
     "metadata": {},
     "output_type": "execute_result"
    }
   ],
   "source": [
    "singleLine(2, [['A','B','C'],['C','F','*'],['B','D','E'], ['D','G','*'], ['E','H','I']], ['A', 'C', 'B', 'D', 'E'])"
   ]
  },
  {
   "cell_type": "code",
   "execution_count": 7,
   "metadata": {
    "collapsed": false
   },
   "outputs": [
    {
     "data": {
      "text/plain": [
       "2"
      ]
     },
     "execution_count": 7,
     "metadata": {},
     "output_type": "execute_result"
    }
   ],
   "source": [
    "singleLine(4, [['A','B','C'],['C','F','*'],['B','D','E'], ['D','G','*'], ['E','H','I']], ['A', 'C', 'B', 'D', 'E'])"
   ]
  },
  {
   "cell_type": "code",
   "execution_count": 14,
   "metadata": {
    "collapsed": false
   },
   "outputs": [
    {
     "name": "stdout",
     "output_type": "stream",
     "text": [
      "4\n",
      "5\n"
     ]
    }
   ],
   "source": [
    "def jumpFloor(number):\n",
    "    # write code here\n",
    "    if number == 1:\n",
    "        ways = 1\n",
    "    if number == 2:\n",
    "        ways = 2\n",
    "    if number > 2:\n",
    "        ways = jumpFloor(number - 1) + jumpFloor(number - 2)\n",
    "    return ways\n",
    "\n",
    "number = int(raw_input())\n",
    "print jumpFloor(number)"
   ]
  },
  {
   "cell_type": "code",
   "execution_count": 335,
   "metadata": {
    "collapsed": false
   },
   "outputs": [],
   "source": [
    "def calNum(rowNow, recomList, recomEr):\n",
    "    numList = []\n",
    "    rowList = []\n",
    "    rowList.extend(recomList[rowNow])\n",
    "    def dfs(startValue, rowList, recomEr, recomList):\n",
    "        if startValue != len(rowList):\n",
    "            for i in range(startValue, len(rowList)):\n",
    "                try:\n",
    "                    location = recomEr.index(rowList[i])\n",
    "                    if location:\n",
    "                        rowList.extend(recomList[location][1:])\n",
    "                except:\n",
    "                    continue\n",
    "            rowList = list(set(rowList))\n",
    "            dfs(startValue + 1, rowList, recomEr, recomList)\n",
    "        else:\n",
    "            numList.append(rowList)\n",
    "    dfs(1, rowList, recomEr, recomList)\n",
    "    return numList\n",
    "def find(rowAll, numBaseline, recomList):\n",
    "    if rowAll == 0:\n",
    "        print \"None\"\n",
    "    else:\n",
    "        recomEr = [x[0] for x in recomList]\n",
    "        nameList = []\n",
    "        for i in range(0, rowAll):\n",
    "            num = calNum(i, recomList, recomEr)\n",
    "            nameList.extend(num)\n",
    "        try:\n",
    "            for j in range(0, len(nameList)):\n",
    "                location = nameList[j].index('*')\n",
    "                if location != -1:\n",
    "                    nameList[j].remove('*')\n",
    "        except:\n",
    "            None\n",
    "        numList = []\n",
    "        for k in range(0, len(nameList)):\n",
    "            numList.append(len(nameList[k]) - 1)\n",
    "        finalList = []\n",
    "        for j in range(0, len(numList)):\n",
    "            if numList[j] >= numBaseline:\n",
    "                finalList.append(recomList[j][0])\n",
    "        if finalList:\n",
    "            print ' '.join(finalList)\n",
    "        else:\n",
    "            print \"None\""
   ]
  },
  {
   "cell_type": "code",
   "execution_count": 395,
   "metadata": {
    "collapsed": false
   },
   "outputs": [],
   "source": [
    "def calNum(rowNow, recomList, recomEr):\n",
    "    numList = []\n",
    "    rowList = []\n",
    "    rowList.extend(recomList[rowNow])\n",
    "    def dfs(startValue, rowList, recomEr, recomList):\n",
    "        if startValue != len(rowList):\n",
    "            for i in range(startValue, len(rowList)):\n",
    "                if rowList[i] in recomEr:\n",
    "                    location = recomEr.index(rowList[i])\n",
    "                    if '*' in recomList[location]:\n",
    "                        #print \"haveStar\"\n",
    "                        recomList[location].remove('*')\n",
    "                        #print recomList[location]\n",
    "                        rowList.extend(recomList[location][1:])\n",
    "                    if '*' not in recomList[location]:\n",
    "                         rowList.extend(recomList[location][1:])\n",
    "            rowList = list(set(rowList))\n",
    "            dfs(startValue + 1, rowList, recomEr, recomList)\n",
    "        else:\n",
    "            numList.append(rowList)\n",
    "    dfs(1, rowList, recomEr, recomList)\n",
    "    return numList\n",
    "def find(rowAll, numBaseline, recomList):\n",
    "    if rowAll == 0:\n",
    "        print \"None\"\n",
    "    else:\n",
    "        recomEr = [x[0] for x in recomList]\n",
    "        nameList = []\n",
    "        for i in range(0, rowAll):\n",
    "            num = calNum(i, recomList, recomEr)\n",
    "            nameList.extend(num)\n",
    "            if '*' in nameList[i]:\n",
    "                nameList[i].remove('*')\n",
    "            #print nameList\n",
    "        numList = []\n",
    "        for k in range(0, len(nameList)):\n",
    "            numList.append(len(nameList[k]) - 1)\n",
    "        finalList = []\n",
    "        for j in range(0, len(numList)):\n",
    "            if numList[j] >= numBaseline:\n",
    "                finalList.append(recomList[j][0])\n",
    "        if finalList:\n",
    "            print ' '.join(finalList)\n",
    "        else:\n",
    "            print \"None\""
   ]
  },
  {
   "cell_type": "code",
   "execution_count": 400,
   "metadata": {
    "collapsed": false
   },
   "outputs": [
    {
     "name": "stdout",
     "output_type": "stream",
     "text": [
      "A B E\n"
     ]
    }
   ],
   "source": [
    "find(5, 2, [['A','B','C'],['C','F','*'],['B','D','E'], ['D','G','*'], ['E','H','I']])"
   ]
  },
  {
   "cell_type": "code",
   "execution_count": 394,
   "metadata": {
    "collapsed": false
   },
   "outputs": [
    {
     "name": "stdout",
     "output_type": "stream",
     "text": [
      "[['A', 'C', 'B', 'E', 'D', 'G', 'I', 'H']]\n",
      "[['A', 'C', 'B', 'E', 'D', 'G', 'I', 'H'], ['C']]\n",
      "[['A', 'C', 'B', 'E', 'D', 'G', 'I', 'H'], ['C'], ['B', 'E', 'D', 'G', 'I', 'H']]\n",
      "[['A', 'C', 'B', 'E', 'D', 'G', 'I', 'H'], ['C'], ['B', 'E', 'D', 'G', 'I', 'H'], ['D', 'G']]\n",
      "[['A', 'C', 'B', 'E', 'D', 'G', 'I', 'H'], ['C'], ['B', 'E', 'D', 'G', 'I', 'H'], ['D', 'G'], ['I', 'H', 'E']]\n",
      "A B D E\n"
     ]
    }
   ],
   "source": [
    "find(5, 1, [['A','B','C'],['C','*','*'],['B','D','E'], ['D','G','*'], ['E','H','I']])"
   ]
  },
  {
   "cell_type": "code",
   "execution_count": 391,
   "metadata": {
    "collapsed": false
   },
   "outputs": [
    {
     "name": "stdout",
     "output_type": "stream",
     "text": [
      "\n"
     ]
    },
    {
     "ename": "IndexError",
     "evalue": "list index out of range",
     "output_type": "error",
     "traceback": [
      "\u001b[0;31m---------------------------------------------------------------------------\u001b[0m",
      "\u001b[0;31mIndexError\u001b[0m                                Traceback (most recent call last)",
      "\u001b[0;32m<ipython-input-391-ac6c7281ef5a>\u001b[0m in \u001b[0;36m<module>\u001b[0;34m()\u001b[0m\n\u001b[1;32m      1\u001b[0m \u001b[0mlineFirst\u001b[0m \u001b[0;34m=\u001b[0m \u001b[0mraw_input\u001b[0m\u001b[0;34m(\u001b[0m\u001b[0;34m)\u001b[0m\u001b[0;34m.\u001b[0m\u001b[0msplit\u001b[0m\u001b[0;34m(\u001b[0m\u001b[0;34m)\u001b[0m\u001b[0;34m\u001b[0m\u001b[0m\n\u001b[0;32m----> 2\u001b[0;31m \u001b[0mgroup\u001b[0m \u001b[0;34m=\u001b[0m \u001b[0mint\u001b[0m\u001b[0;34m(\u001b[0m\u001b[0mlineFirst\u001b[0m\u001b[0;34m[\u001b[0m\u001b[0;36m0\u001b[0m\u001b[0;34m]\u001b[0m\u001b[0;34m)\u001b[0m\u001b[0;34m\u001b[0m\u001b[0m\n\u001b[0m\u001b[1;32m      3\u001b[0m \u001b[0mtotalSum\u001b[0m \u001b[0;34m=\u001b[0m \u001b[0mint\u001b[0m\u001b[0;34m(\u001b[0m\u001b[0mlineFirst\u001b[0m\u001b[0;34m[\u001b[0m\u001b[0;36m1\u001b[0m\u001b[0;34m]\u001b[0m\u001b[0;34m)\u001b[0m\u001b[0;34m\u001b[0m\u001b[0m\n\u001b[1;32m      4\u001b[0m \u001b[0;34m\u001b[0m\u001b[0m\n\u001b[1;32m      5\u001b[0m \u001b[0;32mdef\u001b[0m \u001b[0msplitnum\u001b[0m\u001b[0;34m(\u001b[0m\u001b[0mgroup\u001b[0m\u001b[0;34m,\u001b[0m \u001b[0mtotalSum\u001b[0m\u001b[0;34m)\u001b[0m\u001b[0;34m:\u001b[0m\u001b[0;34m\u001b[0m\u001b[0m\n",
      "\u001b[0;31mIndexError\u001b[0m: list index out of range"
     ]
    }
   ],
   "source": [
    "lineFirst = raw_input().split()\n",
    "group = int(lineFirst[0])\n",
    "totalSum = int(lineFirst[1])\n",
    "\n",
    "def splitnum(group, totalSum):\n",
    "    splitList = []\n",
    "    finalList = []\n",
    "    def dfs(groupNow, sumRemain, startValue):\n",
    "        if groupNow == group - 1 and sumRemain == 0:\n",
    "            finalList.append(splitList)\n",
    "        elif groupNow == group - 1 and sumRemain !=0:\n",
    "            splitList.pop()\n",
    "        else:\n",
    "            for i in range(startValue, 10):\n",
    "                print splitList\n",
    "                splitList.append(i)\n",
    "                dfs(groupNow + 1, sumRemain - i, i + 1)\n",
    "        dfs(0, totalSum, 1)\n",
    "        for j in range(0, len(finalList)):\n",
    "            print ' '.join(map(str, finalList))\n",
    "    \n",
    "splitnum(group, totalSum)"
   ]
  },
  {
   "cell_type": "code",
   "execution_count": 190,
   "metadata": {
    "collapsed": false
   },
   "outputs": [],
   "source": [
    "def splitnum(group, totalSum):\n",
    "    splitList = []\n",
    "    def dfs(groupNow, sumRemain, startValue):\n",
    "        if groupNow == group and sumRemain == 0:\n",
    "            #print \"satisfied\"\n",
    "            print ' '.join(map(str, splitList))\n",
    "        elif groupNow == group and sumRemain !=0:\n",
    "            #print \"unsatisfied\"\n",
    "            return\n",
    "        else:\n",
    "            for i in range(startValue, 10):\n",
    "                splitList.append(i)\n",
    "                #print splitList\n",
    "                dfs(groupNow + 1, sumRemain - i, i + 1)\n",
    "                splitList.pop()\n",
    "    dfs(0, totalSum, 1)\n",
    "    sumMin  = (1 + group) * group / 2\n",
    "    sumMax = (9 - (group - 1) + 9) * group / 2\n",
    "    if totalSum < sumMin or totalSum > sumMax or group == 0:\n",
    "        print \"None\""
   ]
  },
  {
   "cell_type": "code",
   "execution_count": 191,
   "metadata": {
    "collapsed": false
   },
   "outputs": [
    {
     "name": "stdout",
     "output_type": "stream",
     "text": [
      "1 5 9\n",
      "1 6 8\n",
      "2 4 9\n",
      "2 5 8\n",
      "2 6 7\n",
      "3 4 8\n",
      "3 5 7\n",
      "4 5 6\n"
     ]
    }
   ],
   "source": [
    "splitnum(3,15)"
   ]
  },
  {
   "cell_type": "code",
   "execution_count": 192,
   "metadata": {
    "collapsed": false
   },
   "outputs": [
    {
     "name": "stdout",
     "output_type": "stream",
     "text": [
      "None\n"
     ]
    }
   ],
   "source": [
    "splitnum(2,20)"
   ]
  },
  {
   "cell_type": "code",
   "execution_count": 193,
   "metadata": {
    "collapsed": false
   },
   "outputs": [
    {
     "name": "stdout",
     "output_type": "stream",
     "text": [
      "None\n"
     ]
    }
   ],
   "source": [
    "splitnum(0,1)"
   ]
  },
  {
   "cell_type": "code",
   "execution_count": 343,
   "metadata": {
    "collapsed": true
   },
   "outputs": [],
   "source": [
    "def find(rowAll, numBaseline, recomList):\n",
    "    recomEr = [x[0] for x in recomList]\n",
    "    print recomEr\n",
    "    beRecomList = []\n",
    "    for i in range(0, rowAll):\n",
    "        beRecomList.append([recomList[i][1], recomList[i][2]])\n",
    "    print beRecomList"
   ]
  },
  {
   "cell_type": "code",
   "execution_count": 344,
   "metadata": {
    "collapsed": false
   },
   "outputs": [
    {
     "name": "stdout",
     "output_type": "stream",
     "text": [
      "['A', 'C', 'B', 'D', 'E']\n",
      "[['B', 'C'], ['F', '*'], ['D', 'E'], ['G', '*'], ['H', 'I']]\n"
     ]
    }
   ],
   "source": [
    "find(5, 1, [['A','B','C'],['C','F','*'],['B','D','E'], ['D','G','*'], ['E','H','I']])"
   ]
  },
  {
   "cell_type": "code",
   "execution_count": 401,
   "metadata": {
    "collapsed": false
   },
   "outputs": [
    {
     "ename": "SyntaxError",
     "evalue": "invalid syntax (<ipython-input-401-577f102d6c5d>, line 6)",
     "output_type": "error",
     "traceback": [
      "\u001b[0;36m  File \u001b[0;32m\"<ipython-input-401-577f102d6c5d>\"\u001b[0;36m, line \u001b[0;32m6\u001b[0m\n\u001b[0;31m    for k in range(0, j):\u001b[0m\n\u001b[0m                        ^\u001b[0m\n\u001b[0;31mSyntaxError\u001b[0m\u001b[0;31m:\u001b[0m invalid syntax\n"
     ]
    }
   ],
   "source": [
    "import sys\n",
    "group = int(sys.stdin.readline().strip().split())\n",
    "lineList = []\n",
    "for i in range(0, group):\n",
    "    j = int(sys.stdin.readline().strip().split()\n",
    "    for k in range(0, j):\n",
    "        lineList.append(int(sys.stdin.readline().strip().split()))\n",
    "print lineList\n"
   ]
  },
  {
   "cell_type": "code",
   "execution_count": 507,
   "metadata": {
    "collapsed": false
   },
   "outputs": [],
   "source": [
    "def calOnegroup(totalNum, lineList):\n",
    "    numList = []\n",
    "    lineResult = []\n",
    "    def dfs(totalNum, lineList):   \n",
    "        startValue = 0\n",
    "        while startValue < totalNum:\n",
    "            line = []\n",
    "            line.append(lineList[startValue])\n",
    "            for i in range(startValue, totalNum - 1):\n",
    "                if lineList[i + 1] > line[-1]:\n",
    "                    line.append(lineList[i + 1])\n",
    "\n",
    "                if lineList[i + 1] < line[-1] and lineList[i + 1] > line[0]:\n",
    "                    line.pop()\n",
    "                    line.append(lineList[i + 1])\n",
    "            numList.append(len(line))\n",
    "            print line\n",
    "            #lineResult.append(line)\n",
    "            startValue = startValue + 1\n",
    "        else:\n",
    "            print max(numList)\n",
    "            #print ' '.join(map(str,lineResult[numList.index(max(numList))]))\n",
    "    dfs(totalNum, lineList)\n",
    "    \n",
    "def cal(group, totalNum, lineList):\n",
    "    for j in range(0, group):\n",
    "        calOnegroup(totalNum[j], lineList[j])"
   ]
  },
  {
   "cell_type": "code",
   "execution_count": 508,
   "metadata": {
    "collapsed": false
   },
   "outputs": [
    {
     "name": "stdout",
     "output_type": "stream",
     "text": [
      "[6, 8, 17]\n",
      "[4, 8, 17]\n",
      "[8, 17]\n",
      "[2, 17]\n",
      "[17]\n",
      "3\n",
      "[89, 256]\n",
      "[256]\n",
      "[78]\n",
      "[1, 46, 8]\n",
      "[46, 78]\n",
      "[78]\n",
      "[8]\n",
      "3\n"
     ]
    }
   ],
   "source": [
    "cal(2, [5,7], [[6,4,8,2,17], [89,256,78,1,46,78,8]])"
   ]
  },
  {
   "cell_type": "code",
   "execution_count": 509,
   "metadata": {
    "collapsed": false
   },
   "outputs": [
    {
     "name": "stdout",
     "output_type": "stream",
     "text": [
      "[6, 7, 8]\n",
      "[12]\n",
      "[11]\n",
      "[7, 8]\n",
      "[8]\n",
      "3\n"
     ]
    }
   ],
   "source": [
    "cal(1, [5], [[6,12,11,7,8,9]])"
   ]
  },
  {
   "cell_type": "code",
   "execution_count": 494,
   "metadata": {
    "collapsed": false
   },
   "outputs": [
    {
     "name": "stdout",
     "output_type": "stream",
     "text": [
      "[18341, 22373, 19901, 25035, 26836, 20824, 19123, 24498, 24463, 29191, 23461, 28378, 30414, 19092, 26474, 26788, 26889, 28053, 19233, 23800, 22455, 27589, 19031, 20998, 25231, 20953, 19342, 27794, 29201, 18613, 21433, 27017, 23344, 25936, 23579, 25358, 19795, 23400, 20205, 20698, 28781, 24182, 19591, 24535, 23787, 18909, 25880, 20754, 18442, 19829, 21781, 25627, 21125, 21342, 21342, 24564, 20047, 19797, 24544, 24577, 19183, 20468, 18822, 19811, 18906, 23997, 31541, 25503, 18579, 22881, 26688, 27702, 25115, 23255, 30439, 26339, 19593, 29562, 21909, 26535, 20182, 22700, 21092, 19134, 23316, 20577, 25315, 26202, 18742, 26085, 21365, 19992, 21454, 23091, 21335, 18869, 18924, 24894, 23732, 26421, 18495, 27455, 26626, 20743, 22952, 19109, 23442, 29167, 29234, 23325, 25401, 18891, 18831, 22389, 22513, 18969, 20921, 21723, 23166, 28299, 24405, 21084, 23972, 31217]\n",
      "[30774, 31090, 31249, 32137, 32259, 30824, 31312, 31541, 31159, 31342, 31386, 31379, 31381, 31530, 32219, 31217]\n",
      "[9992, 14382, 13081, 14951, 11651, 22373, 15793, 16609, 16324, 25035, 26836, 13383, 18327, 20824, 11403, 17962, 10254, 11930, 10412, 12877, 24463, 16857, 11194, 13986, 15277, 15414, 16279, 17002, 19092, 26474, 26788, 11386, 28053, 16172, 14645, 14101, 16774, 10557, 15309, 13879, 10436, 17720, 11635, 14435, 15989, 14661, 20998, 15938, 13432, 13164, 19342, 27794, 10675, 13859, 14077, 11040, 18613, 21433, 17618, 16412, 14849, 23344, 13457, 16895, 17888, 14482, 14496, 10353, 11512, 19795, 23400, 10099, 13314, 20205, 16270, 14218, 24182, 12604, 17041, 17461, 19591, 24535, 23787, 18087, 25880, 15062, 18442, 12367, 21781, 25627, 15456, 21342, 11720, 13561, 10256, 14611, 24564, 11479, 11008, 20047, 10169, 12228, 24544, 24577, 12984, 19183, 20468, 18822, 13976, 16068, 10398, 17918, 12015, 31541, 11019, 10590, 14907, 16418, 22881, 10029, 10712, 10351, 15268, 12196, 17317, 30439, 13437, 13954, 12728, 13511, 10501, 12207, 21909, 26535, 10447, 20182, 22700, 14458, 19134, 23316, 13644, 12646, 14746, 17112, 17341, 14233, 25315, 12722, 16996, 14805, 18742, 26085, 14004, 21365, 11697, 14584, 19992, 21454, 13047, 11637, 13625, 17587, 23091, 21335, 18869, 18924, 24894, 14806, 16293, 13546, 26421, 17241, 18495, 27455, 15328, 15008, 14929, 16020, 22952, 13294, 15119, 15693, 12852, 13364, 29234, 11763, 15698, 15911, 16159, 10094, 10290, 17716, 17908, 16073, 10308, 14257, 11979, 13559, 22389, 10806, 10799, 12333, 11935, 22513, 18969, 20921, 15872, 13377, 10859, 24405, 15849, 17171, 21084, 23972, 31217]\n",
      "[2806, 14382, 4675, 6649, 11651, 3799, 7210, 8298, 15793, 16609, 4434, 16324, 25035, 26836, 13383, 18327, 3001, 20824, 11403, 17962, 10254, 11930, 9699, 3774, 10412, 12877, 24463, 16857, 5435, 3701, 9855, 6807, 13986, 15277, 15414, 16279, 5080, 9079, 19092, 26474, 5285, 3426, 6329, 28053, 16172, 6882, 14645, 14101, 16774, 10557, 15309, 13879, 9557, 5633, 9216, 3359, 17720, 3443, 14435, 15989, 14661, 20998, 15938, 13432, 13164, 19342, 27794, 3599, 6199, 5973, 7387, 14077, 11040, 18613, 21433, 17618, 8900, 3966, 14849, 23344, 6645, 3121, 17888, 14482, 14496, 8913, 6010, 9528, 4966, 7108, 23400, 6597, 7942, 5728, 16270, 8948, 24182, 5981, 7610, 8937, 17461, 5470, 24535, 2840, 8151, 8420, 9164, 4808, 18087, 25880, 15062, 18442, 6293, 8730, 12367, 21781, 25627, 5484, 21342, 11720, 6615, 10256, 14611, 24564, 11479, 8421, 7289, 7098, 4226, 8083, 7414, 10169, 12228, 5570, 7094, 24577, 12984, 19183, 20468, 18822, 6212, 8547, 13976, 7899, 10398, 17918, 12015, 3622, 6160, 11019, 5355, 14907, 16418, 5838, 8010, 10712, 10351, 15268, 5515, 12196, 3833, 30439, 13437, 6316, 4475, 12728, 13511, 3730, 4645, 8101, 10501, 12207, 21909, 26535, 9786, 10447, 20182, 6403, 6470, 22700, 2890, 19134, 5542, 23316, 13644, 7655, 12646, 14746, 17112, 9374, 9366, 25315, 12722, 16996, 14805, 18742, 26085, 14004, 21365, 4425, 9015, 14584, 19992, 21454, 9440, 7426, 11637, 7934, 13625, 17587, 23091, 4240, 21335, 18869, 6914, 5637, 5261, 5340, 14806, 16293, 5119, 13546, 5342, 17241, 18495, 27455, 15328, 7554, 3260, 3758, 3387, 3576, 22952, 5811, 7491, 3123, 15119, 15693, 7073, 12852, 6911, 9835, 29234, 7650, 8462, 15698, 15911, 16159, 5527, 10094, 10290, 6781, 8802, 8885, 17716, 17908, 9369, 5582, 8877, 8697, 6155, 6398, 5337, 6061, 13559, 22389, 10806, 10799, 12333, 2964, 9453, 11935, 22513, 18969, 20921, 9507, 15872, 13377, 10859, 9222, 15849, 6563, 9910, 3386, 23972, 5979]\n",
      "[14382, 14951, 16915, 22373, 15793, 16609, 16324, 25035, 26836, 18327, 20824, 17962, 19123, 24498, 24463, 16857, 17759, 15277, 15414, 16279, 17002, 19092, 26474, 26788, 26889, 28053, 16172, 14645, 16774, 15309, 15238, 17720, 27589, 14435, 15989, 14661, 20998, 15938, 20953, 19342, 27794, 17419, 16416, 18613, 21433, 17618, 16412, 14849, 23344, 16895, 17888, 14482, 14496, 23579, 25358, 19795, 23400, 15060, 20205, 16270, 28781, 24182, 17041, 17461, 19591, 24535, 23787, 18087, 25880, 15062, 18442, 19829, 21781, 25627, 15456, 21342, 14611, 24564, 20047, 16132, 19797, 24544, 24577, 16636, 19183, 20468, 18822, 14721, 16068, 18195, 17918, 23997, 31541, 25503, 14907, 16418, 22881, 26688, 27702, 15268, 17317, 30439, 26339, 19593, 29562, 21909, 26535, 18255, 20182, 22700, 14458, 19134, 23316, 14746, 17112, 17341, 20577, 25315, 26202, 16996, 14805, 18742, 26085, 21365, 14584, 19992, 21454, 17203, 17587, 23091, 21335, 18869, 18924, 24894, 14806, 16293, 23732, 26421, 17241, 18495, 27455, 15328, 15008, 14929, 16020, 22952, 19109, 15119, 15693, 29167, 29234, 15698, 15911, 16159, 17716, 17908, 16073, 15131, 18831, 22389, 15104, 22513, 18969, 20921, 15872, 23166, 28299, 24405, 15849, 17171, 21084, 23972, 31217]\n",
      "[26352, 26836, 27855, 28472, 29081, 29191, 28378, 30414, 26474, 26788, 26889, 28053, 26710, 27589, 27186, 27661, 27794, 29201, 30377, 27017, 28232, 29164, 29297, 28781, 26371, 27868, 27082, 29103, 27048, 28654, 31541, 26688, 27702, 30439, 27283, 29562, 30656, 26535, 30391, 29473, 27384, 28064, 28686, 30037, 26421, 27455, 26626, 27270, 29167, 29234, 26892, 29163, 32219, 28299, 29700, 31217]\n",
      "[13081, 14951, 16915, 22373, 15793, 16609, 16324, 25035, 26836, 13383, 18327, 20824, 17962, 19123, 24498, 24463, 16857, 17759, 13986, 15277, 15414, 16279, 17002, 19092, 26474, 26788, 26889, 28053, 16172, 14645, 14101, 16774, 15309, 13879, 15238, 17720, 27589, 14435, 15989, 14661, 20998, 15938, 13432, 13164, 19342, 27794, 17419, 13859, 14077, 18613, 21433, 17618, 16412, 14849, 23344, 13457, 16895, 17888, 14482, 14496, 23579, 25358, 19795, 23400, 13314, 20205, 16270, 14218, 24182, 17041, 17461, 19591, 24535, 23787, 18087, 25880, 15062, 18442, 19829, 21781, 25627, 15456, 21342, 13561, 14611, 24564, 13922, 14345, 20047, 16132, 19797, 24544, 24577, 16636, 19183, 20468, 18822, 13976, 16068, 18195, 17918, 23997, 31541, 25503, 14907, 16418, 22881, 26688, 27702, 14186, 15268, 17317, 30439, 13437, 13954, 13511, 29562, 21909, 26535, 18255, 20182, 22700, 14458, 19134, 23316, 13644, 14746, 17112, 17341, 14233, 25315, 26202, 16996, 14805, 18742, 26085, 14004, 21365, 14584, 19992, 21454, 13559, 13625, 17587, 23091, 21335, 18869, 18924, 24894, 14806, 16293, 13546, 26421, 17241, 18495, 27455, 15328, 15008, 14929, 16020, 22952, 13294, 15119, 15693, 13364, 29234, 15698, 15911, 16159, 17716, 17908, 16073, 15131, 14257, 13559, 22389, 15104, 22513, 18969, 20921, 15872, 13377, 28299, 24405, 15849, 17171, 21084, 23972, 31217]\n",
      "[4675, 6649, 11651, 7210, 8298, 15793, 16609, 16324, 25035, 26836, 13383, 18327, 20824, 11403, 17962, 10254, 11930, 9699, 6949, 10412, 12877, 24463, 16857, 5435, 9855, 6807, 13986, 15277, 15414, 16279, 5080, 9079, 19092, 26474, 5285, 6329, 28053, 16172, 6882, 14645, 14101, 16774, 10557, 15309, 13879, 9557, 5633, 9216, 10436, 17720, 11635, 14435, 15989, 14661, 20998, 15938, 13432, 13164, 19342, 27794, 7432, 6199, 5973, 7387, 14077, 11040, 18613, 21433, 17618, 8900, 16412, 14849, 23344, 6645, 16895, 17888, 14482, 14496, 8913, 6010, 9528, 4966, 7108, 23400, 6597, 7942, 5728, 16270, 8948, 24182, 5981, 7610, 8937, 17461, 5470, 24535, 23787, 8151, 8420, 9164, 4808, 18087, 25880, 15062, 18442, 6293, 8730, 12367, 21781, 25627, 5484, 21342, 11720, 6615, 10256, 14611, 24564, 11479, 8421, 7289, 7098, 8083, 7414, 10169, 12228, 5570, 7094, 24577, 12984, 19183, 20468, 18822, 6212, 8547, 13976, 7899, 10398, 17918, 12015, 6160, 11019, 5355, 14907, 16418, 5838, 8010, 10712, 10351, 15268, 5515, 12196, 17317, 30439, 13437, 6316, 12728, 13511, 8101, 10501, 12207, 21909, 26535, 9786, 10447, 20182, 6403, 6470, 22700, 14458, 19134, 5542, 23316, 13644, 7655, 12646, 14746, 17112, 9374, 9366, 25315, 12722, 16996, 14805, 18742, 26085, 14004, 21365, 9015, 14584, 19992, 21454, 9440, 7426, 11637, 7934, 13625, 17587, 23091, 21335, 18869, 6914, 5637, 5261, 5340, 14806, 16293, 5119, 13546, 5342, 17241, 18495, 27455, 15328, 7554, 14929, 6917, 22952, 5811, 7491, 7567, 15119, 15693, 7073, 12852, 6911, 9835, 29234, 7650, 8462, 15698, 15911, 16159, 5527, 10094, 10290, 6781, 8802, 8885, 17716, 17908, 9369, 5582, 8877, 8697, 6155, 6398, 5337, 6061, 13559, 22389, 10806, 10799, 12333, 9453, 11935, 22513, 18969, 20921, 9507, 15872, 13377, 10859, 9222, 15849, 6563, 9910, 23972, 5979]\n",
      "[774, 6649, 11651, 3799, 7210, 8298, 15793, 16609, 4434, 16324, 25035, 26836, 13383, 18327, 3001, 20824, 11403, 17962, 10254, 11930, 9699, 3774, 10412, 12877, 24463, 16857, 5435, 2642, 9855, 6807, 13986, 15277, 15414, 16279, 5080, 9079, 19092, 980, 1765, 5285, 3426, 6329, 28053, 16172, 2451, 14645, 14101, 16774, 10557, 15309, 13879, 9557, 1058, 2548, 5633, 894, 3359, 2143, 1099, 2417, 14435, 15989, 14661, 20998, 15938, 2518, 13164, 19342, 27794, 3599, 2291, 5973, 7387, 14077, 11040, 18613, 21433, 17618, 8900, 3966, 1939, 14849, 23344, 6645, 3121, 17888, 14482, 14496, 8913, 6010, 9528, 2477, 7108, 23400, 6597, 7942, 1090, 16270, 8948, 24182, 1351, 7610, 8937, 17461, 5470, 24535, 2840, 8151, 8420, 1409, 1634, 4808, 18087, 25880, 15062, 18442, 6293, 8730, 787, 21781, 25627, 5484, 21342, 1475, 11720, 6615, 10256, 14611, 2057, 1240, 11479, 8421, 7289, 7098, 4226, 8083, 7414, 10169, 12228, 5570, 7094, 24577, 2355, 12984, 19183, 20468, 18822, 6212, 8547, 1807, 13976, 7899, 10398, 17918, 12015, 3622, 6160, 11019, 5355, 14907, 16418, 5838, 8010, 10712, 2186, 10351, 15268, 1064, 12196, 3833, 30439, 13437, 6316, 4475, 12728, 13511, 3730, 4645, 1437, 10501, 12207, 21909, 26535, 9786, 10447, 2778, 6403, 6470, 22700, 2890, 19134, 5542, 23316, 13644, 7655, 12646, 14746, 17112, 9374, 1445, 25315, 12722, 16996, 14805, 18742, 26085, 14004, 2768, 4425, 1270, 14584, 19992, 21454, 9440, 7426, 11637, 875, 7934, 13625, 17587, 23091, 4240, 21335, 18869, 6914, 1390, 5261, 5340, 14806, 16293, 5119, 13546, 5342, 17241, 18495, 27455, 15328, 1371, 3260, 3758, 3387, 2575, 3576, 22952, 5811, 7491, 3123, 15119, 15693, 7073, 12852, 6911, 9835, 29234, 7650, 8462, 15698, 15911, 16159, 5527, 10094, 10290, 6781, 8802, 8885, 17716, 17908, 9369, 5582, 8877, 8697, 6155, 6398, 5337, 6061, 13559, 22389, 10806, 10799, 12333, 2964, 1875, 9453, 11935, 22513, 18969, 20921, 9507, 15872, 817, 13377, 10859, 9222, 15849, 6563, 9910, 3386, 23972, 5979]\n",
      "[14951, 16915, 22373, 15793, 16609, 16324, 25035, 26836, 18327, 20824, 17962, 19123, 24498, 24463, 16857, 17759, 15277, 15414, 16279, 17002, 19092, 26474, 26788, 26889, 28053, 16172, 16774, 15309, 15238, 17720, 27589, 15989, 19031, 20998, 15938, 20953, 19342, 27794, 17419, 16416, 18613, 21433, 17618, 16412, 27017, 23344, 16895, 17888, 23579, 25358, 19795, 23400, 15060, 20205, 16270, 28781, 24182, 17041, 17461, 19591, 24535, 23787, 18087, 25880, 15062, 18442, 19829, 21781, 25627, 15456, 21342, 21342, 24564, 20047, 16132, 19797, 24544, 24577, 16636, 19183, 20468, 18822, 16068, 18195, 17918, 23997, 31541, 25503, 16418, 22881, 26688, 27702, 15268, 17317, 30439, 26339, 19593, 29562, 21909, 26535, 18255, 20182, 22700, 21092, 19134, 23316, 17112, 17341, 20577, 25315, 26202, 16996, 17181, 18742, 26085, 21365, 19992, 21454, 17203, 17587, 23091, 21335, 18869, 18924, 24894, 16293, 23732, 26421, 17241, 18495, 27455, 15328, 15008, 16020, 22952, 19109, 15119, 15693, 29167, 29234, 15698, 15911, 16159, 17716, 17908, 16073, 15131, 18831, 22389, 15104, 22513, 18969, 20921, 15872, 23166, 28299, 24405, 15849, 17171, 21084, 23972, 31217]\n",
      "[6649, 11651, 7210, 8298, 15793, 16609, 16324, 25035, 26836, 13383, 18327, 20824, 11403, 17962, 10254, 11930, 9699, 6949, 10412, 12877, 24463, 16857, 9855, 6807, 13986, 15277, 15414, 16279, 17002, 9079, 19092, 26474, 26788, 11386, 28053, 16172, 6882, 14645, 14101, 16774, 10557, 15309, 13879, 9557, 9216, 10436, 17720, 11635, 14435, 15989, 14661, 20998, 15938, 13432, 13164, 19342, 27794, 7432, 7755, 7387, 14077, 11040, 18613, 21433, 17618, 8900, 16412, 14849, 23344, 13457, 16895, 17888, 14482, 14496, 8913, 10353, 9528, 7108, 23400, 10099, 7942, 20205, 16270, 8948, 24182, 12604, 7610, 8937, 17461, 19591, 24535, 23787, 8151, 8420, 9164, 18087, 25880, 15062, 18442, 8730, 12367, 21781, 25627, 15456, 21342, 11720, 13561, 10256, 14611, 24564, 11479, 8421, 7289, 7098, 8083, 7414, 10169, 12228, 24544, 7094, 24577, 12984, 19183, 20468, 18822, 8547, 13976, 7899, 10398, 17918, 12015, 8043, 11019, 10590, 14907, 16418, 22881, 8010, 10712, 10351, 15268, 12196, 17317, 30439, 13437, 13954, 12728, 13511, 8101, 10501, 12207, 21909, 26535, 9786, 10447, 20182, 22700, 14458, 19134, 23316, 13644, 7655, 12646, 14746, 17112, 9374, 9366, 25315, 12722, 16996, 14805, 18742, 26085, 14004, 21365, 9015, 14584, 19992, 21454, 9440, 7426, 11637, 7934, 13625, 17587, 23091, 21335, 18869, 6914, 24894, 14806, 16293, 13546, 26421, 17241, 18495, 27455, 15328, 7554, 14929, 6917, 22952, 7491, 7567, 15119, 15693, 7073, 12852, 6911, 9835, 29234, 7650, 8462, 15698, 15911, 16159, 10094, 10290, 6781, 8802, 8885, 17716, 17908, 9369, 16073, 8877, 8697, 7025, 9964, 7067, 13559, 22389, 10806, 10799, 12333, 9453, 11935, 22513, 18969, 20921, 9507, 15872, 13377, 10859, 9222, 15849, 17171, 9910, 23972, 31217]\n",
      "[16915, 22373, 19901, 25035, 26836, 18327, 20824, 17962, 19123, 24498, 24463, 29191, 17759, 28378, 17002, 19092, 26474, 26788, 26889, 28053, 19233, 23800, 17720, 27589, 19031, 20998, 25231, 20953, 19342, 27794, 17419, 29201, 18613, 21433, 17618, 27017, 23344, 17888, 23579, 25358, 19795, 23400, 20205, 20698, 28781, 24182, 17041, 17461, 19591, 24535, 23787, 18087, 25880, 20754, 18442, 19829, 21781, 25627, 21125, 21342, 21342, 24564, 20047, 19797, 24544, 24577, 19183, 20468, 18822, 19811, 18195, 17918, 23997, 31541, 25503, 18579, 22881, 26688, 27702, 25115, 17317, 30439, 26339, 19593, 29562, 21909, 26535, 18255, 20182, 22700, 21092, 19134, 23316, 17112, 17341, 20577, 25315, 26202, 16996, 17181, 18742, 26085, 21365, 19992, 21454, 17203, 17587, 23091, 21335, 18869, 18924, 24894, 23732, 26421, 17241, 18495, 27455, 26626, 20743, 22952, 19109, 23442, 29167, 29234, 23325, 25401, 17716, 17908, 17269, 18831, 22389, 22513, 18969, 20921, 21723, 23166, 28299, 24405, 17171, 21084, 23972, 31217]\n",
      "[11651, 22373, 15793, 16609, 16324, 25035, 26836, 13383, 18327, 20824, 17962, 19123, 11930, 12877, 24463, 16857, 17759, 13986, 15277, 15414, 16279, 17002, 19092, 26474, 26788, 26889, 28053, 16172, 14645, 14101, 16774, 15309, 13879, 15238, 17720, 27589, 14435, 15989, 14661, 20998, 15938, 13432, 13164, 19342, 27794, 17419, 13859, 14077, 18613, 21433, 17618, 16412, 14849, 23344, 13457, 16895, 17888, 14482, 14496, 23579, 25358, 19795, 23400, 13314, 20205, 16270, 14218, 24182, 12604, 17041, 17461, 19591, 24535, 23787, 18087, 25880, 15062, 18442, 12367, 21781, 25627, 15456, 21342, 11720, 13561, 14611, 24564, 13922, 14345, 20047, 16132, 12228, 24544, 24577, 12984, 19183, 20468, 18822, 13976, 16068, 18195, 17918, 12015, 31541, 25503, 14907, 16418, 22881, 26688, 27702, 14186, 15268, 12196, 17317, 30439, 13437, 13954, 12728, 13511, 12207, 21909, 26535, 12441, 20182, 22700, 14458, 19134, 23316, 13644, 12646, 14746, 17112, 17341, 14233, 25315, 12722, 16996, 14805, 18742, 26085, 14004, 21365, 11697, 14584, 19992, 21454, 13047, 13559, 13625, 17587, 23091, 21335, 18869, 18924, 24894, 14806, 16293, 13546, 26421, 17241, 18495, 27455, 15328, 15008, 14929, 16020, 22952, 13294, 15119, 15693, 12852, 13364, 29234, 11763, 15698, 15911, 16159, 17716, 17908, 16073, 15131, 14257, 11979, 13559, 22389, 12333, 11935, 22513, 18969, 20921, 15872, 13377, 28299, 24405, 15849, 17171, 21084, 23972, 31217]\n",
      "[22373, 25035, 26836, 25775, 24498, 24463, 29191, 23461, 28378, 30414, 26474, 26788, 26889, 28053, 23800, 22455, 27589, 25231, 27186, 27661, 27794, 29201, 22616, 27017, 23344, 25936, 23579, 25358, 23400, 28781, 24182, 24535, 23787, 25880, 22921, 25627, 22392, 24564, 25046, 24544, 24577, 25964, 23997, 31541, 25503, 22881, 26688, 27702, 25115, 23255, 30439, 26339, 29562, 30656, 26535, 22700, 23378, 23316, 25060, 25315, 26202, 26085, 28686, 23091, 24221, 24894, 23732, 26421, 27455, 26626, 27270, 22952, 24383, 23442, 29167, 29234, 23325, 25401, 26892, 22389, 22513, 23166, 28299, 24405, 25848, 23972, 31217]\n",
      "[3799, 7210, 8298, 15793, 16609, 4434, 16324, 25035, 26836, 13383, 18327, 20824, 11403, 17962, 10254, 11930, 9699, 6949, 10412, 12877, 24463, 16857, 5435, 9855, 6807, 13986, 15277, 15414, 16279, 5080, 9079, 19092, 26474, 5285, 6329, 28053, 16172, 6882, 14645, 14101, 16774, 10557, 15309, 13879, 9557, 5633, 9216, 10436, 17720, 11635, 14435, 15989, 14661, 20998, 15938, 13432, 13164, 19342, 27794, 7432, 6199, 5973, 7387, 14077, 11040, 18613, 21433, 17618, 8900, 3966, 14849, 23344, 6645, 16895, 17888, 14482, 14496, 8913, 6010, 9528, 4966, 7108, 23400, 6597, 7942, 5728, 16270, 8948, 24182, 5981, 7610, 8937, 17461, 5470, 24535, 23787, 8151, 8420, 9164, 4808, 18087, 25880, 15062, 18442, 6293, 8730, 12367, 21781, 25627, 5484, 21342, 11720, 6615, 10256, 14611, 24564, 11479, 8421, 7289, 7098, 4226, 8083, 7414, 10169, 12228, 5570, 7094, 24577, 12984, 19183, 20468, 18822, 6212, 8547, 13976, 7899, 10398, 17918, 12015, 6160, 11019, 5355, 14907, 16418, 5838, 8010, 10712, 10351, 15268, 5515, 12196, 3833, 30439, 13437, 6316, 4475, 12728, 13511, 4645, 8101, 10501, 12207, 21909, 26535, 9786, 10447, 20182, 6403, 6470, 22700, 14458, 19134, 5542, 23316, 13644, 7655, 12646, 14746, 17112, 9374, 9366, 25315, 12722, 16996, 14805, 18742, 26085, 14004, 21365, 4425, 9015, 14584, 19992, 21454, 9440, 7426, 11637, 7934, 13625, 17587, 23091, 4240, 21335, 18869, 6914, 5637, 5261, 5340, 14806, 16293, 5119, 13546, 5342, 17241, 18495, 27455, 15328, 7554, 14929, 6917, 22952, 5811, 7491, 7567, 15119, 15693, 7073, 12852, 6911, 9835, 29234, 7650, 8462, 15698, 15911, 16159, 5527, 10094, 10290, 6781, 8802, 8885, 17716, 17908, 9369, 5582, 8877, 8697, 6155, 6398, 5337, 6061, 13559, 22389, 10806, 10799, 12333, 9453, 11935, 22513, 18969, 20921, 9507, 15872, 13377, 10859, 9222, 15849, 6563, 9910, 23972, 5979]\n",
      "[7210, 8298, 15793, 16609, 16324, 25035, 26836, 13383, 18327, 20824, 11403, 17962, 10254, 11930, 9699, 8520, 10412, 12877, 24463, 16857, 9855, 13986, 15277, 15414, 16279, 17002, 9079, 19092, 26474, 26788, 11386, 28053, 16172, 14645, 14101, 16774, 10557, 15309, 13879, 9557, 9216, 10436, 17720, 11635, 14435, 15989, 14661, 20998, 15938, 13432, 13164, 19342, 27794, 7432, 7755, 7387, 14077, 11040, 18613, 21433, 17618, 8900, 16412, 14849, 23344, 13457, 16895, 17888, 14482, 14496, 8913, 10353, 9528, 19795, 23400, 10099, 7942, 20205, 16270, 8948, 24182, 12604, 7610, 8937, 17461, 19591, 24535, 23787, 8151, 8420, 9164, 18087, 25880, 15062, 18442, 8730, 12367, 21781, 25627, 15456, 21342, 11720, 13561, 10256, 14611, 24564, 11479, 8421, 7289, 20047, 8083, 7414, 10169, 12228, 24544, 24577, 12984, 19183, 20468, 18822, 8547, 13976, 7899, 10398, 17918, 12015, 8043, 11019, 10590, 14907, 16418, 22881, 8010, 10712, 10351, 15268, 12196, 17317, 30439, 13437, 13954, 12728, 13511, 8101, 10501, 12207, 21909, 26535, 9786, 10447, 20182, 22700, 14458, 19134, 23316, 13644, 7655, 12646, 14746, 17112, 9374, 9366, 25315, 12722, 16996, 14805, 18742, 26085, 14004, 21365, 9015, 14584, 19992, 21454, 9440, 7426, 11637, 7934, 13625, 17587, 23091, 21335, 18869, 18924, 24894, 14806, 16293, 13546, 26421, 17241, 18495, 27455, 15328, 7554, 14929, 16020, 22952, 7491, 7567, 15119, 15693, 12852, 9835, 29234, 7650, 8462, 15698, 15911, 16159, 10094, 10290, 8760, 8802, 8885, 17716, 17908, 9369, 16073, 8877, 8697, 9964, 8890, 13559, 22389, 10806, 10799, 12333, 9453, 11935, 22513, 18969, 20921, 9507, 15872, 13377, 10859, 9222, 15849, 17171, 9910, 23972, 31217]\n",
      "[8298, 15793, 16609, 16324, 25035, 26836, 13383, 18327, 20824, 11403, 17962, 10254, 11930, 9699, 8520, 10412, 12877, 24463, 16857, 9855, 13986, 15277, 15414, 16279, 17002, 9079, 19092, 26474, 26788, 11386, 28053, 16172, 14645, 14101, 16774, 10557, 15309, 13879, 9557, 9216, 10436, 17720, 11635, 14435, 15989, 14661, 20998, 15938, 13432, 13164, 19342, 27794, 10675, 9642, 13859, 14077, 11040, 18613, 21433, 17618, 8900, 16412, 14849, 23344, 13457, 16895, 17888, 14482, 14496, 8913, 10353, 9528, 19795, 23400, 10099, 9746, 20205, 16270, 8948, 24182, 12604, 8937, 17461, 19591, 24535, 23787, 8420, 9164, 18087, 25880, 15062, 18442, 8730, 12367, 21781, 25627, 15456, 21342, 11720, 13561, 10256, 14611, 24564, 11479, 8421, 11008, 20047, 10169, 12228, 24544, 24577, 12984, 19183, 20468, 18822, 8547, 13976, 16068, 10398, 17918, 12015, 31541, 11019, 10590, 14907, 16418, 22881, 10029, 10712, 10351, 15268, 12196, 17317, 30439, 13437, 13954, 12728, 13511, 8742, 10501, 12207, 21909, 26535, 9786, 10447, 20182, 22700, 14458, 19134, 23316, 13644, 12646, 14746, 17112, 9374, 9366, 25315, 12722, 16996, 14805, 18742, 26085, 14004, 21365, 9015, 14584, 19992, 21454, 9440, 11637, 9688, 13625, 17587, 23091, 21335, 18869, 18924, 24894, 14806, 16293, 13546, 26421, 17241, 18495, 27455, 15328, 15008, 14929, 16020, 22952, 13294, 15119, 15693, 12852, 9835, 29234, 8462, 15698, 15911, 16159, 10094, 10290, 8760, 8802, 8885, 17716, 17908, 9369, 16073, 8877, 8697, 9964, 8890, 13559, 22389, 10806, 10799, 12333, 9453, 11935, 22513, 18969, 20921, 9507, 15872, 13377, 10859, 9222, 15849, 17171, 9910, 23972, 31217]\n",
      "[31090, 31249, 32137, 32259, 31312, 31541, 31159, 31342, 31386, 31379, 31381, 31530, 32219, 31217]\n",
      "[15793, 16609, 16324, 25035, 26836, 18327, 20824, 17962, 19123, 24498, 24463, 16857, 17759, 28378, 16279, 17002, 19092, 26474, 26788, 26889, 28053, 16172, 16774, 23800, 17720, 27589, 15989, 19031, 20998, 15938, 20953, 19342, 27794, 17419, 16416, 18613, 21433, 17618, 16412, 27017, 23344, 16895, 17888, 23579, 25358, 19795, 23400, 20205, 16270, 28781, 24182, 17041, 17461, 19591, 24535, 23787, 18087, 25880, 20754, 18442, 19829, 21781, 25627, 21125, 21342, 21342, 24564, 20047, 16132, 19797, 24544, 24577, 16636, 19183, 20468, 18822, 16068, 18195, 17918, 23997, 31541, 25503, 16418, 22881, 26688, 27702, 25115, 17317, 30439, 26339, 19593, 29562, 21909, 26535, 18255, 20182, 22700, 21092, 19134, 23316, 17112, 17341, 20577, 25315, 26202, 16996, 17181, 18742, 26085, 21365, 19992, 21454, 17203, 17587, 23091, 21335, 18869, 18924, 24894, 16293, 23732, 26421, 17241, 18495, 27455, 26626, 16020, 22952, 19109, 16555, 29167, 29234, 15911, 16159, 17716, 17908, 16073, 17269, 18831, 22389, 22513, 18969, 20921, 15872, 23166, 28299, 24405, 15849, 17171, 21084, 23972, 31217]\n",
      "[16609, 19901, 25035, 26836, 18327, 20824, 17962, 19123, 24498, 24463, 16857, 17759, 28378, 17002, 19092, 26474, 26788, 26889, 28053, 16774, 23800, 17720, 27589, 19031, 20998, 25231, 20953, 19342, 27794, 17419, 29201, 18613, 21433, 17618, 27017, 23344, 16895, 17888, 23579, 25358, 19795, 23400, 20205, 20698, 28781, 24182, 17041, 17461, 19591, 24535, 23787, 18087, 25880, 20754, 18442, 19829, 21781, 25627, 21125, 21342, 21342, 24564, 20047, 19797, 24544, 24577, 16636, 19183, 20468, 18822, 16685, 18195, 17918, 23997, 31541, 25503, 18579, 22881, 26688, 27702, 25115, 17317, 30439, 26339, 19593, 29562, 21909, 26535, 18255, 20182, 22700, 21092, 19134, 23316, 17112, 17341, 20577, 25315, 26202, 16996, 17181, 18742, 26085, 21365, 19992, 21454, 17203, 17587, 23091, 21335, 18869, 18924, 24894, 23732, 26421, 17241, 18495, 27455, 26626, 20743, 22952, 19109, 23442, 29167, 29234, 23325, 25401, 17716, 17908, 17269, 18831, 22389, 22513, 18969, 20921, 21723, 23166, 28299, 24405, 17171, 21084, 23972, 31217]\n",
      "[19901, 25035, 26836, 20824, 24498, 24463, 29191, 23461, 28378, 30414, 20955, 26474, 26788, 26889, 28053, 23800, 22455, 27589, 20998, 25231, 20953, 27661, 27794, 29201, 21433, 27017, 23344, 25936, 23579, 25358, 23400, 20205, 20698, 28781, 24182, 20117, 24535, 23787, 25880, 20754, 21197, 21781, 25627, 21125, 21342, 21342, 24564, 20047, 24544, 24577, 20468, 22039, 22300, 23997, 31541, 25503, 22881, 26688, 27702, 25115, 23255, 30439, 26339, 29562, 21909, 26535, 20182, 22700, 21092, 23378, 23316, 20577, 25315, 26202, 26085, 21365, 19992, 21454, 23091, 21335, 24894, 23732, 26421, 27455, 26626, 20743, 22952, 24383, 23442, 29167, 29234, 23325, 25401, 26892, 21953, 22389, 22513, 20921, 21723, 23166, 28299, 24405, 21084, 23972, 31217]\n",
      "[4434, 16324, 25035, 26836, 13383, 18327, 20824, 11403, 17962, 10254, 11930, 9699, 6949, 10412, 12877, 24463, 16857, 5435, 9855, 6807, 13986, 15277, 15414, 16279, 5080, 9079, 19092, 26474, 5285, 6329, 28053, 16172, 6882, 14645, 14101, 16774, 10557, 15309, 13879, 9557, 5633, 9216, 10436, 17720, 11635, 14435, 15989, 14661, 20998, 15938, 13432, 13164, 19342, 27794, 7432, 6199, 5973, 7387, 14077, 11040, 18613, 21433, 17618, 8900, 16412, 14849, 23344, 6645, 16895, 17888, 14482, 14496, 8913, 6010, 9528, 4966, 7108, 23400, 6597, 7942, 5728, 16270, 8948, 24182, 5981, 7610, 8937, 17461, 5470, 24535, 23787, 8151, 8420, 9164, 4808, 18087, 25880, 15062, 18442, 6293, 8730, 12367, 21781, 25627, 5484, 21342, 11720, 6615, 10256, 14611, 24564, 11479, 8421, 7289, 7098, 8083, 7414, 10169, 12228, 5570, 7094, 24577, 12984, 19183, 20468, 18822, 6212, 8547, 13976, 7899, 10398, 17918, 12015, 6160, 11019, 5355, 14907, 16418, 5838, 8010, 10712, 10351, 15268, 5515, 12196, 17317, 30439, 13437, 6316, 4475, 12728, 13511, 4645, 8101, 10501, 12207, 21909, 26535, 9786, 10447, 20182, 6403, 6470, 22700, 14458, 19134, 5542, 23316, 13644, 7655, 12646, 14746, 17112, 9374, 9366, 25315, 12722, 16996, 14805, 18742, 26085, 14004, 21365, 9015, 14584, 19992, 21454, 9440, 7426, 11637, 7934, 13625, 17587, 23091, 21335, 18869, 6914, 5637, 5261, 5340, 14806, 16293, 5119, 13546, 5342, 17241, 18495, 27455, 15328, 7554, 14929, 6917, 22952, 5811, 7491, 7567, 15119, 15693, 7073, 12852, 6911, 9835, 29234, 7650, 8462, 15698, 15911, 16159, 5527, 10094, 10290, 6781, 8802, 8885, 17716, 17908, 9369, 5582, 8877, 8697, 6155, 6398, 5337, 6061, 13559, 22389, 10806, 10799, 12333, 9453, 11935, 22513, 18969, 20921, 9507, 15872, 13377, 10859, 9222, 15849, 6563, 9910, 23972, 5979]\n",
      "[16324, 25035, 26836, 18327, 20824, 17962, 19123, 24498, 24463, 16857, 17759, 28378, 17002, 19092, 26474, 26788, 26889, 28053, 16774, 23800, 17720, 27589, 19031, 20998, 25231, 20953, 19342, 27794, 17419, 16416, 18613, 21433, 17618, 16412, 27017, 23344, 16895, 17888, 23579, 25358, 19795, 23400, 20205, 20698, 28781, 24182, 17041, 17461, 19591, 24535, 23787, 18087, 25880, 20754, 18442, 19829, 21781, 25627, 21125, 21342, 21342, 24564, 20047, 19797, 24544, 24577, 16636, 19183, 20468, 18822, 16685, 18195, 17918, 23997, 31541, 25503, 16418, 22881, 26688, 27702, 25115, 17317, 30439, 26339, 19593, 29562, 21909, 26535, 18255, 20182, 22700, 21092, 19134, 23316, 17112, 17341, 20577, 25315, 26202, 16996, 17181, 18742, 26085, 21365, 19992, 21454, 17203, 17587, 23091, 21335, 18869, 18924, 24894, 23732, 26421, 17241, 18495, 27455, 26626, 20743, 22952, 19109, 16555, 29167, 29234, 23325, 25401, 17716, 17908, 17269, 18831, 22389, 22513, 18969, 20921, 21723, 23166, 28299, 24405, 17171, 21084, 23972, 31217]\n",
      "[25035, 26836, 25775, 28472, 29081, 29191, 28378, 30414, 26474, 26788, 26889, 28053, 25714, 27589, 25231, 27186, 27661, 27794, 29201, 25242, 27017, 28232, 25936, 25358, 26289, 28781, 25125, 27868, 25880, 25627, 29103, 25046, 27048, 25964, 28654, 31541, 25503, 26688, 27702, 25115, 25413, 30439, 26339, 29562, 30656, 26535, 26158, 29473, 25060, 25315, 26202, 26085, 28686, 30037, 26421, 27455, 26626, 27270, 29167, 29234, 25401, 26892, 29163, 32219, 28299, 25848, 29700, 31217]\n",
      "[26836, 27855, 28472, 29081, 29191, 28378, 30414, 32137, 26889, 28053, 27589, 27186, 27661, 27794, 29201, 30377, 27017, 28232, 29164, 29297, 28781, 27868, 27082, 29103, 27048, 28654, 31541, 27702, 30439, 27283, 29562, 30656, 30391, 29473, 27384, 28064, 28686, 30037, 27116, 27455, 27587, 27270, 29167, 29234, 26892, 29163, 32219, 28299, 29700, 31217]\n",
      "[27855, 28472, 29081, 29191, 28378, 30414, 32137, 28053, 28180, 29201, 30377, 27976, 28232, 29164, 29297, 28781, 27868, 29104, 29103, 31312, 28654, 31541, 28700, 30439, 31159, 29562, 30656, 30391, 29473, 28604, 28064, 28686, 30037, 28126, 30118, 29167, 29234, 29163, 32219, 28299, 29700, 31217]\n",
      "[13383, 18327, 20824, 17962, 19123, 24498, 24463, 16857, 17759, 13986, 15277, 15414, 16279, 17002, 19092, 26474, 26788, 26889, 28053, 16172, 14645, 14101, 16774, 15309, 13879, 15238, 17720, 27589, 14435, 15989, 14661, 20998, 15938, 13432, 20953, 19342, 27794, 17419, 13859, 14077, 18613, 21433, 17618, 16412, 14849, 23344, 13457, 16895, 17888, 14482, 14496, 23579, 25358, 19795, 23400, 15060, 20205, 16270, 14218, 24182, 17041, 17461, 19591, 24535, 23787, 18087, 25880, 15062, 18442, 19829, 21781, 25627, 15456, 21342, 13561, 14611, 24564, 13922, 14345, 20047, 16132, 19797, 24544, 24577, 16636, 19183, 20468, 18822, 13976, 16068, 18195, 17918, 23997, 31541, 25503, 14907, 16418, 22881, 26688, 27702, 14186, 15268, 17317, 30439, 13437, 13954, 13511, 29562, 21909, 26535, 18255, 20182, 22700, 14458, 19134, 23316, 13644, 14746, 17112, 17341, 14233, 25315, 26202, 16996, 14805, 18742, 26085, 14004, 21365, 14584, 19992, 21454, 13559, 13625, 17587, 23091, 21335, 18869, 18924, 24894, 14806, 16293, 13546, 26421, 17241, 18495, 27455, 15328, 15008, 14929, 16020, 22952, 19109, 15119, 15693, 29167, 29234, 15698, 15911, 16159, 17716, 17908, 16073, 15131, 14257, 13559, 22389, 15104, 22513, 18969, 20921, 15872, 23166, 28299, 24405, 15849, 17171, 21084, 23972, 31217]\n",
      "[18327, 20824, 19123, 24498, 24463, 29191, 23461, 28378, 30414, 19092, 26474, 26788, 26889, 28053, 19233, 23800, 22455, 27589, 19031, 20998, 25231, 20953, 19342, 27794, 29201, 18613, 21433, 27017, 23344, 25936, 23579, 25358, 19795, 23400, 20205, 20698, 28781, 24182, 19591, 24535, 23787, 18909, 25880, 20754, 18442, 19829, 21781, 25627, 21125, 21342, 21342, 24564, 20047, 19797, 24544, 24577, 19183, 20468, 18822, 19811, 18906, 23997, 31541, 25503, 18579, 22881, 26688, 27702, 25115, 23255, 30439, 26339, 19593, 29562, 21909, 26535, 20182, 22700, 21092, 19134, 23316, 20577, 25315, 26202, 18742, 26085, 21365, 19992, 21454, 23091, 21335, 18869, 18924, 24894, 23732, 26421, 18495, 27455, 26626, 20743, 22952, 19109, 23442, 29167, 29234, 23325, 25401, 18891, 18831, 22389, 22513, 18969, 20921, 21723, 23166, 28299, 24405, 21084, 23972, 31217]\n",
      "[25775, 28472, 29081, 29191, 28378, 30414, 26474, 26788, 26889, 28053, 26710, 27589, 26033, 27186, 27661, 27794, 29201, 30377, 27017, 28232, 25936, 26289, 28781, 26371, 27868, 25880, 27082, 29103, 27048, 25964, 28654, 31541, 26688, 27702, 30439, 26339, 29562, 30656, 26535, 26158, 29473, 27384, 26202, 26085, 28686, 30037, 26421, 27455, 26626, 27270, 29167, 29234, 26892, 29163, 32219, 28299, 25848, 29700, 31217]\n",
      "[3001, 20824, 11403, 17962, 10254, 11930, 9699, 3774, 10412, 12877, 24463, 16857, 5435, 3701, 9855, 6807, 13986, 15277, 15414, 16279, 5080, 9079, 19092, 26474, 5285, 3426, 6329, 28053, 16172, 6882, 14645, 14101, 16774, 10557, 15309, 13879, 9557, 5633, 9216, 3359, 17720, 3443, 14435, 15989, 14661, 20998, 15938, 13432, 13164, 19342, 27794, 3599, 6199, 5973, 7387, 14077, 11040, 18613, 21433, 17618, 8900, 3966, 14849, 23344, 6645, 3121, 17888, 14482, 14496, 8913, 6010, 9528, 4966, 7108, 23400, 6597, 7942, 5728, 16270, 8948, 24182, 5981, 7610, 8937, 17461, 5470, 24535, 23787, 8151, 8420, 9164, 4808, 18087, 25880, 15062, 18442, 6293, 8730, 12367, 21781, 25627, 5484, 21342, 11720, 6615, 10256, 14611, 24564, 11479, 8421, 7289, 7098, 4226, 8083, 7414, 10169, 12228, 5570, 7094, 24577, 12984, 19183, 20468, 18822, 6212, 8547, 13976, 7899, 10398, 17918, 12015, 3622, 6160, 11019, 5355, 14907, 16418, 5838, 8010, 10712, 10351, 15268, 5515, 12196, 3833, 30439, 13437, 6316, 4475, 12728, 13511, 3730, 4645, 8101, 10501, 12207, 21909, 26535, 9786, 10447, 20182, 6403, 6470, 22700, 14458, 19134, 5542, 23316, 13644, 7655, 12646, 14746, 17112, 9374, 9366, 25315, 12722, 16996, 14805, 18742, 26085, 14004, 21365, 4425, 9015, 14584, 19992, 21454, 9440, 7426, 11637, 7934, 13625, 17587, 23091, 4240, 21335, 18869, 6914, 5637, 5261, 5340, 14806, 16293, 5119, 13546, 5342, 17241, 18495, 27455, 15328, 7554, 3260, 3758, 3387, 3576, 22952, 5811, 7491, 3123, 15119, 15693, 7073, 12852, 6911, 9835, 29234, 7650, 8462, 15698, 15911, 16159, 5527, 10094, 10290, 6781, 8802, 8885, 17716, 17908, 9369, 5582, 8877, 8697, 6155, 6398, 5337, 6061, 13559, 22389, 10806, 10799, 12333, 9453, 11935, 22513, 18969, 20921, 9507, 15872, 13377, 10859, 9222, 15849, 6563, 9910, 3386, 23972, 5979]\n",
      "[20824, 24498, 24463, 29191, 23461, 28378, 30414, 20955, 26474, 26788, 26889, 28053, 23800, 22455, 27589, 20998, 25231, 20953, 27661, 27794, 29201, 21433, 27017, 23344, 25936, 23579, 25358, 23400, 22096, 28781, 24182, 24535, 23787, 25880, 21197, 21781, 25627, 21125, 21342, 21342, 24564, 21413, 24544, 24577, 22039, 22300, 23997, 31541, 25503, 22881, 26688, 27702, 25115, 23255, 30439, 26339, 29562, 21909, 26535, 22700, 21092, 23378, 23316, 25060, 25315, 26202, 26085, 21365, 21454, 23091, 21335, 24894, 23732, 26421, 27455, 26626, 27270, 22952, 24383, 23442, 29167, 29234, 23325, 25401, 26892, 21953, 22389, 22513, 20921, 21723, 23166, 28299, 24405, 21084, 23972, 31217]\n",
      "[28472, 29081, 29191, 30414, 32137, 32259, 29282, 29201, 30377, 29164, 29297, 28781, 29863, 29104, 29103, 31312, 28654, 31541, 28700, 30439, 31159, 29562, 30656, 30391, 29473, 28604, 31379, 28686, 30037, 29495, 30118, 29167, 29234, 29163, 32219, 29700, 31217]\n",
      "[11403, 17962, 19123, 11930, 12877, 24463, 16857, 17759, 13986, 15277, 15414, 16279, 17002, 19092, 26474, 26788, 26889, 28053, 16172, 14645, 14101, 16774, 15309, 13879, 15238, 17720, 11635, 14435, 15989, 14661, 20998, 15938, 13432, 13164, 19342, 27794, 17419, 13859, 14077, 18613, 21433, 17618, 16412, 14849, 23344, 13457, 16895, 17888, 14482, 14496, 23579, 11512, 19795, 23400, 13314, 20205, 16270, 14218, 24182, 12604, 17041, 17461, 19591, 24535, 23787, 18087, 25880, 15062, 18442, 12367, 21781, 25627, 15456, 21342, 11720, 13561, 14611, 24564, 11479, 14345, 20047, 16132, 12228, 24544, 24577, 12984, 19183, 20468, 18822, 13976, 16068, 18195, 17918, 12015, 31541, 25503, 14907, 16418, 22881, 26688, 27702, 14186, 15268, 12196, 17317, 30439, 13437, 13954, 12728, 13511, 12207, 21909, 26535, 12441, 20182, 22700, 14458, 19134, 23316, 13644, 12646, 14746, 17112, 17341, 14233, 25315, 12722, 16996, 14805, 18742, 26085, 14004, 21365, 11697, 14584, 19992, 21454, 13047, 11637, 13625, 17587, 23091, 21335, 18869, 18924, 24894, 14806, 16293, 13546, 26421, 17241, 18495, 27455, 15328, 15008, 14929, 16020, 22952, 13294, 15119, 15693, 12852, 13364, 29234, 11763, 15698, 15911, 16159, 17716, 17908, 16073, 15131, 14257, 11979, 13559, 22389, 12333, 11935, 22513, 18969, 20921, 15872, 13377, 28299, 24405, 15849, 17171, 21084, 23972, 31217]\n",
      "[17962, 19123, 24498, 24463, 29191, 23461, 28378, 30414, 19092, 26474, 26788, 26889, 28053, 19233, 23800, 22455, 27589, 19031, 20998, 25231, 20953, 19342, 27794, 29201, 18613, 21433, 27017, 23344, 25936, 23579, 25358, 19795, 23400, 20205, 20698, 28781, 24182, 19591, 24535, 23787, 18087, 25880, 20754, 18442, 19829, 21781, 25627, 21125, 21342, 21342, 24564, 20047, 19797, 24544, 24577, 19183, 20468, 18822, 19811, 18195, 18906, 23997, 31541, 25503, 18579, 22881, 26688, 27702, 25115, 23255, 30439, 26339, 19593, 29562, 21909, 26535, 18255, 20182, 22700, 21092, 19134, 23316, 20577, 25315, 26202, 18742, 26085, 21365, 19992, 21454, 23091, 21335, 18869, 18924, 24894, 23732, 26421, 18495, 27455, 26626, 20743, 22952, 19109, 23442, 29167, 29234, 23325, 25401, 18891, 18831, 22389, 22513, 18969, 20921, 21723, 23166, 28299, 24405, 21084, 23972, 31217]\n",
      "[311, 580, 10254, 11930, 9699, 530, 10412, 12877, 24463, 16857, 5435, 2642, 9855, 6807, 13986, 15277, 15414, 16279, 5080, 9079, 19092, 980, 1765, 5285, 3426, 6329, 28053, 16172, 2451, 14645, 14101, 16774, 10557, 15309, 13879, 9557, 1058, 2548, 5633, 894, 3359, 2143, 1099, 2417, 14435, 15989, 14661, 20998, 15938, 2518, 13164, 19342, 27794, 3599, 2291, 5973, 7387, 14077, 11040, 18613, 21433, 17618, 8900, 3966, 1939, 14849, 23344, 6645, 3121, 17888, 14482, 14496, 8913, 6010, 9528, 2477, 7108, 23400, 6597, 7942, 1090, 16270, 8948, 24182, 1351, 7610, 8937, 17461, 5470, 24535, 2840, 8151, 8420, 1409, 1634, 4808, 18087, 25880, 15062, 18442, 6293, 8730, 787, 21781, 25627, 5484, 21342, 1475, 11720, 6615, 10256, 14611, 2057, 1240, 11479, 746, 7289, 7098, 4226, 8083, 7414, 10169, 12228, 5570, 7094, 24577, 2355, 12984, 19183, 20468, 18822, 6212, 8547, 414, 13976, 7899, 10398, 17918, 12015, 3622, 6160, 11019, 5355, 14907, 16418, 5838, 8010, 10712, 2186, 10351, 15268, 1064, 12196, 3833, 397, 13437, 6316, 4475, 12728, 13511, 3730, 4645, 1437, 10501, 12207, 21909, 26535, 9786, 10447, 2778, 6403, 6470, 22700, 2890, 19134, 5542, 23316, 13644, 7655, 12646, 14746, 17112, 9374, 1445, 25315, 12722, 16996, 14805, 18742, 26085, 14004, 2768, 4425, 1270, 14584, 19992, 21454, 9440, 557, 11637, 875, 7934, 13625, 17587, 23091, 4240, 21335, 18869, 6914, 1390, 5261, 5340, 14806, 16293, 5119, 13546, 5342, 17241, 18495, 27455, 15328, 1371, 3260, 3758, 3387, 2575, 3576, 22952, 5811, 7491, 3123, 15119, 15693, 7073, 12852, 6911, 9835, 29234, 7650, 8462, 15698, 15911, 16159, 5527, 10094, 10290, 6781, 8802, 8885, 17716, 17908, 9369, 5582, 8877, 8697, 6155, 6398, 5337, 6061, 13559, 22389, 10806, 10799, 12333, 2964, 357, 1875, 9453, 11935, 22513, 18969, 20921, 9507, 15872, 817, 13377, 10859, 9222, 15849, 6563, 9910, 3386, 23972, 5979]\n",
      "[580, 10254, 11930, 9699, 3774, 10412, 12877, 24463, 16857, 5435, 2642, 9855, 6807, 13986, 15277, 15414, 16279, 5080, 9079, 19092, 980, 1765, 5285, 3426, 6329, 28053, 16172, 2451, 14645, 14101, 16774, 10557, 15309, 13879, 9557, 1058, 2548, 5633, 894, 3359, 2143, 1099, 2417, 14435, 15989, 14661, 20998, 15938, 2518, 13164, 19342, 27794, 3599, 2291, 5973, 7387, 14077, 11040, 18613, 21433, 17618, 8900, 3966, 1939, 14849, 23344, 6645, 3121, 17888, 14482, 14496, 8913, 6010, 9528, 2477, 7108, 23400, 6597, 7942, 1090, 16270, 8948, 24182, 1351, 7610, 8937, 17461, 5470, 24535, 2840, 8151, 8420, 1409, 1634, 4808, 18087, 25880, 15062, 18442, 6293, 8730, 787, 21781, 25627, 5484, 21342, 1475, 11720, 6615, 10256, 14611, 2057, 1240, 11479, 746, 7289, 7098, 4226, 8083, 7414, 10169, 12228, 5570, 7094, 24577, 2355, 12984, 19183, 20468, 18822, 6212, 8547, 1807, 13976, 7899, 10398, 17918, 12015, 3622, 6160, 11019, 5355, 14907, 16418, 5838, 8010, 10712, 2186, 10351, 15268, 1064, 12196, 3833, 30439, 13437, 6316, 4475, 12728, 13511, 3730, 4645, 1437, 10501, 12207, 21909, 26535, 9786, 10447, 2778, 6403, 6470, 22700, 2890, 19134, 5542, 23316, 13644, 7655, 12646, 14746, 17112, 9374, 1445, 25315, 12722, 16996, 14805, 18742, 26085, 14004, 2768, 4425, 1270, 14584, 19992, 21454, 9440, 7426, 11637, 875, 7934, 13625, 17587, 23091, 4240, 21335, 18869, 6914, 1390, 5261, 5340, 14806, 16293, 5119, 13546, 5342, 17241, 18495, 27455, 15328, 1371, 3260, 3758, 3387, 2575, 3576, 22952, 5811, 7491, 3123, 15119, 15693, 7073, 12852, 6911, 9835, 29234, 7650, 8462, 15698, 15911, 16159, 5527, 10094, 10290, 6781, 8802, 8885, 17716, 17908, 9369, 5582, 8877, 8697, 6155, 6398, 5337, 6061, 13559, 22389, 10806, 10799, 12333, 2964, 1875, 9453, 11935, 22513, 18969, 20921, 9507, 15872, 817, 13377, 10859, 9222, 15849, 6563, 9910, 3386, 23972, 5979]\n",
      "[19123, 24498, 24463, 29191, 23461, 28378, 30414, 20955, 26474, 26788, 26889, 28053, 19233, 23800, 22455, 27589, 20998, 25231, 20953, 19342, 27794, 29201, 21433, 27017, 23344, 25936, 23579, 25358, 19795, 23400, 20205, 20698, 28781, 24182, 19591, 24535, 23787, 25880, 20754, 19829, 21781, 25627, 21125, 21342, 21342, 24564, 20047, 19797, 24544, 24577, 19183, 20468, 19811, 22300, 23997, 31541, 25503, 22881, 26688, 27702, 25115, 23255, 30439, 26339, 19593, 29562, 21909, 26535, 20182, 22700, 21092, 19134, 23316, 20577, 25315, 26202, 26085, 21365, 19992, 21454, 23091, 21335, 24894, 23732, 26421, 27455, 26626, 20743, 22952, 24383, 23442, 29167, 29234, 23325, 25401, 19358, 21953, 22389, 22513, 20921, 21723, 23166, 28299, 24405, 21084, 23972, 31217]\n",
      "[10254, 11930, 10412, 12877, 24463, 16857, 11194, 13986, 15277, 15414, 16279, 17002, 19092, 26474, 26788, 11386, 28053, 16172, 14645, 14101, 16774, 10557, 15309, 13879, 10436, 17720, 11635, 14435, 15989, 14661, 20998, 15938, 13432, 13164, 19342, 27794, 10675, 13859, 14077, 11040, 18613, 21433, 17618, 16412, 14849, 23344, 13457, 16895, 17888, 14482, 14496, 10353, 11512, 19795, 23400, 13314, 20205, 16270, 14218, 24182, 12604, 17041, 17461, 19591, 24535, 23787, 18087, 25880, 15062, 18442, 12367, 21781, 25627, 15456, 21342, 11720, 13561, 10256, 14611, 24564, 11479, 11008, 20047, 16132, 12228, 24544, 24577, 12984, 19183, 20468, 18822, 13976, 16068, 10398, 17918, 12015, 31541, 11019, 10590, 14907, 16418, 22881, 26688, 10712, 10351, 15268, 12196, 17317, 30439, 13437, 13954, 12728, 13511, 10501, 12207, 21909, 26535, 10447, 20182, 22700, 14458, 19134, 23316, 13644, 12646, 14746, 17112, 17341, 14233, 25315, 12722, 16996, 14805, 18742, 26085, 14004, 21365, 11697, 14584, 19992, 21454, 13047, 11637, 13625, 17587, 23091, 21335, 18869, 18924, 24894, 14806, 16293, 13546, 26421, 17241, 18495, 27455, 15328, 15008, 14929, 16020, 22952, 13294, 15119, 15693, 12852, 13364, 29234, 11763, 15698, 15911, 16159, 10290, 17716, 17908, 16073, 10308, 14257, 11979, 13559, 22389, 10806, 10799, 12333, 11935, 22513, 18969, 20921, 15872, 13377, 10859, 24405, 15849, 17171, 21084, 23972, 31217]\n",
      "[24498, 29081, 29191, 28378, 30414, 26474, 26788, 26889, 28053, 25714, 27589, 25231, 27186, 27661, 27794, 29201, 25242, 27017, 28232, 25936, 25358, 26289, 28781, 24535, 27868, 25880, 25627, 24564, 25046, 24544, 24577, 25964, 28654, 31541, 25503, 26688, 27702, 25115, 25413, 30439, 26339, 29562, 30656, 26535, 26158, 24696, 25060, 25315, 26202, 26085, 28686, 30037, 24894, 24935, 26421, 27455, 26626, 27270, 24668, 29167, 29234, 25401, 26892, 29163, 32219, 24642, 28299, 25848, 29700, 31217]\n",
      "[11930, 12877, 24463, 16857, 17759, 13986, 15277, 15414, 16279, 17002, 19092, 26474, 26788, 26889, 28053, 16172, 14645, 14101, 16774, 15309, 13879, 15238, 17720, 27589, 14435, 15989, 14661, 20998, 15938, 13432, 13164, 19342, 27794, 17419, 13859, 14077, 18613, 21433, 17618, 16412, 14849, 23344, 13457, 16895, 17888, 14482, 14496, 23579, 25358, 19795, 23400, 13314, 20205, 16270, 14218, 24182, 12604, 17041, 17461, 19591, 24535, 23787, 18087, 25880, 15062, 18442, 12367, 21781, 25627, 15456, 21342, 13561, 14611, 24564, 13922, 14345, 20047, 16132, 12228, 24544, 24577, 12984, 19183, 20468, 18822, 13976, 16068, 18195, 17918, 12015, 31541, 25503, 14907, 16418, 22881, 26688, 27702, 14186, 15268, 12196, 17317, 30439, 13437, 13954, 12728, 13511, 12207, 21909, 26535, 12441, 20182, 22700, 14458, 19134, 23316, 13644, 12646, 14746, 17112, 17341, 14233, 25315, 12722, 16996, 14805, 18742, 26085, 14004, 21365, 14584, 19992, 21454, 13047, 13559, 13625, 17587, 23091, 21335, 18869, 18924, 24894, 14806, 16293, 13546, 26421, 17241, 18495, 27455, 15328, 15008, 14929, 16020, 22952, 13294, 15119, 15693, 12852, 13364, 29234, 15698, 15911, 16159, 17716, 17908, 16073, 15131, 14257, 11979, 13559, 22389, 12333, 11935, 22513, 18969, 20921, 15872, 13377, 28299, 24405, 15849, 17171, 21084, 23972, 31217]\n",
      "[29081, 29191, 30414, 32137, 32259, 29282, 29201, 30377, 29164, 29297, 29270, 29863, 29104, 29103, 31312, 31541, 30439, 31159, 29562, 30656, 30391, 29473, 31379, 29334, 30037, 29495, 30118, 29167, 29234, 29163, 32219, 29700, 31217]\n",
      "[9699, 10412, 12877, 24463, 16857, 9855, 13986, 15277, 15414, 16279, 17002, 19092, 26474, 26788, 11386, 28053, 16172, 14645, 14101, 16774, 10557, 15309, 13879, 10436, 17720, 11635, 14435, 15989, 14661, 20998, 15938, 13432, 13164, 19342, 27794, 10675, 13859, 14077, 11040, 18613, 21433, 17618, 16412, 14849, 23344, 13457, 16895, 17888, 14482, 14496, 10353, 11512, 19795, 23400, 10099, 9746, 20205, 16270, 14218, 24182, 12604, 17041, 17461, 19591, 24535, 23787, 18087, 25880, 15062, 18442, 12367, 21781, 25627, 15456, 21342, 11720, 13561, 10256, 14611, 24564, 11479, 11008, 20047, 10169, 12228, 24544, 24577, 12984, 19183, 20468, 18822, 13976, 16068, 10398, 17918, 12015, 31541, 11019, 10590, 14907, 16418, 22881, 10029, 10712, 10351, 15268, 12196, 17317, 30439, 13437, 13954, 12728, 13511, 10501, 12207, 21909, 26535, 9786, 10447, 20182, 22700, 14458, 19134, 23316, 13644, 12646, 14746, 17112, 17341, 14233, 25315, 12722, 16996, 14805, 18742, 26085, 14004, 21365, 11697, 14584, 19992, 21454, 13047, 11637, 13625, 17587, 23091, 21335, 18869, 18924, 24894, 14806, 16293, 13546, 26421, 17241, 18495, 27455, 15328, 15008, 14929, 16020, 22952, 13294, 15119, 15693, 12852, 9835, 29234, 11763, 15698, 15911, 16159, 10094, 10290, 17716, 17908, 16073, 10308, 14257, 9964, 11979, 13559, 22389, 10806, 10799, 12333, 11935, 22513, 18969, 20921, 15872, 13377, 10859, 24405, 15849, 17171, 9910, 23972, 31217]\n",
      "[11232, 12877, 24463, 16857, 17759, 13986, 15277, 15414, 16279, 17002, 19092, 26474, 26788, 11386, 28053, 16172, 14645, 14101, 16774, 15309, 13879, 15238, 17720, 11635, 14435, 15989, 14661, 20998, 15938, 13432, 13164, 19342, 27794, 17419, 13859, 14077, 18613, 21433, 17618, 16412, 14849, 23344, 13457, 16895, 17888, 14482, 14496, 23579, 11512, 19795, 23400, 13314, 20205, 16270, 14218, 24182, 12604, 17041, 17461, 19591, 24535, 23787, 18087, 25880, 15062, 18442, 12367, 21781, 25627, 15456, 21342, 11720, 13561, 14611, 24564, 11479, 14345, 20047, 16132, 12228, 24544, 24577, 12984, 19183, 20468, 18822, 13976, 16068, 18195, 17918, 12015, 31541, 25503, 14907, 16418, 22881, 26688, 27702, 14186, 15268, 12196, 17317, 30439, 13437, 13954, 12728, 13511, 12207, 21909, 26535, 12441, 20182, 22700, 14458, 19134, 23316, 13644, 12646, 14746, 17112, 17341, 14233, 25315, 12722, 16996, 14805, 18742, 26085, 14004, 21365, 11697, 14584, 19992, 21454, 13047, 11637, 13625, 17587, 23091, 21335, 18869, 18924, 24894, 14806, 16293, 13546, 26421, 17241, 18495, 27455, 15328, 15008, 14929, 16020, 22952, 13294, 15119, 15693, 12852, 13364, 29234, 11763, 15698, 15911, 16159, 17716, 17908, 16073, 15131, 14257, 11979, 13559, 22389, 12333, 11935, 22513, 18969, 20921, 15872, 13377, 28299, 24405, 15849, 17171, 21084, 23972, 31217]\n",
      "[8520, 10412, 12877, 24463, 16857, 9855, 13986, 15277, 15414, 16279, 17002, 9079, 19092, 26474, 26788, 11386, 28053, 16172, 14645, 14101, 16774, 10557, 15309, 13879, 9557, 9216, 10436, 17720, 11635, 14435, 15989, 14661, 20998, 15938, 13432, 13164, 19342, 27794, 10675, 9642, 13859, 14077, 11040, 18613, 21433, 17618, 8900, 16412, 14849, 23344, 13457, 16895, 17888, 14482, 14496, 8913, 10353, 9528, 19795, 23400, 10099, 9746, 20205, 16270, 8948, 24182, 12604, 8937, 17461, 19591, 24535, 23787, 9164, 18087, 25880, 15062, 18442, 8730, 12367, 21781, 25627, 15456, 21342, 11720, 13561, 10256, 14611, 24564, 11479, 11008, 20047, 10169, 12228, 24544, 24577, 12984, 19183, 20468, 18822, 8547, 13976, 16068, 10398, 17918, 12015, 31541, 11019, 10590, 14907, 16418, 22881, 10029, 10712, 10351, 15268, 12196, 17317, 30439, 13437, 13954, 12728, 13511, 8742, 10501, 12207, 21909, 26535, 9786, 10447, 20182, 22700, 14458, 19134, 23316, 13644, 12646, 14746, 17112, 9374, 9366, 25315, 12722, 16996, 14805, 18742, 26085, 14004, 21365, 9015, 14584, 19992, 21454, 9440, 11637, 9688, 13625, 17587, 23091, 21335, 18869, 18924, 24894, 14806, 16293, 13546, 26421, 17241, 18495, 27455, 15328, 15008, 14929, 16020, 22952, 13294, 15119, 15693, 12852, 9835, 29234, 11763, 15698, 15911, 16159, 10094, 10290, 8760, 8802, 8885, 17716, 17908, 9369, 16073, 8877, 8697, 9964, 8890, 13559, 22389, 10806, 10799, 12333, 9453, 11935, 22513, 18969, 20921, 9507, 15872, 13377, 10859, 9222, 15849, 17171, 9910, 23972, 31217]\n",
      "[6949, 10412, 12877, 24463, 16857, 9855, 13986, 15277, 15414, 16279, 17002, 9079, 19092, 26474, 26788, 11386, 28053, 16172, 14645, 14101, 16774, 10557, 15309, 13879, 9557, 9216, 10436, 17720, 11635, 14435, 15989, 14661, 20998, 15938, 13432, 13164, 19342, 27794, 7432, 7755, 7387, 14077, 11040, 18613, 21433, 17618, 8900, 16412, 14849, 23344, 13457, 16895, 17888, 14482, 14496, 8913, 10353, 9528, 7108, 23400, 10099, 7942, 20205, 16270, 8948, 24182, 12604, 7610, 8937, 17461, 19591, 24535, 23787, 8151, 8420, 9164, 18087, 25880, 15062, 18442, 8730, 12367, 21781, 25627, 15456, 21342, 11720, 13561, 10256, 14611, 24564, 11479, 8421, 7289, 7098, 8083, 7414, 10169, 12228, 24544, 7094, 24577, 12984, 19183, 20468, 18822, 8547, 13976, 7899, 10398, 17918, 12015, 8043, 11019, 10590, 14907, 16418, 22881, 8010, 10712, 10351, 15268, 12196, 17317, 30439, 13437, 13954, 12728, 13511, 8101, 10501, 12207, 21909, 26535, 9786, 10447, 20182, 22700, 14458, 19134, 23316, 13644, 7655, 12646, 14746, 17112, 9374, 9366, 25315, 12722, 16996, 14805, 18742, 26085, 14004, 21365, 9015, 14584, 19992, 21454, 9440, 7426, 11637, 7934, 13625, 17587, 23091, 21335, 18869, 18924, 24894, 14806, 16293, 13546, 26421, 17241, 18495, 27455, 15328, 7554, 14929, 16020, 22952, 7491, 7567, 15119, 15693, 7073, 12852, 9835, 29234, 7650, 8462, 15698, 15911, 16159, 10094, 10290, 8760, 8802, 8885, 17716, 17908, 9369, 16073, 8877, 8697, 7025, 9964, 7067, 13559, 22389, 10806, 10799, 12333, 9453, 11935, 22513, 18969, 20921, 9507, 15872, 13377, 10859, 9222, 15849, 17171, 9910, 23972, 31217]\n",
      "[3774, 10412, 12877, 24463, 16857, 5435, 9855, 6807, 13986, 15277, 15414, 16279, 5080, 9079, 19092, 26474, 5285, 6329, 28053, 16172, 6882, 14645, 14101, 16774, 10557, 15309, 13879, 9557, 5633, 9216, 10436, 17720, 11635, 14435, 15989, 14661, 20998, 15938, 13432, 13164, 19342, 27794, 7432, 6199, 5973, 7387, 14077, 11040, 18613, 21433, 17618, 8900, 3966, 14849, 23344, 6645, 16895, 17888, 14482, 14496, 8913, 6010, 9528, 4966, 7108, 23400, 6597, 7942, 5728, 16270, 8948, 24182, 5981, 7610, 8937, 17461, 5470, 24535, 23787, 8151, 8420, 9164, 4808, 18087, 25880, 15062, 18442, 6293, 8730, 12367, 21781, 25627, 5484, 21342, 11720, 6615, 10256, 14611, 24564, 11479, 8421, 7289, 7098, 4226, 8083, 7414, 10169, 12228, 5570, 7094, 24577, 12984, 19183, 20468, 18822, 6212, 8547, 13976, 7899, 10398, 17918, 12015, 6160, 11019, 5355, 14907, 16418, 5838, 8010, 10712, 10351, 15268, 5515, 12196, 3833, 30439, 13437, 6316, 4475, 12728, 13511, 4645, 8101, 10501, 12207, 21909, 26535, 9786, 10447, 20182, 6403, 6470, 22700, 14458, 19134, 5542, 23316, 13644, 7655, 12646, 14746, 17112, 9374, 9366, 25315, 12722, 16996, 14805, 18742, 26085, 14004, 21365, 4425, 9015, 14584, 19992, 21454, 9440, 7426, 11637, 7934, 13625, 17587, 23091, 4240, 21335, 18869, 6914, 5637, 5261, 5340, 14806, 16293, 5119, 13546, 5342, 17241, 18495, 27455, 15328, 7554, 14929, 6917, 22952, 5811, 7491, 7567, 15119, 15693, 7073, 12852, 6911, 9835, 29234, 7650, 8462, 15698, 15911, 16159, 5527, 10094, 10290, 6781, 8802, 8885, 17716, 17908, 9369, 5582, 8877, 8697, 6155, 6398, 5337, 6061, 13559, 22389, 10806, 10799, 12333, 9453, 11935, 22513, 18969, 20921, 9507, 15872, 13377, 10859, 9222, 15849, 6563, 9910, 23972, 5979]\n",
      "[530, 10412, 12877, 24463, 16857, 5435, 2642, 9855, 6807, 13986, 15277, 15414, 16279, 5080, 9079, 19092, 980, 1765, 5285, 3426, 6329, 28053, 16172, 2451, 14645, 14101, 16774, 10557, 15309, 13879, 9557, 1058, 2548, 5633, 894, 3359, 2143, 1099, 2417, 14435, 15989, 14661, 20998, 15938, 2518, 13164, 19342, 27794, 3599, 2291, 5973, 7387, 14077, 11040, 18613, 21433, 17618, 8900, 3966, 1939, 14849, 23344, 6645, 3121, 17888, 14482, 14496, 8913, 6010, 9528, 2477, 7108, 23400, 6597, 7942, 1090, 16270, 8948, 24182, 1351, 7610, 8937, 17461, 5470, 24535, 2840, 8151, 8420, 1409, 1634, 4808, 18087, 25880, 15062, 18442, 6293, 8730, 787, 21781, 25627, 5484, 21342, 1475, 11720, 6615, 10256, 14611, 2057, 1240, 11479, 746, 7289, 7098, 4226, 8083, 7414, 10169, 12228, 5570, 7094, 24577, 2355, 12984, 19183, 20468, 18822, 6212, 8547, 1807, 13976, 7899, 10398, 17918, 12015, 3622, 6160, 11019, 5355, 14907, 16418, 5838, 8010, 10712, 2186, 10351, 15268, 1064, 12196, 3833, 30439, 13437, 6316, 4475, 12728, 13511, 3730, 4645, 1437, 10501, 12207, 21909, 26535, 9786, 10447, 2778, 6403, 6470, 22700, 2890, 19134, 5542, 23316, 13644, 7655, 12646, 14746, 17112, 9374, 1445, 25315, 12722, 16996, 14805, 18742, 26085, 14004, 2768, 4425, 1270, 14584, 19992, 21454, 9440, 557, 11637, 875, 7934, 13625, 17587, 23091, 4240, 21335, 18869, 6914, 1390, 5261, 5340, 14806, 16293, 5119, 13546, 5342, 17241, 18495, 27455, 15328, 1371, 3260, 3758, 3387, 2575, 3576, 22952, 5811, 7491, 3123, 15119, 15693, 7073, 12852, 6911, 9835, 29234, 7650, 8462, 15698, 15911, 16159, 5527, 10094, 10290, 6781, 8802, 8885, 17716, 17908, 9369, 5582, 8877, 8697, 6155, 6398, 5337, 6061, 13559, 22389, 10806, 10799, 12333, 2964, 1875, 9453, 11935, 22513, 18969, 20921, 9507, 15872, 817, 13377, 10859, 9222, 15849, 6563, 9910, 3386, 23972, 5979]\n",
      "[10412, 12877, 24463, 16857, 11194, 13986, 15277, 15414, 16279, 17002, 19092, 26474, 26788, 11386, 28053, 16172, 14645, 14101, 16774, 10557, 15309, 13879, 10436, 17720, 11635, 14435, 15989, 14661, 20998, 15938, 13432, 13164, 19342, 27794, 10675, 13859, 14077, 11040, 18613, 21433, 17618, 16412, 14849, 23344, 13457, 16895, 17888, 14482, 14496, 23579, 11512, 19795, 23400, 13314, 20205, 16270, 14218, 24182, 12604, 17041, 17461, 19591, 24535, 23787, 18087, 25880, 15062, 18442, 12367, 21781, 25627, 15456, 21342, 11720, 13561, 14611, 24564, 11479, 11008, 20047, 16132, 12228, 24544, 24577, 12984, 19183, 20468, 18822, 13976, 16068, 18195, 17918, 12015, 31541, 11019, 10590, 14907, 16418, 22881, 26688, 10712, 14186, 15268, 12196, 17317, 30439, 13437, 13954, 12728, 13511, 10501, 12207, 21909, 26535, 10447, 20182, 22700, 14458, 19134, 23316, 13644, 12646, 14746, 17112, 17341, 14233, 25315, 12722, 16996, 14805, 18742, 26085, 14004, 21365, 11697, 14584, 19992, 21454, 13047, 11637, 13625, 17587, 23091, 21335, 18869, 18924, 24894, 14806, 16293, 13546, 26421, 17241, 18495, 27455, 15328, 15008, 14929, 16020, 22952, 13294, 15119, 15693, 12852, 13364, 29234, 11763, 15698, 15911, 16159, 17716, 17908, 16073, 15131, 14257, 11979, 13559, 22389, 10806, 10799, 12333, 11935, 22513, 18969, 20921, 15872, 13377, 10859, 24405, 15849, 17171, 21084, 23972, 31217]\n",
      "[12877, 24463, 16857, 17759, 13986, 15277, 15414, 16279, 17002, 19092, 26474, 26788, 26889, 28053, 16172, 14645, 14101, 16774, 15309, 13879, 15238, 17720, 27589, 14435, 15989, 14661, 20998, 15938, 13432, 13164, 19342, 27794, 17419, 13859, 14077, 18613, 21433, 17618, 16412, 14849, 23344, 13457, 16895, 17888, 14482, 14496, 23579, 25358, 19795, 23400, 13314, 20205, 16270, 14218, 24182, 17041, 17461, 19591, 24535, 23787, 18087, 25880, 15062, 18442, 19829, 21781, 25627, 15456, 21342, 13561, 14611, 24564, 13922, 14345, 20047, 16132, 19797, 24544, 24577, 12984, 19183, 20468, 18822, 13976, 16068, 18195, 17918, 23997, 31541, 25503, 14907, 16418, 22881, 26688, 27702, 14186, 15268, 17317, 30439, 13437, 13954, 13511, 29562, 21909, 26535, 18255, 20182, 22700, 14458, 19134, 23316, 13644, 14746, 17112, 17341, 14233, 25315, 26202, 16996, 14805, 18742, 26085, 14004, 21365, 14584, 19992, 21454, 13047, 13559, 13625, 17587, 23091, 21335, 18869, 18924, 24894, 14806, 16293, 13546, 26421, 17241, 18495, 27455, 15328, 15008, 14929, 16020, 22952, 13294, 15119, 15693, 13364, 29234, 15698, 15911, 16159, 17716, 17908, 16073, 15131, 14257, 13559, 22389, 15104, 22513, 18969, 20921, 15872, 13377, 28299, 24405, 15849, 17171, 21084, 23972, 31217]\n",
      "[24463, 29191, 28378, 30414, 26474, 26788, 26889, 28053, 25714, 27589, 25231, 27186, 27661, 27794, 29201, 25242, 27017, 28232, 25936, 25358, 26289, 28781, 24535, 27868, 25880, 24487, 25627, 24564, 25046, 24544, 24577, 25964, 28654, 31541, 25503, 26688, 27702, 25115, 25413, 30439, 26339, 29562, 30656, 26535, 26158, 24696, 25060, 25315, 26202, 26085, 28686, 30037, 24894, 24935, 26421, 27455, 26626, 27270, 24668, 29167, 29234, 25401, 26892, 29163, 32219, 24642, 28299, 25848, 29700, 31217]\n",
      "[29191, 30414, 32137, 32259, 29282, 29201, 30377, 29297, 29270, 29863, 30395, 31312, 31541, 30439, 31159, 29562, 30656, 30391, 29473, 31379, 29334, 30037, 29495, 30118, 29234, 29498, 32219, 29700, 31217]\n",
      "[16857, 17759, 28378, 17002, 19092, 26474, 26788, 26889, 28053, 19233, 23800, 17720, 27589, 19031, 20998, 25231, 20953, 19342, 27794, 17419, 29201, 18613, 21433, 17618, 27017, 23344, 16895, 17888, 23579, 25358, 19795, 23400, 20205, 20698, 28781, 24182, 17041, 17461, 19591, 24535, 23787, 18087, 25880, 20754, 18442, 19829, 21781, 25627, 21125, 21342, 21342, 24564, 20047, 19797, 24544, 24577, 19183, 20468, 18822, 19811, 18195, 17918, 23997, 31541, 25503, 18579, 22881, 26688, 27702, 25115, 17317, 30439, 26339, 19593, 29562, 21909, 26535, 18255, 20182, 22700, 21092, 19134, 23316, 17112, 17341, 20577, 25315, 26202, 16996, 17181, 18742, 26085, 21365, 19992, 21454, 17203, 17587, 23091, 21335, 18869, 18924, 24894, 23732, 26421, 17241, 18495, 27455, 26626, 20743, 22952, 19109, 23442, 29167, 29234, 23325, 25401, 17716, 17908, 17269, 18831, 22389, 22513, 18969, 20921, 21723, 23166, 28299, 24405, 17171, 21084, 23972, 31217]\n",
      "[31462, 32137, 32259, 31541, 32626, 31592, 32121, 31787, 31530, 32219, 32000]\n",
      "[23461, 28378, 30414, 26474, 26788, 26889, 28053, 23800, 25714, 27589, 25231, 27186, 27661, 27794, 29201, 24151, 27017, 28232, 25936, 23579, 25358, 24333, 28781, 24182, 24535, 23787, 25880, 24487, 25627, 24564, 25046, 24544, 24577, 25964, 23997, 31541, 25503, 26688, 27702, 25115, 25413, 30439, 26339, 29562, 30656, 26535, 26158, 24696, 25060, 25315, 26202, 26085, 28686, 24221, 24894, 23732, 26421, 27455, 26626, 27270, 24383, 24668, 29167, 29234, 25401, 26892, 29163, 32219, 24642, 28299, 24405, 25848, 23972, 31217]\n",
      "[17759, 28378, 30414, 19092, 26474, 26788, 26889, 28053, 19233, 23800, 22455, 27589, 19031, 20998, 25231, 20953, 19342, 27794, 29201, 18613, 21433, 27017, 23344, 17888, 23579, 25358, 19795, 23400, 20205, 20698, 28781, 24182, 19591, 24535, 23787, 18087, 25880, 20754, 18442, 19829, 21781, 25627, 21125, 21342, 21342, 24564, 20047, 19797, 24544, 24577, 19183, 20468, 18822, 19811, 18195, 17918, 23997, 31541, 25503, 18579, 22881, 26688, 27702, 25115, 23255, 30439, 26339, 19593, 29562, 21909, 26535, 18255, 20182, 22700, 21092, 19134, 23316, 20577, 25315, 26202, 18742, 26085, 21365, 19992, 21454, 23091, 21335, 18869, 18924, 24894, 23732, 26421, 18495, 27455, 26626, 20743, 22952, 19109, 23442, 29167, 29234, 23325, 25401, 17908, 18831, 22389, 22513, 18969, 20921, 21723, 23166, 28299, 24405, 21084, 23972, 31217]\n",
      "[5435, 9855, 6807, 13986, 15277, 15414, 16279, 17002, 9079, 19092, 26474, 26788, 6329, 28053, 16172, 6882, 14645, 14101, 16774, 10557, 15309, 13879, 9557, 5633, 9216, 10436, 17720, 11635, 14435, 15989, 14661, 20998, 15938, 13432, 13164, 19342, 27794, 7432, 6199, 5973, 7387, 14077, 11040, 18613, 21433, 17618, 8900, 16412, 14849, 23344, 6645, 16895, 17888, 14482, 14496, 8913, 6010, 9528, 7108, 23400, 6597, 7942, 5728, 16270, 8948, 24182, 5981, 7610, 8937, 17461, 5470, 24535, 23787, 8151, 8420, 9164, 18087, 25880, 15062, 18442, 6293, 8730, 12367, 21781, 25627, 5484, 21342, 11720, 6615, 10256, 14611, 24564, 11479, 8421, 7289, 7098, 8083, 7414, 10169, 12228, 5570, 7094, 24577, 12984, 19183, 20468, 18822, 6212, 8547, 13976, 7899, 10398, 17918, 12015, 6160, 11019, 10590, 14907, 16418, 5838, 8010, 10712, 10351, 15268, 5515, 12196, 17317, 30439, 13437, 6316, 12728, 13511, 8101, 10501, 12207, 21909, 26535, 9786, 10447, 20182, 6403, 6470, 22700, 14458, 19134, 5542, 23316, 13644, 7655, 12646, 14746, 17112, 9374, 9366, 25315, 12722, 16996, 14805, 18742, 26085, 14004, 21365, 9015, 14584, 19992, 21454, 9440, 7426, 11637, 7934, 13625, 17587, 23091, 21335, 18869, 6914, 5637, 14806, 16293, 13546, 26421, 17241, 18495, 27455, 15328, 7554, 14929, 6917, 22952, 5811, 7491, 7567, 15119, 15693, 7073, 12852, 6911, 9835, 29234, 7650, 8462, 15698, 15911, 16159, 5527, 10094, 10290, 6781, 8802, 8885, 17716, 17908, 9369, 5582, 8877, 8697, 6155, 6398, 6061, 13559, 22389, 10806, 10799, 12333, 9453, 11935, 22513, 18969, 20921, 9507, 15872, 13377, 10859, 9222, 15849, 6563, 9910, 23972, 5979]\n",
      "[11194, 13986, 15277, 15414, 16279, 17002, 19092, 26474, 26788, 11386, 28053, 16172, 14645, 14101, 16774, 15309, 13879, 15238, 17720, 11635, 14435, 15989, 14661, 20998, 15938, 13432, 13164, 19342, 27794, 17419, 13859, 14077, 18613, 21433, 17618, 16412, 14849, 23344, 13457, 16895, 17888, 14482, 14496, 23579, 11512, 19795, 23400, 13314, 20205, 16270, 14218, 24182, 12604, 17041, 17461, 19591, 24535, 23787, 18087, 25880, 15062, 18442, 12367, 21781, 25627, 15456, 21342, 11720, 13561, 14611, 24564, 11479, 14345, 20047, 16132, 12228, 24544, 24577, 12984, 19183, 20468, 18822, 13976, 16068, 18195, 17918, 12015, 31541, 25503, 14907, 16418, 22881, 26688, 27702, 14186, 15268, 12196, 17317, 30439, 13437, 13954, 12728, 13511, 12207, 21909, 26535, 12441, 20182, 22700, 14458, 19134, 23316, 13644, 12646, 14746, 17112, 17341, 14233, 25315, 12722, 16996, 14805, 18742, 26085, 14004, 21365, 11697, 14584, 19992, 21454, 13047, 11637, 13625, 17587, 23091, 21335, 18869, 18924, 24894, 14806, 16293, 13546, 26421, 17241, 18495, 27455, 15328, 15008, 14929, 16020, 22952, 13294, 15119, 15693, 12852, 13364, 29234, 11763, 15698, 15911, 16159, 17716, 17908, 16073, 15131, 14257, 11979, 13559, 22389, 12333, 11935, 22513, 18969, 20921, 15872, 13377, 28299, 24405, 15849, 17171, 21084, 23972, 31217]\n",
      "[3701, 9855, 6807, 13986, 15277, 15414, 16279, 5080, 9079, 19092, 26474, 5285, 6329, 28053, 16172, 6882, 14645, 14101, 16774, 10557, 15309, 13879, 9557, 5633, 9216, 10436, 17720, 11635, 14435, 15989, 14661, 20998, 15938, 13432, 13164, 19342, 27794, 7432, 6199, 5973, 7387, 14077, 11040, 18613, 21433, 17618, 8900, 3966, 14849, 23344, 6645, 16895, 17888, 14482, 14496, 8913, 6010, 9528, 4966, 7108, 23400, 6597, 7942, 5728, 16270, 8948, 24182, 5981, 7610, 8937, 17461, 5470, 24535, 23787, 8151, 8420, 9164, 4808, 18087, 25880, 15062, 18442, 6293, 8730, 12367, 21781, 25627, 5484, 21342, 11720, 6615, 10256, 14611, 24564, 11479, 8421, 7289, 7098, 4226, 8083, 7414, 10169, 12228, 5570, 7094, 24577, 12984, 19183, 20468, 18822, 6212, 8547, 13976, 7899, 10398, 17918, 12015, 6160, 11019, 5355, 14907, 16418, 5838, 8010, 10712, 10351, 15268, 5515, 12196, 3833, 30439, 13437, 6316, 4475, 12728, 13511, 3730, 4645, 8101, 10501, 12207, 21909, 26535, 9786, 10447, 20182, 6403, 6470, 22700, 14458, 19134, 5542, 23316, 13644, 7655, 12646, 14746, 17112, 9374, 9366, 25315, 12722, 16996, 14805, 18742, 26085, 14004, 21365, 4425, 9015, 14584, 19992, 21454, 9440, 7426, 11637, 7934, 13625, 17587, 23091, 4240, 21335, 18869, 6914, 5637, 5261, 5340, 14806, 16293, 5119, 13546, 5342, 17241, 18495, 27455, 15328, 7554, 14929, 3758, 6917, 22952, 5811, 7491, 7567, 15119, 15693, 7073, 12852, 6911, 9835, 29234, 7650, 8462, 15698, 15911, 16159, 5527, 10094, 10290, 6781, 8802, 8885, 17716, 17908, 9369, 5582, 8877, 8697, 6155, 6398, 5337, 6061, 13559, 22389, 10806, 10799, 12333, 9453, 11935, 22513, 18969, 20921, 9507, 15872, 13377, 10859, 9222, 15849, 6563, 9910, 23972, 5979]\n",
      "[2642, 9855, 6807, 13986, 15277, 15414, 16279, 5080, 9079, 19092, 26474, 5285, 3426, 6329, 28053, 16172, 6882, 14645, 14101, 16774, 10557, 15309, 13879, 9557, 5633, 9216, 3359, 17720, 3443, 14435, 15989, 14661, 20998, 15938, 13432, 13164, 19342, 27794, 3599, 6199, 5973, 7387, 14077, 11040, 18613, 21433, 17618, 8900, 3966, 14849, 23344, 6645, 3121, 17888, 14482, 14496, 8913, 6010, 9528, 4966, 7108, 23400, 6597, 7942, 5728, 16270, 8948, 24182, 5981, 7610, 8937, 17461, 5470, 24535, 2840, 8151, 8420, 9164, 4808, 18087, 25880, 15062, 18442, 6293, 8730, 12367, 21781, 25627, 5484, 21342, 11720, 6615, 10256, 14611, 24564, 11479, 8421, 7289, 7098, 4226, 8083, 7414, 10169, 12228, 5570, 7094, 24577, 12984, 19183, 20468, 18822, 6212, 8547, 13976, 7899, 10398, 17918, 12015, 3622, 6160, 11019, 5355, 14907, 16418, 5838, 8010, 10712, 10351, 15268, 5515, 12196, 3833, 30439, 13437, 6316, 4475, 12728, 13511, 3730, 4645, 8101, 10501, 12207, 21909, 26535, 9786, 10447, 2778, 6403, 6470, 22700, 2890, 19134, 5542, 23316, 13644, 7655, 12646, 14746, 17112, 9374, 9366, 25315, 12722, 16996, 14805, 18742, 26085, 14004, 2768, 4425, 9015, 14584, 19992, 21454, 9440, 7426, 11637, 7934, 13625, 17587, 23091, 4240, 21335, 18869, 6914, 5637, 5261, 5340, 14806, 16293, 5119, 13546, 5342, 17241, 18495, 27455, 15328, 7554, 3260, 3758, 3387, 3576, 22952, 5811, 7491, 3123, 15119, 15693, 7073, 12852, 6911, 9835, 29234, 7650, 8462, 15698, 15911, 16159, 5527, 10094, 10290, 6781, 8802, 8885, 17716, 17908, 9369, 5582, 8877, 8697, 6155, 6398, 5337, 6061, 13559, 22389, 10806, 10799, 12333, 2964, 9453, 11935, 22513, 18969, 20921, 9507, 15872, 13377, 10859, 9222, 15849, 6563, 9910, 3386, 23972, 5979]\n",
      "[9855, 13986, 15277, 15414, 16279, 17002, 19092, 26474, 26788, 11386, 28053, 16172, 14645, 14101, 16774, 10557, 15309, 13879, 10436, 17720, 11635, 14435, 15989, 14661, 20998, 15938, 13432, 13164, 19342, 27794, 10675, 13859, 14077, 11040, 18613, 21433, 17618, 16412, 14849, 23344, 13457, 16895, 17888, 14482, 14496, 10353, 11512, 19795, 23400, 10099, 13314, 20205, 16270, 14218, 24182, 12604, 17041, 17461, 19591, 24535, 23787, 18087, 25880, 15062, 18442, 12367, 21781, 25627, 15456, 21342, 11720, 13561, 10256, 14611, 24564, 11479, 11008, 20047, 10169, 12228, 24544, 24577, 12984, 19183, 20468, 18822, 13976, 16068, 10398, 17918, 12015, 31541, 11019, 10590, 14907, 16418, 22881, 10029, 10712, 10351, 15268, 12196, 17317, 30439, 13437, 13954, 12728, 13511, 10501, 12207, 21909, 26535, 10447, 20182, 22700, 14458, 19134, 23316, 13644, 12646, 14746, 17112, 17341, 14233, 25315, 12722, 16996, 14805, 18742, 26085, 14004, 21365, 11697, 14584, 19992, 21454, 13047, 11637, 13625, 17587, 23091, 21335, 18869, 18924, 24894, 14806, 16293, 13546, 26421, 17241, 18495, 27455, 15328, 15008, 14929, 16020, 22952, 13294, 15119, 15693, 12852, 13364, 29234, 11763, 15698, 15911, 16159, 10094, 10290, 17716, 17908, 16073, 10308, 14257, 9964, 11979, 13559, 22389, 10806, 10799, 12333, 11935, 22513, 18969, 20921, 15872, 13377, 10859, 24405, 15849, 17171, 9910, 23972, 31217]\n",
      "[28378, 30414, 32137, 32259, 29282, 29201, 30377, 29164, 29297, 28781, 29863, 29104, 29103, 31312, 28654, 31541, 28700, 30439, 31159, 29562, 30656, 30391, 29473, 28604, 31379, 28686, 30037, 29495, 30118, 29167, 29234, 29163, 32219, 29700, 31217]\n",
      "[6807, 13986, 15277, 15414, 16279, 17002, 9079, 19092, 26474, 26788, 11386, 28053, 16172, 6882, 14645, 14101, 16774, 10557, 15309, 13879, 9557, 9216, 10436, 17720, 11635, 14435, 15989, 14661, 20998, 15938, 13432, 13164, 19342, 27794, 7432, 7755, 7387, 14077, 11040, 18613, 21433, 17618, 8900, 16412, 14849, 23344, 13457, 16895, 17888, 14482, 14496, 8913, 10353, 9528, 7108, 23400, 10099, 7942, 20205, 16270, 8948, 24182, 12604, 7610, 8937, 17461, 19591, 24535, 23787, 8151, 8420, 9164, 18087, 25880, 15062, 18442, 8730, 12367, 21781, 25627, 15456, 21342, 11720, 13561, 10256, 14611, 24564, 11479, 8421, 7289, 7098, 8083, 7414, 10169, 12228, 24544, 7094, 24577, 12984, 19183, 20468, 18822, 8547, 13976, 7899, 10398, 17918, 12015, 8043, 11019, 10590, 14907, 16418, 22881, 8010, 10712, 10351, 15268, 12196, 17317, 30439, 13437, 13954, 12728, 13511, 8101, 10501, 12207, 21909, 26535, 9786, 10447, 20182, 22700, 14458, 19134, 23316, 13644, 7655, 12646, 14746, 17112, 9374, 9366, 25315, 12722, 16996, 14805, 18742, 26085, 14004, 21365, 9015, 14584, 19992, 21454, 9440, 7426, 11637, 7934, 13625, 17587, 23091, 21335, 18869, 6914, 24894, 14806, 16293, 13546, 26421, 17241, 18495, 27455, 15328, 7554, 14929, 6917, 22952, 7491, 7567, 15119, 15693, 7073, 12852, 6911, 9835, 29234, 7650, 8462, 15698, 15911, 16159, 10094, 10290, 8760, 8802, 8885, 17716, 17908, 9369, 16073, 8877, 8697, 7025, 9964, 7067, 13559, 22389, 10806, 10799, 12333, 9453, 11935, 22513, 18969, 20921, 9507, 15872, 13377, 10859, 9222, 15849, 17171, 9910, 23972, 31217]\n",
      "[13986, 15277, 15414, 16279, 17002, 19092, 26474, 26788, 26889, 28053, 16172, 14645, 14101, 16774, 15309, 15238, 17720, 27589, 14435, 15989, 14661, 20998, 15938, 20953, 19342, 27794, 17419, 14077, 18613, 21433, 17618, 16412, 14849, 23344, 16895, 17888, 14482, 14496, 23579, 25358, 19795, 23400, 15060, 20205, 16270, 14218, 24182, 17041, 17461, 19591, 24535, 23787, 18087, 25880, 15062, 18442, 19829, 21781, 25627, 15456, 21342, 14611, 24564, 14345, 20047, 16132, 19797, 24544, 24577, 16636, 19183, 20468, 18822, 14721, 16068, 18195, 17918, 23997, 31541, 25503, 14907, 16418, 22881, 26688, 27702, 14186, 15268, 17317, 30439, 26339, 19593, 29562, 21909, 26535, 18255, 20182, 22700, 14458, 19134, 23316, 14746, 17112, 17341, 14233, 25315, 26202, 16996, 14805, 18742, 26085, 14004, 21365, 14584, 19992, 21454, 17203, 17587, 23091, 21335, 18869, 18924, 24894, 14806, 16293, 23732, 26421, 17241, 18495, 27455, 15328, 15008, 14929, 16020, 22952, 19109, 15119, 15693, 29167, 29234, 15698, 15911, 16159, 17716, 17908, 16073, 15131, 14257, 18831, 22389, 15104, 22513, 18969, 20921, 15872, 23166, 28299, 24405, 15849, 17171, 21084, 23972, 31217]\n",
      "[15277, 15414, 16279, 17002, 19092, 26474, 26788, 26889, 28053, 16172, 16774, 15309, 17720, 27589, 15989, 19031, 20998, 15938, 20953, 19342, 27794, 17419, 16416, 18613, 21433, 17618, 16412, 27017, 23344, 16895, 17888, 23579, 25358, 19795, 23400, 20205, 16270, 28781, 24182, 17041, 17461, 19591, 24535, 23787, 18087, 25880, 20754, 18442, 19829, 21781, 25627, 15456, 21342, 21342, 24564, 20047, 16132, 19797, 24544, 24577, 16636, 19183, 20468, 18822, 16068, 18195, 17918, 23997, 31541, 25503, 16418, 22881, 26688, 27702, 25115, 17317, 30439, 26339, 19593, 29562, 21909, 26535, 18255, 20182, 22700, 21092, 19134, 23316, 17112, 17341, 20577, 25315, 26202, 16996, 17181, 18742, 26085, 21365, 19992, 21454, 17203, 17587, 23091, 21335, 18869, 18924, 24894, 16293, 23732, 26421, 17241, 18495, 27455, 15328, 16020, 22952, 19109, 15693, 29167, 29234, 15698, 15911, 16159, 17716, 17908, 16073, 17269, 18831, 22389, 22513, 18969, 20921, 15872, 23166, 28299, 24405, 15849, 17171, 21084, 23972, 31217]\n",
      "[15414, 16279, 17002, 19092, 26474, 26788, 26889, 28053, 16172, 16774, 23800, 17720, 27589, 15989, 19031, 20998, 15938, 20953, 19342, 27794, 17419, 16416, 18613, 21433, 17618, 16412, 27017, 23344, 16895, 17888, 23579, 25358, 19795, 23400, 20205, 16270, 28781, 24182, 17041, 17461, 19591, 24535, 23787, 18087, 25880, 20754, 18442, 19829, 21781, 25627, 15456, 21342, 21342, 24564, 20047, 16132, 19797, 24544, 24577, 16636, 19183, 20468, 18822, 16068, 18195, 17918, 23997, 31541, 25503, 16418, 22881, 26688, 27702, 25115, 17317, 30439, 26339, 19593, 29562, 21909, 26535, 18255, 20182, 22700, 21092, 19134, 23316, 17112, 17341, 20577, 25315, 26202, 16996, 17181, 18742, 26085, 21365, 19992, 21454, 17203, 17587, 23091, 21335, 18869, 18924, 24894, 16293, 23732, 26421, 17241, 18495, 27455, 26626, 16020, 22952, 19109, 15693, 29167, 29234, 15698, 15911, 16159, 17716, 17908, 16073, 17269, 18831, 22389, 22513, 18969, 20921, 15872, 23166, 28299, 24405, 15849, 17171, 21084, 23972, 31217]\n",
      "[31249, 32137, 32259, 31312, 31541, 32626, 31342, 31386, 31379, 31381, 31530, 32219, 32000]\n",
      "[30414, 32137, 32259, 30690, 30824, 31312, 31541, 30439, 31159, 30656, 31386, 31379, 30621, 31530, 32219, 31217]\n",
      "[16279, 17002, 19092, 26474, 26788, 26889, 28053, 16774, 23800, 17720, 27589, 19031, 20998, 25231, 20953, 19342, 27794, 17419, 16416, 18613, 21433, 17618, 16412, 27017, 23344, 16895, 17888, 23579, 25358, 19795, 23400, 20205, 20698, 28781, 24182, 17041, 17461, 19591, 24535, 23787, 18087, 25880, 20754, 18442, 19829, 21781, 25627, 21125, 21342, 21342, 24564, 20047, 19797, 24544, 24577, 16636, 19183, 20468, 18822, 16685, 18195, 17918, 23997, 31541, 25503, 16418, 22881, 26688, 27702, 25115, 17317, 30439, 26339, 19593, 29562, 21909, 26535, 18255, 20182, 22700, 21092, 19134, 23316, 17112, 17341, 20577, 25315, 26202, 16996, 17181, 18742, 26085, 21365, 19992, 21454, 17203, 17587, 23091, 21335, 18869, 18924, 24894, 16293, 23732, 26421, 17241, 18495, 27455, 26626, 20743, 22952, 19109, 16555, 29167, 29234, 23325, 25401, 17716, 17908, 17269, 18831, 22389, 22513, 18969, 20921, 21723, 23166, 28299, 24405, 17171, 21084, 23972, 31217]\n",
      "[17002, 19092, 26474, 26788, 26889, 28053, 19233, 23800, 17720, 27589, 19031, 20998, 25231, 20953, 19342, 27794, 17419, 29201, 18613, 21433, 17618, 27017, 23344, 17888, 23579, 25358, 19795, 23400, 20205, 20698, 28781, 24182, 17041, 17461, 19591, 24535, 23787, 18087, 25880, 20754, 18442, 19829, 21781, 25627, 21125, 21342, 21342, 24564, 20047, 19797, 24544, 24577, 19183, 20468, 18822, 19811, 18195, 17918, 23997, 31541, 25503, 18579, 22881, 26688, 27702, 25115, 17317, 30439, 26339, 19593, 29562, 21909, 26535, 18255, 20182, 22700, 21092, 19134, 23316, 17112, 17341, 20577, 25315, 26202, 17181, 18742, 26085, 21365, 19992, 21454, 17203, 17587, 23091, 21335, 18869, 18924, 24894, 23732, 26421, 17241, 18495, 27455, 26626, 20743, 22952, 19109, 23442, 29167, 29234, 23325, 25401, 17716, 17908, 17269, 18831, 22389, 22513, 18969, 20921, 21723, 23166, 28299, 24405, 17171, 21084, 23972, 31217]\n",
      "[5080, 9079, 19092, 26474, 5285, 6329, 28053, 16172, 6882, 14645, 14101, 16774, 10557, 15309, 13879, 9557, 5633, 9216, 10436, 17720, 11635, 14435, 15989, 14661, 20998, 15938, 13432, 13164, 19342, 27794, 7432, 6199, 5973, 7387, 14077, 11040, 18613, 21433, 17618, 8900, 16412, 14849, 23344, 6645, 16895, 17888, 14482, 14496, 8913, 6010, 9528, 7108, 23400, 6597, 7942, 5728, 16270, 8948, 24182, 5981, 7610, 8937, 17461, 5470, 24535, 23787, 8151, 8420, 9164, 18087, 25880, 15062, 18442, 6293, 8730, 12367, 21781, 25627, 5484, 21342, 11720, 6615, 10256, 14611, 24564, 11479, 8421, 7289, 7098, 8083, 7414, 10169, 12228, 5570, 7094, 24577, 12984, 19183, 20468, 18822, 6212, 8547, 13976, 7899, 10398, 17918, 12015, 6160, 11019, 5355, 14907, 16418, 5838, 8010, 10712, 10351, 15268, 5515, 12196, 17317, 30439, 13437, 6316, 12728, 13511, 8101, 10501, 12207, 21909, 26535, 9786, 10447, 20182, 6403, 6470, 22700, 14458, 19134, 5542, 23316, 13644, 7655, 12646, 14746, 17112, 9374, 9366, 25315, 12722, 16996, 14805, 18742, 26085, 14004, 21365, 9015, 14584, 19992, 21454, 9440, 7426, 11637, 7934, 13625, 17587, 23091, 21335, 18869, 6914, 5637, 5261, 5340, 14806, 16293, 5119, 13546, 5342, 17241, 18495, 27455, 15328, 7554, 14929, 6917, 22952, 5811, 7491, 7567, 15119, 15693, 7073, 12852, 6911, 9835, 29234, 7650, 8462, 15698, 15911, 16159, 5527, 10094, 10290, 6781, 8802, 8885, 17716, 17908, 9369, 5582, 8877, 8697, 6155, 6398, 5337, 6061, 13559, 22389, 10806, 10799, 12333, 9453, 11935, 22513, 18969, 20921, 9507, 15872, 13377, 10859, 9222, 15849, 6563, 9910, 23972, 5979]\n",
      "[32137, 32259, 32626, 32183, 32219, 32369]\n",
      "[9079, 19092, 26474, 26788, 11386, 28053, 16172, 14645, 14101, 16774, 10557, 15309, 13879, 9557, 9216, 10436, 17720, 11635, 14435, 15989, 14661, 20998, 15938, 13432, 13164, 19342, 27794, 10675, 9642, 13859, 14077, 11040, 18613, 21433, 17618, 16412, 14849, 23344, 13457, 16895, 17888, 14482, 14496, 10353, 9528, 19795, 23400, 10099, 9746, 20205, 16270, 14218, 24182, 12604, 17041, 17461, 19591, 24535, 23787, 9164, 18087, 25880, 15062, 18442, 12367, 21781, 25627, 15456, 21342, 11720, 13561, 10256, 14611, 24564, 11479, 11008, 20047, 10169, 12228, 24544, 24577, 12984, 19183, 20468, 18822, 13976, 16068, 10398, 17918, 12015, 31541, 11019, 10590, 14907, 16418, 22881, 10029, 10712, 10351, 15268, 12196, 17317, 30439, 13437, 13954, 12728, 13511, 10501, 12207, 21909, 26535, 9786, 10447, 20182, 22700, 14458, 19134, 23316, 13644, 12646, 14746, 17112, 9374, 9366, 25315, 12722, 16996, 14805, 18742, 26085, 14004, 21365, 11697, 14584, 19992, 21454, 9440, 11637, 9688, 13625, 17587, 23091, 21335, 18869, 18924, 24894, 14806, 16293, 13546, 26421, 17241, 18495, 27455, 15328, 15008, 14929, 16020, 22952, 13294, 15119, 15693, 12852, 9835, 29234, 11763, 15698, 15911, 16159, 10094, 10290, 17716, 17908, 9369, 16073, 10308, 14257, 9964, 11979, 13559, 22389, 10806, 10799, 12333, 9453, 11935, 22513, 18969, 20921, 9507, 15872, 13377, 10859, 9222, 15849, 17171, 9910, 23972, 31217]\n",
      "[20955, 26474, 26788, 26889, 28053, 23800, 22455, 27589, 20998, 25231, 27186, 27661, 27794, 29201, 21433, 27017, 23344, 25936, 23579, 25358, 23400, 22096, 28781, 24182, 24535, 23787, 25880, 21197, 21781, 25627, 21125, 21342, 21342, 24564, 21413, 24544, 24577, 22039, 22300, 23997, 31541, 25503, 22881, 26688, 27702, 25115, 23255, 30439, 26339, 29562, 21909, 26535, 22700, 21092, 23378, 23316, 25060, 25315, 26202, 26085, 21365, 21454, 23091, 21335, 24894, 23732, 26421, 27455, 26626, 27270, 22952, 24383, 23442, 29167, 29234, 23325, 25401, 26892, 21953, 22389, 22513, 21723, 23166, 28299, 24405, 21084, 23972, 31217]\n",
      "[19092, 26474, 26788, 26889, 28053, 19233, 23800, 22455, 27589, 20998, 25231, 20953, 19342, 27794, 29201, 21433, 27017, 23344, 25936, 23579, 25358, 19795, 23400, 20205, 20698, 28781, 24182, 19591, 24535, 23787, 25880, 20754, 19829, 21781, 25627, 21125, 21342, 21342, 24564, 20047, 19797, 24544, 24577, 19183, 20468, 19811, 22300, 23997, 31541, 25503, 22881, 26688, 27702, 25115, 23255, 30439, 26339, 19593, 29562, 21909, 26535, 20182, 22700, 21092, 19134, 23316, 20577, 25315, 26202, 26085, 21365, 19992, 21454, 23091, 21335, 24894, 23732, 26421, 27455, 26626, 20743, 22952, 19109, 23442, 29167, 29234, 23325, 25401, 19358, 21953, 22389, 22513, 20921, 21723, 23166, 28299, 24405, 21084, 23972, 31217]\n",
      "[26474, 26788, 26889, 28053, 26710, 27589, 27186, 27661, 27794, 29201, 30377, 27017, 28232, 29164, 29297, 28781, 27868, 27082, 29103, 27048, 28654, 31541, 26688, 27702, 30439, 27283, 29562, 30656, 26535, 30391, 29473, 27384, 28064, 28686, 30037, 27116, 27455, 26626, 27270, 29167, 29234, 26892, 29163, 32219, 28299, 29700, 31217]\n",
      "[980, 1765, 5285, 3426, 6329, 28053, 16172, 2451, 14645, 14101, 16774, 10557, 15309, 13879, 9557, 1058, 2548, 5633, 9216, 3359, 2143, 1099, 2417, 14435, 15989, 14661, 20998, 15938, 2518, 13164, 19342, 27794, 3599, 2291, 5973, 7387, 14077, 11040, 18613, 21433, 17618, 8900, 3966, 1939, 14849, 23344, 6645, 3121, 17888, 14482, 14496, 8913, 6010, 9528, 2477, 7108, 23400, 6597, 7942, 1090, 16270, 8948, 24182, 1351, 7610, 8937, 17461, 5470, 24535, 2840, 8151, 8420, 1409, 1634, 4808, 18087, 25880, 15062, 18442, 6293, 8730, 12367, 21781, 25627, 5484, 21342, 1475, 11720, 6615, 10256, 14611, 2057, 1240, 11479, 8421, 7289, 7098, 4226, 8083, 7414, 10169, 12228, 5570, 7094, 24577, 2355, 12984, 19183, 20468, 18822, 6212, 8547, 1807, 13976, 7899, 10398, 17918, 12015, 3622, 6160, 11019, 5355, 14907, 16418, 5838, 8010, 10712, 2186, 10351, 15268, 1064, 12196, 3833, 30439, 13437, 6316, 4475, 12728, 13511, 3730, 4645, 1437, 10501, 12207, 21909, 26535, 9786, 10447, 2778, 6403, 6470, 22700, 2890, 19134, 5542, 23316, 13644, 7655, 12646, 14746, 17112, 9374, 1445, 25315, 12722, 16996, 14805, 18742, 26085, 14004, 2768, 4425, 1270, 14584, 19992, 21454, 9440, 7426, 11637, 7934, 13625, 17587, 23091, 4240, 21335, 18869, 6914, 1390, 5261, 5340, 14806, 16293, 5119, 13546, 5342, 17241, 18495, 27455, 15328, 1371, 3260, 3758, 3387, 2575, 3576, 22952, 5811, 7491, 3123, 15119, 15693, 7073, 12852, 6911, 9835, 29234, 7650, 8462, 15698, 15911, 16159, 5527, 10094, 10290, 6781, 8802, 8885, 17716, 17908, 9369, 5582, 8877, 8697, 6155, 6398, 5337, 6061, 13559, 22389, 10806, 10799, 12333, 2964, 1875, 9453, 11935, 22513, 18969, 20921, 9507, 15872, 13377, 10859, 9222, 15849, 6563, 9910, 3386, 23972, 5979]\n",
      "[32259, 32626, 32399, 32369]\n",
      "[26788, 26889, 28053, 27589, 27186, 27661, 27794, 29201, 30377, 27017, 28232, 29164, 29297, 28781, 27868, 27082, 29103, 27048, 28654, 31541, 27702, 30439, 27283, 29562, 30656, 30391, 29473, 27384, 28064, 28686, 30037, 27116, 27455, 27587, 27270, 29167, 29234, 26892, 29163, 32219, 28299, 29700, 31217]\n",
      "[1765, 5285, 3426, 6329, 28053, 16172, 2451, 14645, 14101, 16774, 10557, 15309, 13879, 9557, 2548, 5633, 9216, 3359, 2143, 2417, 14435, 15989, 14661, 20998, 15938, 2518, 13164, 19342, 27794, 3599, 2291, 5973, 7387, 14077, 11040, 18613, 21433, 17618, 8900, 3966, 1939, 14849, 23344, 6645, 3121, 17888, 14482, 14496, 8913, 6010, 9528, 2477, 7108, 23400, 6597, 7942, 5728, 16270, 8948, 24182, 5981, 7610, 8937, 17461, 5470, 24535, 2840, 8151, 8420, 1957, 4808, 18087, 25880, 15062, 18442, 6293, 8730, 12367, 21781, 25627, 5484, 21342, 11720, 6615, 10256, 14611, 2057, 11479, 8421, 7289, 7098, 4226, 8083, 7414, 10169, 12228, 5570, 7094, 24577, 2355, 12984, 19183, 20468, 18822, 6212, 8547, 1807, 13976, 7899, 10398, 17918, 12015, 3622, 6160, 11019, 5355, 14907, 16418, 5838, 8010, 10712, 2186, 10351, 15268, 5515, 12196, 3833, 30439, 13437, 6316, 4475, 12728, 13511, 3730, 4645, 8101, 10501, 12207, 21909, 26535, 9786, 10447, 2778, 6403, 6470, 22700, 2890, 19134, 5542, 23316, 13644, 7655, 12646, 14746, 17112, 9374, 9366, 25315, 12722, 16996, 14805, 18742, 26085, 14004, 2768, 4425, 9015, 14584, 19992, 21454, 9440, 7426, 11637, 7934, 13625, 17587, 23091, 4240, 21335, 18869, 6914, 5637, 5261, 5340, 14806, 16293, 5119, 13546, 5342, 17241, 18495, 27455, 15328, 7554, 3260, 3758, 3387, 2575, 3576, 22952, 5811, 7491, 3123, 15119, 15693, 7073, 12852, 6911, 9835, 29234, 7650, 8462, 15698, 15911, 16159, 5527, 10094, 10290, 6781, 8802, 8885, 17716, 17908, 9369, 5582, 8877, 8697, 6155, 6398, 5337, 6061, 13559, 22389, 10806, 10799, 12333, 2964, 1875, 9453, 11935, 22513, 18969, 20921, 9507, 15872, 13377, 10859, 9222, 15849, 6563, 9910, 3386, 23972, 5979]\n",
      "[5285, 6329, 28053, 16172, 6882, 14645, 14101, 16774, 10557, 15309, 13879, 9557, 5633, 9216, 10436, 17720, 11635, 14435, 15989, 14661, 20998, 15938, 13432, 13164, 19342, 27794, 7432, 6199, 5973, 7387, 14077, 11040, 18613, 21433, 17618, 8900, 16412, 14849, 23344, 6645, 16895, 17888, 14482, 14496, 8913, 6010, 9528, 7108, 23400, 6597, 7942, 5728, 16270, 8948, 24182, 5981, 7610, 8937, 17461, 5470, 24535, 23787, 8151, 8420, 9164, 18087, 25880, 15062, 18442, 6293, 8730, 12367, 21781, 25627, 5484, 21342, 11720, 6615, 10256, 14611, 24564, 11479, 8421, 7289, 7098, 8083, 7414, 10169, 12228, 5570, 7094, 24577, 12984, 19183, 20468, 18822, 6212, 8547, 13976, 7899, 10398, 17918, 12015, 6160, 11019, 5355, 14907, 16418, 5838, 8010, 10712, 10351, 15268, 5515, 12196, 17317, 30439, 13437, 6316, 12728, 13511, 8101, 10501, 12207, 21909, 26535, 9786, 10447, 20182, 6403, 6470, 22700, 14458, 19134, 5542, 23316, 13644, 7655, 12646, 14746, 17112, 9374, 9366, 25315, 12722, 16996, 14805, 18742, 26085, 14004, 21365, 9015, 14584, 19992, 21454, 9440, 7426, 11637, 7934, 13625, 17587, 23091, 21335, 18869, 6914, 5637, 5340, 14806, 16293, 13546, 5342, 17241, 18495, 27455, 15328, 7554, 14929, 6917, 22952, 5811, 7491, 7567, 15119, 15693, 7073, 12852, 6911, 9835, 29234, 7650, 8462, 15698, 15911, 16159, 5527, 10094, 10290, 6781, 8802, 8885, 17716, 17908, 9369, 5582, 8877, 8697, 6155, 6398, 5337, 6061, 13559, 22389, 10806, 10799, 12333, 9453, 11935, 22513, 18969, 20921, 9507, 15872, 13377, 10859, 9222, 15849, 6563, 9910, 23972, 5979]\n",
      "[26889, 28053, 27589, 27186, 27661, 27794, 29201, 30377, 27017, 28232, 29164, 29297, 28781, 27868, 27082, 29103, 27048, 28654, 31541, 27702, 30439, 27283, 29562, 30656, 30391, 29473, 27384, 28064, 28686, 30037, 27116, 27455, 27587, 27270, 29167, 29234, 26892, 29163, 32219, 28299, 29700, 31217]\n",
      "[3426, 6329, 28053, 16172, 6882, 14645, 14101, 16774, 10557, 15309, 13879, 9557, 5633, 9216, 10436, 17720, 3443, 14435, 15989, 14661, 20998, 15938, 13432, 13164, 19342, 27794, 3599, 6199, 5973, 7387, 14077, 11040, 18613, 21433, 17618, 8900, 3966, 14849, 23344, 6645, 16895, 17888, 14482, 14496, 8913, 6010, 9528, 4966, 7108, 23400, 6597, 7942, 5728, 16270, 8948, 24182, 5981, 7610, 8937, 17461, 5470, 24535, 23787, 8151, 8420, 9164, 4808, 18087, 25880, 15062, 18442, 6293, 8730, 12367, 21781, 25627, 5484, 21342, 11720, 6615, 10256, 14611, 24564, 11479, 8421, 7289, 7098, 4226, 8083, 7414, 10169, 12228, 5570, 7094, 24577, 12984, 19183, 20468, 18822, 6212, 8547, 13976, 7899, 10398, 17918, 12015, 3622, 6160, 11019, 5355, 14907, 16418, 5838, 8010, 10712, 10351, 15268, 5515, 12196, 3833, 30439, 13437, 6316, 4475, 12728, 13511, 3730, 4645, 8101, 10501, 12207, 21909, 26535, 9786, 10447, 20182, 6403, 6470, 22700, 14458, 19134, 5542, 23316, 13644, 7655, 12646, 14746, 17112, 9374, 9366, 25315, 12722, 16996, 14805, 18742, 26085, 14004, 21365, 4425, 9015, 14584, 19992, 21454, 9440, 7426, 11637, 7934, 13625, 17587, 23091, 4240, 21335, 18869, 6914, 5637, 5261, 5340, 14806, 16293, 5119, 13546, 5342, 17241, 18495, 27455, 15328, 7554, 14929, 3758, 6917, 3576, 22952, 5811, 7491, 7567, 15119, 15693, 7073, 12852, 6911, 9835, 29234, 7650, 8462, 15698, 15911, 16159, 5527, 10094, 10290, 6781, 8802, 8885, 17716, 17908, 9369, 5582, 8877, 8697, 6155, 6398, 5337, 6061, 13559, 22389, 10806, 10799, 12333, 9453, 11935, 22513, 18969, 20921, 9507, 15872, 13377, 10859, 9222, 15849, 6563, 9910, 23972, 5979]\n",
      "[11386, 28053, 16172, 14645, 14101, 16774, 15309, 13879, 15238, 17720, 11635, 14435, 15989, 14661, 20998, 15938, 13432, 13164, 19342, 27794, 17419, 13859, 14077, 18613, 21433, 17618, 16412, 14849, 23344, 13457, 16895, 17888, 14482, 14496, 23579, 11512, 19795, 23400, 13314, 20205, 16270, 14218, 24182, 12604, 17041, 17461, 19591, 24535, 23787, 18087, 25880, 15062, 18442, 12367, 21781, 25627, 15456, 21342, 11720, 13561, 14611, 24564, 11479, 14345, 20047, 16132, 12228, 24544, 24577, 12984, 19183, 20468, 18822, 13976, 16068, 18195, 17918, 12015, 31541, 25503, 14907, 16418, 22881, 26688, 27702, 14186, 15268, 12196, 17317, 30439, 13437, 13954, 12728, 13511, 12207, 21909, 26535, 12441, 20182, 22700, 14458, 19134, 23316, 13644, 12646, 14746, 17112, 17341, 14233, 25315, 12722, 16996, 14805, 18742, 26085, 14004, 21365, 11697, 14584, 19992, 21454, 13047, 11637, 13625, 17587, 23091, 21335, 18869, 18924, 24894, 14806, 16293, 13546, 26421, 17241, 18495, 27455, 15328, 15008, 14929, 16020, 22952, 13294, 15119, 15693, 12852, 13364, 29234, 11763, 15698, 15911, 16159, 17716, 17908, 16073, 15131, 14257, 11979, 13559, 22389, 12333, 11935, 22513, 18969, 20921, 15872, 13377, 28299, 24405, 15849, 17171, 21084, 23972, 31217]\n",
      "[6329, 28053, 16172, 6882, 14645, 14101, 16774, 10557, 15309, 13879, 9557, 9216, 10436, 17720, 11635, 14435, 15989, 14661, 20998, 15938, 13432, 13164, 19342, 27794, 7432, 6488, 7387, 14077, 11040, 18613, 21433, 17618, 8900, 16412, 14849, 23344, 6645, 16895, 17888, 14482, 14496, 8913, 10353, 9528, 7108, 23400, 6597, 7942, 20205, 16270, 8948, 24182, 12604, 7610, 8937, 17461, 19591, 24535, 23787, 8151, 8420, 9164, 18087, 25880, 15062, 18442, 8730, 12367, 21781, 25627, 15456, 21342, 11720, 6615, 10256, 14611, 24564, 11479, 8421, 7289, 7098, 8083, 7414, 10169, 12228, 24544, 7094, 24577, 12984, 19183, 20468, 18822, 8547, 13976, 7899, 10398, 17918, 12015, 8043, 11019, 10590, 14907, 16418, 22881, 8010, 10712, 10351, 15268, 12196, 17317, 30439, 13437, 13954, 12728, 13511, 8101, 10501, 12207, 21909, 26535, 9786, 10447, 20182, 6403, 6470, 22700, 14458, 19134, 23316, 13644, 7655, 12646, 14746, 17112, 9374, 9366, 25315, 12722, 16996, 14805, 18742, 26085, 14004, 21365, 9015, 14584, 19992, 21454, 9440, 7426, 11637, 7934, 13625, 17587, 23091, 21335, 18869, 6914, 24894, 14806, 16293, 13546, 26421, 17241, 18495, 27455, 15328, 7554, 14929, 6917, 22952, 7491, 7567, 15119, 15693, 7073, 12852, 6911, 9835, 29234, 7650, 8462, 15698, 15911, 16159, 10094, 10290, 6781, 8802, 8885, 17716, 17908, 9369, 16073, 8877, 8697, 7025, 6398, 7067, 13559, 22389, 10806, 10799, 12333, 9453, 11935, 22513, 18969, 20921, 9507, 15872, 13377, 10859, 9222, 15849, 6563, 9910, 23972, 31217]\n",
      "[28053, 28180, 29201, 30377, 28232, 29164, 29297, 28781, 29863, 29104, 29103, 31312, 28654, 31541, 28700, 30439, 31159, 29562, 30656, 30391, 29473, 28604, 28064, 28686, 30037, 28126, 30118, 29167, 29234, 29163, 32219, 28299, 29700, 31217]\n",
      "[32680]\n",
      "[16172, 16774, 23800, 17720, 27589, 19031, 20998, 25231, 20953, 19342, 27794, 17419, 16416, 18613, 21433, 17618, 16412, 27017, 23344, 16895, 17888, 23579, 25358, 19795, 23400, 20205, 16270, 28781, 24182, 17041, 17461, 19591, 24535, 23787, 18087, 25880, 20754, 18442, 19829, 21781, 25627, 21125, 21342, 21342, 24564, 20047, 19797, 24544, 24577, 16636, 19183, 20468, 18822, 16685, 18195, 17918, 23997, 31541, 25503, 16418, 22881, 26688, 27702, 25115, 17317, 30439, 26339, 19593, 29562, 21909, 26535, 18255, 20182, 22700, 21092, 19134, 23316, 17112, 17341, 20577, 25315, 26202, 16996, 17181, 18742, 26085, 21365, 19992, 21454, 17203, 17587, 23091, 21335, 18869, 18924, 24894, 16293, 23732, 26421, 17241, 18495, 27455, 26626, 20743, 22952, 19109, 16555, 29167, 29234, 23325, 25401, 17716, 17908, 17269, 18831, 22389, 22513, 18969, 20921, 21723, 23166, 28299, 24405, 17171, 21084, 23972, 31217]\n",
      "[26710, 27589, 27186, 27661, 27794, 29201, 30377, 27017, 28232, 29164, 29297, 28781, 27868, 27082, 29103, 27048, 28654, 31541, 27702, 30439, 27283, 29562, 30656, 30391, 29473, 27384, 28064, 28686, 30037, 27116, 27455, 27587, 27270, 29167, 29234, 26892, 29163, 32219, 28299, 29700, 31217]\n",
      "[6882, 14645, 14101, 16774, 10557, 15309, 13879, 9557, 9216, 10436, 17720, 11635, 14435, 15989, 14661, 20998, 15938, 13432, 13164, 19342, 27794, 7432, 7755, 7387, 14077, 11040, 18613, 21433, 17618, 8900, 16412, 14849, 23344, 13457, 16895, 17888, 14482, 14496, 8913, 10353, 9528, 7108, 23400, 10099, 7942, 20205, 16270, 8948, 24182, 12604, 7610, 8937, 17461, 19591, 24535, 23787, 8151, 8420, 9164, 18087, 25880, 15062, 18442, 8730, 12367, 21781, 25627, 15456, 21342, 11720, 13561, 10256, 14611, 24564, 11479, 8421, 7289, 7098, 8083, 7414, 10169, 12228, 24544, 7094, 24577, 12984, 19183, 20468, 18822, 8547, 13976, 7899, 10398, 17918, 12015, 8043, 11019, 10590, 14907, 16418, 22881, 8010, 10712, 10351, 15268, 12196, 17317, 30439, 13437, 13954, 12728, 13511, 8101, 10501, 12207, 21909, 26535, 9786, 10447, 20182, 22700, 14458, 19134, 23316, 13644, 7655, 12646, 14746, 17112, 9374, 9366, 25315, 12722, 16996, 14805, 18742, 26085, 14004, 21365, 9015, 14584, 19992, 21454, 9440, 7426, 11637, 7934, 13625, 17587, 23091, 21335, 18869, 6914, 24894, 14806, 16293, 13546, 26421, 17241, 18495, 27455, 15328, 7554, 14929, 6917, 22952, 7491, 7567, 15119, 15693, 7073, 12852, 6911, 9835, 29234, 7650, 8462, 15698, 15911, 16159, 10094, 10290, 8760, 8802, 8885, 17716, 17908, 9369, 16073, 8877, 8697, 7025, 9964, 7067, 13559, 22389, 10806, 10799, 12333, 9453, 11935, 22513, 18969, 20921, 9507, 15872, 13377, 10859, 9222, 15849, 17171, 9910, 23972, 31217]\n",
      "[2451, 14645, 14101, 16774, 10557, 15309, 13879, 9557, 2548, 5633, 9216, 3359, 17720, 3443, 14435, 15989, 14661, 20998, 15938, 2518, 13164, 19342, 27794, 3599, 6199, 5973, 7387, 14077, 11040, 18613, 21433, 17618, 8900, 3966, 14849, 23344, 6645, 3121, 17888, 14482, 14496, 8913, 6010, 9528, 2477, 7108, 23400, 6597, 7942, 5728, 16270, 8948, 24182, 5981, 7610, 8937, 17461, 5470, 24535, 2840, 8151, 8420, 9164, 4808, 18087, 25880, 15062, 18442, 6293, 8730, 12367, 21781, 25627, 5484, 21342, 11720, 6615, 10256, 14611, 24564, 11479, 8421, 7289, 7098, 4226, 8083, 7414, 10169, 12228, 5570, 7094, 24577, 12984, 19183, 20468, 18822, 6212, 8547, 13976, 7899, 10398, 17918, 12015, 3622, 6160, 11019, 5355, 14907, 16418, 5838, 8010, 10712, 10351, 15268, 5515, 12196, 3833, 30439, 13437, 6316, 4475, 12728, 13511, 3730, 4645, 8101, 10501, 12207, 21909, 26535, 9786, 10447, 2778, 6403, 6470, 22700, 2890, 19134, 5542, 23316, 13644, 7655, 12646, 14746, 17112, 9374, 9366, 25315, 12722, 16996, 14805, 18742, 26085, 14004, 2768, 4425, 9015, 14584, 19992, 21454, 9440, 7426, 11637, 7934, 13625, 17587, 23091, 4240, 21335, 18869, 6914, 5637, 5261, 5340, 14806, 16293, 5119, 13546, 5342, 17241, 18495, 27455, 15328, 7554, 3260, 3758, 3387, 2575, 3576, 22952, 5811, 7491, 3123, 15119, 15693, 7073, 12852, 6911, 9835, 29234, 7650, 8462, 15698, 15911, 16159, 5527, 10094, 10290, 6781, 8802, 8885, 17716, 17908, 9369, 5582, 8877, 8697, 6155, 6398, 5337, 6061, 13559, 22389, 10806, 10799, 12333, 2964, 9453, 11935, 22513, 18969, 20921, 9507, 15872, 13377, 10859, 9222, 15849, 6563, 9910, 3386, 23972, 5979]\n",
      "[14645, 16774, 15309, 15238, 17720, 27589, 15989, 14661, 20998, 15938, 20953, 19342, 27794, 17419, 16416, 18613, 21433, 17618, 16412, 14849, 23344, 16895, 17888, 23579, 25358, 19795, 23400, 15060, 20205, 16270, 28781, 24182, 17041, 17461, 19591, 24535, 23787, 18087, 25880, 15062, 18442, 19829, 21781, 25627, 15456, 21342, 21342, 24564, 20047, 16132, 19797, 24544, 24577, 16636, 19183, 20468, 18822, 14721, 16068, 18195, 17918, 23997, 31541, 25503, 14907, 16418, 22881, 26688, 27702, 15268, 17317, 30439, 26339, 19593, 29562, 21909, 26535, 18255, 20182, 22700, 21092, 19134, 23316, 14746, 17112, 17341, 20577, 25315, 26202, 16996, 14805, 18742, 26085, 21365, 19992, 21454, 17203, 17587, 23091, 21335, 18869, 18924, 24894, 14806, 16293, 23732, 26421, 17241, 18495, 27455, 15328, 15008, 14929, 16020, 22952, 19109, 15119, 15693, 29167, 29234, 15698, 15911, 16159, 17716, 17908, 16073, 15131, 18831, 22389, 15104, 22513, 18969, 20921, 15872, 23166, 28299, 24405, 15849, 17171, 21084, 23972, 31217]\n",
      "[19233, 23800, 22455, 27589, 20998, 25231, 20953, 19342, 27794, 29201, 21433, 27017, 23344, 25936, 23579, 25358, 19795, 23400, 20205, 20698, 28781, 24182, 19591, 24535, 23787, 25880, 20754, 19829, 21781, 25627, 21125, 21342, 21342, 24564, 20047, 19797, 24544, 24577, 20468, 19811, 22300, 23997, 31541, 25503, 22881, 26688, 27702, 25115, 23255, 30439, 26339, 19593, 29562, 21909, 26535, 20182, 22700, 21092, 23378, 23316, 20577, 25315, 26202, 26085, 21365, 19992, 21454, 23091, 21335, 24894, 23732, 26421, 27455, 26626, 20743, 22952, 24383, 23442, 29167, 29234, 23325, 25401, 19358, 21953, 22389, 22513, 20921, 21723, 23166, 28299, 24405, 21084, 23972, 31217]\n",
      "[14101, 16774, 15309, 15238, 17720, 27589, 14435, 15989, 14661, 20998, 15938, 20953, 19342, 27794, 17419, 16416, 18613, 21433, 17618, 16412, 14849, 23344, 16895, 17888, 14482, 14496, 23579, 25358, 19795, 23400, 15060, 20205, 16270, 14218, 24182, 17041, 17461, 19591, 24535, 23787, 18087, 25880, 15062, 18442, 19829, 21781, 25627, 15456, 21342, 14611, 24564, 14345, 20047, 16132, 19797, 24544, 24577, 16636, 19183, 20468, 18822, 14721, 16068, 18195, 17918, 23997, 31541, 25503, 14907, 16418, 22881, 26688, 27702, 14186, 15268, 17317, 30439, 26339, 19593, 29562, 21909, 26535, 18255, 20182, 22700, 14458, 19134, 23316, 14746, 17112, 17341, 14233, 25315, 26202, 16996, 14805, 18742, 26085, 21365, 14584, 19992, 21454, 17203, 17587, 23091, 21335, 18869, 18924, 24894, 14806, 16293, 23732, 26421, 17241, 18495, 27455, 15328, 15008, 14929, 16020, 22952, 19109, 15119, 15693, 29167, 29234, 15698, 15911, 16159, 17716, 17908, 16073, 15131, 14257, 18831, 22389, 15104, 22513, 18969, 20921, 15872, 23166, 28299, 24405, 15849, 17171, 21084, 23972, 31217]\n",
      "[16774, 23800, 17720, 27589, 19031, 20998, 25231, 20953, 19342, 27794, 17419, 29201, 18613, 21433, 17618, 27017, 23344, 16895, 17888, 23579, 25358, 19795, 23400, 20205, 20698, 28781, 24182, 17041, 17461, 19591, 24535, 23787, 18087, 25880, 20754, 18442, 19829, 21781, 25627, 21125, 21342, 21342, 24564, 20047, 19797, 24544, 24577, 19183, 20468, 18822, 19811, 18195, 17918, 23997, 31541, 25503, 18579, 22881, 26688, 27702, 25115, 17317, 30439, 26339, 19593, 29562, 21909, 26535, 18255, 20182, 22700, 21092, 19134, 23316, 17112, 17341, 20577, 25315, 26202, 16996, 17181, 18742, 26085, 21365, 19992, 21454, 17203, 17587, 23091, 21335, 18869, 18924, 24894, 23732, 26421, 17241, 18495, 27455, 26626, 20743, 22952, 19109, 23442, 29167, 29234, 23325, 25401, 17716, 17908, 17269, 18831, 22389, 22513, 18969, 20921, 21723, 23166, 28299, 24405, 17171, 21084, 23972, 31217]\n",
      "[23800, 25714, 27589, 25231, 27186, 27661, 27794, 29201, 24151, 27017, 28232, 25936, 24402, 25358, 24333, 28781, 24182, 24535, 27868, 25880, 24487, 25627, 24564, 25046, 24544, 24577, 25964, 23997, 31541, 25503, 26688, 27702, 25115, 25413, 30439, 26339, 29562, 30656, 26535, 26158, 24696, 25060, 25315, 26202, 26085, 28686, 24221, 24894, 24935, 26421, 27455, 26626, 27270, 24383, 24668, 29167, 29234, 25401, 26892, 29163, 32219, 24642, 28299, 24405, 25848, 23972, 31217]\n",
      "[10557, 15309, 13879, 15238, 17720, 11635, 14435, 15989, 14661, 20998, 15938, 13432, 13164, 19342, 27794, 10675, 13859, 14077, 11040, 18613, 21433, 17618, 16412, 14849, 23344, 13457, 16895, 17888, 14482, 14496, 23579, 11512, 19795, 23400, 13314, 20205, 16270, 14218, 24182, 12604, 17041, 17461, 19591, 24535, 23787, 18087, 25880, 15062, 18442, 12367, 21781, 25627, 15456, 21342, 11720, 13561, 14611, 24564, 11479, 11008, 20047, 16132, 12228, 24544, 24577, 12984, 19183, 20468, 18822, 13976, 16068, 18195, 17918, 12015, 31541, 11019, 10590, 14907, 16418, 22881, 26688, 10712, 14186, 15268, 12196, 17317, 30439, 13437, 13954, 12728, 13511, 12207, 21909, 26535, 12441, 20182, 22700, 14458, 19134, 23316, 13644, 12646, 14746, 17112, 17341, 14233, 25315, 12722, 16996, 14805, 18742, 26085, 14004, 21365, 11697, 14584, 19992, 21454, 13047, 11637, 13625, 17587, 23091, 21335, 18869, 18924, 24894, 14806, 16293, 13546, 26421, 17241, 18495, 27455, 15328, 15008, 14929, 16020, 22952, 13294, 15119, 15693, 12852, 13364, 29234, 11763, 15698, 15911, 16159, 17716, 17908, 16073, 15131, 14257, 11979, 13559, 22389, 10806, 10799, 12333, 11935, 22513, 18969, 20921, 15872, 13377, 10859, 24405, 15849, 17171, 21084, 23972, 31217]\n",
      "[15309, 17720, 27589, 15989, 19031, 20998, 15938, 20953, 19342, 27794, 17419, 16416, 18613, 21433, 17618, 16412, 27017, 23344, 16895, 17888, 23579, 25358, 19795, 23400, 20205, 16270, 28781, 24182, 17041, 17461, 19591, 24535, 23787, 18087, 25880, 20754, 18442, 19829, 21781, 25627, 15456, 21342, 21342, 24564, 20047, 16132, 19797, 24544, 24577, 16636, 19183, 20468, 18822, 16068, 18195, 17918, 23997, 31541, 25503, 16418, 22881, 26688, 27702, 25115, 17317, 30439, 26339, 19593, 29562, 21909, 26535, 18255, 20182, 22700, 21092, 19134, 23316, 17112, 17341, 20577, 25315, 26202, 16996, 17181, 18742, 26085, 21365, 19992, 21454, 17203, 17587, 23091, 21335, 18869, 18924, 24894, 16293, 23732, 26421, 17241, 18495, 27455, 15328, 16020, 22952, 19109, 15693, 29167, 29234, 15698, 15911, 16159, 17716, 17908, 16073, 17269, 18831, 22389, 22513, 18969, 20921, 15872, 23166, 28299, 24405, 15849, 17171, 21084, 23972, 31217]\n",
      "[25714, 27589, 26033, 27186, 27661, 27794, 29201, 30377, 27017, 28232, 25936, 26289, 28781, 26371, 27868, 25880, 27082, 29103, 27048, 25964, 28654, 31541, 26688, 27702, 30439, 26339, 29562, 30656, 26535, 26158, 29473, 27384, 26202, 26085, 28686, 30037, 26421, 27455, 26626, 27270, 29167, 29234, 26892, 29163, 32219, 28299, 25848, 29700, 31217]\n",
      "[13879, 15238, 17720, 27589, 14435, 15989, 14661, 20998, 15938, 20953, 19342, 27794, 17419, 14077, 18613, 21433, 17618, 16412, 14849, 23344, 16895, 17888, 14482, 14496, 23579, 25358, 19795, 23400, 15060, 20205, 16270, 14218, 24182, 17041, 17461, 19591, 24535, 23787, 18087, 25880, 15062, 18442, 19829, 21781, 25627, 15456, 21342, 14611, 24564, 13922, 14345, 20047, 16132, 19797, 24544, 24577, 16636, 19183, 20468, 18822, 13976, 16068, 18195, 17918, 23997, 31541, 25503, 14907, 16418, 22881, 26688, 27702, 14186, 15268, 17317, 30439, 13954, 19593, 29562, 21909, 26535, 18255, 20182, 22700, 14458, 19134, 23316, 14746, 17112, 17341, 14233, 25315, 26202, 16996, 14805, 18742, 26085, 14004, 21365, 14584, 19992, 21454, 17203, 17587, 23091, 21335, 18869, 18924, 24894, 14806, 16293, 23732, 26421, 17241, 18495, 27455, 15328, 15008, 14929, 16020, 22952, 19109, 15119, 15693, 29167, 29234, 15698, 15911, 16159, 17716, 17908, 16073, 15131, 14257, 18831, 22389, 15104, 22513, 18969, 20921, 15872, 23166, 28299, 24405, 15849, 17171, 21084, 23972, 31217]\n",
      "[22455, 27589, 25231, 27186, 27661, 27794, 29201, 22616, 27017, 23344, 25936, 23579, 25358, 23400, 28781, 24182, 24535, 23787, 25880, 22921, 25627, 24564, 25046, 24544, 24577, 25964, 23997, 31541, 25503, 22881, 26688, 27702, 25115, 23255, 30439, 26339, 29562, 30656, 26535, 22700, 23378, 23316, 25060, 25315, 26202, 26085, 28686, 23091, 24221, 24894, 23732, 26421, 27455, 26626, 27270, 22952, 24383, 23442, 29167, 29234, 23325, 25401, 26892, 29163, 22513, 23166, 28299, 24405, 25848, 23972, 31217]\n",
      "[251, 9557, 1058, 2548, 5633, 894, 3359, 2143, 1099, 2417, 14435, 15989, 14661, 20998, 15938, 2518, 13164, 19342, 27794, 3599, 2291, 5973, 7387, 14077, 11040, 18613, 21433, 17618, 8900, 3966, 1939, 14849, 23344, 6645, 3121, 17888, 14482, 14496, 8913, 6010, 9528, 2477, 7108, 23400, 6597, 7942, 1090, 16270, 8948, 299, 24182, 1351, 7610, 8937, 17461, 5470, 24535, 2840, 8151, 8420, 1409, 1634, 4808, 18087, 25880, 15062, 18442, 6293, 8730, 787, 21781, 25627, 5484, 21342, 1475, 11720, 6615, 10256, 14611, 2057, 1240, 11479, 746, 7289, 7098, 4226, 8083, 7414, 10169, 12228, 5570, 7094, 24577, 2355, 12984, 19183, 20468, 18822, 6212, 8547, 414, 13976, 7899, 10398, 17918, 12015, 3622, 6160, 11019, 5355, 14907, 16418, 5838, 8010, 10712, 2186, 10351, 15268, 1064, 12196, 3833, 397, 13437, 6316, 4475, 12728, 13511, 3730, 4645, 1437, 10501, 12207, 21909, 26535, 9786, 10447, 2778, 6403, 6470, 22700, 2890, 19134, 5542, 23316, 13644, 7655, 12646, 14746, 17112, 9374, 1445, 25315, 12722, 16996, 14805, 18742, 26085, 14004, 2768, 4425, 1270, 14584, 19992, 21454, 9440, 557, 11637, 875, 7934, 13625, 17587, 23091, 4240, 21335, 18869, 6914, 1390, 5261, 5340, 14806, 16293, 5119, 13546, 5342, 17241, 18495, 27455, 15328, 1371, 3260, 3758, 3387, 2575, 3576, 22952, 5811, 7491, 3123, 15119, 15693, 7073, 12852, 6911, 9835, 29234, 7650, 8462, 15698, 15911, 16159, 5527, 10094, 10290, 6781, 8802, 8885, 17716, 17908, 9369, 5582, 8877, 8697, 6155, 6398, 5337, 6061, 13559, 22389, 10806, 10799, 12333, 2964, 357, 1875, 9453, 11935, 22513, 18969, 20921, 9507, 15872, 817, 13377, 10859, 9222, 15849, 6563, 9910, 3386, 23972, 5979]\n",
      "[9557, 10436, 17720, 11635, 14435, 15989, 14661, 20998, 15938, 13432, 13164, 19342, 27794, 10675, 9642, 13859, 14077, 11040, 18613, 21433, 17618, 16412, 14849, 23344, 13457, 16895, 17888, 14482, 14496, 10353, 11512, 19795, 23400, 10099, 9746, 20205, 16270, 14218, 24182, 12604, 17041, 17461, 19591, 24535, 23787, 18087, 25880, 15062, 18442, 12367, 21781, 25627, 15456, 21342, 11720, 13561, 10256, 14611, 24564, 11479, 11008, 20047, 10169, 12228, 24544, 24577, 12984, 19183, 20468, 18822, 13976, 16068, 10398, 17918, 12015, 31541, 11019, 10590, 14907, 16418, 22881, 10029, 10712, 10351, 15268, 12196, 17317, 30439, 13437, 13954, 12728, 13511, 10501, 12207, 21909, 26535, 9786, 10447, 20182, 22700, 14458, 19134, 23316, 13644, 12646, 14746, 17112, 17341, 14233, 25315, 12722, 16996, 14805, 18742, 26085, 14004, 21365, 11697, 14584, 19992, 21454, 13047, 11637, 9688, 13625, 17587, 23091, 21335, 18869, 18924, 24894, 14806, 16293, 13546, 26421, 17241, 18495, 27455, 15328, 15008, 14929, 16020, 22952, 13294, 15119, 15693, 12852, 9835, 29234, 11763, 15698, 15911, 16159, 10094, 10290, 17716, 17908, 16073, 10308, 14257, 9964, 11979, 13559, 22389, 10806, 10799, 12333, 11935, 22513, 18969, 20921, 15872, 13377, 10859, 24405, 15849, 17171, 9910, 23972, 31217]\n",
      "[15238, 17720, 27589, 15989, 19031, 20998, 15938, 20953, 19342, 27794, 17419, 16416, 18613, 21433, 17618, 16412, 27017, 23344, 16895, 17888, 23579, 25358, 19795, 23400, 20205, 16270, 28781, 24182, 17041, 17461, 19591, 24535, 23787, 18087, 25880, 20754, 18442, 19829, 21781, 25627, 15456, 21342, 21342, 24564, 20047, 16132, 19797, 24544, 24577, 16636, 19183, 20468, 18822, 16068, 18195, 17918, 23997, 31541, 25503, 16418, 22881, 26688, 27702, 15268, 17317, 30439, 26339, 19593, 29562, 21909, 26535, 18255, 20182, 22700, 21092, 19134, 23316, 17112, 17341, 20577, 25315, 26202, 16996, 17181, 18742, 26085, 21365, 19992, 21454, 17203, 17587, 23091, 21335, 18869, 18924, 24894, 16293, 23732, 26421, 17241, 18495, 27455, 15328, 16020, 22952, 19109, 15693, 29167, 29234, 15698, 15911, 16159, 17716, 17908, 16073, 17269, 18831, 22389, 22513, 18969, 20921, 15872, 23166, 28299, 24405, 15849, 17171, 21084, 23972, 31217]\n",
      "[1058, 2548, 5633, 9216, 3359, 2143, 1099, 2417, 14435, 15989, 14661, 20998, 15938, 2518, 13164, 19342, 27794, 3599, 2291, 5973, 7387, 14077, 11040, 18613, 21433, 17618, 8900, 3966, 1939, 14849, 23344, 6645, 3121, 17888, 14482, 14496, 8913, 6010, 9528, 2477, 7108, 23400, 6597, 7942, 1090, 16270, 8948, 24182, 1351, 7610, 8937, 17461, 5470, 24535, 2840, 8151, 8420, 1409, 1634, 4808, 18087, 25880, 15062, 18442, 6293, 8730, 12367, 21781, 25627, 5484, 21342, 1475, 11720, 6615, 10256, 14611, 2057, 1240, 11479, 8421, 7289, 7098, 4226, 8083, 7414, 10169, 12228, 5570, 7094, 24577, 2355, 12984, 19183, 20468, 18822, 6212, 8547, 1807, 13976, 7899, 10398, 17918, 12015, 3622, 6160, 11019, 5355, 14907, 16418, 5838, 8010, 10712, 2186, 10351, 15268, 1064, 12196, 3833, 30439, 13437, 6316, 4475, 12728, 13511, 3730, 4645, 1437, 10501, 12207, 21909, 26535, 9786, 10447, 2778, 6403, 6470, 22700, 2890, 19134, 5542, 23316, 13644, 7655, 12646, 14746, 17112, 9374, 1445, 25315, 12722, 16996, 14805, 18742, 26085, 14004, 2768, 4425, 1270, 14584, 19992, 21454, 9440, 7426, 11637, 7934, 13625, 17587, 23091, 4240, 21335, 18869, 6914, 1390, 5261, 5340, 14806, 16293, 5119, 13546, 5342, 17241, 18495, 27455, 15328, 1371, 3260, 3758, 3387, 2575, 3576, 22952, 5811, 7491, 3123, 15119, 15693, 7073, 12852, 6911, 9835, 29234, 7650, 8462, 15698, 15911, 16159, 5527, 10094, 10290, 6781, 8802, 8885, 17716, 17908, 9369, 5582, 8877, 8697, 6155, 6398, 5337, 6061, 13559, 22389, 10806, 10799, 12333, 2964, 1875, 9453, 11935, 22513, 18969, 20921, 9507, 15872, 13377, 10859, 9222, 15849, 6563, 9910, 3386, 23972, 5979]\n",
      "[2548, 5633, 9216, 3359, 17720, 3443, 14435, 15989, 14661, 20998, 15938, 13432, 13164, 19342, 27794, 3599, 6199, 5973, 7387, 14077, 11040, 18613, 21433, 17618, 8900, 3966, 14849, 23344, 6645, 3121, 17888, 14482, 14496, 8913, 6010, 9528, 4966, 7108, 23400, 6597, 7942, 5728, 16270, 8948, 24182, 5981, 7610, 8937, 17461, 5470, 24535, 2840, 8151, 8420, 9164, 4808, 18087, 25880, 15062, 18442, 6293, 8730, 12367, 21781, 25627, 5484, 21342, 11720, 6615, 10256, 14611, 24564, 11479, 8421, 7289, 7098, 4226, 8083, 7414, 10169, 12228, 5570, 7094, 24577, 12984, 19183, 20468, 18822, 6212, 8547, 13976, 7899, 10398, 17918, 12015, 3622, 6160, 11019, 5355, 14907, 16418, 5838, 8010, 10712, 10351, 15268, 5515, 12196, 3833, 30439, 13437, 6316, 4475, 12728, 13511, 3730, 4645, 8101, 10501, 12207, 21909, 26535, 9786, 10447, 2778, 6403, 6470, 22700, 2890, 19134, 5542, 23316, 13644, 7655, 12646, 14746, 17112, 9374, 9366, 25315, 12722, 16996, 14805, 18742, 26085, 14004, 2768, 4425, 9015, 14584, 19992, 21454, 9440, 7426, 11637, 7934, 13625, 17587, 23091, 4240, 21335, 18869, 6914, 5637, 5261, 5340, 14806, 16293, 5119, 13546, 5342, 17241, 18495, 27455, 15328, 7554, 3260, 3758, 3387, 2575, 3576, 22952, 5811, 7491, 3123, 15119, 15693, 7073, 12852, 6911, 9835, 29234, 7650, 8462, 15698, 15911, 16159, 5527, 10094, 10290, 6781, 8802, 8885, 17716, 17908, 9369, 5582, 8877, 8697, 6155, 6398, 5337, 6061, 13559, 22389, 10806, 10799, 12333, 2964, 9453, 11935, 22513, 18969, 20921, 9507, 15872, 13377, 10859, 9222, 15849, 6563, 9910, 3386, 23972, 5979]\n",
      "[5633, 9216, 10436, 17720, 11635, 14435, 15989, 14661, 20998, 15938, 13432, 13164, 19342, 27794, 7432, 6199, 5973, 7387, 14077, 11040, 18613, 21433, 17618, 8900, 16412, 14849, 23344, 6645, 16895, 17888, 14482, 14496, 8913, 6010, 9528, 7108, 23400, 6597, 7942, 5728, 16270, 8948, 24182, 5981, 7610, 8937, 17461, 19591, 24535, 23787, 8151, 8420, 9164, 18087, 25880, 15062, 18442, 6293, 8730, 12367, 21781, 25627, 15456, 21342, 11720, 6615, 10256, 14611, 24564, 11479, 8421, 7289, 7098, 8083, 7414, 10169, 12228, 24544, 7094, 24577, 12984, 19183, 20468, 18822, 6212, 8547, 13976, 7899, 10398, 17918, 12015, 6160, 11019, 10590, 14907, 16418, 5838, 8010, 10712, 10351, 15268, 12196, 17317, 30439, 13437, 6316, 12728, 13511, 8101, 10501, 12207, 21909, 26535, 9786, 10447, 20182, 6403, 6470, 22700, 14458, 19134, 5751, 23316, 13644, 7655, 12646, 14746, 17112, 9374, 9366, 25315, 12722, 16996, 14805, 18742, 26085, 14004, 21365, 9015, 14584, 19992, 21454, 9440, 7426, 11637, 7934, 13625, 17587, 23091, 21335, 18869, 6914, 5637, 14806, 16293, 13546, 26421, 17241, 18495, 27455, 15328, 7554, 14929, 6917, 22952, 5811, 7491, 7567, 15119, 15693, 7073, 12852, 6911, 9835, 29234, 7650, 8462, 15698, 15911, 16159, 10094, 10290, 6781, 8802, 8885, 17716, 17908, 9369, 6062, 8877, 8697, 6155, 6398, 6061, 13559, 22389, 10806, 10799, 12333, 9453, 11935, 22513, 18969, 20921, 9507, 15872, 13377, 10859, 9222, 15849, 6563, 9910, 23972, 5979]\n",
      "[9216, 10436, 17720, 11635, 14435, 15989, 14661, 20998, 15938, 13432, 13164, 19342, 27794, 10675, 9642, 13859, 14077, 11040, 18613, 21433, 17618, 16412, 14849, 23344, 13457, 16895, 17888, 14482, 14496, 10353, 9528, 19795, 23400, 10099, 9746, 20205, 16270, 14218, 24182, 12604, 17041, 17461, 19591, 24535, 23787, 9468, 18087, 25880, 15062, 18442, 12367, 21781, 25627, 15456, 21342, 11720, 13561, 10256, 14611, 24564, 11479, 11008, 20047, 10169, 12228, 24544, 24577, 12984, 19183, 20468, 18822, 13976, 16068, 10398, 17918, 12015, 31541, 11019, 10590, 14907, 16418, 22881, 10029, 10712, 10351, 15268, 12196, 17317, 30439, 13437, 13954, 12728, 13511, 10501, 12207, 21909, 26535, 9786, 10447, 20182, 22700, 14458, 19134, 23316, 13644, 12646, 14746, 17112, 9374, 9366, 25315, 12722, 16996, 14805, 18742, 26085, 14004, 21365, 11697, 14584, 19992, 21454, 9440, 11637, 9688, 13625, 17587, 23091, 21335, 18869, 18924, 24894, 14806, 16293, 13546, 26421, 17241, 18495, 27455, 15328, 15008, 14929, 16020, 22952, 13294, 15119, 15693, 12852, 9835, 29234, 11763, 15698, 15911, 16159, 10094, 10290, 17716, 17908, 9369, 16073, 10308, 14257, 9964, 11979, 13559, 22389, 10806, 10799, 12333, 9453, 11935, 22513, 18969, 20921, 9507, 15872, 13377, 10859, 9222, 15849, 17171, 9910, 23972, 31217]\n",
      "[894, 3359, 2143, 1099, 2417, 14435, 15989, 14661, 20998, 15938, 2518, 13164, 19342, 27794, 3599, 2291, 5973, 7387, 14077, 11040, 18613, 21433, 17618, 8900, 3966, 1939, 14849, 23344, 6645, 3121, 17888, 14482, 14496, 8913, 6010, 9528, 2477, 7108, 23400, 6597, 7942, 1090, 16270, 8948, 24182, 1351, 7610, 8937, 17461, 5470, 24535, 2840, 8151, 8420, 1409, 1634, 4808, 18087, 25880, 15062, 18442, 6293, 8730, 12367, 21781, 25627, 5484, 21342, 1475, 11720, 6615, 10256, 14611, 2057, 1240, 11479, 8421, 7289, 7098, 4226, 8083, 7414, 10169, 12228, 5570, 7094, 24577, 2355, 12984, 19183, 20468, 18822, 6212, 8547, 1807, 13976, 7899, 10398, 17918, 12015, 3622, 6160, 11019, 5355, 14907, 16418, 5838, 8010, 10712, 2186, 10351, 15268, 1064, 12196, 3833, 30439, 13437, 6316, 4475, 12728, 13511, 3730, 4645, 1437, 10501, 12207, 21909, 26535, 9786, 10447, 2778, 6403, 6470, 22700, 2890, 19134, 5542, 23316, 13644, 7655, 12646, 14746, 17112, 9374, 1445, 25315, 12722, 16996, 14805, 18742, 26085, 14004, 2768, 4425, 1270, 14584, 19992, 21454, 9440, 7426, 11637, 7934, 13625, 17587, 23091, 4240, 21335, 18869, 6914, 1390, 5261, 5340, 14806, 16293, 5119, 13546, 5342, 17241, 18495, 27455, 15328, 1371, 3260, 3758, 3387, 2575, 3576, 22952, 5811, 7491, 3123, 15119, 15693, 7073, 12852, 6911, 9835, 29234, 7650, 8462, 15698, 15911, 16159, 5527, 10094, 10290, 6781, 8802, 8885, 17716, 17908, 9369, 5582, 8877, 8697, 6155, 6398, 5337, 6061, 13559, 22389, 10806, 10799, 12333, 2964, 1875, 9453, 11935, 22513, 18969, 20921, 9507, 15872, 13377, 10859, 9222, 15849, 6563, 9910, 3386, 23972, 5979]\n",
      "[10436, 17720, 11635, 14435, 15989, 14661, 20998, 15938, 13432, 13164, 19342, 27794, 10675, 13859, 14077, 11040, 18613, 21433, 17618, 16412, 14849, 23344, 13457, 16895, 17888, 14482, 14496, 23579, 11512, 19795, 23400, 13314, 20205, 16270, 14218, 24182, 12604, 17041, 17461, 19591, 24535, 23787, 18087, 25880, 15062, 18442, 12367, 21781, 25627, 15456, 21342, 11720, 13561, 14611, 24564, 11479, 11008, 20047, 16132, 12228, 24544, 24577, 12984, 19183, 20468, 18822, 13976, 16068, 18195, 17918, 12015, 31541, 11019, 10590, 14907, 16418, 22881, 26688, 10712, 14186, 15268, 12196, 17317, 30439, 13437, 13954, 12728, 13511, 10501, 12207, 21909, 26535, 10447, 20182, 22700, 14458, 19134, 23316, 13644, 12646, 14746, 17112, 17341, 14233, 25315, 12722, 16996, 14805, 18742, 26085, 14004, 21365, 11697, 14584, 19992, 21454, 13047, 11637, 13625, 17587, 23091, 21335, 18869, 18924, 24894, 14806, 16293, 13546, 26421, 17241, 18495, 27455, 15328, 15008, 14929, 16020, 22952, 13294, 15119, 15693, 12852, 13364, 29234, 11763, 15698, 15911, 16159, 17716, 17908, 16073, 15131, 14257, 11979, 13559, 22389, 10806, 10799, 12333, 11935, 22513, 18969, 20921, 15872, 13377, 10859, 24405, 15849, 17171, 21084, 23972, 31217]\n",
      "[3359, 17720, 3443, 14435, 15989, 14661, 20998, 15938, 13432, 13164, 19342, 27794, 3599, 6199, 5973, 7387, 14077, 11040, 18613, 21433, 17618, 8900, 3966, 14849, 23344, 6645, 16895, 17888, 14482, 14496, 8913, 6010, 9528, 4966, 7108, 23400, 6597, 7942, 5728, 16270, 8948, 24182, 5981, 7610, 8937, 17461, 5470, 24535, 23787, 8151, 8420, 9164, 4808, 18087, 25880, 15062, 18442, 6293, 8730, 12367, 21781, 25627, 5484, 21342, 11720, 6615, 10256, 14611, 24564, 11479, 8421, 7289, 7098, 4226, 8083, 7414, 10169, 12228, 5570, 7094, 24577, 12984, 19183, 20468, 18822, 6212, 8547, 13976, 7899, 10398, 17918, 12015, 3622, 6160, 11019, 5355, 14907, 16418, 5838, 8010, 10712, 10351, 15268, 5515, 12196, 3833, 30439, 13437, 6316, 4475, 12728, 13511, 3730, 4645, 8101, 10501, 12207, 21909, 26535, 9786, 10447, 20182, 6403, 6470, 22700, 14458, 19134, 5542, 23316, 13644, 7655, 12646, 14746, 17112, 9374, 9366, 25315, 12722, 16996, 14805, 18742, 26085, 14004, 21365, 4425, 9015, 14584, 19992, 21454, 9440, 7426, 11637, 7934, 13625, 17587, 23091, 4240, 21335, 18869, 6914, 5637, 5261, 5340, 14806, 16293, 5119, 13546, 5342, 17241, 18495, 27455, 15328, 7554, 14929, 3758, 3387, 3576, 22952, 5811, 7491, 7567, 15119, 15693, 7073, 12852, 6911, 9835, 29234, 7650, 8462, 15698, 15911, 16159, 5527, 10094, 10290, 6781, 8802, 8885, 17716, 17908, 9369, 5582, 8877, 8697, 6155, 6398, 5337, 6061, 13559, 22389, 10806, 10799, 12333, 9453, 11935, 22513, 18969, 20921, 9507, 15872, 13377, 10859, 9222, 15849, 6563, 9910, 3386, 23972, 5979]\n",
      "[17720, 27589, 19031, 20998, 25231, 20953, 19342, 27794, 29201, 18613, 21433, 27017, 23344, 17888, 23579, 25358, 19795, 23400, 20205, 20698, 28781, 24182, 19591, 24535, 23787, 18087, 25880, 20754, 18442, 19829, 21781, 25627, 21125, 21342, 21342, 24564, 20047, 19797, 24544, 24577, 19183, 20468, 18822, 19811, 18195, 17918, 23997, 31541, 25503, 18579, 22881, 26688, 27702, 25115, 23255, 30439, 26339, 19593, 29562, 21909, 26535, 18255, 20182, 22700, 21092, 19134, 23316, 20577, 25315, 26202, 18742, 26085, 21365, 19992, 21454, 23091, 21335, 18869, 18924, 24894, 23732, 26421, 18495, 27455, 26626, 20743, 22952, 19109, 23442, 29167, 29234, 23325, 25401, 17908, 18831, 22389, 22513, 18969, 20921, 21723, 23166, 28299, 24405, 21084, 23972, 31217]\n",
      "[2143, 2417, 14435, 15989, 14661, 20998, 15938, 2518, 13164, 19342, 27794, 3599, 2291, 5973, 7387, 14077, 11040, 18613, 21433, 17618, 8900, 3966, 14849, 23344, 6645, 3121, 17888, 14482, 14496, 8913, 6010, 9528, 2477, 7108, 23400, 6597, 7942, 5728, 16270, 8948, 24182, 5981, 7610, 8937, 17461, 5470, 24535, 2840, 8151, 8420, 9164, 4808, 18087, 25880, 15062, 18442, 6293, 8730, 12367, 21781, 25627, 5484, 21342, 11720, 6615, 10256, 14611, 24564, 11479, 8421, 7289, 7098, 4226, 8083, 7414, 10169, 12228, 5570, 7094, 24577, 2355, 12984, 19183, 20468, 18822, 6212, 8547, 13976, 7899, 10398, 17918, 12015, 3622, 6160, 11019, 5355, 14907, 16418, 5838, 8010, 10712, 2186, 10351, 15268, 5515, 12196, 3833, 30439, 13437, 6316, 4475, 12728, 13511, 3730, 4645, 8101, 10501, 12207, 21909, 26535, 9786, 10447, 2778, 6403, 6470, 22700, 2890, 19134, 5542, 23316, 13644, 7655, 12646, 14746, 17112, 9374, 9366, 25315, 12722, 16996, 14805, 18742, 26085, 14004, 2768, 4425, 9015, 14584, 19992, 21454, 9440, 7426, 11637, 7934, 13625, 17587, 23091, 4240, 21335, 18869, 6914, 5637, 5261, 5340, 14806, 16293, 5119, 13546, 5342, 17241, 18495, 27455, 15328, 7554, 3260, 3758, 3387, 2575, 3576, 22952, 5811, 7491, 3123, 15119, 15693, 7073, 12852, 6911, 9835, 29234, 7650, 8462, 15698, 15911, 16159, 5527, 10094, 10290, 6781, 8802, 8885, 17716, 17908, 9369, 5582, 8877, 8697, 6155, 6398, 5337, 6061, 13559, 22389, 10806, 10799, 12333, 2964, 9453, 11935, 22513, 18969, 20921, 9507, 15872, 13377, 10859, 9222, 15849, 6563, 9910, 3386, 23972, 5979]\n",
      "[27589, 27661, 27794, 29201, 30377, 27976, 28232, 29164, 29297, 28781, 27868, 29104, 29103, 31312, 28654, 31541, 27702, 30439, 31159, 29562, 30656, 30391, 29473, 28604, 28064, 28686, 30037, 27655, 30118, 29167, 29234, 29163, 32219, 28299, 29700, 31217]\n",
      "[11635, 14435, 15989, 14661, 20998, 15938, 13432, 13164, 19342, 27794, 17419, 13859, 14077, 18613, 21433, 17618, 16412, 14849, 23344, 13457, 16895, 17888, 14482, 14496, 23579, 25358, 19795, 23400, 13314, 20205, 16270, 14218, 24182, 12604, 17041, 17461, 19591, 24535, 23787, 18087, 25880, 15062, 18442, 12367, 21781, 25627, 15456, 21342, 11720, 13561, 14611, 24564, 13922, 14345, 20047, 16132, 12228, 24544, 24577, 12984, 19183, 20468, 18822, 13976, 16068, 18195, 17918, 12015, 31541, 25503, 14907, 16418, 22881, 26688, 27702, 14186, 15268, 12196, 17317, 30439, 13437, 13954, 12728, 13511, 12207, 21909, 26535, 12441, 20182, 22700, 14458, 19134, 23316, 13644, 12646, 14746, 17112, 17341, 14233, 25315, 12722, 16996, 14805, 18742, 26085, 14004, 21365, 11697, 14584, 19992, 21454, 13047, 11637, 13625, 17587, 23091, 21335, 18869, 18924, 24894, 14806, 16293, 13546, 26421, 17241, 18495, 27455, 15328, 15008, 14929, 16020, 22952, 13294, 15119, 15693, 12852, 13364, 29234, 11763, 15698, 15911, 16159, 17716, 17908, 16073, 15131, 14257, 11979, 13559, 22389, 12333, 11935, 22513, 18969, 20921, 15872, 13377, 28299, 24405, 15849, 17171, 21084, 23972, 31217]\n",
      "[3443, 14435, 15989, 14661, 20998, 15938, 13432, 13164, 19342, 27794, 3599, 6199, 5973, 7387, 14077, 11040, 18613, 21433, 17618, 8900, 3966, 14849, 23344, 6645, 16895, 17888, 14482, 14496, 8913, 6010, 9528, 4966, 7108, 23400, 6597, 7942, 5728, 16270, 8948, 24182, 5981, 7610, 8937, 17461, 5470, 24535, 23787, 8151, 8420, 9164, 4808, 18087, 25880, 15062, 18442, 6293, 8730, 12367, 21781, 25627, 5484, 21342, 11720, 6615, 10256, 14611, 24564, 11479, 8421, 7289, 7098, 4226, 8083, 7414, 10169, 12228, 5570, 7094, 24577, 12984, 19183, 20468, 18822, 6212, 8547, 13976, 7899, 10398, 17918, 12015, 3622, 6160, 11019, 5355, 14907, 16418, 5838, 8010, 10712, 10351, 15268, 5515, 12196, 3833, 30439, 13437, 6316, 4475, 12728, 13511, 3730, 4645, 8101, 10501, 12207, 21909, 26535, 9786, 10447, 20182, 6403, 6470, 22700, 14458, 19134, 5542, 23316, 13644, 7655, 12646, 14746, 17112, 9374, 9366, 25315, 12722, 16996, 14805, 18742, 26085, 14004, 21365, 4425, 9015, 14584, 19992, 21454, 9440, 7426, 11637, 7934, 13625, 17587, 23091, 4240, 21335, 18869, 6914, 5637, 5261, 5340, 14806, 16293, 5119, 13546, 5342, 17241, 18495, 27455, 15328, 7554, 14929, 3758, 6917, 3576, 22952, 5811, 7491, 7567, 15119, 15693, 7073, 12852, 6911, 9835, 29234, 7650, 8462, 15698, 15911, 16159, 5527, 10094, 10290, 6781, 8802, 8885, 17716, 17908, 9369, 5582, 8877, 8697, 6155, 6398, 5337, 6061, 13559, 22389, 10806, 10799, 12333, 9453, 11935, 22513, 18969, 20921, 9507, 15872, 13377, 10859, 9222, 15849, 6563, 9910, 23972, 5979]\n",
      "[1099, 2417, 14435, 15989, 14661, 20998, 15938, 2518, 13164, 19342, 27794, 3599, 2291, 5973, 7387, 14077, 11040, 18613, 21433, 17618, 8900, 3966, 1939, 14849, 23344, 6645, 3121, 17888, 14482, 14496, 8913, 6010, 9528, 2477, 7108, 23400, 6597, 7942, 5728, 16270, 8948, 24182, 1351, 7610, 8937, 17461, 5470, 24535, 2840, 8151, 8420, 1409, 1634, 4808, 18087, 25880, 15062, 18442, 6293, 8730, 12367, 21781, 25627, 5484, 21342, 1475, 11720, 6615, 10256, 14611, 2057, 1240, 11479, 8421, 7289, 7098, 4226, 8083, 7414, 10169, 12228, 5570, 7094, 24577, 2355, 12984, 19183, 20468, 18822, 6212, 8547, 1807, 13976, 7899, 10398, 17918, 12015, 3622, 6160, 11019, 5355, 14907, 16418, 5838, 8010, 10712, 2186, 10351, 15268, 5515, 12196, 3833, 30439, 13437, 6316, 4475, 12728, 13511, 3730, 4645, 1437, 10501, 12207, 21909, 26535, 9786, 10447, 2778, 6403, 6470, 22700, 2890, 19134, 5542, 23316, 13644, 7655, 12646, 14746, 17112, 9374, 1445, 25315, 12722, 16996, 14805, 18742, 26085, 14004, 2768, 4425, 1270, 14584, 19992, 21454, 9440, 7426, 11637, 7934, 13625, 17587, 23091, 4240, 21335, 18869, 6914, 1390, 5261, 5340, 14806, 16293, 5119, 13546, 5342, 17241, 18495, 27455, 15328, 1371, 3260, 3758, 3387, 2575, 3576, 22952, 5811, 7491, 3123, 15119, 15693, 7073, 12852, 6911, 9835, 29234, 7650, 8462, 15698, 15911, 16159, 5527, 10094, 10290, 6781, 8802, 8885, 17716, 17908, 9369, 5582, 8877, 8697, 6155, 6398, 5337, 6061, 13559, 22389, 10806, 10799, 12333, 2964, 1875, 9453, 11935, 22513, 18969, 20921, 9507, 15872, 13377, 10859, 9222, 15849, 6563, 9910, 3386, 23972, 5979]\n",
      "[2417, 14435, 15989, 14661, 20998, 15938, 2518, 13164, 19342, 27794, 3599, 6199, 5973, 7387, 14077, 11040, 18613, 21433, 17618, 8900, 3966, 14849, 23344, 6645, 3121, 17888, 14482, 14496, 8913, 6010, 9528, 2477, 7108, 23400, 6597, 7942, 5728, 16270, 8948, 24182, 5981, 7610, 8937, 17461, 5470, 24535, 2840, 8151, 8420, 9164, 4808, 18087, 25880, 15062, 18442, 6293, 8730, 12367, 21781, 25627, 5484, 21342, 11720, 6615, 10256, 14611, 24564, 11479, 8421, 7289, 7098, 4226, 8083, 7414, 10169, 12228, 5570, 7094, 24577, 12984, 19183, 20468, 18822, 6212, 8547, 13976, 7899, 10398, 17918, 12015, 3622, 6160, 11019, 5355, 14907, 16418, 5838, 8010, 10712, 10351, 15268, 5515, 12196, 3833, 30439, 13437, 6316, 4475, 12728, 13511, 3730, 4645, 8101, 10501, 12207, 21909, 26535, 9786, 10447, 2778, 6403, 6470, 22700, 2890, 19134, 5542, 23316, 13644, 7655, 12646, 14746, 17112, 9374, 9366, 25315, 12722, 16996, 14805, 18742, 26085, 14004, 2768, 4425, 9015, 14584, 19992, 21454, 9440, 7426, 11637, 7934, 13625, 17587, 23091, 4240, 21335, 18869, 6914, 5637, 5261, 5340, 14806, 16293, 5119, 13546, 5342, 17241, 18495, 27455, 15328, 7554, 3260, 3758, 3387, 2575, 3576, 22952, 5811, 7491, 3123, 15119, 15693, 7073, 12852, 6911, 9835, 29234, 7650, 8462, 15698, 15911, 16159, 5527, 10094, 10290, 6781, 8802, 8885, 17716, 17908, 9369, 5582, 8877, 8697, 6155, 6398, 5337, 6061, 13559, 22389, 10806, 10799, 12333, 2964, 9453, 11935, 22513, 18969, 20921, 9507, 15872, 13377, 10859, 9222, 15849, 6563, 9910, 3386, 23972, 5979]\n",
      "[29282, 30377, 29297, 29863, 30395, 31312, 31541, 30439, 31159, 29562, 30656, 30391, 29473, 31379, 29334, 30037, 29495, 30118, 30621, 29498, 32219, 29700, 31217]\n",
      "[28180, 29201, 30377, 28232, 29164, 29297, 28781, 29863, 29104, 29103, 31312, 28654, 31541, 28700, 30439, 31159, 29562, 30656, 30391, 29473, 28604, 31379, 28686, 30037, 29495, 30118, 29167, 29234, 29163, 32219, 28299, 29700, 31217]\n",
      "[14435, 15989, 14661, 20998, 15938, 20953, 19342, 27794, 17419, 16416, 18613, 21433, 17618, 16412, 14849, 23344, 16895, 17888, 14482, 14496, 23579, 25358, 19795, 23400, 15060, 20205, 16270, 28781, 24182, 17041, 17461, 19591, 24535, 23787, 18087, 25880, 15062, 18442, 19829, 21781, 25627, 15456, 21342, 14611, 24564, 20047, 16132, 19797, 24544, 24577, 16636, 19183, 20468, 18822, 14721, 16068, 18195, 17918, 23997, 31541, 25503, 14907, 16418, 22881, 26688, 27702, 15268, 17317, 30439, 26339, 19593, 29562, 21909, 26535, 18255, 20182, 22700, 14458, 19134, 23316, 14746, 17112, 17341, 20577, 25315, 26202, 16996, 14805, 18742, 26085, 21365, 14584, 19992, 21454, 17203, 17587, 23091, 21335, 18869, 18924, 24894, 14806, 16293, 23732, 26421, 17241, 18495, 27455, 15328, 15008, 14929, 16020, 22952, 19109, 15119, 15693, 29167, 29234, 15698, 15911, 16159, 17716, 17908, 16073, 15131, 18831, 22389, 15104, 22513, 18969, 20921, 15872, 23166, 28299, 24405, 15849, 17171, 21084, 23972, 31217]\n",
      "[15989, 19031, 20998, 25231, 20953, 19342, 27794, 17419, 16416, 18613, 21433, 17618, 16412, 27017, 23344, 16895, 17888, 23579, 25358, 19795, 23400, 20205, 16270, 28781, 24182, 17041, 17461, 19591, 24535, 23787, 18087, 25880, 20754, 18442, 19829, 21781, 25627, 21125, 21342, 21342, 24564, 20047, 16132, 19797, 24544, 24577, 16636, 19183, 20468, 18822, 16068, 18195, 17918, 23997, 31541, 25503, 16418, 22881, 26688, 27702, 25115, 17317, 30439, 26339, 19593, 29562, 21909, 26535, 18255, 20182, 22700, 21092, 19134, 23316, 17112, 17341, 20577, 25315, 26202, 16996, 17181, 18742, 26085, 21365, 19992, 21454, 17203, 17587, 23091, 21335, 18869, 18924, 24894, 16293, 23732, 26421, 17241, 18495, 27455, 26626, 16020, 22952, 19109, 16555, 29167, 29234, 23325, 16159, 17716, 17908, 16073, 17269, 18831, 22389, 22513, 18969, 20921, 21723, 23166, 28299, 24405, 17171, 21084, 23972, 31217]\n",
      "[26033, 27186, 27661, 27794, 29201, 30377, 27017, 28232, 29164, 26289, 28781, 26371, 27868, 27082, 29103, 27048, 28654, 31541, 26688, 27702, 30439, 26339, 29562, 30656, 26535, 26158, 29473, 27384, 26202, 26085, 28686, 30037, 26421, 27455, 26626, 27270, 29167, 29234, 26892, 29163, 32219, 28299, 29700, 31217]\n",
      "[19031, 20998, 25231, 20953, 19342, 27794, 29201, 21433, 27017, 23344, 25936, 23579, 25358, 19795, 23400, 20205, 20698, 28781, 24182, 19591, 24535, 23787, 25880, 20754, 19829, 21781, 25627, 21125, 21342, 21342, 24564, 20047, 19797, 24544, 24577, 19183, 20468, 19811, 22300, 23997, 31541, 25503, 22881, 26688, 27702, 25115, 23255, 30439, 26339, 19593, 29562, 21909, 26535, 20182, 22700, 21092, 19134, 23316, 20577, 25315, 26202, 26085, 21365, 19992, 21454, 23091, 21335, 24894, 23732, 26421, 27455, 26626, 20743, 22952, 19109, 23442, 29167, 29234, 23325, 25401, 19358, 21953, 22389, 22513, 20921, 21723, 23166, 28299, 24405, 21084, 23972, 31217]\n",
      "[14661, 20998, 15938, 20953, 19342, 27794, 17419, 16416, 18613, 21433, 17618, 16412, 14849, 23344, 16895, 17888, 23579, 25358, 19795, 23400, 15060, 20205, 16270, 28781, 24182, 17041, 17461, 19591, 24535, 23787, 18087, 25880, 15062, 18442, 19829, 21781, 25627, 15456, 21342, 21342, 24564, 20047, 16132, 19797, 24544, 24577, 16636, 19183, 20468, 18822, 14721, 16068, 18195, 17918, 23997, 31541, 25503, 14907, 16418, 22881, 26688, 27702, 15268, 17317, 30439, 26339, 19593, 29562, 21909, 26535, 18255, 20182, 22700, 21092, 19134, 23316, 14746, 17112, 17341, 20577, 25315, 26202, 16996, 14805, 18742, 26085, 21365, 19992, 21454, 17203, 17587, 23091, 21335, 18869, 18924, 24894, 14806, 16293, 23732, 26421, 17241, 18495, 27455, 15328, 15008, 14929, 16020, 22952, 19109, 15119, 15693, 29167, 29234, 15698, 15911, 16159, 17716, 17908, 16073, 15131, 18831, 22389, 15104, 22513, 18969, 20921, 15872, 23166, 28299, 24405, 15849, 17171, 21084, 23972, 31217]\n",
      "[20998, 25231, 27186, 27661, 27794, 29201, 21433, 27017, 23344, 25936, 23579, 25358, 23400, 22096, 28781, 24182, 24535, 23787, 25880, 21197, 21781, 25627, 21125, 21342, 21342, 24564, 21413, 24544, 24577, 22039, 22300, 23997, 31541, 25503, 22881, 26688, 27702, 25115, 23255, 30439, 26339, 29562, 21909, 26535, 22700, 21092, 23378, 23316, 25060, 25315, 26202, 26085, 21365, 21454, 23091, 21335, 24894, 23732, 26421, 27455, 26626, 27270, 22952, 24383, 23442, 29167, 29234, 23325, 25401, 26892, 21953, 22389, 22513, 21723, 23166, 28299, 24405, 21084, 23972, 31217]\n",
      "[25231, 27186, 27661, 27794, 29201, 25242, 27017, 28232, 25936, 25358, 26289, 28781, 26371, 27868, 25880, 25627, 29103, 27048, 25964, 28654, 31541, 25503, 26688, 27702, 25413, 30439, 26339, 29562, 30656, 26535, 26158, 29473, 27384, 25315, 26202, 26085, 28686, 30037, 26421, 27455, 26626, 27270, 29167, 29234, 25401, 26892, 29163, 32219, 28299, 25848, 29700, 31217]\n",
      "[15938, 20953, 19342, 27794, 17419, 16416, 18613, 21433, 17618, 16412, 27017, 23344, 16895, 17888, 23579, 25358, 19795, 23400, 20205, 16270, 28781, 24182, 17041, 17461, 19591, 24535, 23787, 18087, 25880, 20754, 18442, 19829, 21781, 25627, 21125, 21342, 21342, 24564, 20047, 16132, 19797, 24544, 24577, 16636, 19183, 20468, 18822, 16068, 18195, 17918, 23997, 31541, 25503, 16418, 22881, 26688, 27702, 25115, 17317, 30439, 26339, 19593, 29562, 21909, 26535, 18255, 20182, 22700, 21092, 19134, 23316, 17112, 17341, 20577, 25315, 26202, 16996, 17181, 18742, 26085, 21365, 19992, 21454, 17203, 17587, 23091, 21335, 18869, 18924, 24894, 16293, 23732, 26421, 17241, 18495, 27455, 26626, 16020, 22952, 19109, 16555, 29167, 29234, 23325, 16159, 17716, 17908, 16073, 17269, 18831, 22389, 22513, 18969, 20921, 21723, 23166, 28299, 24405, 17171, 21084, 23972, 31217]\n",
      "[27186, 27661, 27794, 29201, 30377, 27976, 28232, 29164, 29297, 28781, 27868, 29104, 29103, 31312, 28654, 31541, 27702, 30439, 27283, 29562, 30656, 30391, 29473, 27384, 28064, 28686, 30037, 27455, 27587, 27270, 29167, 29234, 29163, 32219, 28299, 29700, 31217]\n",
      "[13432, 20953, 19342, 27794, 17419, 13859, 14077, 18613, 21433, 17618, 16412, 14849, 23344, 13457, 16895, 17888, 14482, 14496, 23579, 25358, 19795, 23400, 15060, 20205, 16270, 14218, 24182, 17041, 17461, 19591, 24535, 23787, 18087, 25880, 15062, 18442, 19829, 21781, 25627, 15456, 21342, 13561, 14611, 24564, 13922, 14345, 20047, 16132, 19797, 24544, 24577, 16636, 19183, 20468, 18822, 13976, 16068, 18195, 17918, 23997, 31541, 25503, 14907, 16418, 22881, 26688, 27702, 14186, 15268, 17317, 30439, 13437, 13954, 13511, 29562, 21909, 26535, 18255, 20182, 22700, 14458, 19134, 23316, 13644, 14746, 17112, 17341, 14233, 25315, 26202, 16996, 14805, 18742, 26085, 14004, 21365, 14584, 19992, 21454, 13559, 13625, 17587, 23091, 21335, 18869, 18924, 24894, 14806, 16293, 13546, 26421, 17241, 18495, 27455, 15328, 15008, 14929, 16020, 22952, 19109, 15119, 15693, 29167, 29234, 15698, 15911, 16159, 17716, 17908, 16073, 15131, 14257, 13559, 22389, 15104, 22513, 18969, 20921, 15872, 23166, 28299, 24405, 15849, 17171, 21084, 23972, 31217]\n",
      "[2518, 13164, 19342, 27794, 3599, 6199, 5973, 7387, 14077, 11040, 18613, 21433, 17618, 8900, 3966, 14849, 23344, 6645, 3121, 17888, 14482, 14496, 8913, 6010, 9528, 4966, 7108, 23400, 6597, 7942, 5728, 16270, 8948, 24182, 5981, 7610, 8937, 17461, 5470, 24535, 2840, 8151, 8420, 9164, 4808, 18087, 25880, 15062, 18442, 6293, 8730, 12367, 21781, 25627, 5484, 21342, 11720, 6615, 10256, 14611, 24564, 11479, 8421, 7289, 7098, 4226, 8083, 7414, 10169, 12228, 5570, 7094, 24577, 12984, 19183, 20468, 18822, 6212, 8547, 13976, 7899, 10398, 17918, 12015, 3622, 6160, 11019, 5355, 14907, 16418, 5838, 8010, 10712, 10351, 15268, 5515, 12196, 3833, 30439, 13437, 6316, 4475, 12728, 13511, 3730, 4645, 8101, 10501, 12207, 21909, 26535, 9786, 10447, 2778, 6403, 6470, 22700, 2890, 19134, 5542, 23316, 13644, 7655, 12646, 14746, 17112, 9374, 9366, 25315, 12722, 16996, 14805, 18742, 26085, 14004, 2768, 4425, 9015, 14584, 19992, 21454, 9440, 7426, 11637, 7934, 13625, 17587, 23091, 4240, 21335, 18869, 6914, 5637, 5261, 5340, 14806, 16293, 5119, 13546, 5342, 17241, 18495, 27455, 15328, 7554, 3260, 3758, 3387, 2575, 3576, 22952, 5811, 7491, 3123, 15119, 15693, 7073, 12852, 6911, 9835, 29234, 7650, 8462, 15698, 15911, 16159, 5527, 10094, 10290, 6781, 8802, 8885, 17716, 17908, 9369, 5582, 8877, 8697, 6155, 6398, 5337, 6061, 13559, 22389, 10806, 10799, 12333, 2964, 9453, 11935, 22513, 18969, 20921, 9507, 15872, 13377, 10859, 9222, 15849, 6563, 9910, 3386, 23972, 5979]\n",
      "[20953, 27661, 27794, 29201, 21433, 27017, 23344, 25936, 23579, 25358, 23400, 22096, 28781, 24182, 24535, 23787, 25880, 21197, 21781, 25627, 21125, 21342, 21342, 24564, 21413, 24544, 24577, 22039, 22300, 23997, 31541, 25503, 22881, 26688, 27702, 25115, 23255, 30439, 26339, 29562, 21909, 26535, 22700, 21092, 23378, 23316, 25060, 25315, 26202, 26085, 21365, 21454, 23091, 21335, 24894, 23732, 26421, 27455, 26626, 27270, 22952, 24383, 23442, 29167, 29234, 23325, 25401, 26892, 21953, 22389, 22513, 21723, 23166, 28299, 24405, 21084, 23972, 31217]\n",
      "[13164, 19342, 27794, 17419, 13859, 14077, 18613, 21433, 17618, 16412, 14849, 23344, 13457, 16895, 17888, 14482, 14496, 23579, 25358, 19795, 23400, 13314, 20205, 16270, 14218, 24182, 17041, 17461, 19591, 24535, 23787, 18087, 25880, 15062, 18442, 19829, 21781, 25627, 15456, 21342, 13561, 14611, 24564, 13922, 14345, 20047, 16132, 19797, 24544, 24577, 16636, 19183, 20468, 18822, 13976, 16068, 18195, 17918, 23997, 31541, 25503, 14907, 16418, 22881, 26688, 27702, 14186, 15268, 17317, 30439, 13437, 13954, 13511, 29562, 21909, 26535, 18255, 20182, 22700, 14458, 19134, 23316, 13644, 14746, 17112, 17341, 14233, 25315, 26202, 16996, 14805, 18742, 26085, 14004, 21365, 14584, 19992, 21454, 13559, 13625, 17587, 23091, 21335, 18869, 18924, 24894, 14806, 16293, 13546, 26421, 17241, 18495, 27455, 15328, 15008, 14929, 16020, 22952, 13294, 15119, 15693, 13364, 29234, 15698, 15911, 16159, 17716, 17908, 16073, 15131, 14257, 13559, 22389, 15104, 22513, 18969, 20921, 15872, 13377, 28299, 24405, 15849, 17171, 21084, 23972, 31217]\n",
      "[27661, 27794, 29201, 30377, 27976, 28232, 29164, 29297, 28781, 27868, 29104, 29103, 31312, 28654, 31541, 27702, 30439, 31159, 29562, 30656, 30391, 29473, 28604, 28064, 28686, 30037, 28126, 30118, 29167, 29234, 29163, 32219, 28299, 29700, 31217]\n",
      "[19342, 27794, 29201, 21433, 27017, 23344, 25936, 23579, 25358, 19795, 23400, 20205, 20698, 28781, 24182, 19591, 24535, 23787, 25880, 20754, 19829, 21781, 25627, 21125, 21342, 21342, 24564, 20047, 19797, 24544, 24577, 20468, 19811, 22300, 23997, 31541, 25503, 22881, 26688, 27702, 25115, 23255, 30439, 26339, 19593, 29562, 21909, 26535, 20182, 22700, 21092, 23378, 23316, 20577, 25315, 26202, 26085, 21365, 19992, 21454, 23091, 21335, 24894, 23732, 26421, 27455, 26626, 20743, 22952, 24383, 23442, 29167, 29234, 23325, 25401, 19358, 21953, 22389, 22513, 20921, 21723, 23166, 28299, 24405, 21084, 23972, 31217]\n",
      "[27794, 29201, 30377, 27976, 28232, 29164, 29297, 28781, 27868, 29104, 29103, 31312, 28654, 31541, 28700, 30439, 31159, 29562, 30656, 30391, 29473, 28604, 28064, 28686, 30037, 28126, 30118, 29167, 29234, 29163, 32219, 28299, 29700, 31217]\n",
      "[30690, 30824, 31312, 31541, 31159, 31342, 31386, 31379, 31381, 31530, 32219, 31217]\n",
      "[17419, 29201, 18613, 21433, 17618, 27017, 23344, 17888, 23579, 25358, 19795, 23400, 20205, 20698, 28781, 24182, 17461, 19591, 24535, 23787, 18087, 25880, 20754, 18442, 19829, 21781, 25627, 21125, 21342, 21342, 24564, 20047, 19797, 24544, 24577, 19183, 20468, 18822, 19811, 18195, 17918, 23997, 31541, 25503, 18579, 22881, 26688, 27702, 25115, 23255, 30439, 26339, 19593, 29562, 21909, 26535, 18255, 20182, 22700, 21092, 19134, 23316, 20577, 25315, 26202, 18742, 26085, 21365, 19992, 21454, 17587, 23091, 21335, 18869, 18924, 24894, 23732, 26421, 18495, 27455, 26626, 20743, 22952, 19109, 23442, 29167, 29234, 23325, 25401, 17716, 17908, 18831, 22389, 22513, 18969, 20921, 21723, 23166, 28299, 24405, 21084, 23972, 31217]\n",
      "[10675, 13859, 14077, 11040, 18613, 21433, 17618, 16412, 14849, 23344, 13457, 16895, 17888, 14482, 14496, 23579, 11512, 19795, 23400, 13314, 20205, 16270, 14218, 24182, 12604, 17041, 17461, 19591, 24535, 23787, 18087, 25880, 15062, 18442, 12367, 21781, 25627, 15456, 21342, 11720, 13561, 14611, 24564, 11479, 11008, 20047, 16132, 12228, 24544, 24577, 12984, 19183, 20468, 18822, 13976, 16068, 18195, 17918, 12015, 31541, 11019, 14907, 16418, 22881, 26688, 10712, 14186, 15268, 12196, 17317, 30439, 13437, 13954, 12728, 13511, 12207, 21909, 26535, 12441, 20182, 22700, 14458, 19134, 23316, 13644, 12646, 14746, 17112, 17341, 14233, 25315, 12722, 16996, 14805, 18742, 26085, 14004, 21365, 11697, 14584, 19992, 21454, 13047, 11637, 13625, 17587, 23091, 21335, 18869, 18924, 24894, 14806, 16293, 13546, 26421, 17241, 18495, 27455, 15328, 15008, 14929, 16020, 22952, 13294, 15119, 15693, 12852, 13364, 29234, 11763, 15698, 15911, 16159, 17716, 17908, 16073, 15131, 14257, 11979, 13559, 22389, 10806, 10799, 12333, 11935, 22513, 18969, 20921, 15872, 13377, 10859, 24405, 15849, 17171, 21084, 23972, 31217]\n",
      "[7432, 7755, 13859, 14077, 11040, 18613, 21433, 17618, 8900, 16412, 14849, 23344, 13457, 16895, 17888, 14482, 14496, 8913, 10353, 9528, 19795, 23400, 10099, 7942, 20205, 16270, 8948, 24182, 12604, 7610, 8937, 17461, 19591, 24535, 23787, 8151, 8420, 9164, 18087, 25880, 15062, 18442, 8730, 12367, 21781, 25627, 15456, 21342, 11720, 13561, 10256, 14611, 24564, 11479, 8421, 11008, 20047, 8083, 10169, 12228, 24544, 24577, 12984, 19183, 20468, 18822, 8547, 13976, 7899, 10398, 17918, 12015, 8043, 11019, 10590, 14907, 16418, 22881, 8010, 10712, 10351, 15268, 12196, 17317, 30439, 13437, 13954, 12728, 13511, 8101, 10501, 12207, 21909, 26535, 9786, 10447, 20182, 22700, 14458, 19134, 23316, 13644, 7655, 12646, 14746, 17112, 9374, 9366, 25315, 12722, 16996, 14805, 18742, 26085, 14004, 21365, 9015, 14584, 19992, 21454, 9440, 11637, 7934, 13625, 17587, 23091, 21335, 18869, 18924, 24894, 14806, 16293, 13546, 26421, 17241, 18495, 27455, 15328, 7554, 14929, 16020, 22952, 7491, 7567, 15119, 15693, 12852, 9835, 29234, 7650, 8462, 15698, 15911, 16159, 10094, 10290, 8760, 8802, 8885, 17716, 17908, 9369, 16073, 8877, 8697, 9964, 8890, 13559, 22389, 10806, 10799, 12333, 9453, 11935, 22513, 18969, 20921, 9507, 15872, 13377, 10859, 9222, 15849, 17171, 9910, 23972, 31217]\n",
      "[3599, 6199, 5973, 7387, 14077, 11040, 18613, 21433, 17618, 8900, 3966, 14849, 23344, 6645, 16895, 17888, 14482, 14496, 8913, 6010, 9528, 4966, 7108, 23400, 6597, 7942, 5728, 16270, 8948, 24182, 5981, 7610, 8937, 17461, 5470, 24535, 23787, 8151, 8420, 9164, 4808, 18087, 25880, 15062, 18442, 6293, 8730, 12367, 21781, 25627, 5484, 21342, 11720, 6615, 10256, 14611, 24564, 11479, 8421, 7289, 7098, 4226, 8083, 7414, 10169, 12228, 5570, 7094, 24577, 12984, 19183, 20468, 18822, 6212, 8547, 13976, 7899, 10398, 17918, 12015, 3622, 6160, 11019, 5355, 14907, 16418, 5838, 8010, 10712, 10351, 15268, 5515, 12196, 3833, 30439, 13437, 6316, 4475, 12728, 13511, 3730, 4645, 8101, 10501, 12207, 21909, 26535, 9786, 10447, 20182, 6403, 6470, 22700, 14458, 19134, 5542, 23316, 13644, 7655, 12646, 14746, 17112, 9374, 9366, 25315, 12722, 16996, 14805, 18742, 26085, 14004, 21365, 4425, 9015, 14584, 19992, 21454, 9440, 7426, 11637, 7934, 13625, 17587, 23091, 4240, 21335, 18869, 6914, 5637, 5261, 5340, 14806, 16293, 5119, 13546, 5342, 17241, 18495, 27455, 15328, 7554, 14929, 3758, 6917, 22952, 5811, 7491, 7567, 15119, 15693, 7073, 12852, 6911, 9835, 29234, 7650, 8462, 15698, 15911, 16159, 5527, 10094, 10290, 6781, 8802, 8885, 17716, 17908, 9369, 5582, 8877, 8697, 6155, 6398, 5337, 6061, 13559, 22389, 10806, 10799, 12333, 9453, 11935, 22513, 18969, 20921, 9507, 15872, 13377, 10859, 9222, 15849, 6563, 9910, 23972, 5979]\n",
      "[29201, 30377, 29297, 29270, 29863, 30395, 31312, 31541, 30439, 31159, 29562, 30656, 30391, 29473, 31379, 29334, 30037, 29495, 30118, 29234, 29498, 32219, 29700, 31217]\n",
      "[6199, 6488, 7387, 14077, 11040, 18613, 21433, 17618, 8900, 16412, 14849, 23344, 6645, 16895, 17888, 14482, 14496, 8913, 10353, 9528, 7108, 23400, 6597, 7942, 20205, 16270, 8948, 24182, 12604, 7610, 8937, 17461, 19591, 24535, 23787, 8151, 8420, 9164, 18087, 25880, 15062, 18442, 6293, 8730, 12367, 21781, 25627, 15456, 21342, 11720, 6615, 10256, 14611, 24564, 11479, 8421, 7289, 7098, 8083, 7414, 10169, 12228, 24544, 7094, 24577, 12984, 19183, 20468, 18822, 6212, 8547, 13976, 7899, 10398, 17918, 12015, 8043, 11019, 10590, 14907, 16418, 22881, 8010, 10712, 10351, 15268, 12196, 17317, 30439, 13437, 6316, 12728, 13511, 8101, 10501, 12207, 21909, 26535, 9786, 10447, 20182, 6403, 6470, 22700, 14458, 19134, 23316, 13644, 7655, 12646, 14746, 17112, 9374, 9366, 25315, 12722, 16996, 14805, 18742, 26085, 14004, 21365, 9015, 14584, 19992, 21454, 9440, 7426, 11637, 7934, 13625, 17587, 23091, 21335, 18869, 6914, 24894, 14806, 16293, 13546, 26421, 17241, 18495, 27455, 15328, 7554, 14929, 6917, 22952, 7491, 7567, 15119, 15693, 7073, 12852, 6911, 9835, 29234, 7650, 8462, 15698, 15911, 16159, 10094, 10290, 6781, 8802, 8885, 17716, 17908, 9369, 16073, 8877, 8697, 7025, 6398, 7067, 13559, 22389, 10806, 10799, 12333, 9453, 11935, 22513, 18969, 20921, 9507, 15872, 13377, 10859, 9222, 15849, 6563, 9910, 23972, 31217]\n",
      "[2291, 5973, 7387, 14077, 11040, 18613, 21433, 17618, 8900, 3966, 14849, 23344, 6645, 3121, 17888, 14482, 14496, 8913, 6010, 9528, 2477, 7108, 23400, 6597, 7942, 5728, 16270, 8948, 24182, 5981, 7610, 8937, 17461, 5470, 24535, 2840, 8151, 8420, 9164, 4808, 18087, 25880, 15062, 18442, 6293, 8730, 12367, 21781, 25627, 5484, 21342, 11720, 6615, 10256, 14611, 24564, 11479, 8421, 7289, 7098, 4226, 8083, 7414, 10169, 12228, 5570, 7094, 24577, 2355, 12984, 19183, 20468, 18822, 6212, 8547, 13976, 7899, 10398, 17918, 12015, 3622, 6160, 11019, 5355, 14907, 16418, 5838, 8010, 10712, 10351, 15268, 5515, 12196, 3833, 30439, 13437, 6316, 4475, 12728, 13511, 3730, 4645, 8101, 10501, 12207, 21909, 26535, 9786, 10447, 2778, 6403, 6470, 22700, 2890, 19134, 5542, 23316, 13644, 7655, 12646, 14746, 17112, 9374, 9366, 25315, 12722, 16996, 14805, 18742, 26085, 14004, 2768, 4425, 9015, 14584, 19992, 21454, 9440, 7426, 11637, 7934, 13625, 17587, 23091, 4240, 21335, 18869, 6914, 5637, 5261, 5340, 14806, 16293, 5119, 13546, 5342, 17241, 18495, 27455, 15328, 7554, 3260, 3758, 3387, 2575, 3576, 22952, 5811, 7491, 3123, 15119, 15693, 7073, 12852, 6911, 9835, 29234, 7650, 8462, 15698, 15911, 16159, 5527, 10094, 10290, 6781, 8802, 8885, 17716, 17908, 9369, 5582, 8877, 8697, 6155, 6398, 5337, 6061, 13559, 22389, 10806, 10799, 12333, 2964, 9453, 11935, 22513, 18969, 20921, 9507, 15872, 13377, 10859, 9222, 15849, 6563, 9910, 3386, 23972, 5979]\n",
      "[16416, 18613, 21433, 17618, 27017, 23344, 16895, 17888, 23579, 25358, 19795, 23400, 20205, 20698, 28781, 24182, 17041, 17461, 19591, 24535, 23787, 18087, 25880, 20754, 18442, 19829, 21781, 25627, 21125, 21342, 21342, 24564, 20047, 19797, 24544, 24577, 16636, 19183, 20468, 18822, 16685, 18195, 17918, 23997, 31541, 25503, 16418, 22881, 26688, 27702, 25115, 17317, 30439, 26339, 19593, 29562, 21909, 26535, 18255, 20182, 22700, 21092, 19134, 23316, 17112, 17341, 20577, 25315, 26202, 16996, 17181, 18742, 26085, 21365, 19992, 21454, 17203, 17587, 23091, 21335, 18869, 18924, 24894, 23732, 26421, 17241, 18495, 27455, 26626, 20743, 22952, 19109, 16555, 29167, 29234, 23325, 25401, 17716, 17908, 17269, 18831, 22389, 22513, 18969, 20921, 21723, 23166, 28299, 24405, 17171, 21084, 23972, 31217]\n",
      "[9642, 13859, 14077, 11040, 18613, 21433, 17618, 16412, 14849, 23344, 13457, 16895, 17888, 14482, 14496, 10353, 11512, 19795, 23400, 10099, 9746, 20205, 16270, 14218, 24182, 12604, 17041, 17461, 19591, 24535, 23787, 18087, 25880, 15062, 18442, 12367, 21781, 25627, 15456, 21342, 11720, 13561, 10256, 14611, 24564, 11479, 11008, 20047, 10169, 12228, 24544, 24577, 12984, 19183, 20468, 18822, 13976, 16068, 10398, 17918, 12015, 31541, 11019, 10590, 14907, 16418, 22881, 10029, 10712, 10351, 15268, 12196, 17317, 30439, 13437, 13954, 12728, 13511, 10501, 12207, 21909, 26535, 9786, 10447, 20182, 22700, 14458, 19134, 23316, 13644, 12646, 14746, 17112, 17341, 14233, 25315, 12722, 16996, 14805, 18742, 26085, 14004, 21365, 11697, 14584, 19992, 21454, 13047, 11637, 9688, 13625, 17587, 23091, 21335, 18869, 18924, 24894, 14806, 16293, 13546, 26421, 17241, 18495, 27455, 15328, 15008, 14929, 16020, 22952, 13294, 15119, 15693, 12852, 9835, 29234, 11763, 15698, 15911, 16159, 10094, 10290, 17716, 17908, 16073, 10308, 14257, 9964, 11979, 13559, 22389, 10806, 10799, 12333, 11935, 22513, 18969, 20921, 15872, 13377, 10859, 24405, 15849, 17171, 9910, 23972, 31217]\n",
      "[7755, 13859, 14077, 11040, 18613, 21433, 17618, 8900, 16412, 14849, 23344, 13457, 16895, 17888, 14482, 14496, 8913, 10353, 9528, 19795, 23400, 10099, 7942, 20205, 16270, 8948, 24182, 12604, 8937, 17461, 19591, 24535, 23787, 8151, 8420, 9164, 18087, 25880, 15062, 18442, 8730, 12367, 21781, 25627, 15456, 21342, 11720, 13561, 10256, 14611, 24564, 11479, 8421, 11008, 20047, 8083, 10169, 12228, 24544, 24577, 12984, 19183, 20468, 18822, 8547, 13976, 7899, 10398, 17918, 12015, 8043, 11019, 10590, 14907, 16418, 22881, 8010, 10712, 10351, 15268, 12196, 17317, 30439, 13437, 13954, 12728, 13511, 8101, 10501, 12207, 21909, 26535, 9786, 10447, 20182, 22700, 14458, 19134, 23316, 13644, 12646, 14746, 17112, 9374, 9366, 25315, 12722, 16996, 14805, 18742, 26085, 14004, 21365, 9015, 14584, 19992, 21454, 9440, 11637, 7934, 13625, 17587, 23091, 21335, 18869, 18924, 24894, 14806, 16293, 13546, 26421, 17241, 18495, 27455, 15328, 15008, 14929, 16020, 22952, 13294, 15119, 15693, 12852, 9835, 29234, 8462, 15698, 15911, 16159, 10094, 10290, 8760, 8802, 8885, 17716, 17908, 9369, 16073, 8877, 8697, 9964, 8890, 13559, 22389, 10806, 10799, 12333, 9453, 11935, 22513, 18969, 20921, 9507, 15872, 13377, 10859, 9222, 15849, 17171, 9910, 23972, 31217]\n",
      "[6488, 7387, 14077, 11040, 18613, 21433, 17618, 8900, 16412, 14849, 23344, 6645, 16895, 17888, 14482, 14496, 8913, 10353, 9528, 7108, 23400, 6597, 7942, 20205, 16270, 8948, 24182, 12604, 7610, 8937, 17461, 19591, 24535, 23787, 8151, 8420, 9164, 18087, 25880, 15062, 18442, 8730, 12367, 21781, 25627, 15456, 21342, 11720, 6615, 10256, 14611, 24564, 11479, 8421, 7289, 7098, 8083, 7414, 10169, 12228, 24544, 7094, 24577, 12984, 19183, 20468, 18822, 8547, 13976, 7899, 10398, 17918, 12015, 8043, 11019, 10590, 14907, 16418, 22881, 8010, 10712, 10351, 15268, 12196, 17317, 30439, 13437, 13954, 12728, 13511, 8101, 10501, 12207, 21909, 26535, 9786, 10447, 20182, 22700, 14458, 19134, 23316, 13644, 7655, 12646, 14746, 17112, 9374, 9366, 25315, 12722, 16996, 14805, 18742, 26085, 14004, 21365, 9015, 14584, 19992, 21454, 9440, 7426, 11637, 7934, 13625, 17587, 23091, 21335, 18869, 6914, 24894, 14806, 16293, 13546, 26421, 17241, 18495, 27455, 15328, 7554, 14929, 6917, 22952, 7491, 7567, 15119, 15693, 7073, 12852, 6911, 9835, 29234, 7650, 8462, 15698, 15911, 16159, 10094, 10290, 6781, 8802, 8885, 17716, 17908, 9369, 16073, 8877, 8697, 7025, 6634, 7067, 13559, 22389, 10806, 10799, 12333, 9453, 11935, 22513, 18969, 20921, 9507, 15872, 13377, 10859, 9222, 15849, 6563, 9910, 23972, 31217]\n",
      "[5973, 7387, 14077, 11040, 18613, 21433, 17618, 8900, 16412, 14849, 23344, 6645, 16895, 17888, 14482, 14496, 8913, 6010, 9528, 7108, 23400, 6597, 7942, 20205, 16270, 8948, 24182, 5981, 7610, 8937, 17461, 19591, 24535, 23787, 8151, 8420, 9164, 18087, 25880, 15062, 18442, 6293, 8730, 12367, 21781, 25627, 15456, 21342, 11720, 6615, 10256, 14611, 24564, 11479, 8421, 7289, 7098, 8083, 7414, 10169, 12228, 24544, 7094, 24577, 12984, 19183, 20468, 18822, 6212, 8547, 13976, 7899, 10398, 17918, 12015, 6160, 11019, 10590, 14907, 16418, 22881, 8010, 10712, 10351, 15268, 12196, 17317, 30439, 13437, 6316, 12728, 13511, 8101, 10501, 12207, 21909, 26535, 9786, 10447, 20182, 6403, 6470, 22700, 14458, 19134, 23316, 13644, 7655, 12646, 14746, 17112, 9374, 9366, 25315, 12722, 16996, 14805, 18742, 26085, 14004, 21365, 9015, 14584, 19992, 21454, 9440, 7426, 11637, 7934, 13625, 17587, 23091, 21335, 18869, 6914, 24894, 14806, 16293, 13546, 26421, 17241, 18495, 27455, 15328, 7554, 14929, 6917, 22952, 7491, 7567, 15119, 15693, 7073, 12852, 6911, 9835, 29234, 7650, 8462, 15698, 15911, 16159, 10094, 10290, 6781, 8802, 8885, 17716, 17908, 9369, 6062, 8877, 8697, 6155, 6398, 6061, 13559, 22389, 10806, 10799, 12333, 9453, 11935, 22513, 18969, 20921, 9507, 15872, 13377, 10859, 9222, 15849, 6563, 9910, 23972, 5979]\n",
      "[13859, 14077, 18613, 21433, 17618, 16412, 14849, 23344, 16895, 17888, 14482, 14496, 23579, 25358, 19795, 23400, 15060, 20205, 16270, 14218, 24182, 17041, 17461, 19591, 24535, 23787, 18087, 25880, 15062, 18442, 19829, 21781, 25627, 15456, 21342, 14611, 24564, 13922, 14345, 20047, 16132, 19797, 24544, 24577, 16636, 19183, 20468, 18822, 13976, 16068, 18195, 17918, 23997, 31541, 25503, 14907, 16418, 22881, 26688, 27702, 14186, 15268, 17317, 30439, 13954, 19593, 29562, 21909, 26535, 18255, 20182, 22700, 14458, 19134, 23316, 14746, 17112, 17341, 14233, 25315, 26202, 16996, 14805, 18742, 26085, 14004, 21365, 14584, 19992, 21454, 17203, 17587, 23091, 21335, 18869, 18924, 24894, 14806, 16293, 23732, 26421, 17241, 18495, 27455, 15328, 15008, 14929, 16020, 22952, 19109, 15119, 15693, 29167, 29234, 15698, 15911, 16159, 17716, 17908, 16073, 15131, 14257, 18831, 22389, 15104, 22513, 18969, 20921, 15872, 23166, 28299, 24405, 15849, 17171, 21084, 23972, 31217]\n",
      "[7387, 14077, 11040, 18613, 21433, 17618, 8900, 16412, 14849, 23344, 13457, 16895, 17888, 14482, 14496, 8913, 10353, 9528, 19795, 23400, 10099, 7942, 20205, 16270, 8948, 24182, 12604, 7610, 8937, 17461, 19591, 24535, 23787, 8151, 8420, 9164, 18087, 25880, 15062, 18442, 8730, 12367, 21781, 25627, 15456, 21342, 11720, 13561, 10256, 14611, 24564, 11479, 8421, 11008, 20047, 8083, 7414, 10169, 12228, 24544, 24577, 12984, 19183, 20468, 18822, 8547, 13976, 7899, 10398, 17918, 12015, 8043, 11019, 10590, 14907, 16418, 22881, 8010, 10712, 10351, 15268, 12196, 17317, 30439, 13437, 13954, 12728, 13511, 8101, 10501, 12207, 21909, 26535, 9786, 10447, 20182, 22700, 14458, 19134, 23316, 13644, 7655, 12646, 14746, 17112, 9374, 9366, 25315, 12722, 16996, 14805, 18742, 26085, 14004, 21365, 9015, 14584, 19992, 21454, 9440, 7426, 11637, 7934, 13625, 17587, 23091, 21335, 18869, 18924, 24894, 14806, 16293, 13546, 26421, 17241, 18495, 27455, 15328, 7554, 14929, 16020, 22952, 7491, 7567, 15119, 15693, 12852, 9835, 29234, 7650, 8462, 15698, 15911, 16159, 10094, 10290, 8760, 8802, 8885, 17716, 17908, 9369, 16073, 8877, 8697, 9964, 8890, 13559, 22389, 10806, 10799, 12333, 9453, 11935, 22513, 18969, 20921, 9507, 15872, 13377, 10859, 9222, 15849, 17171, 9910, 23972, 31217]\n",
      "[14077, 18613, 21433, 17618, 16412, 14849, 23344, 16895, 17888, 14482, 14496, 23579, 25358, 19795, 23400, 15060, 20205, 16270, 14218, 24182, 17041, 17461, 19591, 24535, 23787, 18087, 25880, 15062, 18442, 19829, 21781, 25627, 15456, 21342, 14611, 24564, 14345, 20047, 16132, 19797, 24544, 24577, 16636, 19183, 20468, 18822, 14721, 16068, 18195, 17918, 23997, 31541, 25503, 14907, 16418, 22881, 26688, 27702, 14186, 15268, 17317, 30439, 26339, 19593, 29562, 21909, 26535, 18255, 20182, 22700, 14458, 19134, 23316, 14746, 17112, 17341, 14233, 25315, 26202, 16996, 14805, 18742, 26085, 21365, 14584, 19992, 21454, 17203, 17587, 23091, 21335, 18869, 18924, 24894, 14806, 16293, 23732, 26421, 17241, 18495, 27455, 15328, 15008, 14929, 16020, 22952, 19109, 15119, 15693, 29167, 29234, 15698, 15911, 16159, 17716, 17908, 16073, 15131, 14257, 18831, 22389, 15104, 22513, 18969, 20921, 15872, 23166, 28299, 24405, 15849, 17171, 21084, 23972, 31217]\n",
      "[30377, 30824, 30395, 31312, 31541, 30439, 31159, 30656, 30391, 31386, 31379, 30621, 31530, 32219, 31217]\n",
      "[25242, 27017, 28232, 25936, 25358, 26289, 28781, 26371, 27868, 25880, 25627, 29103, 27048, 25964, 28654, 31541, 25503, 26688, 27702, 25413, 30439, 26339, 29562, 30656, 26535, 26158, 29473, 27384, 25315, 26202, 26085, 28686, 30037, 26421, 27455, 26626, 27270, 29167, 29234, 25401, 26892, 29163, 32219, 28299, 25848, 29700, 31217]\n",
      "[24151, 27017, 28232, 25936, 24402, 25358, 24333, 28781, 24182, 24535, 27868, 25880, 24487, 25627, 24564, 25046, 24544, 24577, 25964, 28654, 31541, 25503, 26688, 27702, 25115, 25413, 30439, 26339, 29562, 30656, 26535, 26158, 24696, 25060, 25315, 26202, 26085, 28686, 24221, 24894, 24935, 26421, 27455, 26626, 27270, 24383, 24668, 29167, 29234, 25401, 26892, 29163, 32219, 24642, 28299, 24405, 25848, 29700, 31217]\n",
      "[11040, 18613, 21433, 17618, 16412, 14849, 23344, 13457, 16895, 17888, 14482, 14496, 23579, 11512, 19795, 23400, 13314, 20205, 16270, 14218, 24182, 12604, 17041, 17461, 19591, 24535, 23787, 18087, 25880, 15062, 18442, 12367, 21781, 25627, 15456, 21342, 11720, 13561, 14611, 24564, 11479, 14345, 20047, 16132, 12228, 24544, 24577, 12984, 19183, 20468, 18822, 13976, 16068, 18195, 17918, 12015, 31541, 25503, 14907, 16418, 22881, 26688, 27702, 14186, 15268, 12196, 17317, 30439, 13437, 13954, 12728, 13511, 12207, 21909, 26535, 12441, 20182, 22700, 14458, 19134, 23316, 13644, 12646, 14746, 17112, 17341, 14233, 25315, 12722, 16996, 14805, 18742, 26085, 14004, 21365, 11697, 14584, 19992, 21454, 13047, 11637, 13625, 17587, 23091, 21335, 18869, 18924, 24894, 14806, 16293, 13546, 26421, 17241, 18495, 27455, 15328, 15008, 14929, 16020, 22952, 13294, 15119, 15693, 12852, 13364, 29234, 11763, 15698, 15911, 16159, 17716, 17908, 16073, 15131, 14257, 11979, 13559, 22389, 12333, 11935, 22513, 18969, 20921, 15872, 13377, 28299, 24405, 15849, 17171, 21084, 23972, 31217]\n",
      "[18613, 21433, 27017, 23344, 25936, 23579, 25358, 19795, 23400, 20205, 20698, 28781, 24182, 19591, 24535, 23787, 18909, 25880, 20754, 19829, 21781, 25627, 21125, 21342, 21342, 24564, 20047, 19797, 24544, 24577, 19183, 20468, 18822, 19811, 18906, 23997, 31541, 25503, 22881, 26688, 27702, 25115, 23255, 30439, 26339, 19593, 29562, 21909, 26535, 20182, 22700, 21092, 19134, 23316, 20577, 25315, 26202, 18742, 26085, 21365, 19992, 21454, 23091, 21335, 18869, 18924, 24894, 23732, 26421, 27455, 26626, 20743, 22952, 19109, 23442, 29167, 29234, 23325, 25401, 18891, 18831, 22389, 22513, 18969, 20921, 21723, 23166, 28299, 24405, 21084, 23972, 31217]\n",
      "[22616, 27017, 23344, 25936, 23579, 25358, 23400, 28781, 24182, 24535, 23787, 25880, 22921, 25627, 24564, 25046, 24544, 24577, 25964, 23997, 31541, 25503, 22881, 26688, 27702, 25115, 23255, 30439, 26339, 29562, 30656, 26535, 22700, 23378, 23316, 25060, 25315, 26202, 26085, 28686, 23091, 24221, 24894, 23732, 26421, 27455, 26626, 27270, 22952, 24383, 23442, 29167, 29234, 23325, 25401, 26892, 29163, 32219, 23166, 28299, 24405, 25848, 23972, 31217]\n",
      "[21433, 27017, 23344, 25936, 23579, 25358, 23400, 22096, 28781, 24182, 24535, 23787, 25880, 21781, 25627, 22392, 24564, 25046, 24544, 24577, 22039, 22300, 23997, 31541, 25503, 22881, 26688, 27702, 25115, 23255, 30439, 26339, 29562, 21909, 26535, 22700, 23378, 23316, 25060, 25315, 26202, 26085, 21454, 23091, 24221, 24894, 23732, 26421, 27455, 26626, 27270, 22952, 24383, 23442, 29167, 29234, 23325, 25401, 26892, 21953, 22389, 22513, 21723, 23166, 28299, 24405, 25848, 23972, 31217]\n",
      "[30824, 31312, 31541, 31159, 31342, 31386, 31379, 31381, 31530, 32219, 31217]\n",
      "[17618, 27017, 23344, 17888, 23579, 25358, 19795, 23400, 20205, 20698, 28781, 24182, 19591, 24535, 23787, 18087, 25880, 20754, 18442, 19829, 21781, 25627, 21125, 21342, 21342, 24564, 20047, 19797, 24544, 24577, 19183, 20468, 18822, 19811, 18195, 17918, 23997, 31541, 25503, 18579, 22881, 26688, 27702, 25115, 23255, 30439, 26339, 19593, 29562, 21909, 26535, 18255, 20182, 22700, 21092, 19134, 23316, 20577, 25315, 26202, 18742, 26085, 21365, 19992, 21454, 23091, 21335, 18869, 18924, 24894, 23732, 26421, 18495, 27455, 26626, 20743, 22952, 19109, 23442, 29167, 29234, 23325, 25401, 17716, 17908, 18831, 22389, 22513, 18969, 20921, 21723, 23166, 28299, 24405, 21084, 23972, 31217]\n",
      "[29537, 29863, 30395, 31312, 31541, 30439, 31159, 29562, 30656, 30391, 31386, 31379, 30037, 30118, 30621, 31530, 32219, 29700, 31217]\n",
      "[8900, 16412, 14849, 23344, 13457, 16895, 17888, 14482, 14496, 8913, 10353, 9528, 19795, 23400, 10099, 9746, 20205, 16270, 8948, 24182, 12604, 8937, 17461, 19591, 24535, 23787, 9164, 18087, 25880, 15062, 18442, 12367, 21781, 25627, 15456, 21342, 11720, 13561, 10256, 14611, 24564, 11479, 11008, 20047, 10169, 12228, 24544, 24577, 12984, 19183, 20468, 18822, 13976, 16068, 10398, 17918, 12015, 31541, 11019, 10590, 14907, 16418, 22881, 10029, 10712, 10351, 15268, 12196, 17317, 30439, 13437, 13954, 12728, 13511, 10501, 12207, 21909, 26535, 9786, 10447, 20182, 22700, 14458, 19134, 23316, 13644, 12646, 14746, 17112, 9374, 9366, 25315, 12722, 16996, 14805, 18742, 26085, 14004, 21365, 9015, 14584, 19992, 21454, 9440, 11637, 9688, 13625, 17587, 23091, 21335, 18869, 18924, 24894, 14806, 16293, 13546, 26421, 17241, 18495, 27455, 15328, 15008, 14929, 16020, 22952, 13294, 15119, 15693, 12852, 9835, 29234, 11763, 15698, 15911, 16159, 10094, 10290, 17716, 17908, 9369, 16073, 10308, 14257, 9964, 11979, 13559, 22389, 10806, 10799, 12333, 9453, 11935, 22513, 18969, 20921, 9507, 15872, 13377, 10859, 9222, 15849, 17171, 9910, 23972, 31217]\n",
      "[16412, 27017, 23344, 16895, 17888, 23579, 25358, 19795, 23400, 20205, 20698, 28781, 24182, 17041, 17461, 19591, 24535, 23787, 18087, 25880, 20754, 18442, 19829, 21781, 25627, 21125, 21342, 21342, 24564, 20047, 19797, 24544, 24577, 16636, 19183, 20468, 18822, 16685, 18195, 17918, 23997, 31541, 25503, 16418, 22881, 26688, 27702, 25115, 17317, 30439, 26339, 19593, 29562, 21909, 26535, 18255, 20182, 22700, 21092, 19134, 23316, 17112, 17341, 20577, 25315, 26202, 16996, 17181, 18742, 26085, 21365, 19992, 21454, 17203, 17587, 23091, 21335, 18869, 18924, 24894, 23732, 26421, 17241, 18495, 27455, 26626, 20743, 22952, 19109, 16555, 29167, 29234, 23325, 25401, 17716, 17908, 17269, 18831, 22389, 22513, 18969, 20921, 21723, 23166, 28299, 24405, 17171, 21084, 23972, 31217]\n",
      "[3966, 14849, 23344, 6645, 16895, 17888, 14482, 14496, 8913, 6010, 9528, 4966, 7108, 23400, 6597, 7942, 5728, 16270, 8948, 24182, 5981, 7610, 8937, 17461, 5470, 24535, 23787, 8151, 8420, 9164, 4808, 18087, 25880, 15062, 18442, 6293, 8730, 12367, 21781, 25627, 5484, 21342, 11720, 6615, 10256, 14611, 24564, 11479, 8421, 7289, 7098, 4226, 8083, 7414, 10169, 12228, 5570, 7094, 24577, 12984, 19183, 20468, 18822, 6212, 8547, 13976, 7899, 10398, 17918, 12015, 6160, 11019, 5355, 14907, 16418, 5838, 8010, 10712, 10351, 15268, 5515, 12196, 17317, 30439, 13437, 6316, 4475, 12728, 13511, 4645, 8101, 10501, 12207, 21909, 26535, 9786, 10447, 20182, 6403, 6470, 22700, 14458, 19134, 5542, 23316, 13644, 7655, 12646, 14746, 17112, 9374, 9366, 25315, 12722, 16996, 14805, 18742, 26085, 14004, 21365, 4425, 9015, 14584, 19992, 21454, 9440, 7426, 11637, 7934, 13625, 17587, 23091, 4240, 21335, 18869, 6914, 5637, 5261, 5340, 14806, 16293, 5119, 13546, 5342, 17241, 18495, 27455, 15328, 7554, 14929, 6917, 22952, 5811, 7491, 7567, 15119, 15693, 7073, 12852, 6911, 9835, 29234, 7650, 8462, 15698, 15911, 16159, 5527, 10094, 10290, 6781, 8802, 8885, 17716, 17908, 9369, 5582, 8877, 8697, 6155, 6398, 5337, 6061, 13559, 22389, 10806, 10799, 12333, 9453, 11935, 22513, 18969, 20921, 9507, 15872, 13377, 10859, 9222, 15849, 6563, 9910, 23972, 5979]\n",
      "[27976, 28232, 29164, 29297, 28781, 29863, 29104, 29103, 31312, 28654, 31541, 28700, 30439, 31159, 29562, 30656, 30391, 29473, 28604, 28064, 28686, 30037, 28126, 30118, 29167, 29234, 29163, 32219, 28299, 29700, 31217]\n",
      "[27017, 28232, 29164, 29297, 28781, 27868, 27082, 29103, 27048, 28654, 31541, 27702, 30439, 27283, 29562, 30656, 30391, 29473, 27384, 28064, 28686, 30037, 27116, 27455, 27587, 27270, 29167, 29234, 29163, 32219, 28299, 29700, 31217]\n",
      "[1939, 14849, 23344, 6645, 3121, 17888, 14482, 14496, 8913, 6010, 9528, 2477, 7108, 23400, 6597, 7942, 5728, 16270, 8948, 24182, 5981, 7610, 8937, 17461, 5470, 24535, 2840, 8151, 8420, 1957, 4808, 18087, 25880, 15062, 18442, 6293, 8730, 12367, 21781, 25627, 5484, 21342, 11720, 6615, 10256, 14611, 2057, 11479, 8421, 7289, 7098, 4226, 8083, 7414, 10169, 12228, 5570, 7094, 24577, 2355, 12984, 19183, 20468, 18822, 6212, 8547, 13976, 7899, 10398, 17918, 12015, 3622, 6160, 11019, 5355, 14907, 16418, 5838, 8010, 10712, 2186, 10351, 15268, 5515, 12196, 3833, 30439, 13437, 6316, 4475, 12728, 13511, 3730, 4645, 8101, 10501, 12207, 21909, 26535, 9786, 10447, 2778, 6403, 6470, 22700, 2890, 19134, 5542, 23316, 13644, 7655, 12646, 14746, 17112, 9374, 9366, 25315, 12722, 16996, 14805, 18742, 26085, 14004, 2768, 4425, 9015, 14584, 19992, 21454, 9440, 7426, 11637, 7934, 13625, 17587, 23091, 4240, 21335, 18869, 6914, 5637, 5261, 5340, 14806, 16293, 5119, 13546, 5342, 17241, 18495, 27455, 15328, 7554, 3260, 3758, 3387, 2575, 3576, 22952, 5811, 7491, 3123, 15119, 15693, 7073, 12852, 6911, 9835, 29234, 7650, 8462, 15698, 15911, 16159, 5527, 10094, 10290, 6781, 8802, 8885, 17716, 17908, 9369, 5582, 8877, 8697, 6155, 6398, 5337, 6061, 13559, 22389, 10806, 10799, 12333, 2964, 9453, 11935, 22513, 18969, 20921, 9507, 15872, 13377, 10859, 9222, 15849, 6563, 9910, 3386, 23972, 5979]\n",
      "[14849, 23344, 16895, 17888, 23579, 25358, 19795, 23400, 15060, 20205, 16270, 28781, 24182, 17041, 17461, 19591, 24535, 23787, 18087, 25880, 15062, 18442, 19829, 21781, 25627, 15456, 21342, 21342, 24564, 20047, 16132, 19797, 24544, 24577, 16636, 19183, 20468, 18822, 16068, 18195, 17918, 23997, 31541, 25503, 14907, 16418, 22881, 26688, 27702, 15268, 17317, 30439, 26339, 19593, 29562, 21909, 26535, 18255, 20182, 22700, 21092, 19134, 23316, 17112, 17341, 20577, 25315, 26202, 16996, 17181, 18742, 26085, 21365, 19992, 21454, 17203, 17587, 23091, 21335, 18869, 18924, 24894, 16293, 23732, 26421, 17241, 18495, 27455, 15328, 15008, 14929, 16020, 22952, 19109, 15119, 15693, 29167, 29234, 15698, 15911, 16159, 17716, 17908, 16073, 15131, 18831, 22389, 15104, 22513, 18969, 20921, 15872, 23166, 28299, 24405, 15849, 17171, 21084, 23972, 31217]\n",
      "[28232, 29164, 29297, 28781, 29863, 29104, 29103, 31312, 28654, 31541, 28700, 30439, 31159, 29562, 30656, 30391, 29473, 28604, 31379, 28686, 30037, 29495, 30118, 29167, 29234, 29163, 32219, 28299, 29700, 31217]\n",
      "[23344, 25936, 23579, 25358, 23400, 28781, 24182, 24535, 23787, 25880, 24487, 25627, 24564, 25046, 24544, 24577, 25964, 23997, 31541, 25503, 26688, 27702, 25115, 25413, 30439, 26339, 29562, 30656, 26535, 26158, 23378, 24696, 25060, 25315, 26202, 26085, 28686, 24221, 24894, 23732, 26421, 27455, 26626, 27270, 24383, 23442, 29167, 29234, 25401, 26892, 29163, 32219, 24642, 28299, 24405, 25848, 23972, 31217]\n",
      "[29164, 29297, 29270, 29863, 30395, 31312, 31541, 30439, 31159, 29562, 30656, 30391, 29473, 31379, 29334, 30037, 29495, 30118, 29167, 29234, 29498, 32219, 29700, 31217]\n",
      "[25936, 26289, 28781, 26371, 27868, 27082, 29103, 27048, 25964, 28654, 31541, 26688, 27702, 30439, 26339, 29562, 30656, 26535, 26158, 29473, 27384, 26202, 26085, 28686, 30037, 26421, 27455, 26626, 27270, 29167, 29234, 26892, 29163, 32219, 28299, 29700, 31217]\n",
      "[13457, 16895, 17888, 14482, 14496, 23579, 25358, 19795, 23400, 15060, 20205, 16270, 14218, 24182, 17041, 17461, 19591, 24535, 23787, 18087, 25880, 15062, 18442, 19829, 21781, 25627, 15456, 21342, 13561, 14611, 24564, 13922, 14345, 20047, 16132, 19797, 24544, 24577, 16636, 19183, 20468, 18822, 13976, 16068, 18195, 17918, 23997, 31541, 25503, 14907, 16418, 22881, 26688, 27702, 14186, 15268, 17317, 30439, 13954, 13511, 29562, 21909, 26535, 18255, 20182, 22700, 14458, 19134, 23316, 13644, 14746, 17112, 17341, 14233, 25315, 26202, 16996, 14805, 18742, 26085, 14004, 21365, 14584, 19992, 21454, 13559, 13625, 17587, 23091, 21335, 18869, 18924, 24894, 14806, 16293, 13546, 26421, 17241, 18495, 27455, 15328, 15008, 14929, 16020, 22952, 19109, 15119, 15693, 29167, 29234, 15698, 15911, 16159, 17716, 17908, 16073, 15131, 14257, 13559, 22389, 15104, 22513, 18969, 20921, 15872, 23166, 28299, 24405, 15849, 17171, 21084, 23972, 31217]\n",
      "[6645, 16895, 17888, 14482, 14496, 8913, 10353, 9528, 7108, 23400, 10099, 7942, 20205, 16270, 8948, 24182, 12604, 7610, 8937, 17461, 19591, 24535, 23787, 8151, 8420, 9164, 18087, 25880, 15062, 18442, 8730, 12367, 21781, 25627, 15456, 21342, 11720, 13561, 10256, 14611, 24564, 11479, 8421, 7289, 7098, 8083, 7414, 10169, 12228, 24544, 7094, 24577, 12984, 19183, 20468, 18822, 8547, 13976, 7899, 10398, 17918, 12015, 8043, 11019, 10590, 14907, 16418, 22881, 8010, 10712, 10351, 15268, 12196, 17317, 30439, 13437, 13954, 12728, 13511, 8101, 10501, 12207, 21909, 26535, 9786, 10447, 20182, 22700, 14458, 19134, 23316, 13644, 7655, 12646, 14746, 17112, 9374, 9366, 25315, 12722, 16996, 14805, 18742, 26085, 14004, 21365, 9015, 14584, 19992, 21454, 9440, 7426, 11637, 7934, 13625, 17587, 23091, 21335, 18869, 6914, 24894, 14806, 16293, 13546, 26421, 17241, 18495, 27455, 15328, 7554, 14929, 6917, 22952, 7491, 7567, 15119, 15693, 7073, 12852, 6911, 9835, 29234, 7650, 8462, 15698, 15911, 16159, 10094, 10290, 6781, 8802, 8885, 17716, 17908, 9369, 16073, 8877, 8697, 7025, 9964, 7067, 13559, 22389, 10806, 10799, 12333, 9453, 11935, 22513, 18969, 20921, 9507, 15872, 13377, 10859, 9222, 15849, 17171, 9910, 23972, 31217]\n",
      "[16895, 17888, 23579, 25358, 19795, 23400, 20205, 20698, 28781, 24182, 17041, 17461, 19591, 24535, 23787, 18087, 25880, 20754, 18442, 19829, 21781, 25627, 21125, 21342, 21342, 24564, 20047, 19797, 24544, 24577, 19183, 20468, 18822, 19811, 18195, 17918, 23997, 31541, 25503, 18579, 22881, 26688, 27702, 25115, 17317, 30439, 26339, 19593, 29562, 21909, 26535, 18255, 20182, 22700, 21092, 19134, 23316, 17112, 17341, 20577, 25315, 26202, 16996, 17181, 18742, 26085, 21365, 19992, 21454, 17203, 17587, 23091, 21335, 18869, 18924, 24894, 23732, 26421, 17241, 18495, 27455, 26626, 20743, 22952, 19109, 23442, 29167, 29234, 23325, 25401, 17716, 17908, 17269, 18831, 22389, 22513, 18969, 20921, 21723, 23166, 28299, 24405, 17171, 21084, 23972, 31217]\n",
      "[3121, 17888, 14482, 14496, 8913, 6010, 9528, 4966, 7108, 23400, 6597, 7942, 5728, 16270, 8948, 24182, 5981, 7610, 8937, 17461, 5470, 24535, 23787, 8151, 8420, 9164, 4808, 18087, 25880, 15062, 18442, 6293, 8730, 12367, 21781, 25627, 5484, 21342, 11720, 6615, 10256, 14611, 24564, 11479, 8421, 7289, 7098, 4226, 8083, 7414, 10169, 12228, 5570, 7094, 24577, 12984, 19183, 20468, 18822, 6212, 8547, 13976, 7899, 10398, 17918, 12015, 3622, 6160, 11019, 5355, 14907, 16418, 5838, 8010, 10712, 10351, 15268, 5515, 12196, 3833, 30439, 13437, 6316, 4475, 12728, 13511, 3730, 4645, 8101, 10501, 12207, 21909, 26535, 9786, 10447, 20182, 6403, 6470, 22700, 14458, 19134, 5542, 23316, 13644, 7655, 12646, 14746, 17112, 9374, 9366, 25315, 12722, 16996, 14805, 18742, 26085, 14004, 21365, 4425, 9015, 14584, 19992, 21454, 9440, 7426, 11637, 7934, 13625, 17587, 23091, 4240, 21335, 18869, 6914, 5637, 5261, 5340, 14806, 16293, 5119, 13546, 5342, 17241, 18495, 27455, 15328, 7554, 3260, 3758, 3387, 3576, 22952, 5811, 7491, 3123, 15119, 15693, 7073, 12852, 6911, 9835, 29234, 7650, 8462, 15698, 15911, 16159, 5527, 10094, 10290, 6781, 8802, 8885, 17716, 17908, 9369, 5582, 8877, 8697, 6155, 6398, 5337, 6061, 13559, 22389, 10806, 10799, 12333, 9453, 11935, 22513, 18969, 20921, 9507, 15872, 13377, 10859, 9222, 15849, 6563, 9910, 3386, 23972, 5979]\n",
      "[17888, 23579, 25358, 19795, 23400, 20205, 20698, 28781, 24182, 19591, 24535, 23787, 18087, 25880, 20754, 18442, 19829, 21781, 25627, 21125, 21342, 21342, 24564, 20047, 19797, 24544, 24577, 19183, 20468, 18822, 19811, 18195, 17918, 23997, 31541, 25503, 18579, 22881, 26688, 27702, 25115, 23255, 30439, 26339, 19593, 29562, 21909, 26535, 18255, 20182, 22700, 21092, 19134, 23316, 20577, 25315, 26202, 18742, 26085, 21365, 19992, 21454, 23091, 21335, 18869, 18924, 24894, 23732, 26421, 18495, 27455, 26626, 20743, 22952, 19109, 23442, 29167, 29234, 23325, 25401, 17908, 18831, 22389, 22513, 18969, 20921, 21723, 23166, 28299, 24405, 21084, 23972, 31217]\n",
      "[29297, 29863, 30395, 31312, 31541, 30439, 31159, 29562, 30656, 30391, 29473, 31379, 29334, 30037, 29495, 30118, 30621, 29498, 32219, 29700, 31217]\n",
      "[14482, 14496, 23579, 25358, 19795, 23400, 15060, 20205, 16270, 28781, 24182, 17041, 17461, 19591, 24535, 23787, 18087, 25880, 15062, 18442, 19829, 21781, 25627, 15456, 21342, 14611, 24564, 20047, 16132, 19797, 24544, 24577, 16636, 19183, 20468, 18822, 14721, 16068, 18195, 17918, 23997, 31541, 25503, 14907, 16418, 22881, 26688, 27702, 15268, 17317, 30439, 26339, 19593, 29562, 21909, 26535, 18255, 20182, 22700, 21092, 19134, 23316, 14746, 17112, 17341, 20577, 25315, 26202, 16996, 14805, 18742, 26085, 21365, 14584, 19992, 21454, 17203, 17587, 23091, 21335, 18869, 18924, 24894, 14806, 16293, 23732, 26421, 17241, 18495, 27455, 15328, 15008, 14929, 16020, 22952, 19109, 15119, 15693, 29167, 29234, 15698, 15911, 16159, 17716, 17908, 16073, 15131, 18831, 22389, 15104, 22513, 18969, 20921, 15872, 23166, 28299, 24405, 15849, 17171, 21084, 23972, 31217]\n",
      "[14496, 23579, 25358, 19795, 23400, 15060, 20205, 16270, 28781, 24182, 17041, 17461, 19591, 24535, 23787, 18087, 25880, 15062, 18442, 19829, 21781, 25627, 15456, 21342, 14611, 24564, 20047, 16132, 19797, 24544, 24577, 16636, 19183, 20468, 18822, 14721, 16068, 18195, 17918, 23997, 31541, 25503, 14907, 16418, 22881, 26688, 27702, 15268, 17317, 30439, 26339, 19593, 29562, 21909, 26535, 18255, 20182, 22700, 21092, 19134, 23316, 14746, 17112, 17341, 20577, 25315, 26202, 16996, 14805, 18742, 26085, 21365, 14584, 19992, 21454, 17203, 17587, 23091, 21335, 18869, 18924, 24894, 14806, 16293, 23732, 26421, 17241, 18495, 27455, 15328, 15008, 14929, 16020, 22952, 19109, 15119, 15693, 29167, 29234, 15698, 15911, 16159, 17716, 17908, 16073, 15131, 18831, 22389, 15104, 22513, 18969, 20921, 15872, 23166, 28299, 24405, 15849, 17171, 21084, 23972, 31217]\n",
      "[24402, 25358, 26289, 28781, 24535, 27868, 25880, 24487, 25627, 24564, 25046, 24544, 24577, 25964, 28654, 31541, 25503, 26688, 27702, 25115, 25413, 30439, 26339, 29562, 30656, 26535, 26158, 24696, 25060, 25315, 26202, 26085, 28686, 30037, 24894, 24935, 26421, 27455, 26626, 27270, 24668, 29167, 29234, 25401, 26892, 29163, 32219, 24642, 28299, 24405, 25848, 29700, 31217]\n",
      "[23579, 25358, 24333, 28781, 24182, 24535, 23787, 25880, 24487, 25627, 24564, 25046, 24544, 24577, 25964, 23997, 31541, 25503, 26688, 27702, 25115, 25413, 30439, 26339, 29562, 30656, 26535, 26158, 24696, 25060, 25315, 26202, 26085, 28686, 24221, 24894, 23732, 26421, 27455, 26626, 27270, 24383, 24668, 29167, 29234, 25401, 26892, 29163, 32219, 24642, 28299, 24405, 25848, 23972, 31217]\n",
      "[8913, 10353, 9528, 19795, 23400, 10099, 9746, 20205, 16270, 8948, 24182, 12604, 8937, 17461, 19591, 24535, 23787, 9164, 18087, 25880, 15062, 18442, 12367, 21781, 25627, 15456, 21342, 11720, 13561, 10256, 14611, 24564, 11479, 11008, 20047, 10169, 12228, 24544, 24577, 12984, 19183, 20468, 18822, 13976, 16068, 10398, 17918, 12015, 31541, 11019, 10590, 14907, 16418, 22881, 10029, 10712, 10351, 15268, 12196, 17317, 30439, 13437, 13954, 12728, 13511, 10501, 12207, 21909, 26535, 9786, 10447, 20182, 22700, 14458, 19134, 23316, 13644, 12646, 14746, 17112, 9374, 9366, 25315, 12722, 16996, 14805, 18742, 26085, 14004, 21365, 9015, 14584, 19992, 21454, 9440, 11637, 9688, 13625, 17587, 23091, 21335, 18869, 18924, 24894, 14806, 16293, 13546, 26421, 17241, 18495, 27455, 15328, 15008, 14929, 16020, 22952, 13294, 15119, 15693, 12852, 9835, 29234, 11763, 15698, 15911, 16159, 10094, 10290, 17716, 17908, 9369, 16073, 10308, 14257, 9964, 11979, 13559, 22389, 10806, 10799, 12333, 9453, 11935, 22513, 18969, 20921, 9507, 15872, 13377, 10859, 9222, 15849, 17171, 9910, 23972, 31217]\n",
      "[10353, 11512, 19795, 23400, 13314, 20205, 16270, 14218, 24182, 12604, 17041, 17461, 19591, 24535, 23787, 18087, 25880, 15062, 18442, 12367, 21781, 25627, 15456, 21342, 11720, 13561, 14611, 24564, 11479, 11008, 20047, 16132, 12228, 24544, 24577, 12984, 19183, 20468, 18822, 13976, 16068, 10398, 17918, 12015, 31541, 11019, 10590, 14907, 16418, 22881, 26688, 10712, 14186, 15268, 12196, 17317, 30439, 13437, 13954, 12728, 13511, 10501, 12207, 21909, 26535, 10447, 20182, 22700, 14458, 19134, 23316, 13644, 12646, 14746, 17112, 17341, 14233, 25315, 12722, 16996, 14805, 18742, 26085, 14004, 21365, 11697, 14584, 19992, 21454, 13047, 11637, 13625, 17587, 23091, 21335, 18869, 18924, 24894, 14806, 16293, 13546, 26421, 17241, 18495, 27455, 15328, 15008, 14929, 16020, 22952, 13294, 15119, 15693, 12852, 13364, 29234, 11763, 15698, 15911, 16159, 17716, 17908, 16073, 15131, 14257, 11979, 13559, 22389, 10806, 10799, 12333, 11935, 22513, 18969, 20921, 15872, 13377, 10859, 24405, 15849, 17171, 21084, 23972, 31217]\n",
      "[6010, 9528, 7108, 23400, 6597, 7942, 20205, 16270, 8948, 24182, 12604, 7610, 8937, 17461, 19591, 24535, 23787, 8151, 8420, 9164, 18087, 25880, 15062, 18442, 6293, 8730, 12367, 21781, 25627, 15456, 21342, 11720, 6615, 10256, 14611, 24564, 11479, 8421, 7289, 7098, 8083, 7414, 10169, 12228, 24544, 7094, 24577, 12984, 19183, 20468, 18822, 6212, 8547, 13976, 7899, 10398, 17918, 12015, 6160, 11019, 10590, 14907, 16418, 22881, 8010, 10712, 10351, 15268, 12196, 17317, 30439, 13437, 6316, 12728, 13511, 8101, 10501, 12207, 21909, 26535, 9786, 10447, 20182, 6403, 6470, 22700, 14458, 19134, 23316, 13644, 7655, 12646, 14746, 17112, 9374, 9366, 25315, 12722, 16996, 14805, 18742, 26085, 14004, 21365, 9015, 14584, 19992, 21454, 9440, 7426, 11637, 7934, 13625, 17587, 23091, 21335, 18869, 6914, 24894, 14806, 16293, 13546, 26421, 17241, 18495, 27455, 15328, 7554, 14929, 6917, 22952, 7491, 7567, 15119, 15693, 7073, 12852, 6911, 9835, 29234, 7650, 8462, 15698, 15911, 16159, 10094, 10290, 6781, 8802, 8885, 17716, 17908, 9369, 6062, 8877, 8697, 6155, 6398, 6061, 13559, 22389, 10806, 10799, 12333, 9453, 11935, 22513, 18969, 20921, 9507, 15872, 13377, 10859, 9222, 15849, 6563, 9910, 23972, 31217]\n",
      "[25358, 26289, 28781, 26371, 27868, 25880, 25627, 29103, 27048, 25964, 28654, 31541, 25503, 26688, 27702, 25413, 30439, 26339, 29562, 30656, 26535, 26158, 29473, 27384, 26202, 26085, 28686, 30037, 26421, 27455, 26626, 27270, 29167, 29234, 25401, 26892, 29163, 32219, 28299, 25848, 29700, 31217]\n",
      "[11512, 19795, 23400, 13314, 20205, 16270, 14218, 24182, 12604, 17041, 17461, 19591, 24535, 23787, 18087, 25880, 15062, 18442, 12367, 21781, 25627, 15456, 21342, 11720, 13561, 14611, 24564, 13922, 14345, 20047, 16132, 12228, 24544, 24577, 12984, 19183, 20468, 18822, 13976, 16068, 18195, 17918, 12015, 31541, 25503, 14907, 16418, 22881, 26688, 27702, 14186, 15268, 12196, 17317, 30439, 13437, 13954, 12728, 13511, 12207, 21909, 26535, 12441, 20182, 22700, 14458, 19134, 23316, 13644, 12646, 14746, 17112, 17341, 14233, 25315, 12722, 16996, 14805, 18742, 26085, 14004, 21365, 11697, 14584, 19992, 21454, 13047, 11637, 13625, 17587, 23091, 21335, 18869, 18924, 24894, 14806, 16293, 13546, 26421, 17241, 18495, 27455, 15328, 15008, 14929, 16020, 22952, 13294, 15119, 15693, 12852, 13364, 29234, 11763, 15698, 15911, 16159, 17716, 17908, 16073, 15131, 14257, 11979, 13559, 22389, 12333, 11935, 22513, 18969, 20921, 15872, 13377, 28299, 24405, 15849, 17171, 21084, 23972, 31217]\n",
      "[9528, 19795, 23400, 10099, 9746, 20205, 16270, 14218, 24182, 12604, 17041, 17461, 19591, 24535, 23787, 18087, 25880, 15062, 18442, 12367, 21781, 25627, 15456, 21342, 11720, 13561, 10256, 14611, 24564, 11479, 11008, 20047, 10169, 12228, 24544, 24577, 12984, 19183, 20468, 18822, 13976, 16068, 10398, 17918, 12015, 31541, 11019, 10590, 14907, 16418, 22881, 10029, 10712, 10351, 15268, 12196, 17317, 30439, 13437, 13954, 12728, 13511, 10501, 12207, 21909, 26535, 9786, 10447, 20182, 22700, 14458, 19134, 23316, 13644, 12646, 14746, 17112, 17341, 14233, 25315, 12722, 16996, 14805, 18742, 26085, 14004, 21365, 11697, 14584, 19992, 21454, 13047, 11637, 9688, 13625, 17587, 23091, 21335, 18869, 18924, 24894, 14806, 16293, 13546, 26421, 17241, 18495, 27455, 15328, 15008, 14929, 16020, 22952, 13294, 15119, 15693, 12852, 9835, 29234, 11763, 15698, 15911, 16159, 10094, 10290, 17716, 17908, 16073, 10308, 14257, 9964, 11979, 13559, 22389, 10806, 10799, 12333, 11935, 22513, 18969, 20921, 15872, 13377, 10859, 24405, 15849, 17171, 9910, 23972, 31217]\n",
      "[26289, 28781, 26371, 27868, 27082, 29103, 27048, 28654, 31541, 26688, 27702, 30439, 26339, 29562, 30656, 26535, 30391, 29473, 27384, 28064, 28686, 30037, 26421, 27455, 26626, 27270, 29167, 29234, 26892, 29163, 32219, 28299, 29700, 31217]\n",
      "[24333, 28781, 24535, 27868, 25880, 24487, 25627, 24564, 25046, 24544, 24577, 25964, 28654, 31541, 25503, 26688, 27702, 25115, 25413, 30439, 26339, 29562, 30656, 26535, 26158, 24696, 25060, 25315, 26202, 26085, 28686, 30037, 24894, 24935, 26421, 27455, 26626, 27270, 24383, 24668, 29167, 29234, 25401, 26892, 29163, 32219, 24642, 28299, 24405, 25848, 29700, 31217]\n",
      "[19795, 23400, 20205, 20698, 28781, 24182, 20117, 24535, 23787, 25880, 20754, 19829, 21781, 25627, 21125, 21342, 21342, 24564, 20047, 19797, 24544, 24577, 20468, 19811, 22300, 23997, 31541, 25503, 22881, 26688, 27702, 25115, 23255, 30439, 26339, 29562, 21909, 26535, 20182, 22700, 21092, 23378, 23316, 20577, 25315, 26202, 26085, 21365, 19992, 21454, 23091, 21335, 24894, 23732, 26421, 27455, 26626, 20743, 22952, 24383, 23442, 29167, 29234, 23325, 25401, 26892, 21953, 22389, 22513, 20921, 21723, 23166, 28299, 24405, 21084, 23972, 31217]\n",
      "[4966, 7108, 23400, 6597, 7942, 5728, 16270, 8948, 24182, 5981, 7610, 8937, 17461, 5470, 24535, 23787, 8151, 8420, 9164, 18087, 25880, 15062, 18442, 6293, 8730, 12367, 21781, 25627, 5484, 21342, 11720, 6615, 10256, 14611, 24564, 11479, 8421, 7289, 7098, 8083, 7414, 10169, 12228, 5570, 7094, 24577, 12984, 19183, 20468, 18822, 6212, 8547, 13976, 7899, 10398, 17918, 12015, 6160, 11019, 5355, 14907, 16418, 5838, 8010, 10712, 10351, 15268, 5515, 12196, 17317, 30439, 13437, 6316, 12728, 13511, 8101, 10501, 12207, 21909, 26535, 9786, 10447, 20182, 6403, 6470, 22700, 14458, 19134, 5542, 23316, 13644, 7655, 12646, 14746, 17112, 9374, 9366, 25315, 12722, 16996, 14805, 18742, 26085, 14004, 21365, 9015, 14584, 19992, 21454, 9440, 7426, 11637, 7934, 13625, 17587, 23091, 21335, 18869, 6914, 5637, 5261, 5340, 14806, 16293, 5119, 13546, 5342, 17241, 18495, 27455, 15328, 7554, 14929, 6917, 22952, 5811, 7491, 7567, 15119, 15693, 7073, 12852, 6911, 9835, 29234, 7650, 8462, 15698, 15911, 16159, 5527, 10094, 10290, 6781, 8802, 8885, 17716, 17908, 9369, 5582, 8877, 8697, 6155, 6398, 5337, 6061, 13559, 22389, 10806, 10799, 12333, 9453, 11935, 22513, 18969, 20921, 9507, 15872, 13377, 10859, 9222, 15849, 6563, 9910, 23972, 5979]\n",
      "[2477, 7108, 23400, 6597, 7942, 5728, 16270, 8948, 24182, 5981, 7610, 8937, 17461, 5470, 24535, 2840, 8151, 8420, 9164, 4808, 18087, 25880, 15062, 18442, 6293, 8730, 12367, 21781, 25627, 5484, 21342, 11720, 6615, 10256, 14611, 24564, 11479, 8421, 7289, 7098, 4226, 8083, 7414, 10169, 12228, 5570, 7094, 24577, 12984, 19183, 20468, 18822, 6212, 8547, 13976, 7899, 10398, 17918, 12015, 3622, 6160, 11019, 5355, 14907, 16418, 5838, 8010, 10712, 10351, 15268, 5515, 12196, 3833, 30439, 13437, 6316, 4475, 12728, 13511, 3730, 4645, 8101, 10501, 12207, 21909, 26535, 9786, 10447, 2778, 6403, 6470, 22700, 2890, 19134, 5542, 23316, 13644, 7655, 12646, 14746, 17112, 9374, 9366, 25315, 12722, 16996, 14805, 18742, 26085, 14004, 2768, 4425, 9015, 14584, 19992, 21454, 9440, 7426, 11637, 7934, 13625, 17587, 23091, 4240, 21335, 18869, 6914, 5637, 5261, 5340, 14806, 16293, 5119, 13546, 5342, 17241, 18495, 27455, 15328, 7554, 3260, 3758, 3387, 2575, 3576, 22952, 5811, 7491, 3123, 15119, 15693, 7073, 12852, 6911, 9835, 29234, 7650, 8462, 15698, 15911, 16159, 5527, 10094, 10290, 6781, 8802, 8885, 17716, 17908, 9369, 5582, 8877, 8697, 6155, 6398, 5337, 6061, 13559, 22389, 10806, 10799, 12333, 2964, 9453, 11935, 22513, 18969, 20921, 9507, 15872, 13377, 10859, 9222, 15849, 6563, 9910, 3386, 23972, 5979]\n",
      "[7108, 23400, 10099, 7942, 20205, 16270, 8948, 24182, 12604, 7610, 8937, 17461, 19591, 24535, 23787, 8151, 8420, 9164, 18087, 25880, 15062, 18442, 8730, 12367, 21781, 25627, 15456, 21342, 11720, 13561, 10256, 14611, 24564, 11479, 8421, 7289, 20047, 8083, 7414, 10169, 12228, 24544, 24577, 12984, 19183, 20468, 18822, 8547, 13976, 7899, 10398, 17918, 12015, 8043, 11019, 10590, 14907, 16418, 22881, 8010, 10712, 10351, 15268, 12196, 17317, 30439, 13437, 13954, 12728, 13511, 8101, 10501, 12207, 21909, 26535, 9786, 10447, 20182, 22700, 14458, 19134, 23316, 13644, 7655, 12646, 14746, 17112, 9374, 9366, 25315, 12722, 16996, 14805, 18742, 26085, 14004, 21365, 9015, 14584, 19992, 21454, 9440, 7426, 11637, 7934, 13625, 17587, 23091, 21335, 18869, 18924, 24894, 14806, 16293, 13546, 26421, 17241, 18495, 27455, 15328, 7554, 14929, 16020, 22952, 7491, 7567, 15119, 15693, 12852, 9835, 29234, 7650, 8462, 15698, 15911, 16159, 10094, 10290, 8760, 8802, 8885, 17716, 17908, 9369, 16073, 8877, 8697, 9964, 8890, 13559, 22389, 10806, 10799, 12333, 9453, 11935, 22513, 18969, 20921, 9507, 15872, 13377, 10859, 9222, 15849, 17171, 9910, 23972, 31217]\n",
      "[23400, 28781, 24182, 24535, 23787, 25880, 24487, 25627, 24564, 25046, 24544, 24577, 25964, 23997, 31541, 25503, 26688, 27702, 25115, 25413, 30439, 26339, 29562, 30656, 26535, 26158, 24696, 25060, 25315, 26202, 26085, 28686, 24221, 24894, 23732, 26421, 27455, 26626, 27270, 24383, 23442, 29167, 29234, 25401, 26892, 29163, 32219, 24642, 28299, 24405, 25848, 23972, 31217]\n",
      "[31924, 32626, 32121, 32219, 32000]\n",
      "[29270, 29863, 30395, 31312, 31541, 30439, 31159, 29562, 30656, 30391, 29473, 31379, 29334, 30037, 29495, 30118, 30621, 29498, 32219, 29700, 31217]\n",
      "[22096, 28781, 24182, 24535, 23787, 25880, 22921, 25627, 22392, 24564, 25046, 24544, 24577, 25964, 22300, 23997, 31541, 25503, 22881, 26688, 27702, 25115, 23255, 30439, 26339, 29562, 30656, 26535, 22700, 23378, 23316, 25060, 25315, 26202, 26085, 28686, 23091, 24221, 24894, 23732, 26421, 27455, 26626, 27270, 22952, 24383, 23442, 29167, 29234, 23325, 25401, 26892, 22389, 22513, 23166, 28299, 24405, 25848, 23972, 31217]\n",
      "[10099, 13314, 20205, 16270, 14218, 24182, 12604, 17041, 17461, 19591, 24535, 23787, 18087, 25880, 15062, 18442, 12367, 21781, 25627, 15456, 21342, 11720, 13561, 10256, 14611, 24564, 11479, 11008, 20047, 10169, 12228, 24544, 24577, 12984, 19183, 20468, 18822, 13976, 16068, 10398, 17918, 12015, 31541, 11019, 10590, 14907, 16418, 22881, 26688, 10712, 10351, 15268, 12196, 17317, 30439, 13437, 13954, 12728, 13511, 10501, 12207, 21909, 26535, 10447, 20182, 22700, 14458, 19134, 23316, 13644, 12646, 14746, 17112, 17341, 14233, 25315, 12722, 16996, 14805, 18742, 26085, 14004, 21365, 11697, 14584, 19992, 21454, 13047, 11637, 13625, 17587, 23091, 21335, 18869, 18924, 24894, 14806, 16293, 13546, 26421, 17241, 18495, 27455, 15328, 15008, 14929, 16020, 22952, 13294, 15119, 15693, 12852, 13364, 29234, 11763, 15698, 15911, 16159, 10290, 17716, 17908, 16073, 10308, 14257, 11979, 13559, 22389, 10806, 10799, 12333, 11935, 22513, 18969, 20921, 15872, 13377, 10859, 24405, 15849, 17171, 21084, 23972, 31217]\n",
      "[6597, 7942, 20205, 16270, 8948, 24182, 12604, 7610, 8937, 17461, 19591, 24535, 23787, 8151, 8420, 9164, 18087, 25880, 15062, 18442, 8730, 12367, 21781, 25627, 15456, 21342, 11720, 6615, 10256, 14611, 24564, 11479, 8421, 7289, 7098, 8083, 7414, 10169, 12228, 24544, 7094, 24577, 12984, 19183, 20468, 18822, 8547, 13976, 7899, 10398, 17918, 12015, 8043, 11019, 10590, 14907, 16418, 22881, 8010, 10712, 10351, 15268, 12196, 17317, 30439, 13437, 13954, 12728, 13511, 8101, 10501, 12207, 21909, 26535, 9786, 10447, 20182, 22700, 14458, 19134, 23316, 13644, 7655, 12646, 14746, 17112, 9374, 9366, 25315, 12722, 16996, 14805, 18742, 26085, 14004, 21365, 9015, 14584, 19992, 21454, 9440, 7426, 11637, 7934, 13625, 17587, 23091, 21335, 18869, 6914, 24894, 14806, 16293, 13546, 26421, 17241, 18495, 27455, 15328, 7554, 14929, 6917, 22952, 7491, 7567, 15119, 15693, 7073, 12852, 6911, 9835, 29234, 7650, 8462, 15698, 15911, 16159, 10094, 10290, 6781, 8802, 8885, 17716, 17908, 9369, 16073, 8877, 8697, 7025, 6634, 7067, 13559, 22389, 10806, 10799, 12333, 9453, 11935, 22513, 18969, 20921, 9507, 15872, 13377, 10859, 9222, 15849, 17171, 9910, 23972, 31217]\n",
      "[15060, 20205, 16270, 28781, 24182, 17041, 17461, 19591, 24535, 23787, 18087, 25880, 15062, 18442, 19829, 21781, 25627, 15456, 21342, 21342, 24564, 20047, 16132, 19797, 24544, 24577, 16636, 19183, 20468, 18822, 16068, 18195, 17918, 23997, 31541, 25503, 16418, 22881, 26688, 27702, 15268, 17317, 30439, 26339, 19593, 29562, 21909, 26535, 18255, 20182, 22700, 21092, 19134, 23316, 17112, 17341, 20577, 25315, 26202, 16996, 17181, 18742, 26085, 21365, 19992, 21454, 17203, 17587, 23091, 21335, 18869, 18924, 24894, 16293, 23732, 26421, 17241, 18495, 27455, 15328, 16020, 22952, 19109, 15119, 15693, 29167, 29234, 15698, 15911, 16159, 17716, 17908, 16073, 15131, 18831, 22389, 15104, 22513, 18969, 20921, 15872, 23166, 28299, 24405, 15849, 17171, 21084, 23972, 31217]\n",
      "[13314, 20205, 16270, 14218, 24182, 17041, 17461, 19591, 24535, 23787, 18087, 25880, 15062, 18442, 19829, 21781, 25627, 15456, 21342, 13561, 14611, 24564, 13922, 14345, 20047, 16132, 19797, 24544, 24577, 16636, 19183, 20468, 18822, 13976, 16068, 18195, 17918, 23997, 31541, 25503, 14907, 16418, 22881, 26688, 27702, 14186, 15268, 17317, 30439, 13437, 13954, 13511, 29562, 21909, 26535, 18255, 20182, 22700, 14458, 19134, 23316, 13644, 14746, 17112, 17341, 14233, 25315, 26202, 16996, 14805, 18742, 26085, 14004, 21365, 14584, 19992, 21454, 13559, 13625, 17587, 23091, 21335, 18869, 18924, 24894, 14806, 16293, 13546, 26421, 17241, 18495, 27455, 15328, 15008, 14929, 16020, 22952, 19109, 15119, 15693, 13364, 29234, 15698, 15911, 16159, 17716, 17908, 16073, 15131, 14257, 13559, 22389, 15104, 22513, 18969, 20921, 15872, 13377, 28299, 24405, 15849, 17171, 21084, 23972, 31217]\n",
      "[9746, 20205, 16270, 14218, 24182, 12604, 17041, 17461, 19591, 24535, 23787, 18087, 25880, 15062, 18442, 12367, 21781, 25627, 15456, 21342, 11720, 13561, 10256, 14611, 24564, 11479, 11008, 20047, 10169, 12228, 24544, 24577, 12984, 19183, 20468, 18822, 13976, 16068, 10398, 17918, 12015, 31541, 11019, 10590, 14907, 16418, 22881, 10029, 10712, 10351, 15268, 12196, 17317, 30439, 13437, 13954, 12728, 13511, 10501, 12207, 21909, 26535, 9786, 10447, 20182, 22700, 14458, 19134, 23316, 13644, 12646, 14746, 17112, 17341, 14233, 25315, 12722, 16996, 14805, 18742, 26085, 14004, 21365, 11697, 14584, 19992, 21454, 13047, 11637, 13625, 17587, 23091, 21335, 18869, 18924, 24894, 14806, 16293, 13546, 26421, 17241, 18495, 27455, 15328, 15008, 14929, 16020, 22952, 13294, 15119, 15693, 12852, 9835, 29234, 11763, 15698, 15911, 16159, 10094, 10290, 17716, 17908, 16073, 10308, 14257, 9964, 11979, 13559, 22389, 10806, 10799, 12333, 11935, 22513, 18969, 20921, 15872, 13377, 10859, 24405, 15849, 17171, 9910, 23972, 31217]\n",
      "[7942, 20205, 16270, 8948, 24182, 12604, 8937, 17461, 19591, 24535, 23787, 8151, 8420, 9164, 18087, 25880, 15062, 18442, 8730, 12367, 21781, 25627, 15456, 21342, 11720, 13561, 10256, 14611, 24564, 11479, 8421, 11008, 20047, 8083, 10169, 12228, 24544, 24577, 12984, 19183, 20468, 18822, 8547, 13976, 16068, 10398, 17918, 12015, 8043, 11019, 10590, 14907, 16418, 22881, 8010, 10712, 10351, 15268, 12196, 17317, 30439, 13437, 13954, 12728, 13511, 8101, 10501, 12207, 21909, 26535, 9786, 10447, 20182, 22700, 14458, 19134, 23316, 13644, 12646, 14746, 17112, 9374, 9366, 25315, 12722, 16996, 14805, 18742, 26085, 14004, 21365, 9015, 14584, 19992, 21454, 9440, 11637, 9688, 13625, 17587, 23091, 21335, 18869, 18924, 24894, 14806, 16293, 13546, 26421, 17241, 18495, 27455, 15328, 15008, 14929, 16020, 22952, 13294, 15119, 15693, 12852, 9835, 29234, 8462, 15698, 15911, 16159, 10094, 10290, 8760, 8802, 8885, 17716, 17908, 9369, 16073, 8877, 8697, 9964, 8890, 13559, 22389, 10806, 10799, 12333, 9453, 11935, 22513, 18969, 20921, 9507, 15872, 13377, 10859, 9222, 15849, 17171, 9910, 23972, 31217]\n",
      "[20205, 20698, 28781, 24182, 24535, 23787, 25880, 20754, 21197, 21781, 25627, 21125, 21342, 21342, 24564, 21413, 24544, 24577, 20468, 22039, 22300, 23997, 31541, 25503, 22881, 26688, 27702, 25115, 23255, 30439, 26339, 29562, 21909, 26535, 22700, 21092, 23378, 23316, 20577, 25315, 26202, 26085, 21365, 21454, 23091, 21335, 24894, 23732, 26421, 27455, 26626, 20743, 22952, 24383, 23442, 29167, 29234, 23325, 25401, 26892, 21953, 22389, 22513, 20921, 21723, 23166, 28299, 24405, 21084, 23972, 31217]\n",
      "[5728, 16270, 8948, 24182, 5981, 7610, 8937, 17461, 19591, 24535, 23787, 8151, 8420, 9164, 18087, 25880, 15062, 18442, 6293, 8730, 12367, 21781, 25627, 15456, 21342, 11720, 6615, 10256, 14611, 24564, 11479, 8421, 7289, 7098, 8083, 7414, 10169, 12228, 24544, 7094, 24577, 12984, 19183, 20468, 18822, 6212, 8547, 13976, 7899, 10398, 17918, 12015, 6160, 11019, 10590, 14907, 16418, 5838, 8010, 10712, 10351, 15268, 12196, 17317, 30439, 13437, 6316, 12728, 13511, 8101, 10501, 12207, 21909, 26535, 9786, 10447, 20182, 6403, 6470, 22700, 14458, 19134, 5751, 23316, 13644, 7655, 12646, 14746, 17112, 9374, 9366, 25315, 12722, 16996, 14805, 18742, 26085, 14004, 21365, 9015, 14584, 19992, 21454, 9440, 7426, 11637, 7934, 13625, 17587, 23091, 21335, 18869, 6914, 24894, 14806, 16293, 13546, 26421, 17241, 18495, 27455, 15328, 7554, 14929, 6917, 22952, 5811, 7491, 7567, 15119, 15693, 7073, 12852, 6911, 9835, 29234, 7650, 8462, 15698, 15911, 16159, 10094, 10290, 6781, 8802, 8885, 17716, 17908, 9369, 6062, 8877, 8697, 6155, 6398, 6061, 13559, 22389, 10806, 10799, 12333, 9453, 11935, 22513, 18969, 20921, 9507, 15872, 13377, 10859, 9222, 15849, 6563, 9910, 23972, 5979]\n",
      "[1090, 16270, 8948, 24182, 1351, 7610, 8937, 17461, 5470, 24535, 2840, 8151, 8420, 1409, 1634, 4808, 18087, 25880, 15062, 18442, 6293, 8730, 12367, 21781, 25627, 5484, 21342, 1475, 11720, 6615, 10256, 14611, 2057, 1240, 11479, 8421, 7289, 7098, 4226, 8083, 7414, 10169, 12228, 5570, 7094, 24577, 2355, 12984, 19183, 20468, 18822, 6212, 8547, 1807, 13976, 7899, 10398, 17918, 12015, 3622, 6160, 11019, 5355, 14907, 16418, 5838, 8010, 10712, 2186, 10351, 15268, 5515, 12196, 3833, 30439, 13437, 6316, 4475, 12728, 13511, 3730, 4645, 1437, 10501, 12207, 21909, 26535, 9786, 10447, 2778, 6403, 6470, 22700, 2890, 19134, 5542, 23316, 13644, 7655, 12646, 14746, 17112, 9374, 1445, 25315, 12722, 16996, 14805, 18742, 26085, 14004, 2768, 4425, 1270, 14584, 19992, 21454, 9440, 7426, 11637, 7934, 13625, 17587, 23091, 4240, 21335, 18869, 6914, 1390, 5261, 5340, 14806, 16293, 5119, 13546, 5342, 17241, 18495, 27455, 15328, 1371, 3260, 3758, 3387, 2575, 3576, 22952, 5811, 7491, 3123, 15119, 15693, 7073, 12852, 6911, 9835, 29234, 7650, 8462, 15698, 15911, 16159, 5527, 10094, 10290, 6781, 8802, 8885, 17716, 17908, 9369, 5582, 8877, 8697, 6155, 6398, 5337, 6061, 13559, 22389, 10806, 10799, 12333, 2964, 1875, 9453, 11935, 22513, 18969, 20921, 9507, 15872, 13377, 10859, 9222, 15849, 6563, 9910, 3386, 23972, 5979]\n",
      "[20698, 28781, 24182, 24535, 23787, 25880, 20754, 21197, 21781, 25627, 21125, 21342, 21342, 24564, 21413, 24544, 24577, 22039, 22300, 23997, 31541, 25503, 22881, 26688, 27702, 25115, 23255, 30439, 26339, 29562, 21909, 26535, 22700, 21092, 23378, 23316, 25060, 25315, 26202, 26085, 21365, 21454, 23091, 21335, 24894, 23732, 26421, 27455, 26626, 20743, 22952, 24383, 23442, 29167, 29234, 23325, 25401, 26892, 21953, 22389, 22513, 20921, 21723, 23166, 28299, 24405, 21084, 23972, 31217]\n",
      "[16270, 28781, 24182, 17041, 17461, 19591, 24535, 23787, 18087, 25880, 20754, 18442, 19829, 21781, 25627, 21125, 21342, 21342, 24564, 20047, 19797, 24544, 24577, 16636, 19183, 20468, 18822, 16685, 18195, 17918, 23997, 31541, 25503, 16418, 22881, 26688, 27702, 25115, 17317, 30439, 26339, 19593, 29562, 21909, 26535, 18255, 20182, 22700, 21092, 19134, 23316, 17112, 17341, 20577, 25315, 26202, 16996, 17181, 18742, 26085, 21365, 19992, 21454, 17203, 17587, 23091, 21335, 18869, 18924, 24894, 16293, 23732, 26421, 17241, 18495, 27455, 26626, 20743, 22952, 19109, 16555, 29167, 29234, 23325, 25401, 17716, 17908, 17269, 18831, 22389, 22513, 18969, 20921, 21723, 23166, 28299, 24405, 17171, 21084, 23972, 31217]\n",
      "[28781, 29863, 29104, 29103, 31312, 31541, 30439, 31159, 29562, 30656, 30391, 29473, 31379, 29334, 30037, 29495, 30118, 29167, 29234, 29163, 32219, 29700, 31217]\n",
      "[14218, 24182, 17041, 17461, 19591, 24535, 23787, 18087, 25880, 15062, 18442, 19829, 21781, 25627, 15456, 21342, 14611, 24564, 14345, 20047, 16132, 19797, 24544, 24577, 16636, 19183, 20468, 18822, 14721, 16068, 18195, 17918, 23997, 31541, 25503, 14907, 16418, 22881, 26688, 27702, 15268, 17317, 30439, 26339, 19593, 29562, 21909, 26535, 18255, 20182, 22700, 14458, 19134, 23316, 14746, 17112, 17341, 14233, 25315, 26202, 16996, 14805, 18742, 26085, 21365, 14584, 19992, 21454, 17203, 17587, 23091, 21335, 18869, 18924, 24894, 14806, 16293, 23732, 26421, 17241, 18495, 27455, 15328, 15008, 14929, 16020, 22952, 19109, 15119, 15693, 29167, 29234, 15698, 15911, 16159, 17716, 17908, 16073, 15131, 14257, 18831, 22389, 15104, 22513, 18969, 20921, 15872, 23166, 28299, 24405, 15849, 17171, 21084, 23972, 31217]\n",
      "[8948, 24182, 12604, 17041, 17461, 19591, 24535, 23787, 9164, 18087, 25880, 15062, 18442, 12367, 21781, 25627, 15456, 21342, 11720, 13561, 10256, 14611, 24564, 11479, 11008, 20047, 10169, 12228, 24544, 24577, 12984, 19183, 20468, 18822, 13976, 16068, 10398, 17918, 12015, 31541, 11019, 10590, 14907, 16418, 22881, 10029, 10712, 10351, 15268, 12196, 17317, 30439, 13437, 13954, 12728, 13511, 10501, 12207, 21909, 26535, 9786, 10447, 20182, 22700, 14458, 19134, 23316, 13644, 12646, 14746, 17112, 9374, 9366, 25315, 12722, 16996, 14805, 18742, 26085, 14004, 21365, 9015, 14584, 19992, 21454, 9440, 11637, 9688, 13625, 17587, 23091, 21335, 18869, 18924, 24894, 14806, 16293, 13546, 26421, 17241, 18495, 27455, 15328, 15008, 14929, 16020, 22952, 13294, 15119, 15693, 12852, 9835, 29234, 11763, 15698, 15911, 16159, 10094, 10290, 17716, 17908, 9369, 16073, 10308, 14257, 9964, 11979, 13559, 22389, 10806, 10799, 12333, 9453, 11935, 22513, 18969, 20921, 9507, 15872, 13377, 10859, 9222, 15849, 17171, 9910, 23972, 31217]\n",
      "[29863, 30395, 31312, 31541, 30439, 31159, 29956, 30656, 30391, 31386, 31379, 30037, 30118, 30621, 31530, 32219, 31217]\n",
      "[299, 24182, 1351, 7610, 8937, 17461, 5470, 24535, 2840, 8151, 8420, 1409, 1634, 4808, 18087, 25880, 15062, 18442, 6293, 8730, 787, 21781, 25627, 5484, 21342, 1475, 11720, 6615, 10256, 14611, 2057, 1240, 11479, 746, 7289, 7098, 4226, 8083, 7414, 10169, 12228, 5570, 7094, 24577, 2355, 12984, 19183, 20468, 18822, 6212, 8547, 414, 13976, 7899, 10398, 17918, 12015, 3622, 6160, 11019, 5355, 14907, 16418, 5838, 8010, 10712, 2186, 10351, 15268, 1064, 12196, 3833, 397, 13437, 6316, 4475, 12728, 13511, 3730, 4645, 1437, 10501, 12207, 21909, 26535, 9786, 10447, 2778, 6403, 6470, 22700, 2890, 19134, 5542, 23316, 13644, 7655, 12646, 14746, 17112, 9374, 1445, 25315, 12722, 16996, 14805, 18742, 26085, 14004, 2768, 4425, 1270, 14584, 19992, 21454, 9440, 557, 11637, 875, 7934, 13625, 17587, 23091, 4240, 21335, 18869, 6914, 1390, 5261, 5340, 14806, 16293, 5119, 13546, 5342, 17241, 18495, 27455, 15328, 1371, 3260, 3758, 3387, 2575, 3576, 22952, 5811, 7491, 3123, 15119, 15693, 7073, 12852, 6911, 9835, 29234, 7650, 8462, 15698, 15911, 16159, 5527, 10094, 10290, 6781, 8802, 8885, 17716, 17908, 9369, 5582, 8877, 8697, 6155, 6398, 5337, 6061, 13559, 22389, 10806, 10799, 12333, 2964, 357, 1875, 9453, 11935, 22513, 18969, 20921, 9507, 15872, 817, 13377, 10859, 9222, 15849, 6563, 9910, 3386, 23972, 5979]\n",
      "[24182, 24535, 27868, 25880, 24487, 25627, 24564, 25046, 24544, 24577, 25964, 28654, 31541, 25503, 26688, 27702, 25115, 25413, 30439, 26339, 29562, 30656, 26535, 26158, 24696, 25060, 25315, 26202, 26085, 28686, 24221, 24894, 24935, 26421, 27455, 26626, 27270, 24383, 24668, 29167, 29234, 25401, 26892, 29163, 32219, 24642, 28299, 24405, 25848, 29700, 31217]\n",
      "[26371, 27868, 27082, 29103, 27048, 28654, 31541, 26688, 27702, 30439, 27283, 29562, 30656, 26535, 30391, 29473, 27384, 28064, 28686, 30037, 26421, 27455, 26626, 27270, 29167, 29234, 26892, 29163, 32219, 28299, 29700, 31217]\n",
      "[12604, 17041, 17461, 19591, 24535, 23787, 18087, 25880, 15062, 18442, 19829, 21781, 25627, 15456, 21342, 13561, 14611, 24564, 13922, 14345, 20047, 16132, 19797, 24544, 24577, 12984, 19183, 20468, 18822, 13976, 16068, 18195, 17918, 23997, 31541, 25503, 14907, 16418, 22881, 26688, 27702, 14186, 15268, 12853, 17317, 30439, 13437, 13954, 12728, 13511, 29562, 21909, 26535, 18255, 20182, 22700, 14458, 19134, 23316, 13644, 12646, 14746, 17112, 17341, 14233, 25315, 12722, 16996, 14805, 18742, 26085, 14004, 21365, 14584, 19992, 21454, 13047, 13559, 13625, 17587, 23091, 21335, 18869, 18924, 24894, 14806, 16293, 13546, 26421, 17241, 18495, 27455, 15328, 15008, 14929, 16020, 22952, 13294, 15119, 15693, 12852, 13364, 29234, 15698, 15911, 16159, 17716, 17908, 16073, 15131, 14257, 13559, 22389, 15104, 22513, 18969, 20921, 15872, 13377, 28299, 24405, 15849, 17171, 21084, 23972, 31217]\n",
      "[5981, 7610, 8937, 17461, 19591, 24535, 23787, 8151, 8420, 9164, 18087, 25880, 15062, 18442, 6293, 8730, 12367, 21781, 25627, 15456, 21342, 11720, 6615, 10256, 14611, 24564, 11479, 8421, 7289, 7098, 8083, 7414, 10169, 12228, 24544, 7094, 24577, 12984, 19183, 20468, 18822, 6212, 8547, 13976, 7899, 10398, 17918, 12015, 6160, 11019, 10590, 14907, 16418, 22881, 8010, 10712, 10351, 15268, 12196, 17317, 30439, 13437, 6316, 12728, 13511, 8101, 10501, 12207, 21909, 26535, 9786, 10447, 20182, 6403, 6470, 22700, 14458, 19134, 23316, 13644, 7655, 12646, 14746, 17112, 9374, 9366, 25315, 12722, 16996, 14805, 18742, 26085, 14004, 21365, 9015, 14584, 19992, 21454, 9440, 7426, 11637, 7934, 13625, 17587, 23091, 21335, 18869, 6914, 24894, 14806, 16293, 13546, 26421, 17241, 18495, 27455, 15328, 7554, 14929, 6917, 22952, 7491, 7567, 15119, 15693, 7073, 12852, 6911, 9835, 29234, 7650, 8462, 15698, 15911, 16159, 10094, 10290, 6781, 8802, 8885, 17716, 17908, 9369, 6062, 8877, 8697, 6155, 6398, 6061, 13559, 22389, 10806, 10799, 12333, 9453, 11935, 22513, 18969, 20921, 9507, 15872, 13377, 10859, 9222, 15849, 6563, 9910, 23972, 31217]\n",
      "[1351, 7610, 8937, 17461, 5470, 24535, 2840, 8151, 8420, 1409, 1634, 4808, 18087, 25880, 15062, 18442, 6293, 8730, 12367, 21781, 25627, 5484, 21342, 1475, 11720, 6615, 10256, 14611, 2057, 11479, 8421, 7289, 7098, 4226, 8083, 7414, 10169, 12228, 5570, 7094, 24577, 2355, 12984, 19183, 20468, 18822, 6212, 8547, 1807, 13976, 7899, 10398, 17918, 12015, 3622, 6160, 11019, 5355, 14907, 16418, 5838, 8010, 10712, 2186, 10351, 15268, 5515, 12196, 3833, 30439, 13437, 6316, 4475, 12728, 13511, 3730, 4645, 1437, 10501, 12207, 21909, 26535, 9786, 10447, 2778, 6403, 6470, 22700, 2890, 19134, 5542, 23316, 13644, 7655, 12646, 14746, 17112, 9374, 1445, 25315, 12722, 16996, 14805, 18742, 26085, 14004, 2768, 4425, 9015, 14584, 19992, 21454, 9440, 7426, 11637, 7934, 13625, 17587, 23091, 4240, 21335, 18869, 6914, 1390, 5261, 5340, 14806, 16293, 5119, 13546, 5342, 17241, 18495, 27455, 15328, 1371, 3260, 3758, 3387, 2575, 3576, 22952, 5811, 7491, 3123, 15119, 15693, 7073, 12852, 6911, 9835, 29234, 7650, 8462, 15698, 15911, 16159, 5527, 10094, 10290, 6781, 8802, 8885, 17716, 17908, 9369, 5582, 8877, 8697, 6155, 6398, 5337, 6061, 13559, 22389, 10806, 10799, 12333, 2964, 1875, 9453, 11935, 22513, 18969, 20921, 9507, 15872, 13377, 10859, 9222, 15849, 6563, 9910, 3386, 23972, 5979]\n",
      "[20117, 24535, 23787, 25880, 20754, 21197, 21781, 25627, 21125, 21342, 21342, 24564, 21413, 24544, 24577, 20468, 22039, 22300, 23997, 31541, 25503, 22881, 26688, 27702, 25115, 23255, 30439, 26339, 29562, 21909, 26535, 20182, 22700, 21092, 23378, 23316, 20577, 25315, 26202, 26085, 21365, 21454, 23091, 21335, 24894, 23732, 26421, 27455, 26626, 20743, 22952, 24383, 23442, 29167, 29234, 23325, 25401, 26892, 21953, 22389, 22513, 20921, 21723, 23166, 28299, 24405, 21084, 23972, 31217]\n",
      "[7610, 8937, 17461, 19591, 24535, 23787, 8151, 8420, 9164, 18087, 25880, 15062, 18442, 8730, 12367, 21781, 25627, 15456, 21342, 11720, 13561, 10256, 14611, 24564, 11479, 8421, 11008, 20047, 8083, 10169, 12228, 24544, 24577, 12984, 19183, 20468, 18822, 8547, 13976, 7899, 10398, 17918, 12015, 8043, 11019, 10590, 14907, 16418, 22881, 8010, 10712, 10351, 15268, 12196, 17317, 30439, 13437, 13954, 12728, 13511, 8101, 10501, 12207, 21909, 26535, 9786, 10447, 20182, 22700, 14458, 19134, 23316, 13644, 7655, 12646, 14746, 17112, 9374, 9366, 25315, 12722, 16996, 14805, 18742, 26085, 14004, 21365, 9015, 14584, 19992, 21454, 9440, 11637, 7934, 13625, 17587, 23091, 21335, 18869, 18924, 24894, 14806, 16293, 13546, 26421, 17241, 18495, 27455, 15328, 15008, 14929, 16020, 22952, 13294, 15119, 15693, 12852, 9835, 29234, 7650, 8462, 15698, 15911, 16159, 10094, 10290, 8760, 8802, 8885, 17716, 17908, 9369, 16073, 8877, 8697, 9964, 8890, 13559, 22389, 10806, 10799, 12333, 9453, 11935, 22513, 18969, 20921, 9507, 15872, 13377, 10859, 9222, 15849, 17171, 9910, 23972, 31217]\n",
      "[17041, 17461, 19591, 24535, 23787, 18087, 25880, 20754, 18442, 19829, 21781, 25627, 21125, 21342, 21342, 24564, 20047, 19797, 24544, 24577, 19183, 20468, 18822, 19811, 18195, 17918, 23997, 31541, 25503, 18579, 22881, 26688, 27702, 25115, 17317, 30439, 26339, 19593, 29562, 21909, 26535, 18255, 20182, 22700, 21092, 19134, 23316, 17112, 17341, 20577, 25315, 26202, 17181, 18742, 26085, 21365, 19992, 21454, 17203, 17587, 23091, 21335, 18869, 18924, 24894, 23732, 26421, 17241, 18495, 27455, 26626, 20743, 22952, 19109, 23442, 29167, 29234, 23325, 25401, 17716, 17908, 17269, 18831, 22389, 22513, 18969, 20921, 21723, 23166, 28299, 24405, 17171, 21084, 23972, 31217]\n",
      "[8937, 17461, 19591, 24535, 23787, 9164, 18087, 25880, 15062, 18442, 12367, 21781, 25627, 15456, 21342, 11720, 13561, 10256, 14611, 24564, 11479, 11008, 20047, 10169, 12228, 24544, 24577, 12984, 19183, 20468, 18822, 13976, 16068, 10398, 17918, 12015, 31541, 11019, 10590, 14907, 16418, 22881, 10029, 10712, 10351, 15268, 12196, 17317, 30439, 13437, 13954, 12728, 13511, 10501, 12207, 21909, 26535, 9786, 10447, 20182, 22700, 14458, 19134, 23316, 13644, 12646, 14746, 17112, 9374, 9366, 25315, 12722, 16996, 14805, 18742, 26085, 14004, 21365, 9015, 14584, 19992, 21454, 9440, 11637, 9688, 13625, 17587, 23091, 21335, 18869, 18924, 24894, 14806, 16293, 13546, 26421, 17241, 18495, 27455, 15328, 15008, 14929, 16020, 22952, 13294, 15119, 15693, 12852, 9835, 29234, 11763, 15698, 15911, 16159, 10094, 10290, 17716, 17908, 9369, 16073, 10308, 14257, 9964, 11979, 13559, 22389, 10806, 10799, 12333, 9453, 11935, 22513, 18969, 20921, 9507, 15872, 13377, 10859, 9222, 15849, 17171, 9910, 23972, 31217]\n",
      "[17461, 19591, 24535, 23787, 18087, 25880, 20754, 18442, 19829, 21781, 25627, 21125, 21342, 21342, 24564, 20047, 19797, 24544, 24577, 19183, 20468, 18822, 19811, 18195, 17918, 23997, 31541, 25503, 18579, 22881, 26688, 27702, 25115, 23255, 30439, 26339, 19593, 29562, 21909, 26535, 18255, 20182, 22700, 21092, 19134, 23316, 20577, 25315, 26202, 18742, 26085, 21365, 19992, 21454, 17587, 23091, 21335, 18869, 18924, 24894, 23732, 26421, 18495, 27455, 26626, 20743, 22952, 19109, 23442, 29167, 29234, 23325, 25401, 17716, 17908, 18831, 22389, 22513, 18969, 20921, 21723, 23166, 28299, 24405, 21084, 23972, 31217]\n",
      "[19591, 24535, 23787, 25880, 20754, 19829, 21781, 25627, 21125, 21342, 21342, 24564, 20047, 19797, 24544, 24577, 20468, 19811, 22300, 23997, 31541, 25503, 22881, 26688, 27702, 25115, 23255, 30439, 26339, 19593, 29562, 21909, 26535, 20182, 22700, 21092, 23378, 23316, 20577, 25315, 26202, 26085, 21365, 19992, 21454, 23091, 21335, 24894, 23732, 26421, 27455, 26626, 20743, 22952, 24383, 23442, 29167, 29234, 23325, 25401, 19705, 21953, 22389, 22513, 20921, 21723, 23166, 28299, 24405, 21084, 23972, 31217]\n",
      "[5470, 24535, 23787, 8151, 8420, 9164, 18087, 25880, 15062, 18442, 6293, 8730, 12367, 21781, 25627, 5484, 21342, 11720, 6615, 10256, 14611, 24564, 11479, 8421, 7289, 7098, 8083, 7414, 10169, 12228, 5570, 7094, 24577, 12984, 19183, 20468, 18822, 6212, 8547, 13976, 7899, 10398, 17918, 12015, 6160, 11019, 10590, 14907, 16418, 5838, 8010, 10712, 10351, 15268, 5515, 12196, 17317, 30439, 13437, 6316, 12728, 13511, 8101, 10501, 12207, 21909, 26535, 9786, 10447, 20182, 6403, 6470, 22700, 14458, 19134, 5542, 23316, 13644, 7655, 12646, 14746, 17112, 9374, 9366, 25315, 12722, 16996, 14805, 18742, 26085, 14004, 21365, 9015, 14584, 19992, 21454, 9440, 7426, 11637, 7934, 13625, 17587, 23091, 21335, 18869, 6914, 5637, 14806, 16293, 13546, 26421, 17241, 18495, 27455, 15328, 7554, 14929, 6917, 22952, 5811, 7491, 7567, 15119, 15693, 7073, 12852, 6911, 9835, 29234, 7650, 8462, 15698, 15911, 16159, 5527, 10094, 10290, 6781, 8802, 8885, 17716, 17908, 9369, 5582, 8877, 8697, 6155, 6398, 6061, 13559, 22389, 10806, 10799, 12333, 9453, 11935, 22513, 18969, 20921, 9507, 15872, 13377, 10859, 9222, 15849, 6563, 9910, 23972, 5979]\n",
      "[25125, 27868, 25880, 25627, 29103, 27048, 25964, 28654, 31541, 25503, 26688, 27702, 25413, 30439, 26339, 29562, 30656, 26535, 26158, 29473, 27384, 25315, 26202, 26085, 28686, 30037, 26421, 27455, 26626, 27270, 29167, 29234, 25401, 26892, 29163, 32219, 28299, 25848, 29700, 31217]\n",
      "[24535, 27868, 25880, 25627, 24564, 25046, 24544, 24577, 25964, 28654, 31541, 25503, 26688, 27702, 25115, 25413, 30439, 26339, 29562, 30656, 26535, 26158, 24696, 25060, 25315, 26202, 26085, 28686, 30037, 24894, 24935, 26421, 27455, 26626, 27270, 24668, 29167, 29234, 25401, 26892, 29163, 32219, 24642, 28299, 25848, 29700, 31217]\n",
      "[27868, 29104, 29103, 31312, 28654, 31541, 28700, 30439, 31159, 29562, 30656, 30391, 29473, 28604, 28064, 28686, 30037, 28126, 30118, 29167, 29234, 29163, 32219, 28299, 29700, 31217]\n",
      "[23787, 25880, 24487, 25627, 24564, 25046, 24544, 24577, 25964, 23997, 31541, 25503, 26688, 27702, 25115, 25413, 30439, 26339, 29562, 30656, 26535, 26158, 24696, 25060, 25315, 26202, 26085, 28686, 24221, 24894, 24935, 26421, 27455, 26626, 27270, 24383, 24668, 29167, 29234, 25401, 26892, 29163, 32219, 24642, 28299, 24405, 25848, 23972, 31217]\n",
      "[2840, 8151, 8420, 9164, 4808, 18087, 25880, 15062, 18442, 6293, 8730, 12367, 21781, 25627, 5484, 21342, 11720, 6615, 10256, 14611, 24564, 11479, 8421, 7289, 7098, 4226, 8083, 7414, 10169, 12228, 5570, 7094, 24577, 12984, 19183, 20468, 18822, 6212, 8547, 13976, 7899, 10398, 17918, 12015, 3622, 6160, 11019, 5355, 14907, 16418, 5838, 8010, 10712, 10351, 15268, 5515, 12196, 3833, 30439, 13437, 6316, 4475, 12728, 13511, 3730, 4645, 8101, 10501, 12207, 21909, 26535, 9786, 10447, 20182, 6403, 6470, 22700, 2890, 19134, 5542, 23316, 13644, 7655, 12646, 14746, 17112, 9374, 9366, 25315, 12722, 16996, 14805, 18742, 26085, 14004, 21365, 4425, 9015, 14584, 19992, 21454, 9440, 7426, 11637, 7934, 13625, 17587, 23091, 4240, 21335, 18869, 6914, 5637, 5261, 5340, 14806, 16293, 5119, 13546, 5342, 17241, 18495, 27455, 15328, 7554, 3260, 3758, 3387, 3576, 22952, 5811, 7491, 3123, 15119, 15693, 7073, 12852, 6911, 9835, 29234, 7650, 8462, 15698, 15911, 16159, 5527, 10094, 10290, 6781, 8802, 8885, 17716, 17908, 9369, 5582, 8877, 8697, 6155, 6398, 5337, 6061, 13559, 22389, 10806, 10799, 12333, 2964, 9453, 11935, 22513, 18969, 20921, 9507, 15872, 13377, 10859, 9222, 15849, 6563, 9910, 3386, 23972, 5979]\n",
      "[31351, 31541, 32626, 31386, 31379, 31381, 31530, 32219, 32000]\n",
      "[8151, 8420, 9164, 18087, 25880, 15062, 18442, 8730, 12367, 21781, 25627, 15456, 21342, 11720, 13561, 10256, 14611, 24564, 11479, 8421, 11008, 20047, 10169, 12228, 24544, 24577, 12984, 19183, 20468, 18822, 8547, 13976, 16068, 10398, 17918, 12015, 31541, 11019, 10590, 14907, 16418, 22881, 10029, 10712, 10351, 15268, 12196, 17317, 30439, 13437, 13954, 12728, 13511, 8742, 10501, 12207, 21909, 26535, 9786, 10447, 20182, 22700, 14458, 19134, 23316, 13644, 12646, 14746, 17112, 9374, 9366, 25315, 12722, 16996, 14805, 18742, 26085, 14004, 21365, 9015, 14584, 19992, 21454, 9440, 11637, 9688, 13625, 17587, 23091, 21335, 18869, 18924, 24894, 14806, 16293, 13546, 26421, 17241, 18495, 27455, 15328, 15008, 14929, 16020, 22952, 13294, 15119, 15693, 12852, 9835, 29234, 8462, 15698, 15911, 16159, 10094, 10290, 8760, 8802, 8885, 17716, 17908, 9369, 16073, 8877, 8697, 9964, 8890, 13559, 22389, 10806, 10799, 12333, 9453, 11935, 22513, 18969, 20921, 9507, 15872, 13377, 10859, 9222, 15849, 17171, 9910, 23972, 31217]\n",
      "[29104, 30395, 31312, 31541, 30439, 31159, 29562, 30656, 30391, 29473, 31379, 29334, 30037, 29495, 30118, 29167, 29234, 29163, 32219, 29700, 31217]\n",
      "[8420, 9164, 18087, 25880, 15062, 18442, 8730, 12367, 21781, 25627, 15456, 21342, 11720, 13561, 10256, 14611, 24564, 11479, 8421, 11008, 20047, 10169, 12228, 24544, 24577, 12984, 19183, 20468, 18822, 8547, 13976, 16068, 10398, 17918, 12015, 31541, 11019, 10590, 14907, 16418, 22881, 10029, 10712, 10351, 15268, 12196, 17317, 30439, 13437, 13954, 12728, 13511, 8742, 10501, 12207, 21909, 26535, 9786, 10447, 20182, 22700, 14458, 19134, 23316, 13644, 12646, 14746, 17112, 9374, 9366, 25315, 12722, 16996, 14805, 18742, 26085, 14004, 21365, 9015, 14584, 19992, 21454, 9440, 11637, 9688, 13625, 17587, 23091, 21335, 18869, 18924, 24894, 14806, 16293, 13546, 26421, 17241, 18495, 27455, 15328, 15008, 14929, 16020, 22952, 13294, 15119, 15693, 12852, 9835, 29234, 8462, 15698, 15911, 16159, 10094, 10290, 8760, 8802, 8885, 17716, 17908, 9369, 16073, 8877, 8697, 9964, 8890, 13559, 22389, 10806, 10799, 12333, 9453, 11935, 22513, 18969, 20921, 9507, 15872, 13377, 10859, 9222, 15849, 17171, 9910, 23972, 31217]\n",
      "[9468, 18087, 25880, 15062, 18442, 12367, 21781, 25627, 15456, 21342, 11720, 13561, 10256, 14611, 24564, 11479, 11008, 20047, 10169, 12228, 24544, 24577, 12984, 19183, 20468, 18822, 13976, 16068, 10398, 17918, 12015, 31541, 11019, 10590, 14907, 16418, 22881, 10029, 10712, 10351, 15268, 12196, 17317, 30439, 13437, 13954, 12728, 13511, 10501, 12207, 21909, 26535, 9786, 10447, 20182, 22700, 14458, 19134, 23316, 13644, 12646, 14746, 17112, 17341, 14233, 25315, 12722, 16996, 14805, 18742, 26085, 14004, 21365, 11697, 14584, 19992, 21454, 13047, 11637, 9688, 13625, 17587, 23091, 21335, 18869, 18924, 24894, 14806, 16293, 13546, 26421, 17241, 18495, 27455, 15328, 15008, 14929, 16020, 22952, 13294, 15119, 15693, 12852, 9835, 29234, 11763, 15698, 15911, 16159, 10094, 10290, 17716, 17908, 16073, 10308, 14257, 9964, 11979, 13559, 22389, 10806, 10799, 12333, 11935, 22513, 18969, 20921, 9507, 15872, 13377, 10859, 24405, 15849, 17171, 9910, 23972, 31217]\n",
      "[9164, 18087, 25880, 15062, 18442, 12367, 21781, 25627, 15456, 21342, 11720, 13561, 10256, 14611, 24564, 11479, 11008, 20047, 10169, 12228, 24544, 24577, 12984, 19183, 20468, 18822, 13976, 16068, 10398, 17918, 12015, 31541, 11019, 10590, 14907, 16418, 22881, 10029, 10712, 10351, 15268, 12196, 17317, 30439, 13437, 13954, 12728, 13511, 10501, 12207, 21909, 26535, 9786, 10447, 20182, 22700, 14458, 19134, 23316, 13644, 12646, 14746, 17112, 9374, 9366, 25315, 12722, 16996, 14805, 18742, 26085, 14004, 21365, 11697, 14584, 19992, 21454, 9440, 11637, 9688, 13625, 17587, 23091, 21335, 18869, 18924, 24894, 14806, 16293, 13546, 26421, 17241, 18495, 27455, 15328, 15008, 14929, 16020, 22952, 13294, 15119, 15693, 12852, 9835, 29234, 11763, 15698, 15911, 16159, 10094, 10290, 17716, 17908, 9369, 16073, 10308, 14257, 9964, 11979, 13559, 22389, 10806, 10799, 12333, 9453, 11935, 22513, 18969, 20921, 9507, 15872, 13377, 10859, 9222, 15849, 17171, 9910, 23972, 31217]\n",
      "[1409, 1634, 4808, 18087, 25880, 15062, 18442, 6293, 8730, 12367, 21781, 25627, 5484, 21342, 1475, 11720, 6615, 10256, 14611, 2057, 11479, 8421, 7289, 7098, 4226, 8083, 7414, 10169, 12228, 5570, 7094, 24577, 2355, 12984, 19183, 20468, 18822, 6212, 8547, 1807, 13976, 7899, 10398, 17918, 12015, 3622, 6160, 11019, 5355, 14907, 16418, 5838, 8010, 10712, 2186, 10351, 15268, 5515, 12196, 3833, 30439, 13437, 6316, 4475, 12728, 13511, 3730, 4645, 1437, 10501, 12207, 21909, 26535, 9786, 10447, 2778, 6403, 6470, 22700, 2890, 19134, 5542, 23316, 13644, 7655, 12646, 14746, 17112, 9374, 1445, 25315, 12722, 16996, 14805, 18742, 26085, 14004, 2768, 4425, 9015, 14584, 19992, 21454, 9440, 7426, 11637, 7934, 13625, 17587, 23091, 4240, 21335, 18869, 6914, 5637, 5261, 5340, 14806, 16293, 5119, 13546, 5342, 17241, 18495, 27455, 15328, 7554, 3260, 3758, 3387, 2575, 3576, 22952, 5811, 7491, 3123, 15119, 15693, 7073, 12852, 6911, 9835, 29234, 7650, 8462, 15698, 15911, 16159, 5527, 10094, 10290, 6781, 8802, 8885, 17716, 17908, 9369, 5582, 8877, 8697, 6155, 6398, 5337, 6061, 13559, 22389, 10806, 10799, 12333, 2964, 1875, 9453, 11935, 22513, 18969, 20921, 9507, 15872, 13377, 10859, 9222, 15849, 6563, 9910, 3386, 23972, 5979]\n",
      "[1957, 4808, 18087, 25880, 15062, 18442, 6293, 8730, 12367, 21781, 25627, 5484, 21342, 11720, 6615, 10256, 14611, 2057, 11479, 8421, 7289, 7098, 4226, 8083, 7414, 10169, 12228, 5570, 7094, 24577, 2355, 12984, 19183, 20468, 18822, 6212, 8547, 13976, 7899, 10398, 17918, 12015, 3622, 6160, 11019, 5355, 14907, 16418, 5838, 8010, 10712, 2186, 10351, 15268, 5515, 12196, 3833, 30439, 13437, 6316, 4475, 12728, 13511, 3730, 4645, 8101, 10501, 12207, 21909, 26535, 9786, 10447, 2778, 6403, 6470, 22700, 2890, 19134, 5542, 23316, 13644, 7655, 12646, 14746, 17112, 9374, 9366, 25315, 12722, 16996, 14805, 18742, 26085, 14004, 2768, 4425, 9015, 14584, 19992, 21454, 9440, 7426, 11637, 7934, 13625, 17587, 23091, 4240, 21335, 18869, 6914, 5637, 5261, 5340, 14806, 16293, 5119, 13546, 5342, 17241, 18495, 27455, 15328, 7554, 3260, 3758, 3387, 2575, 3576, 22952, 5811, 7491, 3123, 15119, 15693, 7073, 12852, 6911, 9835, 29234, 7650, 8462, 15698, 15911, 16159, 5527, 10094, 10290, 6781, 8802, 8885, 17716, 17908, 9369, 5582, 8877, 8697, 6155, 6398, 5337, 6061, 13559, 22389, 10806, 10799, 12333, 2964, 9453, 11935, 22513, 18969, 20921, 9507, 15872, 13377, 10859, 9222, 15849, 6563, 9910, 3386, 23972, 5979]\n",
      "[1634, 4808, 18087, 25880, 15062, 18442, 6293, 8730, 12367, 21781, 25627, 5484, 21342, 11720, 6615, 10256, 14611, 2057, 11479, 8421, 7289, 7098, 4226, 8083, 7414, 10169, 12228, 5570, 7094, 24577, 2355, 12984, 19183, 20468, 18822, 6212, 8547, 1807, 13976, 7899, 10398, 17918, 12015, 3622, 6160, 11019, 5355, 14907, 16418, 5838, 8010, 10712, 2186, 10351, 15268, 5515, 12196, 3833, 30439, 13437, 6316, 4475, 12728, 13511, 3730, 4645, 8101, 10501, 12207, 21909, 26535, 9786, 10447, 2778, 6403, 6470, 22700, 2890, 19134, 5542, 23316, 13644, 7655, 12646, 14746, 17112, 9374, 9366, 25315, 12722, 16996, 14805, 18742, 26085, 14004, 2768, 4425, 9015, 14584, 19992, 21454, 9440, 7426, 11637, 7934, 13625, 17587, 23091, 4240, 21335, 18869, 6914, 5637, 5261, 5340, 14806, 16293, 5119, 13546, 5342, 17241, 18495, 27455, 15328, 7554, 3260, 3758, 3387, 2575, 3576, 22952, 5811, 7491, 3123, 15119, 15693, 7073, 12852, 6911, 9835, 29234, 7650, 8462, 15698, 15911, 16159, 5527, 10094, 10290, 6781, 8802, 8885, 17716, 17908, 9369, 5582, 8877, 8697, 6155, 6398, 5337, 6061, 13559, 22389, 10806, 10799, 12333, 2964, 1875, 9453, 11935, 22513, 18969, 20921, 9507, 15872, 13377, 10859, 9222, 15849, 6563, 9910, 3386, 23972, 5979]\n",
      "[18909, 25880, 20754, 19829, 21781, 25627, 21125, 21342, 21342, 24564, 20047, 19797, 24544, 24577, 19183, 20468, 19811, 22300, 23997, 31541, 25503, 22881, 26688, 27702, 25115, 23255, 30439, 26339, 19593, 29562, 21909, 26535, 20182, 22700, 21092, 19134, 23316, 20577, 25315, 26202, 26085, 21365, 19992, 21454, 23091, 21335, 18924, 24894, 23732, 26421, 27455, 26626, 20743, 22952, 19109, 23442, 29167, 29234, 23325, 25401, 19358, 21953, 22389, 22513, 18969, 20921, 21723, 23166, 28299, 24405, 21084, 23972, 31217]\n",
      "[4808, 18087, 25880, 15062, 18442, 6293, 8730, 12367, 21781, 25627, 5484, 21342, 11720, 6615, 10256, 14611, 24564, 11479, 8421, 7289, 7098, 8083, 7414, 10169, 12228, 5570, 7094, 24577, 12984, 19183, 20468, 18822, 6212, 8547, 13976, 7899, 10398, 17918, 12015, 6160, 11019, 5355, 14907, 16418, 5838, 8010, 10712, 10351, 15268, 5515, 12196, 17317, 30439, 13437, 6316, 12728, 13511, 8101, 10501, 12207, 21909, 26535, 9786, 10447, 20182, 6403, 6470, 22700, 14458, 19134, 5542, 23316, 13644, 7655, 12646, 14746, 17112, 9374, 9366, 25315, 12722, 16996, 14805, 18742, 26085, 14004, 21365, 9015, 14584, 19992, 21454, 9440, 7426, 11637, 7934, 13625, 17587, 23091, 21335, 18869, 6914, 5637, 5261, 5340, 14806, 16293, 5119, 13546, 5342, 17241, 18495, 27455, 15328, 7554, 14929, 6917, 22952, 5811, 7491, 7567, 15119, 15693, 7073, 12852, 6911, 9835, 29234, 7650, 8462, 15698, 15911, 16159, 5527, 10094, 10290, 6781, 8802, 8885, 17716, 17908, 9369, 5582, 8877, 8697, 6155, 6398, 5337, 6061, 13559, 22389, 10806, 10799, 12333, 9453, 11935, 22513, 18969, 20921, 9507, 15872, 13377, 10859, 9222, 15849, 6563, 9910, 23972, 5979]\n",
      "[18087, 25880, 20754, 18442, 19829, 21781, 25627, 21125, 21342, 21342, 24564, 20047, 19797, 24544, 24577, 19183, 20468, 18822, 19811, 18195, 18906, 23997, 31541, 25503, 18579, 22881, 26688, 27702, 25115, 23255, 30439, 26339, 19593, 29562, 21909, 26535, 18255, 20182, 22700, 21092, 19134, 23316, 20577, 25315, 26202, 18742, 26085, 21365, 19992, 21454, 23091, 21335, 18869, 18924, 24894, 23732, 26421, 18495, 27455, 26626, 20743, 22952, 19109, 23442, 29167, 29234, 23325, 25401, 18891, 18831, 22389, 22513, 18969, 20921, 21723, 23166, 28299, 24405, 21084, 23972, 31217]\n",
      "[25880, 27082, 29103, 27048, 25964, 28654, 31541, 26688, 27702, 30439, 26339, 29562, 30656, 26535, 26158, 29473, 27384, 26202, 26085, 28686, 30037, 26421, 27455, 26626, 27270, 29167, 29234, 26892, 29163, 32219, 28299, 29700, 31217]\n",
      "[27082, 29103, 31312, 28654, 31541, 27702, 30439, 27283, 29562, 30656, 30391, 29473, 27384, 28064, 28686, 30037, 27116, 27455, 27587, 27270, 29167, 29234, 29163, 32219, 28299, 29700, 31217]\n",
      "[20754, 21197, 21781, 25627, 21125, 21342, 21342, 24564, 21413, 24544, 24577, 22039, 22300, 23997, 31541, 25503, 22881, 26688, 27702, 25115, 23255, 30439, 26339, 29562, 21909, 26535, 22700, 21092, 23378, 23316, 25060, 25315, 26202, 26085, 21365, 21454, 23091, 21335, 24894, 23732, 26421, 27455, 26626, 27270, 22952, 24383, 23442, 29167, 29234, 23325, 25401, 26892, 21953, 22389, 22513, 20921, 21723, 23166, 28299, 24405, 21084, 23972, 31217]\n",
      "[15062, 18442, 19829, 21781, 25627, 15456, 21342, 21342, 24564, 20047, 16132, 19797, 24544, 24577, 16636, 19183, 20468, 18822, 16068, 18195, 17918, 23997, 31541, 25503, 16418, 22881, 26688, 27702, 15268, 17317, 30439, 26339, 19593, 29562, 21909, 26535, 18255, 20182, 22700, 21092, 19134, 23316, 17112, 17341, 20577, 25315, 26202, 16996, 17181, 18742, 26085, 21365, 19992, 21454, 17203, 17587, 23091, 21335, 18869, 18924, 24894, 16293, 23732, 26421, 17241, 18495, 27455, 15328, 16020, 22952, 19109, 15119, 15693, 29167, 29234, 15698, 15911, 16159, 17716, 17908, 16073, 15131, 18831, 22389, 15104, 22513, 18969, 20921, 15872, 23166, 28299, 24405, 15849, 17171, 21084, 23972, 31217]\n",
      "[24487, 25627, 24564, 25046, 24544, 24577, 25964, 28654, 31541, 25503, 26688, 27702, 25115, 25413, 30439, 26339, 29562, 30656, 26535, 26158, 24696, 25060, 25315, 26202, 26085, 28686, 30037, 24894, 24935, 26421, 27455, 26626, 27270, 24668, 29167, 29234, 25401, 26892, 29163, 32219, 24642, 28299, 25848, 29700, 31217]\n",
      "[18442, 19829, 21781, 25627, 21125, 21342, 21342, 24564, 20047, 19797, 24544, 24577, 19183, 20468, 18822, 19811, 18906, 23997, 31541, 25503, 18579, 22881, 26688, 27702, 25115, 23255, 30439, 26339, 19593, 29562, 21909, 26535, 20182, 22700, 21092, 19134, 23316, 20577, 25315, 26202, 18742, 26085, 21365, 19992, 21454, 23091, 21335, 18869, 18924, 24894, 23732, 26421, 18495, 27455, 26626, 20743, 22952, 19109, 23442, 29167, 29234, 23325, 25401, 18891, 18831, 22389, 22513, 18969, 20921, 21723, 23166, 28299, 24405, 21084, 23972, 31217]\n",
      "[21197, 21781, 25627, 21342, 21342, 24564, 21413, 24544, 24577, 22039, 22300, 23997, 31541, 25503, 22881, 26688, 27702, 25115, 23255, 30439, 26339, 29562, 21909, 26535, 22700, 23378, 23316, 25060, 25315, 26202, 26085, 21365, 21454, 23091, 21335, 24894, 23732, 26421, 27455, 26626, 27270, 22952, 24383, 23442, 29167, 29234, 23325, 25401, 26892, 21953, 22389, 22513, 21723, 23166, 28299, 24405, 25848, 23972, 31217]\n",
      "[19829, 21781, 25627, 21125, 21342, 21342, 24564, 20047, 24544, 24577, 20468, 22039, 22300, 23997, 31541, 25503, 22881, 26688, 27702, 25115, 23255, 30439, 26339, 29562, 21909, 26535, 20182, 22700, 21092, 23378, 23316, 20577, 25315, 26202, 26085, 21365, 19992, 21454, 23091, 21335, 24894, 23732, 26421, 27455, 26626, 20743, 22952, 24383, 23442, 29167, 29234, 23325, 25401, 26892, 21953, 22389, 22513, 20921, 21723, 23166, 28299, 24405, 21084, 23972, 31217]\n",
      "[6293, 8730, 12367, 21781, 25627, 15456, 21342, 11720, 6615, 10256, 14611, 24564, 11479, 8421, 7289, 7098, 8083, 7414, 10169, 12228, 24544, 7094, 24577, 12984, 19183, 20468, 18822, 8547, 13976, 7899, 10398, 17918, 12015, 8043, 11019, 10590, 14907, 16418, 22881, 8010, 10712, 10351, 15268, 12196, 17317, 30439, 13437, 6316, 12728, 13511, 8101, 10501, 12207, 21909, 26535, 9786, 10447, 20182, 6403, 6470, 22700, 14458, 19134, 23316, 13644, 7655, 12646, 14746, 17112, 9374, 9366, 25315, 12722, 16996, 14805, 18742, 26085, 14004, 21365, 9015, 14584, 19992, 21454, 9440, 7426, 11637, 7934, 13625, 17587, 23091, 21335, 18869, 6914, 24894, 14806, 16293, 13546, 26421, 17241, 18495, 27455, 15328, 7554, 14929, 6917, 22952, 7491, 7567, 15119, 15693, 7073, 12852, 6911, 9835, 29234, 7650, 8462, 15698, 15911, 16159, 10094, 10290, 6781, 8802, 8885, 17716, 17908, 9369, 16073, 8877, 8697, 7025, 6398, 7067, 13559, 22389, 10806, 10799, 12333, 9453, 11935, 22513, 18969, 20921, 9507, 15872, 13377, 10859, 9222, 15849, 6563, 9910, 23972, 31217]\n",
      "[8730, 12367, 21781, 25627, 15456, 21342, 11720, 13561, 10256, 14611, 24564, 11479, 11008, 20047, 10169, 12228, 24544, 24577, 12984, 19183, 20468, 18822, 13976, 16068, 10398, 17918, 12015, 31541, 11019, 10590, 14907, 16418, 22881, 10029, 10712, 10351, 15268, 12196, 17317, 30439, 13437, 13954, 12728, 13511, 8742, 10501, 12207, 21909, 26535, 9786, 10447, 20182, 22700, 14458, 19134, 23316, 13644, 12646, 14746, 17112, 9374, 9366, 25315, 12722, 16996, 14805, 18742, 26085, 14004, 21365, 9015, 14584, 19992, 21454, 9440, 11637, 9688, 13625, 17587, 23091, 21335, 18869, 18924, 24894, 14806, 16293, 13546, 26421, 17241, 18495, 27455, 15328, 15008, 14929, 16020, 22952, 13294, 15119, 15693, 12852, 9835, 29234, 11763, 15698, 15911, 16159, 10094, 10290, 8760, 8802, 8885, 17716, 17908, 9369, 16073, 8877, 14257, 9964, 8890, 13559, 22389, 10806, 10799, 12333, 9453, 11935, 22513, 18969, 20921, 9507, 15872, 13377, 10859, 9222, 15849, 17171, 9910, 23972, 31217]\n",
      "[12367, 21781, 25627, 15456, 21342, 13561, 14611, 24564, 13922, 14345, 20047, 16132, 19797, 24544, 24577, 12984, 19183, 20468, 18822, 13976, 16068, 18195, 17918, 23997, 31541, 25503, 14907, 16418, 22881, 26688, 27702, 14186, 15268, 12853, 17317, 30439, 13437, 13954, 12728, 13511, 29562, 21909, 26535, 12441, 20182, 22700, 14458, 19134, 23316, 13644, 12646, 14746, 17112, 17341, 14233, 25315, 12722, 16996, 14805, 18742, 26085, 14004, 21365, 14584, 19992, 21454, 13047, 13559, 13625, 17587, 23091, 21335, 18869, 18924, 24894, 14806, 16293, 13546, 26421, 17241, 18495, 27455, 15328, 15008, 14929, 16020, 22952, 13294, 15119, 15693, 12852, 13364, 29234, 15698, 15911, 16159, 17716, 17908, 16073, 15131, 14257, 13559, 22389, 12381, 22513, 18969, 20921, 15872, 13377, 28299, 24405, 15849, 17171, 21084, 23972, 31217]\n",
      "[787, 21781, 25627, 5484, 21342, 1475, 11720, 6615, 10256, 14611, 2057, 1240, 11479, 8421, 7289, 7098, 4226, 8083, 7414, 10169, 12228, 5570, 7094, 24577, 2355, 12984, 19183, 20468, 18822, 6212, 8547, 1807, 13976, 7899, 10398, 17918, 12015, 3622, 6160, 11019, 5355, 14907, 16418, 5838, 8010, 10712, 2186, 10351, 15268, 1064, 12196, 3833, 30439, 13437, 6316, 4475, 12728, 13511, 3730, 4645, 1437, 10501, 12207, 21909, 26535, 9786, 10447, 2778, 6403, 6470, 22700, 2890, 19134, 5542, 23316, 13644, 7655, 12646, 14746, 17112, 9374, 1445, 25315, 12722, 16996, 14805, 18742, 26085, 14004, 2768, 4425, 1270, 14584, 19992, 21454, 9440, 7426, 11637, 875, 7934, 13625, 17587, 23091, 4240, 21335, 18869, 6914, 1390, 5261, 5340, 14806, 16293, 5119, 13546, 5342, 17241, 18495, 27455, 15328, 1371, 3260, 3758, 3387, 2575, 3576, 22952, 5811, 7491, 3123, 15119, 15693, 7073, 12852, 6911, 9835, 29234, 7650, 8462, 15698, 15911, 16159, 5527, 10094, 10290, 6781, 8802, 8885, 17716, 17908, 9369, 5582, 8877, 8697, 6155, 6398, 5337, 6061, 13559, 22389, 10806, 10799, 12333, 2964, 1875, 9453, 11935, 22513, 18969, 20921, 9507, 15872, 817, 13377, 10859, 9222, 15849, 6563, 9910, 3386, 23972, 5979]\n",
      "[22921, 25627, 24564, 25046, 24544, 24577, 25964, 23997, 31541, 25503, 26688, 27702, 25115, 23255, 30439, 26339, 29562, 30656, 26535, 26158, 23378, 23316, 25060, 25315, 26202, 26085, 28686, 23091, 24221, 24894, 23732, 26421, 27455, 26626, 27270, 22952, 24383, 23442, 29167, 29234, 23325, 25401, 26892, 29163, 32219, 23166, 28299, 24405, 25848, 23972, 31217]\n",
      "[21781, 25627, 22392, 24564, 25046, 24544, 24577, 22039, 22300, 23997, 31541, 25503, 22881, 26688, 27702, 25115, 23255, 30439, 26339, 29562, 21909, 26535, 22700, 23378, 23316, 25060, 25315, 26202, 26085, 28686, 23091, 24221, 24894, 23732, 26421, 27455, 26626, 27270, 22952, 24383, 23442, 29167, 29234, 23325, 25401, 26892, 21953, 22389, 22513, 23166, 28299, 24405, 25848, 23972, 31217]\n",
      "[25627, 29103, 27048, 25964, 28654, 31541, 26688, 27702, 30439, 26339, 29562, 30656, 26535, 26158, 29473, 27384, 26202, 26085, 28686, 30037, 26421, 27455, 26626, 27270, 29167, 29234, 26892, 29163, 32219, 28299, 25848, 29700, 31217]\n",
      "[30395, 31312, 31541, 30439, 31159, 30656, 31386, 31379, 30621, 31530, 32219, 31217]\n",
      "[29103, 31312, 31541, 30439, 31159, 29562, 30656, 30391, 29473, 31379, 29334, 30037, 29495, 30118, 29167, 29234, 29163, 32219, 29700, 31217]\n",
      "[21125, 21342, 21342, 24564, 21413, 24544, 24577, 22039, 22300, 23997, 31541, 25503, 22881, 26688, 27702, 25115, 23255, 30439, 26339, 29562, 21909, 26535, 22700, 23378, 23316, 25060, 25315, 26202, 26085, 21365, 21454, 23091, 21335, 24894, 23732, 26421, 27455, 26626, 27270, 22952, 24383, 23442, 29167, 29234, 23325, 25401, 26892, 21953, 22389, 22513, 21723, 23166, 28299, 24405, 25848, 23972, 31217]\n",
      "[15456, 21342, 21342, 24564, 20047, 16132, 19797, 24544, 24577, 16636, 19183, 20468, 18822, 16068, 18195, 17918, 23997, 31541, 25503, 16418, 22881, 26688, 27702, 25115, 17317, 30439, 26339, 19593, 29562, 21909, 26535, 18255, 20182, 22700, 21092, 19134, 23316, 17112, 17341, 20577, 25315, 26202, 16996, 17181, 18742, 26085, 21365, 19992, 21454, 17203, 17587, 23091, 21335, 18869, 18924, 24894, 16293, 23732, 26421, 17241, 18495, 27455, 26626, 16020, 22952, 19109, 15693, 29167, 29234, 15698, 15911, 16159, 17716, 17908, 16073, 17269, 18831, 22389, 22513, 18969, 20921, 15872, 23166, 28299, 24405, 15849, 17171, 21084, 23972, 31217]\n",
      "[5484, 21342, 11720, 6615, 10256, 14611, 24564, 11479, 8421, 7289, 7098, 8083, 7414, 10169, 12228, 5570, 7094, 24577, 12984, 19183, 20468, 18822, 6212, 8547, 13976, 7899, 10398, 17918, 12015, 6160, 11019, 10590, 14907, 16418, 5838, 8010, 10712, 10351, 15268, 5515, 12196, 17317, 30439, 13437, 6316, 12728, 13511, 8101, 10501, 12207, 21909, 26535, 9786, 10447, 20182, 6403, 6470, 22700, 14458, 19134, 5542, 23316, 13644, 7655, 12646, 14746, 17112, 9374, 9366, 25315, 12722, 16996, 14805, 18742, 26085, 14004, 21365, 9015, 14584, 19992, 21454, 9440, 7426, 11637, 7934, 13625, 17587, 23091, 21335, 18869, 6914, 5637, 14806, 16293, 13546, 26421, 17241, 18495, 27455, 15328, 7554, 14929, 6917, 22952, 5811, 7491, 7567, 15119, 15693, 7073, 12852, 6911, 9835, 29234, 7650, 8462, 15698, 15911, 16159, 5527, 10094, 10290, 6781, 8802, 8885, 17716, 17908, 9369, 5582, 8877, 8697, 6155, 6398, 6061, 13559, 22389, 10806, 10799, 12333, 9453, 11935, 22513, 18969, 20921, 9507, 15872, 13377, 10859, 9222, 15849, 6563, 9910, 23972, 5979]\n",
      "[21342, 22392, 24564, 21413, 24544, 24577, 22039, 22300, 23997, 31541, 25503, 22881, 26688, 27702, 25115, 23255, 30439, 26339, 29562, 21909, 26535, 22700, 23378, 23316, 25060, 25315, 26202, 26085, 21365, 21454, 23091, 24221, 24894, 23732, 26421, 27455, 26626, 27270, 22952, 24383, 23442, 29167, 29234, 23325, 25401, 26892, 21953, 22389, 22513, 21723, 23166, 28299, 24405, 25848, 23972, 31217]\n",
      "[22392, 24564, 25046, 24544, 24577, 25964, 23997, 31541, 25503, 22881, 26688, 27702, 25115, 23255, 30439, 26339, 29562, 30656, 26535, 22700, 23378, 23316, 25060, 25315, 26202, 26085, 28686, 23091, 24221, 24894, 23732, 26421, 27455, 26626, 27270, 22952, 24383, 23442, 29167, 29234, 23325, 25401, 26892, 29163, 22513, 23166, 28299, 24405, 25848, 23972, 31217]\n",
      "[1475, 11720, 6615, 10256, 14611, 2057, 11479, 8421, 7289, 7098, 4226, 8083, 7414, 10169, 12228, 5570, 7094, 24577, 2355, 12984, 19183, 20468, 18822, 6212, 8547, 1807, 13976, 7899, 10398, 17918, 12015, 3622, 6160, 11019, 5355, 14907, 16418, 5838, 8010, 10712, 2186, 10351, 15268, 5515, 12196, 3833, 30439, 13437, 6316, 4475, 12728, 13511, 3730, 4645, 8101, 10501, 12207, 21909, 26535, 9786, 10447, 2778, 6403, 6470, 22700, 2890, 19134, 5542, 23316, 13644, 7655, 12646, 14746, 17112, 9374, 9366, 25315, 12722, 16996, 14805, 18742, 26085, 14004, 2768, 4425, 9015, 14584, 19992, 21454, 9440, 7426, 11637, 7934, 13625, 17587, 23091, 4240, 21335, 18869, 6914, 5637, 5261, 5340, 14806, 16293, 5119, 13546, 5342, 17241, 18495, 27455, 15328, 7554, 3260, 3758, 3387, 2575, 3576, 22952, 5811, 7491, 3123, 15119, 15693, 7073, 12852, 6911, 9835, 29234, 7650, 8462, 15698, 15911, 16159, 5527, 10094, 10290, 6781, 8802, 8885, 17716, 17908, 9369, 5582, 8877, 8697, 6155, 6398, 5337, 6061, 13559, 22389, 10806, 10799, 12333, 2964, 1875, 9453, 11935, 22513, 18969, 20921, 9507, 15872, 13377, 10859, 9222, 15849, 6563, 9910, 3386, 23972, 5979]\n",
      "[11720, 13561, 14611, 24564, 13922, 14345, 20047, 16132, 12228, 24544, 24577, 12984, 19183, 20468, 18822, 13976, 16068, 18195, 17918, 12015, 31541, 25503, 14907, 16418, 22881, 26688, 27702, 14186, 15268, 12196, 17317, 30439, 13437, 13954, 12728, 13511, 12207, 21909, 26535, 12441, 20182, 22700, 14458, 19134, 23316, 13644, 12646, 14746, 17112, 17341, 14233, 25315, 12722, 16996, 14805, 18742, 26085, 14004, 21365, 14584, 19992, 21454, 13047, 13559, 13625, 17587, 23091, 21335, 18869, 18924, 24894, 14806, 16293, 13546, 26421, 17241, 18495, 27455, 15328, 15008, 14929, 16020, 22952, 13294, 15119, 15693, 12852, 13364, 29234, 11763, 15698, 15911, 16159, 17716, 17908, 16073, 15131, 14257, 11979, 13559, 22389, 12333, 11935, 22513, 18969, 20921, 15872, 13377, 28299, 24405, 15849, 17171, 21084, 23972, 31217]\n",
      "[13561, 14611, 24564, 13922, 14345, 20047, 16132, 19797, 24544, 24577, 16636, 19183, 20468, 18822, 13976, 16068, 18195, 17918, 23997, 31541, 25503, 14907, 16418, 22881, 26688, 27702, 14186, 15268, 17317, 30439, 13954, 19593, 29562, 21909, 26535, 18255, 20182, 22700, 14458, 19134, 23316, 13644, 14746, 17112, 17341, 14233, 25315, 26202, 16996, 14805, 18742, 26085, 14004, 21365, 14584, 19992, 21454, 13625, 17587, 23091, 21335, 18869, 18924, 24894, 14806, 16293, 23732, 26421, 17241, 18495, 27455, 15328, 15008, 14929, 16020, 22952, 19109, 15119, 15693, 29167, 29234, 15698, 15911, 16159, 17716, 17908, 16073, 15131, 14257, 18831, 22389, 15104, 22513, 18969, 20921, 15872, 23166, 28299, 24405, 15849, 17171, 21084, 23972, 31217]\n",
      "[6615, 10256, 14611, 24564, 11479, 8421, 7289, 7098, 8083, 7414, 10169, 12228, 24544, 7094, 24577, 12984, 19183, 20468, 18822, 8547, 13976, 7899, 10398, 17918, 12015, 8043, 11019, 10590, 14907, 16418, 22881, 8010, 10712, 10351, 15268, 12196, 17317, 30439, 13437, 13954, 12728, 13511, 8101, 10501, 12207, 21909, 26535, 9786, 10447, 20182, 22700, 14458, 19134, 23316, 13644, 7655, 12646, 14746, 17112, 9374, 9366, 25315, 12722, 16996, 14805, 18742, 26085, 14004, 21365, 9015, 14584, 19992, 21454, 9440, 7426, 11637, 7934, 13625, 17587, 23091, 21335, 18869, 6914, 24894, 14806, 16293, 13546, 26421, 17241, 18495, 27455, 15328, 7554, 14929, 6917, 22952, 7491, 7567, 15119, 15693, 7073, 12852, 6911, 9835, 29234, 7650, 8462, 15698, 15911, 16159, 10094, 10290, 6781, 8802, 8885, 17716, 17908, 9369, 16073, 8877, 8697, 7025, 6634, 7067, 13559, 22389, 10806, 10799, 12333, 9453, 11935, 22513, 18969, 20921, 9507, 15872, 13377, 10859, 9222, 15849, 17171, 9910, 23972, 31217]\n",
      "[21342, 24564, 21413, 24544, 24577, 22039, 22300, 23997, 31541, 25503, 22881, 26688, 27702, 25115, 23255, 30439, 26339, 29562, 21909, 26535, 22700, 23378, 23316, 25060, 25315, 26202, 26085, 21365, 21454, 23091, 24221, 24894, 23732, 26421, 27455, 26626, 27270, 22952, 24383, 23442, 29167, 29234, 23325, 25401, 26892, 21953, 22389, 22513, 21723, 23166, 28299, 24405, 25848, 23972, 31217]\n",
      "[10256, 14611, 24564, 11479, 11008, 20047, 16132, 12228, 24544, 24577, 12984, 19183, 20468, 18822, 13976, 16068, 10398, 17918, 12015, 31541, 11019, 10590, 14907, 16418, 22881, 26688, 10712, 10351, 15268, 12196, 17317, 30439, 13437, 13954, 12728, 13511, 10501, 12207, 21909, 26535, 10447, 20182, 22700, 14458, 19134, 23316, 13644, 12646, 14746, 17112, 17341, 14233, 25315, 12722, 16996, 14805, 18742, 26085, 14004, 21365, 11697, 14584, 19992, 21454, 13047, 11637, 13625, 17587, 23091, 21335, 18869, 18924, 24894, 14806, 16293, 13546, 26421, 17241, 18495, 27455, 15328, 15008, 14929, 16020, 22952, 13294, 15119, 15693, 12852, 13364, 29234, 11763, 15698, 15911, 16159, 10290, 17716, 17908, 16073, 10308, 14257, 11979, 13559, 22389, 10806, 10799, 12333, 11935, 22513, 18969, 20921, 15872, 13377, 10859, 24405, 15849, 17171, 21084, 23972, 31217]\n",
      "[14611, 24564, 20047, 16132, 19797, 24544, 24577, 16636, 19183, 20468, 18822, 14721, 16068, 18195, 17918, 23997, 31541, 25503, 14907, 16418, 22881, 26688, 27702, 15268, 17317, 30439, 26339, 19593, 29562, 21909, 26535, 18255, 20182, 22700, 21092, 19134, 23316, 14746, 17112, 17341, 20577, 25315, 26202, 16996, 14805, 18742, 26085, 21365, 19992, 21454, 17203, 17587, 23091, 21335, 18869, 18924, 24894, 14806, 16293, 23732, 26421, 17241, 18495, 27455, 15328, 15008, 14929, 16020, 22952, 19109, 15119, 15693, 29167, 29234, 15698, 15911, 16159, 17716, 17908, 16073, 15131, 18831, 22389, 15104, 22513, 18969, 20921, 15872, 23166, 28299, 24405, 15849, 17171, 21084, 23972, 31217]\n",
      "[24564, 25046, 27048, 24577, 25964, 28654, 31541, 25503, 26688, 27702, 25115, 25413, 30439, 26339, 29562, 30656, 26535, 26158, 24696, 25060, 25315, 26202, 26085, 28686, 30037, 24894, 24935, 26421, 27455, 26626, 27270, 24668, 29167, 29234, 25401, 26892, 29163, 32219, 24642, 28299, 25848, 29700, 31217]\n",
      "[2057, 11479, 8421, 7289, 7098, 4226, 8083, 7414, 10169, 12228, 5570, 7094, 24577, 2355, 12984, 19183, 20468, 18822, 6212, 8547, 13976, 7899, 10398, 17918, 12015, 3622, 6160, 11019, 5355, 14907, 16418, 5838, 8010, 10712, 2186, 10351, 15268, 5515, 12196, 3833, 30439, 13437, 6316, 4475, 12728, 13511, 3730, 4645, 8101, 10501, 12207, 21909, 26535, 9786, 10447, 2778, 6403, 6470, 22700, 2890, 19134, 5542, 23316, 13644, 7655, 12646, 14746, 17112, 9374, 9366, 25315, 12722, 16996, 14805, 18742, 26085, 14004, 2768, 4425, 9015, 14584, 19992, 21454, 9440, 7426, 11637, 7934, 13625, 17587, 23091, 4240, 21335, 18869, 6914, 5637, 5261, 5340, 14806, 16293, 5119, 13546, 5342, 17241, 18495, 27455, 15328, 7554, 3260, 3758, 3387, 2575, 3576, 22952, 5811, 7491, 3123, 15119, 15693, 7073, 12852, 6911, 9835, 29234, 7650, 8462, 15698, 15911, 16159, 5527, 10094, 10290, 6781, 8802, 8885, 17716, 17908, 9369, 5582, 8877, 8697, 6155, 6398, 5337, 6061, 13559, 22389, 10806, 10799, 12333, 2964, 9453, 11935, 22513, 18969, 20921, 9507, 15872, 13377, 10859, 9222, 15849, 6563, 9910, 3386, 23972, 5979]\n",
      "[31312, 31541, 32626, 31342, 31386, 31379, 31381, 31530, 32219, 32000]\n",
      "[25046, 27048, 25964, 28654, 31541, 25503, 26688, 27702, 25115, 25413, 30439, 26339, 29562, 30656, 26535, 26158, 29473, 25060, 25315, 26202, 26085, 28686, 30037, 26421, 27455, 26626, 27270, 29167, 29234, 25401, 26892, 29163, 32219, 28299, 25848, 29700, 31217]\n",
      "[13922, 14345, 20047, 16132, 19797, 24544, 24577, 16636, 19183, 20468, 18822, 13976, 16068, 18195, 17918, 23997, 31541, 25503, 14907, 16418, 22881, 26688, 27702, 14186, 15268, 17317, 30439, 13954, 19593, 29562, 21909, 26535, 18255, 20182, 22700, 14458, 19134, 23316, 14746, 17112, 17341, 14233, 25315, 26202, 16996, 14805, 18742, 26085, 14004, 21365, 14584, 19992, 21454, 17203, 17587, 23091, 21335, 18869, 18924, 24894, 14806, 16293, 23732, 26421, 17241, 18495, 27455, 15328, 15008, 14929, 16020, 22952, 19109, 15119, 15693, 29167, 29234, 15698, 15911, 16159, 17716, 17908, 16073, 15131, 14257, 18831, 22389, 15104, 22513, 18969, 20921, 15872, 23166, 28299, 24405, 15849, 17171, 21084, 23972, 31217]\n",
      "[1240, 11479, 8421, 7289, 7098, 4226, 8083, 7414, 10169, 12228, 5570, 7094, 24577, 2355, 12984, 19183, 20468, 18822, 6212, 8547, 1807, 13976, 7899, 10398, 17918, 12015, 3622, 6160, 11019, 5355, 14907, 16418, 5838, 8010, 10712, 2186, 10351, 15268, 5515, 12196, 3833, 30439, 13437, 6316, 4475, 12728, 13511, 3730, 4645, 1437, 10501, 12207, 21909, 26535, 9786, 10447, 2778, 6403, 6470, 22700, 2890, 19134, 5542, 23316, 13644, 7655, 12646, 14746, 17112, 9374, 1445, 25315, 12722, 16996, 14805, 18742, 26085, 14004, 2768, 4425, 1270, 14584, 19992, 21454, 9440, 7426, 11637, 7934, 13625, 17587, 23091, 4240, 21335, 18869, 6914, 1390, 5261, 5340, 14806, 16293, 5119, 13546, 5342, 17241, 18495, 27455, 15328, 1371, 3260, 3758, 3387, 2575, 3576, 22952, 5811, 7491, 3123, 15119, 15693, 7073, 12852, 6911, 9835, 29234, 7650, 8462, 15698, 15911, 16159, 5527, 10094, 10290, 6781, 8802, 8885, 17716, 17908, 9369, 5582, 8877, 8697, 6155, 6398, 5337, 6061, 13559, 22389, 10806, 10799, 12333, 2964, 1875, 9453, 11935, 22513, 18969, 20921, 9507, 15872, 13377, 10859, 9222, 15849, 6563, 9910, 3386, 23972, 5979]\n",
      "[11479, 14345, 20047, 16132, 12228, 24544, 24577, 12984, 19183, 20468, 18822, 13976, 16068, 18195, 17918, 12015, 31541, 25503, 14907, 16418, 22881, 26688, 27702, 14186, 15268, 12196, 17317, 30439, 13437, 13954, 12728, 13511, 12207, 21909, 26535, 12441, 20182, 22700, 14458, 19134, 23316, 13644, 12646, 14746, 17112, 17341, 14233, 25315, 12722, 16996, 14805, 18742, 26085, 14004, 21365, 11697, 14584, 19992, 21454, 13047, 11637, 13625, 17587, 23091, 21335, 18869, 18924, 24894, 14806, 16293, 13546, 26421, 17241, 18495, 27455, 15328, 15008, 14929, 16020, 22952, 13294, 15119, 15693, 12852, 13364, 29234, 11763, 15698, 15911, 16159, 17716, 17908, 16073, 15131, 14257, 11979, 13559, 22389, 12333, 11935, 22513, 18969, 20921, 15872, 13377, 28299, 24405, 15849, 17171, 21084, 23972, 31217]\n",
      "[21413, 24544, 24577, 22039, 22300, 23997, 31541, 25503, 22881, 26688, 27702, 25115, 23255, 30439, 26339, 29562, 21909, 26535, 22700, 23378, 23316, 25060, 25315, 26202, 26085, 21454, 23091, 24221, 24894, 23732, 26421, 27455, 26626, 27270, 22952, 24383, 23442, 29167, 29234, 23325, 25401, 26892, 21953, 22389, 22513, 21723, 23166, 28299, 24405, 25848, 23972, 31217]\n",
      "[14345, 20047, 16132, 19797, 24544, 24577, 16636, 19183, 20468, 18822, 14721, 16068, 18195, 17918, 23997, 31541, 25503, 14907, 16418, 22881, 26688, 27702, 15268, 17317, 30439, 26339, 19593, 29562, 21909, 26535, 18255, 20182, 22700, 14458, 19134, 23316, 14746, 17112, 17341, 20577, 25315, 26202, 16996, 14805, 18742, 26085, 21365, 14584, 19992, 21454, 17203, 17587, 23091, 21335, 18869, 18924, 24894, 14806, 16293, 23732, 26421, 17241, 18495, 27455, 15328, 15008, 14929, 16020, 22952, 19109, 15119, 15693, 29167, 29234, 15698, 15911, 16159, 17716, 17908, 16073, 15131, 18831, 22389, 15104, 22513, 18969, 20921, 15872, 23166, 28299, 24405, 15849, 17171, 21084, 23972, 31217]\n",
      "[8421, 11008, 20047, 10169, 12228, 24544, 24577, 12984, 19183, 20468, 18822, 8547, 13976, 16068, 10398, 17918, 12015, 31541, 11019, 10590, 14907, 16418, 22881, 10029, 10712, 10351, 15268, 12196, 17317, 30439, 13437, 13954, 12728, 13511, 8742, 10501, 12207, 21909, 26535, 9786, 10447, 20182, 22700, 14458, 19134, 23316, 13644, 12646, 14746, 17112, 9374, 9366, 25315, 12722, 16996, 14805, 18742, 26085, 14004, 21365, 9015, 14584, 19992, 21454, 9440, 11637, 9688, 13625, 17587, 23091, 21335, 18869, 18924, 24894, 14806, 16293, 13546, 26421, 17241, 18495, 27455, 15328, 15008, 14929, 16020, 22952, 13294, 15119, 15693, 12852, 9835, 29234, 8462, 15698, 15911, 16159, 10094, 10290, 8760, 8802, 8885, 17716, 17908, 9369, 16073, 8877, 8697, 9964, 8890, 13559, 22389, 10806, 10799, 12333, 9453, 11935, 22513, 18969, 20921, 9507, 15872, 13377, 10859, 9222, 15849, 17171, 9910, 23972, 31217]\n",
      "[746, 7289, 7098, 4226, 8083, 7414, 10169, 12228, 5570, 7094, 24577, 2355, 12984, 19183, 20468, 18822, 6212, 8547, 1807, 13976, 7899, 10398, 17918, 12015, 3622, 6160, 11019, 5355, 14907, 16418, 5838, 8010, 10712, 2186, 10351, 15268, 1064, 12196, 3833, 30439, 13437, 6316, 4475, 12728, 13511, 3730, 4645, 1437, 10501, 12207, 21909, 26535, 9786, 10447, 2778, 6403, 6470, 22700, 2890, 19134, 5542, 23316, 13644, 7655, 12646, 14746, 17112, 9374, 1445, 25315, 12722, 16996, 14805, 18742, 26085, 14004, 2768, 4425, 1270, 14584, 19992, 21454, 9440, 7426, 11637, 875, 7934, 13625, 17587, 23091, 4240, 21335, 18869, 6914, 1390, 5261, 5340, 14806, 16293, 5119, 13546, 5342, 17241, 18495, 27455, 15328, 1371, 3260, 3758, 3387, 2575, 3576, 22952, 5811, 7491, 3123, 15119, 15693, 7073, 12852, 6911, 9835, 29234, 7650, 8462, 15698, 15911, 16159, 5527, 10094, 10290, 6781, 8802, 8885, 17716, 17908, 9369, 5582, 8877, 8697, 6155, 6398, 5337, 6061, 13559, 22389, 10806, 10799, 12333, 2964, 1875, 9453, 11935, 22513, 18969, 20921, 9507, 15872, 817, 13377, 10859, 9222, 15849, 6563, 9910, 3386, 23972, 5979]\n",
      "[11008, 20047, 16132, 12228, 24544, 24577, 12984, 19183, 20468, 18822, 13976, 16068, 18195, 17918, 12015, 31541, 11019, 14907, 16418, 22881, 26688, 27702, 14186, 15268, 12196, 17317, 30439, 13437, 13954, 12728, 13511, 12207, 21909, 26535, 12441, 20182, 22700, 14458, 19134, 23316, 13644, 12646, 14746, 17112, 17341, 14233, 25315, 12722, 16996, 14805, 18742, 26085, 14004, 21365, 11697, 14584, 19992, 21454, 13047, 11637, 13625, 17587, 23091, 21335, 18869, 18924, 24894, 14806, 16293, 13546, 26421, 17241, 18495, 27455, 15328, 15008, 14929, 16020, 22952, 13294, 15119, 15693, 12852, 13364, 29234, 11763, 15698, 15911, 16159, 17716, 17908, 16073, 15131, 14257, 11979, 13559, 22389, 12333, 11935, 22513, 18969, 20921, 15872, 13377, 28299, 24405, 15849, 17171, 21084, 23972, 31217]\n",
      "[7289, 20047, 8083, 7414, 10169, 12228, 24544, 24577, 12984, 19183, 20468, 18822, 8547, 13976, 7899, 10398, 17918, 12015, 8043, 11019, 10590, 14907, 16418, 22881, 8010, 10712, 10351, 15268, 12196, 17317, 30439, 13437, 13954, 12728, 13511, 8101, 10501, 12207, 21909, 26535, 9786, 10447, 20182, 22700, 14458, 19134, 23316, 13644, 7655, 12646, 14746, 17112, 9374, 9366, 25315, 12722, 16996, 14805, 18742, 26085, 14004, 21365, 9015, 14584, 19992, 21454, 9440, 7426, 11637, 7934, 13625, 17587, 23091, 21335, 18869, 18924, 24894, 14806, 16293, 13546, 26421, 17241, 18495, 27455, 15328, 7554, 14929, 16020, 22952, 7491, 7567, 15119, 15693, 12852, 9835, 29234, 7650, 8462, 15698, 15911, 16159, 10094, 10290, 8760, 8802, 8885, 17716, 17908, 9369, 16073, 8877, 8697, 9964, 8890, 13559, 22389, 10806, 10799, 12333, 9453, 11935, 22513, 18969, 20921, 9507, 15872, 13377, 10859, 9222, 15849, 17171, 9910, 23972, 31217]\n",
      "[20047, 24544, 24577, 20468, 22039, 22300, 23997, 31541, 25503, 22881, 26688, 27702, 25115, 23255, 30439, 26339, 29562, 21909, 26535, 20182, 22700, 21092, 23378, 23316, 20577, 25315, 26202, 26085, 21365, 21454, 23091, 21335, 24894, 23732, 26421, 27455, 26626, 20743, 22952, 24383, 23442, 29167, 29234, 23325, 25401, 26892, 21953, 22389, 22513, 20921, 21723, 23166, 28299, 24405, 21084, 23972, 31217]\n",
      "[7098, 8083, 7414, 10169, 12228, 24544, 24577, 12984, 19183, 20468, 18822, 8547, 13976, 7899, 10398, 17918, 12015, 8043, 11019, 10590, 14907, 16418, 22881, 8010, 10712, 10351, 15268, 12196, 17317, 30439, 13437, 13954, 12728, 13511, 8101, 10501, 12207, 21909, 26535, 9786, 10447, 20182, 22700, 14458, 19134, 23316, 13644, 7655, 12646, 14746, 17112, 9374, 9366, 25315, 12722, 16996, 14805, 18742, 26085, 14004, 21365, 9015, 14584, 19992, 21454, 9440, 7426, 11637, 7934, 13625, 17587, 23091, 21335, 18869, 18924, 24894, 14806, 16293, 13546, 26421, 17241, 18495, 27455, 15328, 7554, 14929, 16020, 22952, 7491, 7567, 15119, 15693, 12852, 9835, 29234, 7650, 8462, 15698, 15911, 16159, 10094, 10290, 8760, 8802, 8885, 17716, 17908, 9369, 16073, 8877, 8697, 9964, 8890, 13559, 22389, 10806, 10799, 12333, 9453, 11935, 22513, 18969, 20921, 9507, 15872, 13377, 10859, 9222, 15849, 17171, 9910, 23972, 31217]\n",
      "[27048, 28654, 31541, 27702, 30439, 27283, 29562, 30656, 30391, 29473, 27384, 28064, 28686, 30037, 27116, 27455, 27587, 27270, 29167, 29234, 29163, 32219, 28299, 29700, 31217]\n",
      "[127, 4226, 8083, 7414, 10169, 12228, 5570, 7094, 24577, 2355, 12984, 19183, 20468, 18822, 6212, 8547, 414, 13976, 7899, 10398, 17918, 12015, 3622, 6160, 11019, 5355, 14907, 16418, 5838, 8010, 10712, 2186, 10351, 15268, 1064, 12196, 3833, 397, 13437, 6316, 4475, 12728, 13511, 3730, 4645, 1437, 10501, 12207, 21909, 26535, 9786, 10447, 2778, 6403, 6470, 22700, 2890, 19134, 5542, 23316, 13644, 7655, 12646, 14746, 17112, 9374, 1445, 25315, 12722, 16996, 14805, 18742, 26085, 14004, 2768, 4425, 1270, 14584, 19992, 21454, 9440, 557, 11637, 875, 7934, 13625, 17587, 23091, 4240, 21335, 18869, 6914, 1390, 5261, 5340, 14806, 16293, 5119, 13546, 5342, 17241, 18495, 27455, 15328, 1371, 3260, 3758, 3387, 2575, 3576, 22952, 5811, 7491, 3123, 15119, 15693, 7073, 12852, 6911, 9835, 29234, 7650, 8462, 15698, 15911, 16159, 5527, 10094, 10290, 6781, 8802, 8885, 17716, 17908, 9369, 5582, 8877, 8697, 6155, 6398, 5337, 6061, 13559, 22389, 10806, 10799, 12333, 2964, 357, 1875, 9453, 11935, 22513, 18969, 20921, 9507, 15872, 817, 13377, 10859, 9222, 15849, 6563, 9910, 3386, 23972, 5979]\n",
      "[4226, 8083, 7414, 10169, 12228, 5570, 7094, 24577, 12984, 19183, 20468, 18822, 6212, 8547, 13976, 7899, 10398, 17918, 12015, 6160, 11019, 5355, 14907, 16418, 5838, 8010, 10712, 10351, 15268, 5515, 12196, 17317, 30439, 13437, 6316, 4475, 12728, 13511, 4645, 8101, 10501, 12207, 21909, 26535, 9786, 10447, 20182, 6403, 6470, 22700, 14458, 19134, 5542, 23316, 13644, 7655, 12646, 14746, 17112, 9374, 9366, 25315, 12722, 16996, 14805, 18742, 26085, 14004, 21365, 4425, 9015, 14584, 19992, 21454, 9440, 7426, 11637, 7934, 13625, 17587, 23091, 4240, 21335, 18869, 6914, 5637, 5261, 5340, 14806, 16293, 5119, 13546, 5342, 17241, 18495, 27455, 15328, 7554, 14929, 6917, 22952, 5811, 7491, 7567, 15119, 15693, 7073, 12852, 6911, 9835, 29234, 7650, 8462, 15698, 15911, 16159, 5527, 10094, 10290, 6781, 8802, 8885, 17716, 17908, 9369, 5582, 8877, 8697, 6155, 6398, 5337, 6061, 13559, 22389, 10806, 10799, 12333, 9453, 11935, 22513, 18969, 20921, 9507, 15872, 13377, 10859, 9222, 15849, 6563, 9910, 23972, 5979]\n",
      "[8083, 10169, 12228, 24544, 24577, 12984, 19183, 20468, 18822, 8547, 13976, 16068, 10398, 17918, 12015, 31541, 11019, 10590, 14907, 16418, 22881, 10029, 10712, 10351, 15268, 12196, 17317, 30439, 13437, 13954, 12728, 13511, 8101, 10501, 12207, 21909, 26535, 9786, 10447, 20182, 22700, 14458, 19134, 23316, 13644, 12646, 14746, 17112, 9374, 9366, 25315, 12722, 16996, 14805, 18742, 26085, 14004, 21365, 9015, 14584, 19992, 21454, 9440, 11637, 9688, 13625, 17587, 23091, 21335, 18869, 18924, 24894, 14806, 16293, 13546, 26421, 17241, 18495, 27455, 15328, 15008, 14929, 16020, 22952, 13294, 15119, 15693, 12852, 9835, 29234, 8462, 15698, 15911, 16159, 10094, 10290, 8760, 8802, 8885, 17716, 17908, 9369, 16073, 8877, 8697, 9964, 8890, 13559, 22389, 10806, 10799, 12333, 9453, 11935, 22513, 18969, 20921, 9507, 15872, 13377, 10859, 9222, 15849, 17171, 9910, 23972, 31217]\n",
      "[16132, 19797, 24544, 24577, 16636, 19183, 20468, 18822, 16685, 18195, 17918, 23997, 31541, 25503, 16418, 22881, 26688, 27702, 25115, 17317, 30439, 26339, 19593, 29562, 21909, 26535, 18255, 20182, 22700, 21092, 19134, 23316, 17112, 17341, 20577, 25315, 26202, 16996, 17181, 18742, 26085, 21365, 19992, 21454, 17203, 17587, 23091, 21335, 18869, 18924, 24894, 16293, 23732, 26421, 17241, 18495, 27455, 26626, 20743, 22952, 19109, 16555, 29167, 29234, 23325, 16159, 17716, 17908, 17269, 18831, 22389, 22513, 18969, 20921, 21723, 23166, 28299, 24405, 17171, 21084, 23972, 31217]\n",
      "[7414, 10169, 12228, 24544, 24577, 12984, 19183, 20468, 18822, 8547, 13976, 7899, 10398, 17918, 12015, 8043, 11019, 10590, 14907, 16418, 22881, 8010, 10712, 10351, 15268, 12196, 17317, 30439, 13437, 13954, 12728, 13511, 8101, 10501, 12207, 21909, 26535, 9786, 10447, 20182, 22700, 14458, 19134, 23316, 13644, 7655, 12646, 14746, 17112, 9374, 9366, 25315, 12722, 16996, 14805, 18742, 26085, 14004, 21365, 9015, 14584, 19992, 21454, 9440, 7426, 11637, 7934, 13625, 17587, 23091, 21335, 18869, 18924, 24894, 14806, 16293, 13546, 26421, 17241, 18495, 27455, 15328, 7554, 14929, 16020, 22952, 7491, 7567, 15119, 15693, 12852, 9835, 29234, 7650, 8462, 15698, 15911, 16159, 10094, 10290, 8760, 8802, 8885, 17716, 17908, 9369, 16073, 8877, 8697, 9964, 8890, 13559, 22389, 10806, 10799, 12333, 9453, 11935, 22513, 18969, 20921, 9507, 15872, 13377, 10859, 9222, 15849, 17171, 9910, 23972, 31217]\n",
      "[10169, 12228, 24544, 24577, 12984, 19183, 20468, 18822, 13976, 16068, 10398, 17918, 12015, 31541, 11019, 10590, 14907, 16418, 22881, 26688, 10712, 10351, 15268, 12196, 17317, 30439, 13437, 13954, 12728, 13511, 10501, 12207, 21909, 26535, 10447, 20182, 22700, 14458, 19134, 23316, 13644, 12646, 14746, 17112, 17341, 14233, 25315, 12722, 16996, 14805, 18742, 26085, 14004, 21365, 11697, 14584, 19992, 21454, 13047, 11637, 13625, 17587, 23091, 21335, 18869, 18924, 24894, 14806, 16293, 13546, 26421, 17241, 18495, 27455, 15328, 15008, 14929, 16020, 22952, 13294, 15119, 15693, 12852, 13364, 29234, 11763, 15698, 15911, 16159, 10290, 17716, 17908, 16073, 10308, 14257, 11979, 13559, 22389, 10806, 10799, 12333, 11935, 22513, 18969, 20921, 15872, 13377, 10859, 24405, 15849, 17171, 21084, 23972, 31217]\n",
      "[19797, 24544, 24577, 20468, 19811, 22300, 23997, 31541, 25503, 22881, 26688, 27702, 25115, 23255, 30439, 26339, 29562, 21909, 26535, 20182, 22700, 21092, 23378, 23316, 20577, 25315, 26202, 26085, 21365, 19992, 21454, 23091, 21335, 24894, 23732, 26421, 27455, 26626, 20743, 22952, 24383, 23442, 29167, 29234, 23325, 25401, 26892, 21953, 22389, 22513, 20921, 21723, 23166, 28299, 24405, 21084, 23972, 31217]\n",
      "[12228, 24544, 24577, 12984, 19183, 20468, 18822, 13976, 16068, 18195, 17918, 23997, 31541, 25503, 14907, 16418, 22881, 26688, 27702, 14186, 15268, 12853, 17317, 30439, 13437, 13954, 12728, 13511, 29562, 21909, 26535, 12441, 20182, 22700, 14458, 19134, 23316, 13644, 12646, 14746, 17112, 17341, 14233, 25315, 12722, 16996, 14805, 18742, 26085, 14004, 21365, 14584, 19992, 21454, 13047, 13559, 13625, 17587, 23091, 21335, 18869, 18924, 24894, 14806, 16293, 13546, 26421, 17241, 18495, 27455, 15328, 15008, 14929, 16020, 22952, 13294, 15119, 15693, 12852, 13364, 29234, 15698, 15911, 16159, 17716, 17908, 16073, 15131, 14257, 13559, 22389, 12333, 12381, 22513, 18969, 20921, 15872, 13377, 28299, 24405, 15849, 17171, 21084, 23972, 31217]\n",
      "[24544, 24577, 25964, 28654, 31541, 25503, 26688, 27702, 25115, 25413, 30439, 26339, 29562, 30656, 26535, 26158, 24696, 25060, 25315, 26202, 26085, 28686, 30037, 24894, 24935, 26421, 27455, 26626, 27270, 24668, 29167, 29234, 25401, 26892, 29163, 32219, 24642, 28299, 25848, 29700, 31217]\n",
      "[5570, 7094, 24577, 12984, 19183, 20468, 18822, 6212, 8547, 13976, 7899, 10398, 17918, 12015, 6160, 11019, 10590, 14907, 16418, 5838, 8010, 10712, 10351, 15268, 12196, 17317, 30439, 13437, 6316, 12728, 13511, 8101, 10501, 12207, 21909, 26535, 9786, 10447, 20182, 6403, 6470, 22700, 14458, 19134, 5751, 23316, 13644, 7655, 12646, 14746, 17112, 9374, 9366, 25315, 12722, 16996, 14805, 18742, 26085, 14004, 21365, 9015, 14584, 19992, 21454, 9440, 7426, 11637, 7934, 13625, 17587, 23091, 21335, 18869, 6914, 5637, 14806, 16293, 13546, 26421, 17241, 18495, 27455, 15328, 7554, 14929, 6917, 22952, 5811, 7491, 7567, 15119, 15693, 7073, 12852, 6911, 9835, 29234, 7650, 8462, 15698, 15911, 16159, 10094, 10290, 6781, 8802, 8885, 17716, 17908, 9369, 5582, 8877, 8697, 6155, 6398, 6061, 13559, 22389, 10806, 10799, 12333, 9453, 11935, 22513, 18969, 20921, 9507, 15872, 13377, 10859, 9222, 15849, 6563, 9910, 23972, 5979]\n",
      "[31784, 32626, 32121, 31787, 31854, 32219, 32000]\n",
      "[24772, 25964, 28654, 31541, 25503, 26688, 27702, 25115, 25413, 30439, 26339, 29562, 30656, 26535, 26158, 29473, 25060, 25315, 26202, 26085, 28686, 30037, 24894, 24935, 26421, 27455, 26626, 27270, 29167, 29234, 25401, 26892, 29163, 32219, 28299, 25848, 29700, 31217]\n",
      "[7094, 24577, 12984, 19183, 20468, 18822, 8547, 13976, 7899, 10398, 17918, 12015, 8043, 11019, 10590, 14907, 16418, 22881, 8010, 10712, 10351, 15268, 12196, 17317, 30439, 13437, 13954, 12728, 13511, 8101, 10501, 12207, 21909, 26535, 9786, 10447, 20182, 22700, 14458, 19134, 23316, 13644, 7655, 12646, 14746, 17112, 9374, 9366, 25315, 12722, 16996, 14805, 18742, 26085, 14004, 21365, 9015, 14584, 19992, 21454, 9440, 7426, 11637, 7934, 13625, 17587, 23091, 21335, 18869, 18924, 24894, 14806, 16293, 13546, 26421, 17241, 18495, 27455, 15328, 7554, 14929, 16020, 22952, 7491, 7567, 15119, 15693, 12852, 9835, 29234, 7650, 8462, 15698, 15911, 16159, 10094, 10290, 8760, 8802, 8885, 17716, 17908, 9369, 16073, 8877, 8697, 9964, 8890, 13559, 22389, 10806, 10799, 12333, 9453, 11935, 22513, 18969, 20921, 9507, 15872, 13377, 10859, 9222, 15849, 17171, 9910, 23972, 31217]\n",
      "[24577, 25964, 28654, 31541, 25503, 26688, 27702, 25115, 25413, 30439, 26339, 29562, 30656, 26535, 26158, 24696, 25060, 25315, 26202, 26085, 28686, 30037, 24894, 24935, 26421, 27455, 26626, 27270, 24668, 29167, 29234, 25401, 26892, 29163, 32219, 24642, 28299, 25848, 29700, 31217]\n",
      "[25964, 28654, 31541, 26688, 27702, 30439, 26339, 29562, 30656, 26535, 26158, 29473, 27384, 26202, 26085, 28686, 30037, 26421, 27455, 26626, 27270, 29167, 29234, 26892, 29163, 32219, 28299, 29700, 31217]\n",
      "[2355, 12984, 19183, 20468, 18822, 6212, 8547, 13976, 7899, 10398, 17918, 12015, 3622, 6160, 11019, 5355, 14907, 16418, 5838, 8010, 10712, 10351, 15268, 5515, 12196, 3833, 30439, 13437, 6316, 4475, 12728, 13511, 3730, 4645, 8101, 10501, 12207, 21909, 26535, 9786, 10447, 2778, 6403, 6470, 22700, 2890, 19134, 5542, 23316, 13644, 7655, 12646, 14746, 17112, 9374, 9366, 25315, 12722, 16996, 14805, 18742, 26085, 14004, 2768, 4425, 9015, 14584, 19992, 21454, 9440, 7426, 11637, 7934, 13625, 17587, 23091, 4240, 21335, 18869, 6914, 5637, 5261, 5340, 14806, 16293, 5119, 13546, 5342, 17241, 18495, 27455, 15328, 7554, 3260, 3758, 3387, 2575, 3576, 22952, 5811, 7491, 3123, 15119, 15693, 7073, 12852, 6911, 9835, 29234, 7650, 8462, 15698, 15911, 16159, 5527, 10094, 10290, 6781, 8802, 8885, 17716, 17908, 9369, 5582, 8877, 8697, 6155, 6398, 5337, 6061, 13559, 22389, 10806, 10799, 12333, 2964, 9453, 11935, 22513, 18969, 20921, 9507, 15872, 13377, 10859, 9222, 15849, 6563, 9910, 3386, 23972, 5979]\n",
      "[16636, 19183, 20468, 18822, 16685, 18195, 17918, 23997, 31541, 25503, 18579, 22881, 26688, 27702, 25115, 17317, 30439, 26339, 19593, 29562, 21909, 26535, 18255, 20182, 22700, 21092, 19134, 23316, 17112, 17341, 20577, 25315, 26202, 16996, 17181, 18742, 26085, 21365, 19992, 21454, 17203, 17587, 23091, 21335, 18869, 18924, 24894, 23732, 26421, 17241, 18495, 27455, 26626, 20743, 22952, 19109, 23442, 29167, 29234, 23325, 25401, 17716, 17908, 17269, 18831, 22389, 22513, 18969, 20921, 21723, 23166, 28299, 24405, 17171, 21084, 23972, 31217]\n",
      "[12984, 19183, 20468, 18822, 13976, 16068, 18195, 17918, 23997, 31541, 25503, 14907, 16418, 22881, 26688, 27702, 14186, 15268, 17317, 30439, 13437, 13954, 13511, 29562, 21909, 26535, 18255, 20182, 22700, 14458, 19134, 23316, 13644, 14746, 17112, 17341, 14233, 25315, 26202, 16996, 14805, 18742, 26085, 14004, 21365, 14584, 19992, 21454, 13047, 13559, 13625, 17587, 23091, 21335, 18869, 18924, 24894, 14806, 16293, 13546, 26421, 17241, 18495, 27455, 15328, 15008, 14929, 16020, 22952, 13294, 15119, 15693, 13364, 29234, 15698, 15911, 16159, 17716, 17908, 16073, 15131, 14257, 13559, 22389, 15104, 22513, 18969, 20921, 15872, 13377, 28299, 24405, 15849, 17171, 21084, 23972, 31217]\n",
      "[19183, 20468, 19811, 22300, 23997, 31541, 25503, 22881, 26688, 27702, 25115, 23255, 30439, 26339, 19593, 29562, 21909, 26535, 20182, 22700, 21092, 23378, 23316, 20577, 25315, 26202, 26085, 21365, 19992, 21454, 23091, 21335, 24894, 23732, 26421, 27455, 26626, 20743, 22952, 24383, 23442, 29167, 29234, 23325, 25401, 19358, 21953, 22389, 22513, 20921, 21723, 23166, 28299, 24405, 21084, 23972, 31217]\n",
      "[20468, 22039, 22300, 23997, 31541, 25503, 22881, 26688, 27702, 25115, 23255, 30439, 26339, 29562, 21909, 26535, 22700, 21092, 23378, 23316, 20577, 25315, 26202, 26085, 21365, 21454, 23091, 21335, 24894, 23732, 26421, 27455, 26626, 20743, 22952, 24383, 23442, 29167, 29234, 23325, 25401, 26892, 21953, 22389, 22513, 20921, 21723, 23166, 28299, 24405, 21084, 23972, 31217]\n",
      "[22039, 22300, 23997, 31541, 25503, 22881, 26688, 27702, 25115, 23255, 30439, 26339, 29562, 30656, 26535, 22700, 23378, 23316, 25060, 25315, 26202, 26085, 28686, 23091, 24221, 24894, 23732, 26421, 27455, 26626, 27270, 22952, 24383, 23442, 29167, 29234, 23325, 25401, 26892, 22389, 22513, 23166, 28299, 24405, 25848, 23972, 31217]\n",
      "[18822, 19811, 18906, 23997, 31541, 25503, 22881, 26688, 27702, 25115, 23255, 30439, 26339, 19593, 29562, 21909, 26535, 20182, 22700, 21092, 19134, 23316, 20577, 25315, 26202, 26085, 21365, 19992, 21454, 23091, 21335, 18869, 18924, 24894, 23732, 26421, 27455, 26626, 20743, 22952, 19109, 23442, 29167, 29234, 23325, 25401, 18891, 18831, 22389, 22513, 18969, 20921, 21723, 23166, 28299, 24405, 21084, 23972, 31217]\n",
      "[19811, 22300, 23997, 31541, 25503, 22881, 26688, 27702, 25115, 23255, 30439, 26339, 29562, 21909, 26535, 20182, 22700, 21092, 23378, 23316, 20577, 25315, 26202, 26085, 21365, 19992, 21454, 23091, 21335, 24894, 23732, 26421, 27455, 26626, 20743, 22952, 24383, 23442, 29167, 29234, 23325, 25401, 26892, 21953, 22389, 22513, 20921, 21723, 23166, 28299, 24405, 21084, 23972, 31217]\n",
      "[6212, 8547, 13976, 7899, 10398, 17918, 12015, 8043, 11019, 10590, 14907, 16418, 22881, 8010, 10712, 10351, 15268, 12196, 17317, 30439, 13437, 6316, 12728, 13511, 8101, 10501, 12207, 21909, 26535, 9786, 10447, 20182, 6403, 6470, 22700, 14458, 19134, 23316, 13644, 7655, 12646, 14746, 17112, 9374, 9366, 25315, 12722, 16996, 14805, 18742, 26085, 14004, 21365, 9015, 14584, 19992, 21454, 9440, 7426, 11637, 7934, 13625, 17587, 23091, 21335, 18869, 6914, 24894, 14806, 16293, 13546, 26421, 17241, 18495, 27455, 15328, 7554, 14929, 6917, 22952, 7491, 7567, 15119, 15693, 7073, 12852, 6911, 9835, 29234, 7650, 8462, 15698, 15911, 16159, 10094, 10290, 6781, 8802, 8885, 17716, 17908, 9369, 16073, 8877, 8697, 7025, 6398, 7067, 13559, 22389, 10806, 10799, 12333, 9453, 11935, 22513, 18969, 20921, 9507, 15872, 13377, 10859, 9222, 15849, 6563, 9910, 23972, 31217]\n",
      "[8547, 13976, 16068, 10398, 17918, 12015, 31541, 11019, 10590, 14907, 16418, 22881, 10029, 10712, 10351, 15268, 12196, 17317, 30439, 13437, 13954, 12728, 13511, 8742, 10501, 12207, 21909, 26535, 9786, 10447, 20182, 22700, 14458, 19134, 23316, 13644, 12646, 14746, 17112, 9374, 9366, 25315, 12722, 16996, 14805, 18742, 26085, 14004, 21365, 9015, 14584, 19992, 21454, 9440, 11637, 9688, 13625, 17587, 23091, 21335, 18869, 18924, 24894, 14806, 16293, 13546, 26421, 17241, 18495, 27455, 15328, 15008, 14929, 16020, 22952, 13294, 15119, 15693, 12852, 9835, 29234, 11763, 15698, 15911, 16159, 10094, 10290, 8760, 8802, 8885, 17716, 17908, 9369, 16073, 8877, 8697, 9964, 8890, 13559, 22389, 10806, 10799, 12333, 9453, 11935, 22513, 18969, 20921, 9507, 15872, 13377, 10859, 9222, 15849, 17171, 9910, 23972, 31217]\n",
      "[16685, 18195, 17918, 23997, 31541, 25503, 18579, 22881, 26688, 27702, 25115, 17317, 30439, 26339, 19593, 29562, 21909, 26535, 18255, 20182, 22700, 21092, 19134, 23316, 17112, 17341, 20577, 25315, 26202, 16996, 17181, 18742, 26085, 21365, 19992, 21454, 17203, 17587, 23091, 21335, 18869, 18924, 24894, 23732, 26421, 17241, 18495, 27455, 26626, 20743, 22952, 19109, 23442, 29167, 29234, 23325, 25401, 17716, 17908, 17269, 18831, 22389, 22513, 18969, 20921, 21723, 23166, 28299, 24405, 17171, 21084, 23972, 31217]\n",
      "[1807, 13976, 7899, 10398, 17918, 12015, 3622, 6160, 11019, 5355, 14907, 16418, 5838, 8010, 10712, 2186, 10351, 15268, 5515, 12196, 3833, 30439, 13437, 6316, 4475, 12728, 13511, 3730, 4645, 8101, 10501, 12207, 21909, 26535, 9786, 10447, 2778, 6403, 6470, 22700, 2890, 19134, 5542, 23316, 13644, 7655, 12646, 14746, 17112, 9374, 9366, 25315, 12722, 16996, 14805, 18742, 26085, 14004, 2768, 4425, 9015, 14584, 19992, 21454, 9440, 7426, 11637, 7934, 13625, 17587, 23091, 4240, 21335, 18869, 6914, 5637, 5261, 5340, 14806, 16293, 5119, 13546, 5342, 17241, 18495, 27455, 15328, 7554, 3260, 3758, 3387, 2575, 3576, 22952, 5811, 7491, 3123, 15119, 15693, 7073, 12852, 6911, 9835, 29234, 7650, 8462, 15698, 15911, 16159, 5527, 10094, 10290, 6781, 8802, 8885, 17716, 17908, 9369, 5582, 8877, 8697, 6155, 6398, 5337, 6061, 13559, 22389, 10806, 10799, 12333, 2964, 1875, 9453, 11935, 22513, 18969, 20921, 9507, 15872, 13377, 10859, 9222, 15849, 6563, 9910, 3386, 23972, 5979]\n",
      "[414, 13976, 7899, 10398, 17918, 12015, 3622, 6160, 11019, 5355, 14907, 16418, 5838, 8010, 10712, 2186, 10351, 15268, 1064, 12196, 3833, 30439, 13437, 6316, 4475, 12728, 13511, 3730, 4645, 1437, 10501, 12207, 21909, 26535, 9786, 10447, 2778, 6403, 6470, 22700, 2890, 19134, 5542, 23316, 13644, 7655, 12646, 14746, 17112, 9374, 1445, 25315, 12722, 16996, 14805, 18742, 26085, 14004, 2768, 4425, 1270, 14584, 19992, 21454, 9440, 557, 11637, 875, 7934, 13625, 17587, 23091, 4240, 21335, 18869, 6914, 1390, 5261, 5340, 14806, 16293, 5119, 13546, 5342, 17241, 18495, 27455, 15328, 1371, 3260, 3758, 3387, 2575, 3576, 22952, 5811, 7491, 3123, 15119, 15693, 7073, 12852, 6911, 9835, 29234, 7650, 8462, 15698, 15911, 16159, 5527, 10094, 10290, 6781, 8802, 8885, 17716, 17908, 9369, 5582, 8877, 8697, 6155, 6398, 5337, 6061, 13559, 22389, 10806, 10799, 12333, 2964, 1875, 9453, 11935, 22513, 18969, 20921, 9507, 15872, 817, 13377, 10859, 9222, 15849, 6563, 9910, 3386, 23972, 5979]\n",
      "[14721, 16068, 18195, 17918, 23997, 31541, 25503, 14907, 16418, 22881, 26688, 27702, 15268, 17317, 30439, 26339, 19593, 29562, 21909, 26535, 18255, 20182, 22700, 21092, 19134, 23316, 14746, 17112, 17341, 20577, 25315, 26202, 16996, 14805, 18742, 26085, 21365, 19992, 21454, 17203, 17587, 23091, 21335, 18869, 18924, 24894, 14806, 16293, 23732, 26421, 17241, 18495, 27455, 15328, 15008, 14929, 16020, 22952, 19109, 15119, 15693, 29167, 29234, 15698, 15911, 16159, 17716, 17908, 16073, 15131, 18831, 22389, 15104, 22513, 18969, 20921, 15872, 23166, 28299, 24405, 15849, 17171, 21084, 23972, 31217]\n",
      "[13976, 16068, 18195, 17918, 23997, 31541, 25503, 14907, 16418, 22881, 26688, 27702, 14186, 15268, 17317, 30439, 26339, 19593, 29562, 21909, 26535, 18255, 20182, 22700, 14458, 19134, 23316, 14746, 17112, 17341, 14233, 25315, 26202, 16996, 14805, 18742, 26085, 14004, 21365, 14584, 19992, 21454, 17203, 17587, 23091, 21335, 18869, 18924, 24894, 14806, 16293, 23732, 26421, 17241, 18495, 27455, 15328, 15008, 14929, 16020, 22952, 19109, 15119, 15693, 29167, 29234, 15698, 15911, 16159, 17716, 17908, 16073, 15131, 14257, 18831, 22389, 15104, 22513, 18969, 20921, 15872, 23166, 28299, 24405, 15849, 17171, 21084, 23972, 31217]\n",
      "[16068, 18195, 17918, 23997, 31541, 25503, 16418, 22881, 26688, 27702, 25115, 17317, 30439, 26339, 19593, 29562, 21909, 26535, 18255, 20182, 22700, 21092, 19134, 23316, 17112, 17341, 20577, 25315, 26202, 16996, 17181, 18742, 26085, 21365, 19992, 21454, 17203, 17587, 23091, 21335, 18869, 18924, 24894, 16293, 23732, 26421, 17241, 18495, 27455, 26626, 20743, 22952, 19109, 16555, 29167, 29234, 23325, 16159, 17716, 17908, 16073, 17269, 18831, 22389, 22513, 18969, 20921, 21723, 23166, 28299, 24405, 17171, 21084, 23972, 31217]\n",
      "[7899, 10398, 17918, 12015, 8043, 11019, 10590, 14907, 16418, 22881, 8010, 10712, 10351, 15268, 12196, 17317, 30439, 13437, 13954, 12728, 13511, 8101, 10501, 12207, 21909, 26535, 9786, 10447, 20182, 22700, 14458, 19134, 23316, 13644, 12646, 14746, 17112, 9374, 9366, 25315, 12722, 16996, 14805, 18742, 26085, 14004, 21365, 9015, 14584, 19992, 21454, 9440, 11637, 7934, 13625, 17587, 23091, 21335, 18869, 18924, 24894, 14806, 16293, 13546, 26421, 17241, 18495, 27455, 15328, 15008, 14929, 16020, 22952, 13294, 15119, 15693, 12852, 9835, 29234, 8462, 15698, 15911, 16159, 10094, 10290, 8760, 8802, 8885, 17716, 17908, 9369, 16073, 8877, 8697, 9964, 8890, 13559, 22389, 10806, 10799, 12333, 9453, 11935, 22513, 18969, 20921, 9507, 15872, 13377, 10859, 9222, 15849, 17171, 9910, 23972, 31217]\n",
      "[28654, 31541, 28700, 30439, 31159, 29562, 30656, 30391, 29473, 31379, 28686, 30037, 29495, 30118, 29167, 29234, 29163, 32219, 29700, 31217]\n",
      "[22300, 23997, 31541, 25503, 22881, 26688, 27702, 25115, 23255, 30439, 26339, 29562, 30656, 26535, 22700, 23378, 23316, 25060, 25315, 26202, 26085, 28686, 23091, 24221, 24894, 23732, 26421, 27455, 26626, 27270, 22952, 24383, 23442, 29167, 29234, 23325, 25401, 26892, 22389, 22513, 23166, 28299, 24405, 25848, 23972, 31217]\n",
      "[18195, 18906, 23997, 31541, 25503, 18579, 22881, 26688, 27702, 25115, 23255, 30439, 26339, 19593, 29562, 21909, 26535, 18255, 20182, 22700, 21092, 19134, 23316, 20577, 25315, 26202, 18742, 26085, 21365, 19992, 21454, 23091, 21335, 18869, 18924, 24894, 23732, 26421, 18495, 27455, 26626, 20743, 22952, 19109, 23442, 29167, 29234, 23325, 25401, 18891, 18831, 22389, 22513, 18969, 20921, 21723, 23166, 28299, 24405, 21084, 23972, 31217]\n",
      "[10398, 17918, 12015, 31541, 11019, 10590, 14907, 16418, 22881, 26688, 10712, 14186, 15268, 12196, 17317, 30439, 13437, 13954, 12728, 13511, 10501, 12207, 21909, 26535, 10447, 20182, 22700, 14458, 19134, 23316, 13644, 12646, 14746, 17112, 17341, 14233, 25315, 12722, 16996, 14805, 18742, 26085, 14004, 21365, 11697, 14584, 19992, 21454, 13047, 11637, 13625, 17587, 23091, 21335, 18869, 18924, 24894, 14806, 16293, 13546, 26421, 17241, 18495, 27455, 15328, 15008, 14929, 16020, 22952, 13294, 15119, 15693, 12852, 13364, 29234, 11763, 15698, 15911, 16159, 17716, 17908, 16073, 15131, 14257, 11979, 13559, 22389, 10806, 10799, 12333, 11935, 22513, 18969, 20921, 15872, 13377, 10859, 24405, 15849, 17171, 21084, 23972, 31217]\n",
      "[18906, 23997, 31541, 25503, 22881, 26688, 27702, 25115, 23255, 30439, 26339, 19593, 29562, 21909, 26535, 20182, 22700, 21092, 19134, 23316, 20577, 25315, 26202, 26085, 21365, 19992, 21454, 23091, 21335, 18924, 24894, 23732, 26421, 27455, 26626, 20743, 22952, 19109, 23442, 29167, 29234, 23325, 25401, 19358, 21953, 22389, 22513, 18969, 20921, 21723, 23166, 28299, 24405, 21084, 23972, 31217]\n",
      "[17918, 23997, 31541, 25503, 18579, 22881, 26688, 27702, 25115, 23255, 30439, 26339, 19593, 29562, 21909, 26535, 18255, 20182, 22700, 21092, 19134, 23316, 20577, 25315, 26202, 18742, 26085, 21365, 19992, 21454, 23091, 21335, 18869, 18924, 24894, 23732, 26421, 18495, 27455, 26626, 20743, 22952, 19109, 23442, 29167, 29234, 23325, 25401, 18891, 18831, 22389, 22513, 18969, 20921, 21723, 23166, 28299, 24405, 21084, 23972, 31217]\n",
      "[23997, 31541, 25503, 26688, 27702, 25115, 25413, 30439, 26339, 29562, 30656, 26535, 26158, 24696, 25060, 25315, 26202, 26085, 28686, 24221, 24894, 24935, 26421, 27455, 26626, 27270, 24383, 24668, 29167, 29234, 25401, 26892, 29163, 32219, 24642, 28299, 24405, 25848, 29700, 31217]\n",
      "[12015, 31541, 25503, 14907, 16418, 22881, 26688, 27702, 14186, 15268, 12196, 17317, 30439, 13437, 13954, 12728, 13511, 12207, 21909, 26535, 12441, 20182, 22700, 14458, 19134, 23316, 13644, 12646, 14746, 17112, 17341, 14233, 25315, 12722, 16996, 14805, 18742, 26085, 14004, 21365, 14584, 19992, 21454, 13047, 13559, 13625, 17587, 23091, 21335, 18869, 18924, 24894, 14806, 16293, 13546, 26421, 17241, 18495, 27455, 15328, 15008, 14929, 16020, 22952, 13294, 15119, 15693, 12852, 13364, 29234, 15698, 15911, 16159, 17716, 17908, 16073, 15131, 14257, 13559, 22389, 12333, 12381, 22513, 18969, 20921, 15872, 13377, 28299, 24405, 15849, 17171, 21084, 23972, 31217]\n",
      "[31543, 32626, 31592, 32121, 31787, 31854, 32219, 32000]\n",
      "[31541, 32626, 31592, 32121, 31787, 31854, 32219, 32000]\n",
      "[8043, 11019, 10590, 14907, 16418, 22881, 10029, 10712, 10351, 15268, 12196, 17317, 30439, 13437, 13954, 12728, 13511, 8101, 10501, 12207, 21909, 26535, 9786, 10447, 20182, 22700, 14458, 19134, 23316, 13644, 12646, 14746, 17112, 9374, 9366, 25315, 12722, 16996, 14805, 18742, 26085, 14004, 21365, 9015, 14584, 19992, 21454, 9440, 11637, 9688, 13625, 17587, 23091, 21335, 18869, 18924, 24894, 14806, 16293, 13546, 26421, 17241, 18495, 27455, 15328, 15008, 14929, 16020, 22952, 13294, 15119, 15693, 12852, 9835, 29234, 8462, 15698, 15911, 16159, 10094, 10290, 8760, 8802, 8885, 17716, 17908, 9369, 16073, 8877, 8697, 9964, 8890, 13559, 22389, 10806, 10799, 12333, 9453, 11935, 22513, 18969, 20921, 9507, 15872, 13377, 10859, 9222, 15849, 17171, 9910, 23972, 31217]\n",
      "[3622, 6160, 11019, 5355, 14907, 16418, 5838, 8010, 10712, 10351, 15268, 5515, 12196, 3833, 30439, 13437, 6316, 4475, 12728, 13511, 3730, 4645, 8101, 10501, 12207, 21909, 26535, 9786, 10447, 20182, 6403, 6470, 22700, 14458, 19134, 5542, 23316, 13644, 7655, 12646, 14746, 17112, 9374, 9366, 25315, 12722, 16996, 14805, 18742, 26085, 14004, 21365, 4425, 9015, 14584, 19992, 21454, 9440, 7426, 11637, 7934, 13625, 17587, 23091, 4240, 21335, 18869, 6914, 5637, 5261, 5340, 14806, 16293, 5119, 13546, 5342, 17241, 18495, 27455, 15328, 7554, 14929, 3758, 6917, 22952, 5811, 7491, 7567, 15119, 15693, 7073, 12852, 6911, 9835, 29234, 7650, 8462, 15698, 15911, 16159, 5527, 10094, 10290, 6781, 8802, 8885, 17716, 17908, 9369, 5582, 8877, 8697, 6155, 6398, 5337, 6061, 13559, 22389, 10806, 10799, 12333, 9453, 11935, 22513, 18969, 20921, 9507, 15872, 13377, 10859, 9222, 15849, 6563, 9910, 23972, 5979]\n",
      "[6160, 11019, 10590, 14907, 16418, 22881, 8010, 10712, 10351, 15268, 12196, 17317, 30439, 13437, 6316, 12728, 13511, 8101, 10501, 12207, 21909, 26535, 9786, 10447, 20182, 6403, 6470, 22700, 14458, 19134, 23316, 13644, 7655, 12646, 14746, 17112, 9374, 9366, 25315, 12722, 16996, 14805, 18742, 26085, 14004, 21365, 9015, 14584, 19992, 21454, 9440, 7426, 11637, 7934, 13625, 17587, 23091, 21335, 18869, 6914, 24894, 14806, 16293, 13546, 26421, 17241, 18495, 27455, 15328, 7554, 14929, 6917, 22952, 7491, 7567, 15119, 15693, 7073, 12852, 6911, 9835, 29234, 7650, 8462, 15698, 15911, 16159, 10094, 10290, 6781, 8802, 8885, 17716, 17908, 9369, 16073, 8877, 8697, 7025, 6398, 7067, 13559, 22389, 10806, 10799, 12333, 9453, 11935, 22513, 18969, 20921, 9507, 15872, 13377, 10859, 9222, 15849, 6563, 9910, 23972, 31217]\n",
      "[32626, 32627]\n",
      "[25503, 26688, 27702, 30439, 26339, 29562, 30656, 26535, 26158, 29473, 27384, 26202, 26085, 28686, 30037, 26421, 27455, 26626, 27270, 29167, 29234, 26892, 29163, 32219, 28299, 25848, 29700, 31217]\n",
      "[11019, 14907, 16418, 22881, 26688, 27702, 14186, 15268, 12196, 17317, 30439, 13437, 13954, 12728, 13511, 12207, 21909, 26535, 12441, 20182, 22700, 14458, 19134, 23316, 13644, 12646, 14746, 17112, 17341, 14233, 25315, 12722, 16996, 14805, 18742, 26085, 14004, 21365, 11697, 14584, 19992, 21454, 13047, 11637, 13625, 17587, 23091, 21335, 18869, 18924, 24894, 14806, 16293, 13546, 26421, 17241, 18495, 27455, 15328, 15008, 14929, 16020, 22952, 13294, 15119, 15693, 12852, 13364, 29234, 11763, 15698, 15911, 16159, 17716, 17908, 16073, 15131, 14257, 11979, 13559, 22389, 12333, 11935, 22513, 18969, 20921, 15872, 13377, 28299, 24405, 15849, 17171, 21084, 23972, 31217]\n",
      "[28700, 30439, 31159, 29562, 30656, 30391, 29473, 31379, 29334, 30037, 29495, 30118, 29167, 29234, 29163, 32219, 29700, 31217]\n",
      "[10590, 14907, 16418, 22881, 26688, 10712, 14186, 15268, 12196, 17317, 30439, 13437, 13954, 12728, 13511, 12207, 21909, 26535, 12441, 20182, 22700, 14458, 19134, 23316, 13644, 12646, 14746, 17112, 17341, 14233, 25315, 12722, 16996, 14805, 18742, 26085, 14004, 21365, 11697, 14584, 19992, 21454, 13047, 11637, 13625, 17587, 23091, 21335, 18869, 18924, 24894, 14806, 16293, 13546, 26421, 17241, 18495, 27455, 15328, 15008, 14929, 16020, 22952, 13294, 15119, 15693, 12852, 13364, 29234, 11763, 15698, 15911, 16159, 17716, 17908, 16073, 15131, 14257, 11979, 13559, 22389, 10806, 10799, 12333, 11935, 22513, 18969, 20921, 15872, 13377, 10859, 24405, 15849, 17171, 21084, 23972, 31217]\n",
      "[5355, 14907, 16418, 5838, 8010, 10712, 10351, 15268, 5515, 12196, 17317, 30439, 13437, 6316, 12728, 13511, 8101, 10501, 12207, 21909, 26535, 9786, 10447, 20182, 6403, 6470, 22700, 14458, 19134, 5542, 23316, 13644, 7655, 12646, 14746, 17112, 9374, 9366, 25315, 12722, 16996, 14805, 18742, 26085, 14004, 21365, 9015, 14584, 19992, 21454, 9440, 7426, 11637, 7934, 13625, 17587, 23091, 21335, 18869, 6914, 5637, 14806, 16293, 13546, 26421, 17241, 18495, 27455, 15328, 7554, 14929, 6917, 22952, 5811, 7491, 7567, 15119, 15693, 7073, 12852, 6911, 9835, 29234, 7650, 8462, 15698, 15911, 16159, 5527, 10094, 10290, 6781, 8802, 8885, 17716, 17908, 9369, 5582, 8877, 8697, 6155, 6398, 6061, 13559, 22389, 10806, 10799, 12333, 9453, 11935, 22513, 18969, 20921, 9507, 15872, 13377, 10859, 9222, 15849, 6563, 9910, 23972, 5979]\n",
      "[14907, 16418, 22881, 26688, 27702, 15268, 17317, 30439, 26339, 19593, 29562, 21909, 26535, 18255, 20182, 22700, 21092, 19134, 23316, 17112, 17341, 20577, 25315, 26202, 16996, 17181, 18742, 26085, 21365, 19992, 21454, 17203, 17587, 23091, 21335, 18869, 18924, 24894, 16293, 23732, 26421, 17241, 18495, 27455, 15328, 15008, 14929, 16020, 22952, 19109, 15119, 15693, 29167, 29234, 15698, 15911, 16159, 17716, 17908, 16073, 15131, 18831, 22389, 15104, 22513, 18969, 20921, 15872, 23166, 28299, 24405, 15849, 17171, 21084, 23972, 31217]\n",
      "[18579, 22881, 26688, 27702, 25115, 23255, 30439, 26339, 19593, 29562, 21909, 26535, 20182, 22700, 21092, 19134, 23316, 20577, 25315, 26202, 18742, 26085, 21365, 19992, 21454, 23091, 21335, 18869, 18924, 24894, 23732, 26421, 27455, 26626, 20743, 22952, 19109, 23442, 29167, 29234, 23325, 25401, 18891, 18831, 22389, 22513, 18969, 20921, 21723, 23166, 28299, 24405, 21084, 23972, 31217]\n",
      "[16418, 22881, 26688, 27702, 25115, 17317, 30439, 26339, 19593, 29562, 21909, 26535, 18255, 20182, 22700, 21092, 19134, 23316, 17112, 17341, 20577, 25315, 26202, 16996, 17181, 18742, 26085, 21365, 19992, 21454, 17203, 17587, 23091, 21335, 18869, 18924, 24894, 23732, 26421, 17241, 18495, 27455, 26626, 20743, 22952, 19109, 16555, 29167, 29234, 23325, 25401, 17716, 17908, 17269, 18831, 22389, 22513, 18969, 20921, 21723, 23166, 28299, 24405, 17171, 21084, 23972, 31217]\n",
      "[22881, 26688, 27702, 25115, 23255, 30439, 26339, 29562, 30656, 26535, 26158, 23378, 23316, 25060, 25315, 26202, 26085, 28686, 23091, 24221, 24894, 23732, 26421, 27455, 26626, 27270, 22952, 24383, 23442, 29167, 29234, 23325, 25401, 26892, 29163, 32219, 23166, 28299, 24405, 25848, 23972, 31217]\n",
      "[5838, 8010, 10712, 10351, 15268, 12196, 17317, 30439, 13437, 6316, 12728, 13511, 8101, 10501, 12207, 21909, 26535, 9786, 10447, 20182, 6403, 6470, 22700, 14458, 19134, 23316, 13644, 7655, 12646, 14746, 17112, 9374, 9366, 25315, 12722, 16996, 14805, 18742, 26085, 14004, 21365, 9015, 14584, 19992, 21454, 9440, 7426, 11637, 7934, 13625, 17587, 23091, 21335, 18869, 6914, 24894, 14806, 16293, 13546, 26421, 17241, 18495, 27455, 15328, 7554, 14929, 6917, 22952, 7491, 7567, 15119, 15693, 7073, 12852, 6911, 9835, 29234, 7650, 8462, 15698, 15911, 16159, 10094, 10290, 6781, 8802, 8885, 17716, 17908, 9369, 6062, 8877, 8697, 6155, 6398, 6061, 13559, 22389, 10806, 10799, 12333, 9453, 11935, 22513, 18969, 20921, 9507, 15872, 13377, 10859, 9222, 15849, 6563, 9910, 23972, 5979]\n",
      "[26688, 27702, 30439, 27283, 29562, 30656, 30391, 29473, 27384, 28064, 28686, 30037, 27116, 27455, 27587, 27270, 29167, 29234, 26892, 29163, 32219, 28299, 29700, 31217]\n",
      "[10029, 10712, 10351, 15268, 12196, 17317, 30439, 13437, 13954, 12728, 13511, 10501, 12207, 21909, 26535, 10447, 20182, 22700, 14458, 19134, 23316, 13644, 12646, 14746, 17112, 17341, 14233, 25315, 12722, 16996, 14805, 18742, 26085, 14004, 21365, 11697, 14584, 19992, 21454, 13047, 11637, 13625, 17587, 23091, 21335, 18869, 18924, 24894, 14806, 16293, 13546, 26421, 17241, 18495, 27455, 15328, 15008, 14929, 16020, 22952, 13294, 15119, 15693, 12852, 13364, 29234, 11763, 15698, 15911, 16159, 10094, 10290, 17716, 17908, 16073, 10308, 14257, 11979, 13559, 22389, 10806, 10799, 12333, 11935, 22513, 18969, 20921, 15872, 13377, 10859, 24405, 15849, 17171, 21084, 23972, 31217]\n",
      "[8010, 10712, 10351, 15268, 12196, 17317, 30439, 13437, 13954, 12728, 13511, 8101, 10501, 12207, 21909, 26535, 9786, 10447, 20182, 22700, 14458, 19134, 23316, 13644, 12646, 14746, 17112, 9374, 9366, 25315, 12722, 16996, 14805, 18742, 26085, 14004, 21365, 9015, 14584, 19992, 21454, 9440, 11637, 9688, 13625, 17587, 23091, 21335, 18869, 18924, 24894, 14806, 16293, 13546, 26421, 17241, 18495, 27455, 15328, 15008, 14929, 16020, 22952, 13294, 15119, 15693, 12852, 9835, 29234, 8462, 15698, 15911, 16159, 10094, 10290, 8760, 8802, 8885, 17716, 17908, 9369, 16073, 8877, 8697, 9964, 8890, 13559, 22389, 10806, 10799, 12333, 9453, 11935, 22513, 18969, 20921, 9507, 15872, 13377, 10859, 9222, 15849, 17171, 9910, 23972, 31217]\n",
      "[27702, 30439, 31159, 29562, 30656, 30391, 29473, 28604, 28064, 28686, 30037, 28126, 30118, 29167, 29234, 29163, 32219, 28299, 29700, 31217]\n",
      "[10712, 14186, 15268, 12196, 17317, 30439, 13437, 13954, 12728, 13511, 12207, 21909, 26535, 12441, 20182, 22700, 14458, 19134, 23316, 13644, 12646, 14746, 17112, 17341, 14233, 25315, 12722, 16996, 14805, 18742, 26085, 14004, 21365, 11697, 14584, 19992, 21454, 13047, 11637, 13625, 17587, 23091, 21335, 18869, 18924, 24894, 14806, 16293, 13546, 26421, 17241, 18495, 27455, 15328, 15008, 14929, 16020, 22952, 13294, 15119, 15693, 12852, 13364, 29234, 11763, 15698, 15911, 16159, 17716, 17908, 16073, 15131, 14257, 11979, 13559, 22389, 10806, 10799, 12333, 11935, 22513, 18969, 20921, 15872, 13377, 10859, 24405, 15849, 17171, 21084, 23972, 31217]\n",
      "[30513, 31159, 30656, 31386, 31379, 30621, 31530, 32219, 31217]\n",
      "[25115, 25413, 30439, 26339, 29562, 30656, 26535, 26158, 29473, 27384, 25315, 26202, 26085, 28686, 30037, 26421, 27455, 26626, 27270, 29167, 29234, 25401, 26892, 29163, 32219, 28299, 25848, 29700, 31217]\n",
      "[14186, 15268, 17317, 30439, 26339, 19593, 29562, 21909, 26535, 18255, 20182, 22700, 14458, 19134, 23316, 14746, 17112, 17341, 14233, 25315, 26202, 16996, 14805, 18742, 26085, 21365, 14584, 19992, 21454, 17203, 17587, 23091, 21335, 18869, 18924, 24894, 14806, 16293, 23732, 26421, 17241, 18495, 27455, 15328, 15008, 14929, 16020, 22952, 19109, 15119, 15693, 29167, 29234, 15698, 15911, 16159, 17716, 17908, 16073, 15131, 14257, 18831, 22389, 15104, 22513, 18969, 20921, 15872, 23166, 28299, 24405, 15849, 17171, 21084, 23972, 31217]\n",
      "[2186, 10351, 15268, 5515, 12196, 3833, 30439, 13437, 6316, 4475, 12728, 13511, 3730, 4645, 8101, 10501, 12207, 21909, 26535, 9786, 10447, 2778, 6403, 6470, 22700, 2890, 19134, 5542, 23316, 13644, 7655, 12646, 14746, 17112, 9374, 9366, 25315, 12722, 16996, 14805, 18742, 26085, 14004, 2768, 4425, 9015, 14584, 19992, 21454, 9440, 7426, 11637, 7934, 13625, 17587, 23091, 4240, 21335, 18869, 6914, 5637, 5261, 5340, 14806, 16293, 5119, 13546, 5342, 17241, 18495, 27455, 15328, 7554, 3260, 3758, 3387, 2575, 3576, 22952, 5811, 7491, 3123, 15119, 15693, 7073, 12852, 6911, 9835, 29234, 7650, 8462, 15698, 15911, 16159, 5527, 10094, 10290, 6781, 8802, 8885, 17716, 17908, 9369, 5582, 8877, 8697, 6155, 6398, 5337, 6061, 13559, 22389, 10806, 10799, 12333, 2964, 9453, 11935, 22513, 18969, 20921, 9507, 15872, 13377, 10859, 9222, 15849, 6563, 9910, 3386, 23972, 5979]\n",
      "[10351, 15268, 12196, 17317, 30439, 13437, 13954, 12728, 13511, 10501, 12207, 21909, 26535, 10447, 20182, 22700, 14458, 19134, 23316, 13644, 12646, 14746, 17112, 17341, 14233, 25315, 12722, 16996, 14805, 18742, 26085, 14004, 21365, 11697, 14584, 19992, 21454, 13047, 11637, 13625, 17587, 23091, 21335, 18869, 18924, 24894, 14806, 16293, 13546, 26421, 17241, 18495, 27455, 15328, 15008, 14929, 16020, 22952, 13294, 15119, 15693, 12852, 13364, 29234, 11763, 15698, 15911, 16159, 17716, 17908, 16073, 15131, 14257, 11979, 13559, 22389, 10806, 10799, 12333, 11935, 22513, 18969, 20921, 15872, 13377, 10859, 24405, 15849, 17171, 21084, 23972, 31217]\n",
      "[15268, 17317, 30439, 26339, 19593, 29562, 21909, 26535, 18255, 20182, 22700, 21092, 19134, 23316, 17112, 17341, 20577, 25315, 26202, 16996, 17181, 18742, 26085, 21365, 19992, 21454, 17203, 17587, 23091, 21335, 18869, 18924, 24894, 16293, 23732, 26421, 17241, 18495, 27455, 15328, 16020, 22952, 19109, 15693, 29167, 29234, 15698, 15911, 16159, 17716, 17908, 16073, 17269, 18831, 22389, 22513, 18969, 20921, 15872, 23166, 28299, 24405, 15849, 17171, 21084, 23972, 31217]\n",
      "[25413, 30439, 26339, 29562, 30656, 26535, 26158, 29473, 27384, 26202, 26085, 28686, 30037, 26421, 27455, 26626, 27270, 29167, 29234, 26892, 29163, 32219, 28299, 25848, 29700, 31217]\n",
      "[23255, 30439, 26339, 29562, 30656, 26535, 26158, 23378, 23316, 25060, 25315, 26202, 26085, 28686, 24221, 24894, 23732, 26421, 27455, 26626, 27270, 24383, 23442, 29167, 29234, 23325, 25401, 26892, 29163, 32219, 24642, 28299, 24405, 25848, 23972, 31217]\n",
      "[12853, 17317, 30439, 13437, 13954, 13511, 29562, 21909, 26535, 18255, 20182, 22700, 14458, 19134, 23316, 13644, 14746, 17112, 17341, 14233, 25315, 26202, 16996, 14805, 18742, 26085, 14004, 21365, 14584, 19992, 21454, 13047, 13559, 13625, 17587, 23091, 21335, 18869, 18924, 24894, 14806, 16293, 13546, 26421, 17241, 18495, 27455, 15328, 15008, 14929, 16020, 22952, 13294, 15119, 15693, 13364, 29234, 15698, 15911, 16159, 17716, 17908, 16073, 15131, 14257, 13559, 22389, 15104, 22513, 18969, 20921, 15872, 13377, 28299, 24405, 15849, 17171, 21084, 23972, 31217]\n",
      "[5515, 12196, 17317, 30439, 13437, 6316, 12728, 13511, 8101, 10501, 12207, 21909, 26535, 9786, 10447, 20182, 6403, 6470, 22700, 14458, 19134, 5542, 23316, 13644, 7655, 12646, 14746, 17112, 9374, 9366, 25315, 12722, 16996, 14805, 18742, 26085, 14004, 21365, 9015, 14584, 19992, 21454, 9440, 7426, 11637, 7934, 13625, 17587, 23091, 21335, 18869, 6914, 5637, 14806, 16293, 13546, 26421, 17241, 18495, 27455, 15328, 7554, 14929, 6917, 22952, 5811, 7491, 7567, 15119, 15693, 7073, 12852, 6911, 9835, 29234, 7650, 8462, 15698, 15911, 16159, 5527, 10094, 10290, 6781, 8802, 8885, 17716, 17908, 9369, 5582, 8877, 8697, 6155, 6398, 6061, 13559, 22389, 10806, 10799, 12333, 9453, 11935, 22513, 18969, 20921, 9507, 15872, 13377, 10859, 9222, 15849, 6563, 9910, 23972, 5979]\n",
      "[1064, 12196, 3833, 30439, 13437, 6316, 4475, 12728, 13511, 3730, 4645, 1437, 10501, 12207, 21909, 26535, 9786, 10447, 2778, 6403, 6470, 22700, 2890, 19134, 5542, 23316, 13644, 7655, 12646, 14746, 17112, 9374, 1445, 25315, 12722, 16996, 14805, 18742, 26085, 14004, 2768, 4425, 1270, 14584, 19992, 21454, 9440, 7426, 11637, 7934, 13625, 17587, 23091, 4240, 21335, 18869, 6914, 1390, 5261, 5340, 14806, 16293, 5119, 13546, 5342, 17241, 18495, 27455, 15328, 1371, 3260, 3758, 3387, 2575, 3576, 22952, 5811, 7491, 3123, 15119, 15693, 7073, 12852, 6911, 9835, 29234, 7650, 8462, 15698, 15911, 16159, 5527, 10094, 10290, 6781, 8802, 8885, 17716, 17908, 9369, 5582, 8877, 8697, 6155, 6398, 5337, 6061, 13559, 22389, 10806, 10799, 12333, 2964, 1875, 9453, 11935, 22513, 18969, 20921, 9507, 15872, 13377, 10859, 9222, 15849, 6563, 9910, 3386, 23972, 5979]\n",
      "[12196, 17317, 30439, 13437, 13954, 12728, 13511, 12207, 21909, 26535, 12441, 20182, 22700, 14458, 19134, 23316, 13644, 12646, 14746, 17112, 17341, 14233, 25315, 12722, 16996, 14805, 18742, 26085, 14004, 21365, 14584, 19992, 21454, 13047, 13559, 13625, 17587, 23091, 21335, 18869, 18924, 24894, 14806, 16293, 13546, 26421, 17241, 18495, 27455, 15328, 15008, 14929, 16020, 22952, 13294, 15119, 15693, 12852, 13364, 29234, 15698, 15911, 16159, 17716, 17908, 16073, 15131, 14257, 13559, 22389, 12333, 12381, 22513, 18969, 20921, 15872, 13377, 28299, 24405, 15849, 17171, 21084, 23972, 31217]\n",
      "[17317, 30439, 26339, 19593, 29562, 21909, 26535, 18255, 20182, 22700, 21092, 19134, 23316, 17341, 20577, 25315, 26202, 18742, 26085, 21365, 19992, 21454, 17587, 23091, 21335, 18869, 18924, 24894, 23732, 26421, 18495, 27455, 26626, 20743, 22952, 19109, 23442, 29167, 29234, 23325, 25401, 17716, 17908, 18831, 22389, 22513, 18969, 20921, 21723, 23166, 28299, 24405, 21084, 23972, 31217]\n",
      "[3833, 30439, 13437, 6316, 4475, 12728, 13511, 4645, 8101, 10501, 12207, 21909, 26535, 9786, 10447, 20182, 6403, 6470, 22700, 14458, 19134, 5542, 23316, 13644, 7655, 12646, 14746, 17112, 9374, 9366, 25315, 12722, 16996, 14805, 18742, 26085, 14004, 21365, 4425, 9015, 14584, 19992, 21454, 9440, 7426, 11637, 7934, 13625, 17587, 23091, 4240, 21335, 18869, 6914, 5637, 5261, 5340, 14806, 16293, 5119, 13546, 5342, 17241, 18495, 27455, 15328, 7554, 14929, 6917, 22952, 5811, 7491, 7567, 15119, 15693, 7073, 12852, 6911, 9835, 29234, 7650, 8462, 15698, 15911, 16159, 5527, 10094, 10290, 6781, 8802, 8885, 17716, 17908, 9369, 5582, 8877, 8697, 6155, 6398, 5337, 6061, 13559, 22389, 10806, 10799, 12333, 9453, 11935, 22513, 18969, 20921, 9507, 15872, 13377, 10859, 9222, 15849, 6563, 9910, 23972, 5979]\n",
      "[30439, 31159, 30656, 31386, 31379, 30621, 31530, 32219, 31217]\n",
      "[397, 13437, 6316, 4475, 12728, 13511, 3730, 4645, 1437, 10501, 12207, 21909, 26535, 9786, 10447, 2778, 6403, 6470, 22700, 2890, 19134, 5542, 23316, 13644, 7655, 12646, 14746, 17112, 9374, 1445, 25315, 12722, 16996, 14805, 18742, 26085, 14004, 2768, 4425, 1270, 14584, 19992, 21454, 9440, 557, 11637, 875, 7934, 13625, 17587, 23091, 4240, 21335, 18869, 6914, 1390, 5261, 5340, 14806, 16293, 5119, 13546, 5342, 17241, 18495, 27455, 15328, 1371, 3260, 3758, 3387, 2575, 3576, 22952, 5811, 7491, 3123, 15119, 15693, 7073, 12852, 6911, 9835, 29234, 7650, 8462, 15698, 15911, 16159, 5527, 10094, 10290, 6781, 8802, 8885, 17716, 17908, 9369, 5582, 8877, 8697, 6155, 6398, 5337, 6061, 13559, 22389, 10806, 10799, 12333, 2964, 1875, 9453, 11935, 22513, 18969, 20921, 9507, 15872, 817, 13377, 10859, 9222, 15849, 6563, 9910, 3386, 23972, 5979]\n",
      "[31159, 31342, 31386, 31379, 31381, 31530, 32219, 31217]\n",
      "[27283, 29562, 30656, 30391, 29473, 27384, 28064, 28686, 30037, 27455, 27587, 30118, 29167, 29234, 29163, 32219, 28299, 29700, 31217]\n",
      "[26339, 29562, 30656, 26535, 30391, 29473, 27384, 28064, 28686, 30037, 26421, 27455, 26626, 27270, 29167, 29234, 26892, 29163, 32219, 28299, 29700, 31217]\n",
      "[13437, 13954, 13511, 29562, 21909, 26535, 18255, 20182, 22700, 14458, 19134, 23316, 13644, 14746, 17112, 17341, 14233, 25315, 26202, 16996, 14805, 18742, 26085, 14004, 21365, 14584, 19992, 21454, 13559, 13625, 17587, 23091, 21335, 18869, 18924, 24894, 14806, 16293, 13546, 26421, 17241, 18495, 27455, 15328, 15008, 14929, 16020, 22952, 19109, 15119, 15693, 29167, 29234, 15698, 15911, 16159, 17716, 17908, 16073, 15131, 14257, 13559, 22389, 15104, 22513, 18969, 20921, 15872, 23166, 28299, 24405, 15849, 17171, 21084, 23972, 31217]\n",
      "[13954, 19593, 29562, 21909, 26535, 18255, 20182, 22700, 14458, 19134, 23316, 14746, 17112, 17341, 14233, 25315, 26202, 16996, 14805, 18742, 26085, 14004, 21365, 14584, 19992, 21454, 17203, 17587, 23091, 21335, 18869, 18924, 24894, 14806, 16293, 23732, 26421, 17241, 18495, 27455, 15328, 15008, 14929, 16020, 22952, 19109, 15119, 15693, 29167, 29234, 15698, 15911, 16159, 17716, 17908, 16073, 15131, 14257, 18831, 22389, 15104, 22513, 18969, 20921, 15872, 23166, 28299, 24405, 15849, 17171, 21084, 23972, 31217]\n",
      "[6316, 12728, 13511, 8101, 10501, 12207, 21909, 26535, 9786, 10447, 20182, 6403, 6470, 22700, 14458, 19134, 23316, 13644, 7655, 12646, 14746, 17112, 9374, 9366, 25315, 12722, 16996, 14805, 18742, 26085, 14004, 21365, 9015, 14584, 19992, 21454, 9440, 7426, 11637, 7934, 13625, 17587, 23091, 21335, 18869, 6914, 24894, 14806, 16293, 13546, 26421, 17241, 18495, 27455, 15328, 7554, 14929, 6917, 22952, 7491, 7567, 15119, 15693, 7073, 12852, 6911, 9835, 29234, 7650, 8462, 15698, 15911, 16159, 10094, 10290, 6781, 8802, 8885, 17716, 17908, 9369, 16073, 8877, 8697, 7025, 6398, 7067, 13559, 22389, 10806, 10799, 12333, 9453, 11935, 22513, 18969, 20921, 9507, 15872, 13377, 10859, 9222, 15849, 6563, 9910, 23972, 31217]\n",
      "[32627]\n",
      "[4475, 12728, 13511, 4645, 8101, 10501, 12207, 21909, 26535, 9786, 10447, 20182, 6403, 6470, 22700, 14458, 19134, 5542, 23316, 13644, 7655, 12646, 14746, 17112, 9374, 9366, 25315, 12722, 16996, 14805, 18742, 26085, 14004, 21365, 9015, 14584, 19992, 21454, 9440, 7426, 11637, 7934, 13625, 17587, 23091, 21335, 18869, 6914, 5637, 5261, 5340, 14806, 16293, 5119, 13546, 5342, 17241, 18495, 27455, 15328, 7554, 14929, 6917, 22952, 5811, 7491, 7567, 15119, 15693, 7073, 12852, 6911, 9835, 29234, 7650, 8462, 15698, 15911, 16159, 5527, 10094, 10290, 6781, 8802, 8885, 17716, 17908, 9369, 5582, 8877, 8697, 6155, 6398, 5337, 6061, 13559, 22389, 10806, 10799, 12333, 9453, 11935, 22513, 18969, 20921, 9507, 15872, 13377, 10859, 9222, 15849, 6563, 9910, 23972, 5979]\n",
      "[32183, 32219, 32369]\n",
      "[12728, 13511, 29562, 21909, 26535, 18255, 20182, 22700, 14458, 19134, 23316, 13644, 14746, 17112, 17341, 14233, 25315, 26202, 16996, 14805, 18742, 26085, 14004, 21365, 14584, 19992, 21454, 13047, 13559, 13625, 17587, 23091, 21335, 18869, 18924, 24894, 14806, 16293, 13546, 26421, 17241, 18495, 27455, 15328, 15008, 14929, 16020, 22952, 13294, 15119, 15693, 12852, 13364, 29234, 15698, 15911, 16159, 17716, 17908, 16073, 15131, 14257, 13559, 22389, 15104, 22513, 18969, 20921, 15872, 13377, 28299, 24405, 15849, 17171, 21084, 23972, 31217]\n",
      "[19593, 29562, 21909, 26535, 20182, 22700, 21092, 23378, 23316, 20577, 25315, 26202, 26085, 21365, 19992, 21454, 23091, 21335, 24894, 23732, 26421, 27455, 26626, 20743, 22952, 24383, 23442, 29167, 29234, 23325, 25401, 19705, 21953, 22389, 22513, 20921, 21723, 23166, 28299, 24405, 21084, 23972, 31217]\n",
      "[13511, 29562, 21909, 26535, 18255, 20182, 22700, 14458, 19134, 23316, 13644, 14746, 17112, 17341, 14233, 25315, 26202, 16996, 14805, 18742, 26085, 14004, 21365, 14584, 19992, 21454, 13559, 13625, 17587, 23091, 21335, 18869, 18924, 24894, 14806, 16293, 13546, 26421, 17241, 18495, 27455, 15328, 15008, 14929, 16020, 22952, 19109, 15119, 15693, 29167, 29234, 15698, 15911, 16159, 17716, 17908, 16073, 15131, 14257, 13559, 22389, 15104, 22513, 18969, 20921, 15872, 23166, 28299, 24405, 15849, 17171, 21084, 23972, 31217]\n",
      "[31342, 31386, 31379, 31381, 31530, 32219, 32000]\n",
      "[29956, 30656, 30391, 31386, 31379, 30037, 30118, 30621, 31530, 32219, 31217]\n",
      "[3730, 4645, 8101, 10501, 12207, 21909, 26535, 9786, 10447, 20182, 6403, 6470, 22700, 14458, 19134, 5542, 23316, 13644, 7655, 12646, 14746, 17112, 9374, 9366, 25315, 12722, 16996, 14805, 18742, 26085, 14004, 21365, 4425, 9015, 14584, 19992, 21454, 9440, 7426, 11637, 7934, 13625, 17587, 23091, 4240, 21335, 18869, 6914, 5637, 5261, 5340, 14806, 16293, 5119, 13546, 5342, 17241, 18495, 27455, 15328, 7554, 14929, 3758, 6917, 22952, 5811, 7491, 7567, 15119, 15693, 7073, 12852, 6911, 9835, 29234, 7650, 8462, 15698, 15911, 16159, 5527, 10094, 10290, 6781, 8802, 8885, 17716, 17908, 9369, 5582, 8877, 8697, 6155, 6398, 5337, 6061, 13559, 22389, 10806, 10799, 12333, 9453, 11935, 22513, 18969, 20921, 9507, 15872, 13377, 10859, 9222, 15849, 6563, 9910, 23972, 5979]\n",
      "[8742, 10501, 12207, 21909, 26535, 9786, 10447, 20182, 22700, 14458, 19134, 23316, 13644, 12646, 14746, 17112, 9374, 9366, 25315, 12722, 16996, 14805, 18742, 26085, 14004, 21365, 9015, 14584, 19992, 21454, 9440, 11637, 9688, 13625, 17587, 23091, 21335, 18869, 18924, 24894, 14806, 16293, 13546, 26421, 17241, 18495, 27455, 15328, 15008, 14929, 16020, 22952, 13294, 15119, 15693, 12852, 9835, 29234, 11763, 15698, 15911, 16159, 10094, 10290, 8760, 8802, 8885, 17716, 17908, 9369, 16073, 8877, 14257, 9964, 8890, 13559, 22389, 10806, 10799, 12333, 9453, 11935, 22513, 18969, 20921, 9507, 15872, 13377, 10859, 9222, 15849, 17171, 9910, 23972, 31217]\n",
      "[4645, 8101, 10501, 12207, 21909, 26535, 9786, 10447, 20182, 6403, 6470, 22700, 14458, 19134, 5542, 23316, 13644, 7655, 12646, 14746, 17112, 9374, 9366, 25315, 12722, 16996, 14805, 18742, 26085, 14004, 21365, 9015, 14584, 19992, 21454, 9440, 7426, 11637, 7934, 13625, 17587, 23091, 21335, 18869, 6914, 5637, 5261, 5340, 14806, 16293, 5119, 13546, 5342, 17241, 18495, 27455, 15328, 7554, 14929, 6917, 22952, 5811, 7491, 7567, 15119, 15693, 7073, 12852, 6911, 9835, 29234, 7650, 8462, 15698, 15911, 16159, 5527, 10094, 10290, 6781, 8802, 8885, 17716, 17908, 9369, 5582, 8877, 8697, 6155, 6398, 5337, 6061, 13559, 22389, 10806, 10799, 12333, 9453, 11935, 22513, 18969, 20921, 9507, 15872, 13377, 10859, 9222, 15849, 6563, 9910, 23972, 5979]\n",
      "[8101, 10501, 12207, 21909, 26535, 9786, 10447, 20182, 22700, 14458, 19134, 23316, 13644, 12646, 14746, 17112, 9374, 9366, 25315, 12722, 16996, 14805, 18742, 26085, 14004, 21365, 9015, 14584, 19992, 21454, 9440, 11637, 9688, 13625, 17587, 23091, 21335, 18869, 18924, 24894, 14806, 16293, 13546, 26421, 17241, 18495, 27455, 15328, 15008, 14929, 16020, 22952, 13294, 15119, 15693, 12852, 9835, 29234, 8462, 15698, 15911, 16159, 10094, 10290, 8760, 8802, 8885, 17716, 17908, 9369, 16073, 8877, 8697, 9964, 8890, 13559, 22389, 10806, 10799, 12333, 9453, 11935, 22513, 18969, 20921, 9507, 15872, 13377, 10859, 9222, 15849, 17171, 9910, 23972, 31217]\n",
      "[1437, 10501, 12207, 21909, 26535, 9786, 10447, 2778, 6403, 6470, 22700, 2890, 19134, 5542, 23316, 13644, 7655, 12646, 14746, 17112, 9374, 1445, 25315, 12722, 16996, 14805, 18742, 26085, 14004, 2768, 4425, 9015, 14584, 19992, 21454, 9440, 7426, 11637, 7934, 13625, 17587, 23091, 4240, 21335, 18869, 6914, 5637, 5261, 5340, 14806, 16293, 5119, 13546, 5342, 17241, 18495, 27455, 15328, 7554, 3260, 3758, 3387, 2575, 3576, 22952, 5811, 7491, 3123, 15119, 15693, 7073, 12852, 6911, 9835, 29234, 7650, 8462, 15698, 15911, 16159, 5527, 10094, 10290, 6781, 8802, 8885, 17716, 17908, 9369, 5582, 8877, 8697, 6155, 6398, 5337, 6061, 13559, 22389, 10806, 10799, 12333, 2964, 1875, 9453, 11935, 22513, 18969, 20921, 9507, 15872, 13377, 10859, 9222, 15849, 6563, 9910, 3386, 23972, 5979]\n",
      "[29562, 30656, 30391, 31386, 31379, 30037, 30118, 30621, 31530, 32219, 29700, 31217]\n",
      "[10501, 12207, 21909, 26535, 12441, 20182, 22700, 14458, 19134, 23316, 13644, 12646, 14746, 17112, 17341, 14233, 25315, 12722, 16996, 14805, 18742, 26085, 14004, 21365, 11697, 14584, 19992, 21454, 13047, 11637, 13625, 17587, 23091, 21335, 18869, 18924, 24894, 14806, 16293, 13546, 26421, 17241, 18495, 27455, 15328, 15008, 14929, 16020, 22952, 13294, 15119, 15693, 12852, 13364, 29234, 11763, 15698, 15911, 16159, 17716, 17908, 16073, 15131, 14257, 11979, 13559, 22389, 10806, 10799, 12333, 11935, 22513, 18969, 20921, 15872, 13377, 10859, 24405, 15849, 17171, 21084, 23972, 31217]\n",
      "[12207, 21909, 26535, 12441, 20182, 22700, 14458, 19134, 23316, 13644, 12646, 14746, 17112, 17341, 14233, 25315, 12722, 16996, 14805, 18742, 26085, 14004, 21365, 14584, 19992, 21454, 13047, 13559, 13625, 17587, 23091, 21335, 18869, 18924, 24894, 14806, 16293, 13546, 26421, 17241, 18495, 27455, 15328, 15008, 14929, 16020, 22952, 13294, 15119, 15693, 12852, 13364, 29234, 15698, 15911, 16159, 17716, 17908, 16073, 15131, 14257, 13559, 22389, 12333, 12381, 22513, 18969, 20921, 15872, 13377, 28299, 24405, 15849, 17171, 21084, 23972, 31217]\n",
      "[30656, 31386, 31379, 31381, 31530, 32219, 31217]\n",
      "[21909, 26535, 22700, 23378, 23316, 25060, 25315, 26202, 26085, 28686, 23091, 24221, 24894, 23732, 26421, 27455, 26626, 27270, 22952, 24383, 23442, 29167, 29234, 23325, 25401, 26892, 21953, 22389, 22513, 23166, 28299, 24405, 25848, 23972, 31217]\n",
      "[31592, 32121, 31787, 31854, 32219, 32000]\n",
      "[26535, 30391, 29473, 27384, 28064, 28686, 30037, 27116, 27455, 26626, 27270, 29167, 29234, 26892, 29163, 32219, 28299, 29700, 31217]\n",
      "[30391, 31386, 31379, 30621, 31530, 32219, 31217]\n",
      "[18255, 20182, 22700, 21092, 19134, 23316, 20577, 25315, 26202, 18742, 26085, 21365, 19992, 21454, 23091, 21335, 18869, 18924, 24894, 23732, 26421, 18495, 27455, 26626, 20743, 22952, 19109, 23442, 29167, 29234, 23325, 25401, 18891, 18831, 22389, 22513, 18969, 20921, 21723, 23166, 28299, 24405, 21084, 23972, 31217]\n",
      "[12441, 20182, 22700, 14458, 19134, 23316, 13644, 12646, 14746, 17112, 17341, 14233, 25315, 12722, 16996, 14805, 18742, 26085, 14004, 21365, 14584, 19992, 21454, 13047, 13559, 13625, 17587, 23091, 21335, 18869, 18924, 24894, 14806, 16293, 13546, 26421, 17241, 18495, 27455, 15328, 15008, 14929, 16020, 22952, 13294, 15119, 15693, 12852, 13364, 29234, 15698, 15911, 16159, 17716, 17908, 16073, 15131, 14257, 13559, 22389, 15104, 22513, 18969, 20921, 15872, 13377, 28299, 24405, 15849, 17171, 21084, 23972, 31217]\n",
      "[9786, 10447, 20182, 22700, 14458, 19134, 23316, 13644, 12646, 14746, 17112, 17341, 14233, 25315, 12722, 16996, 14805, 18742, 26085, 14004, 21365, 11697, 14584, 19992, 21454, 13047, 11637, 13625, 17587, 23091, 21335, 18869, 18924, 24894, 14806, 16293, 13546, 26421, 17241, 18495, 27455, 15328, 15008, 14929, 16020, 22952, 13294, 15119, 15693, 12852, 9835, 29234, 11763, 15698, 15911, 16159, 10094, 10290, 17716, 17908, 16073, 10308, 14257, 9964, 11979, 13559, 22389, 10806, 10799, 12333, 11935, 22513, 18969, 20921, 15872, 13377, 10859, 24405, 15849, 17171, 9910, 23972, 31217]\n",
      "[10447, 20182, 22700, 14458, 19134, 23316, 13644, 12646, 14746, 17112, 17341, 14233, 25315, 12722, 16996, 14805, 18742, 26085, 14004, 21365, 11697, 14584, 19992, 21454, 13047, 11637, 13625, 17587, 23091, 21335, 18869, 18924, 24894, 14806, 16293, 13546, 26421, 17241, 18495, 27455, 15328, 15008, 14929, 16020, 22952, 13294, 15119, 15693, 12852, 13364, 29234, 11763, 15698, 15911, 16159, 17716, 17908, 16073, 15131, 14257, 11979, 13559, 22389, 10806, 10799, 12333, 11935, 22513, 18969, 20921, 15872, 13377, 10859, 24405, 15849, 17171, 21084, 23972, 31217]\n",
      "[20182, 22700, 21092, 23378, 23316, 20577, 25315, 26202, 26085, 21365, 21454, 23091, 21335, 24894, 23732, 26421, 27455, 26626, 20743, 22952, 24383, 23442, 29167, 29234, 23325, 25401, 26892, 21953, 22389, 22513, 20921, 21723, 23166, 28299, 24405, 21084, 23972, 31217]\n",
      "[2778, 6403, 6470, 22700, 2890, 19134, 5542, 23316, 13644, 7655, 12646, 14746, 17112, 9374, 9366, 25315, 12722, 16996, 14805, 18742, 26085, 14004, 21365, 4425, 9015, 14584, 19992, 21454, 9440, 7426, 11637, 7934, 13625, 17587, 23091, 4240, 21335, 18869, 6914, 5637, 5261, 5340, 14806, 16293, 5119, 13546, 5342, 17241, 18495, 27455, 15328, 7554, 3260, 3758, 3387, 3576, 22952, 5811, 7491, 3123, 15119, 15693, 7073, 12852, 6911, 9835, 29234, 7650, 8462, 15698, 15911, 16159, 5527, 10094, 10290, 6781, 8802, 8885, 17716, 17908, 9369, 5582, 8877, 8697, 6155, 6398, 5337, 6061, 13559, 22389, 10806, 10799, 12333, 2964, 9453, 11935, 22513, 18969, 20921, 9507, 15872, 13377, 10859, 9222, 15849, 6563, 9910, 3386, 23972, 5979]\n",
      "[26158, 29473, 27384, 26202, 28064, 28686, 30037, 26421, 27455, 26626, 27270, 29167, 29234, 26892, 29163, 32219, 28299, 29700, 31217]\n",
      "[6403, 6470, 22700, 14458, 19134, 23316, 13644, 7655, 12646, 14746, 17112, 9374, 9366, 25315, 12722, 16996, 14805, 18742, 26085, 14004, 21365, 9015, 14584, 19992, 21454, 9440, 7426, 11637, 7934, 13625, 17587, 23091, 21335, 18869, 6914, 24894, 14806, 16293, 13546, 26421, 17241, 18495, 27455, 15328, 7554, 14929, 6917, 22952, 7491, 7567, 15119, 15693, 7073, 12852, 6911, 9835, 29234, 7650, 8462, 15698, 15911, 16159, 10094, 10290, 6781, 8802, 8885, 17716, 17908, 9369, 16073, 8877, 8697, 7025, 6634, 7067, 13559, 22389, 10806, 10799, 12333, 9453, 11935, 22513, 18969, 20921, 9507, 15872, 13377, 10859, 9222, 15849, 6563, 9910, 23972, 31217]\n",
      "[6470, 22700, 14458, 19134, 23316, 13644, 7655, 12646, 14746, 17112, 9374, 9366, 25315, 12722, 16996, 14805, 18742, 26085, 14004, 21365, 9015, 14584, 19992, 21454, 9440, 7426, 11637, 7934, 13625, 17587, 23091, 21335, 18869, 6914, 24894, 14806, 16293, 13546, 26421, 17241, 18495, 27455, 15328, 7554, 14929, 6917, 22952, 7491, 7567, 15119, 15693, 7073, 12852, 6911, 9835, 29234, 7650, 8462, 15698, 15911, 16159, 10094, 10290, 6781, 8802, 8885, 17716, 17908, 9369, 16073, 8877, 8697, 7025, 6634, 7067, 13559, 22389, 10806, 10799, 12333, 9453, 11935, 22513, 18969, 20921, 9507, 15872, 13377, 10859, 9222, 15849, 6563, 9910, 23972, 31217]\n",
      "[22700, 23378, 23316, 25060, 25315, 26202, 26085, 28686, 23091, 24221, 24894, 23732, 26421, 27455, 26626, 27270, 22952, 24383, 23442, 29167, 29234, 23325, 25401, 26892, 29163, 32219, 23166, 28299, 24405, 25848, 23972, 31217]\n",
      "[31386, 32121, 31787, 31530, 32219, 32000]\n",
      "[21092, 23378, 23316, 25060, 25315, 26202, 26085, 21365, 21454, 23091, 21335, 24894, 23732, 26421, 27455, 26626, 27270, 22952, 24383, 23442, 29167, 29234, 23325, 25401, 26892, 21953, 22389, 22513, 21723, 23166, 28299, 24405, 25848, 23972, 31217]\n",
      "[14458, 19134, 23316, 14746, 17112, 17341, 20577, 25315, 26202, 16996, 14805, 18742, 26085, 21365, 14584, 19992, 21454, 17203, 17587, 23091, 21335, 18869, 18924, 24894, 14806, 16293, 23732, 26421, 17241, 18495, 27455, 15328, 15008, 14929, 16020, 22952, 19109, 15119, 15693, 29167, 29234, 15698, 15911, 16159, 17716, 17908, 16073, 15131, 18831, 22389, 15104, 22513, 18969, 20921, 15872, 23166, 28299, 24405, 15849, 17171, 21084, 23972, 31217]\n",
      "[2890, 19134, 5542, 23316, 13644, 7655, 12646, 14746, 17112, 9374, 9366, 25315, 12722, 16996, 14805, 18742, 26085, 14004, 21365, 4425, 9015, 14584, 19992, 21454, 9440, 7426, 11637, 7934, 13625, 17587, 23091, 4240, 21335, 18869, 6914, 5637, 5261, 5340, 14806, 16293, 5119, 13546, 5342, 17241, 18495, 27455, 15328, 7554, 3260, 3758, 3387, 3576, 22952, 5811, 7491, 3123, 15119, 15693, 7073, 12852, 6911, 9835, 29234, 7650, 8462, 15698, 15911, 16159, 5527, 10094, 10290, 6781, 8802, 8885, 17716, 17908, 9369, 5582, 8877, 8697, 6155, 6398, 5337, 6061, 13559, 22389, 10806, 10799, 12333, 2964, 9453, 11935, 22513, 18969, 20921, 9507, 15872, 13377, 10859, 9222, 15849, 6563, 9910, 3386, 23972, 5979]\n",
      "[23378, 24696, 25060, 25315, 26202, 26085, 28686, 24221, 24894, 23732, 26421, 27455, 26626, 27270, 24383, 23442, 29167, 29234, 25401, 26892, 29163, 32219, 24642, 28299, 24405, 25848, 23972, 31217]\n",
      "[19134, 23316, 20577, 25315, 26202, 26085, 21365, 19992, 21454, 23091, 21335, 24894, 23732, 26421, 27455, 26626, 20743, 22952, 24383, 23442, 29167, 29234, 23325, 25401, 19358, 21953, 22389, 22513, 20921, 21723, 23166, 28299, 24405, 21084, 23972, 31217]\n",
      "[29473, 31379, 30037, 29495, 30118, 30621, 29498, 32219, 29700, 31217]\n",
      "[5751, 23316, 13644, 7655, 12646, 14746, 17112, 9374, 9366, 25315, 12722, 16996, 14805, 18742, 26085, 14004, 21365, 9015, 14584, 19992, 21454, 9440, 7426, 11637, 7934, 13625, 17587, 23091, 21335, 18869, 6914, 24894, 14806, 16293, 13546, 26421, 17241, 18495, 27455, 15328, 7554, 14929, 6917, 22952, 5811, 7491, 7567, 15119, 15693, 7073, 12852, 6911, 9835, 29234, 7650, 8462, 15698, 15911, 16159, 10094, 10290, 6781, 8802, 8885, 17716, 17908, 9369, 6062, 8877, 8697, 6155, 6398, 6061, 13559, 22389, 10806, 10799, 12333, 9453, 11935, 22513, 18969, 20921, 9507, 15872, 13377, 10859, 9222, 15849, 6563, 9910, 23972, 5979]\n",
      "[5542, 23316, 13644, 7655, 12646, 14746, 17112, 9374, 9366, 25315, 12722, 16996, 14805, 18742, 26085, 14004, 21365, 9015, 14584, 19992, 21454, 9440, 7426, 11637, 7934, 13625, 17587, 23091, 21335, 18869, 6914, 5637, 14806, 16293, 13546, 26421, 17241, 18495, 27455, 15328, 7554, 14929, 6917, 22952, 5811, 7491, 7567, 15119, 15693, 7073, 12852, 6911, 9835, 29234, 7650, 8462, 15698, 15911, 16159, 10094, 10290, 6781, 8802, 8885, 17716, 17908, 9369, 5582, 8877, 8697, 6155, 6398, 6061, 13559, 22389, 10806, 10799, 12333, 9453, 11935, 22513, 18969, 20921, 9507, 15872, 13377, 10859, 9222, 15849, 6563, 9910, 23972, 5979]\n",
      "[24696, 25060, 25315, 26202, 26085, 28686, 30037, 24894, 24935, 26421, 27455, 26626, 27270, 29167, 29234, 25401, 26892, 29163, 32219, 28299, 25848, 29700, 31217]\n",
      "[23316, 25060, 25315, 26202, 26085, 28686, 24221, 24894, 23732, 26421, 27455, 26626, 27270, 24383, 23442, 29167, 29234, 23325, 25401, 26892, 29163, 32219, 24642, 28299, 24405, 25848, 23972, 31217]\n",
      "[32121, 32219, 32369]\n",
      "[13644, 14746, 17112, 17341, 14233, 25315, 26202, 16996, 14805, 18742, 26085, 14004, 21365, 14584, 19992, 21454, 17203, 17587, 23091, 21335, 18869, 18924, 24894, 14806, 16293, 23732, 26421, 17241, 18495, 27455, 15328, 15008, 14929, 16020, 22952, 19109, 15119, 15693, 29167, 29234, 15698, 15911, 16159, 17716, 17908, 16073, 15131, 14257, 18831, 22389, 15104, 22513, 18969, 20921, 15872, 23166, 28299, 24405, 15849, 17171, 21084, 23972, 31217]\n",
      "[28604, 31379, 28686, 30037, 29495, 30118, 29167, 29234, 29163, 32219, 29700, 31217]\n",
      "[7655, 12646, 14746, 17112, 9374, 9366, 25315, 12722, 16996, 14805, 18742, 26085, 14004, 21365, 9015, 14584, 19992, 21454, 9440, 11637, 7934, 13625, 17587, 23091, 21335, 18869, 18924, 24894, 14806, 16293, 13546, 26421, 17241, 18495, 27455, 15328, 15008, 14929, 16020, 22952, 13294, 15119, 15693, 12852, 9835, 29234, 8462, 15698, 15911, 16159, 10094, 10290, 8760, 8802, 8885, 17716, 17908, 9369, 16073, 8877, 8697, 9964, 8890, 13559, 22389, 10806, 10799, 12333, 9453, 11935, 22513, 18969, 20921, 9507, 15872, 13377, 10859, 9222, 15849, 17171, 9910, 23972, 31217]\n",
      "[12646, 14746, 17112, 17341, 14233, 25315, 12722, 16996, 14805, 18742, 26085, 14004, 21365, 14584, 19992, 21454, 13047, 13559, 13625, 17587, 23091, 21335, 18869, 18924, 24894, 14806, 16293, 13546, 26421, 17241, 18495, 27455, 15328, 15008, 14929, 16020, 22952, 13294, 15119, 15693, 12852, 13364, 29234, 15698, 15911, 16159, 17716, 17908, 16073, 15131, 14257, 13559, 22389, 15104, 22513, 18969, 20921, 15872, 13377, 28299, 24405, 15849, 17171, 21084, 23972, 31217]\n",
      "[14746, 17112, 17341, 20577, 25315, 26202, 16996, 14805, 18742, 26085, 21365, 19992, 21454, 17203, 17587, 23091, 21335, 18869, 18924, 24894, 14806, 16293, 23732, 26421, 17241, 18495, 27455, 15328, 15008, 14929, 16020, 22952, 19109, 15119, 15693, 29167, 29234, 15698, 15911, 16159, 17716, 17908, 16073, 15131, 18831, 22389, 15104, 22513, 18969, 20921, 15872, 23166, 28299, 24405, 15849, 17171, 21084, 23972, 31217]\n",
      "[17112, 17341, 20577, 25315, 26202, 17181, 18742, 26085, 21365, 19992, 21454, 17203, 17587, 23091, 21335, 18869, 18924, 24894, 23732, 26421, 17241, 18495, 27455, 26626, 20743, 22952, 19109, 23442, 29167, 29234, 23325, 25401, 17716, 17908, 17269, 18831, 22389, 22513, 18969, 20921, 21723, 23166, 28299, 24405, 17171, 21084, 23972, 31217]\n",
      "[17341, 20577, 25315, 26202, 18742, 26085, 21365, 19992, 21454, 17587, 23091, 21335, 18869, 18924, 24894, 23732, 26421, 18495, 27455, 26626, 20743, 22952, 19109, 23442, 29167, 29234, 23325, 25401, 17716, 17908, 18831, 22389, 22513, 18969, 20921, 21723, 23166, 28299, 24405, 21084, 23972, 31217]\n",
      "[9374, 14233, 25315, 12722, 16996, 14805, 18742, 26085, 14004, 21365, 11697, 14584, 19992, 21454, 9440, 11637, 9688, 13625, 17587, 23091, 21335, 18869, 18924, 24894, 14806, 16293, 13546, 26421, 17241, 18495, 27455, 15328, 15008, 14929, 16020, 22952, 13294, 15119, 15693, 12852, 9835, 29234, 11763, 15698, 15911, 16159, 10094, 10290, 17716, 17908, 16073, 10308, 14257, 9964, 11979, 13559, 22389, 10806, 10799, 12333, 9453, 11935, 22513, 18969, 20921, 9507, 15872, 13377, 10859, 24405, 15849, 17171, 9910, 23972, 31217]\n",
      "[27384, 28064, 28686, 30037, 27455, 27587, 30118, 29167, 29234, 29163, 32219, 28299, 29700, 31217]\n",
      "[25060, 25315, 26202, 26085, 28686, 30037, 26421, 27455, 26626, 27270, 29167, 29234, 25401, 26892, 29163, 32219, 28299, 25848, 29700, 31217]\n",
      "[20577, 25315, 26202, 26085, 21365, 21454, 23091, 21335, 24894, 23732, 26421, 27455, 26626, 20743, 22952, 24383, 23442, 29167, 29234, 23325, 25401, 26892, 21953, 22389, 22513, 20921, 21723, 23166, 28299, 24405, 21084, 23972, 31217]\n",
      "[14233, 25315, 26202, 16996, 14805, 18742, 26085, 21365, 14584, 19992, 21454, 17203, 17587, 23091, 21335, 18869, 18924, 24894, 14806, 16293, 23732, 26421, 17241, 18495, 27455, 15328, 15008, 14929, 16020, 22952, 19109, 15119, 15693, 29167, 29234, 15698, 15911, 16159, 17716, 17908, 16073, 15131, 14257, 18831, 22389, 15104, 22513, 18969, 20921, 15872, 23166, 28299, 24405, 15849, 17171, 21084, 23972, 31217]\n",
      "[9366, 25315, 12722, 16996, 14805, 18742, 26085, 14004, 21365, 11697, 14584, 19992, 21454, 9440, 11637, 9688, 13625, 17587, 23091, 21335, 18869, 18924, 24894, 14806, 16293, 13546, 26421, 17241, 18495, 27455, 15328, 15008, 14929, 16020, 22952, 13294, 15119, 15693, 12852, 9835, 29234, 11763, 15698, 15911, 16159, 10094, 10290, 17716, 17908, 9369, 16073, 10308, 14257, 9964, 11979, 13559, 22389, 10806, 10799, 12333, 9453, 11935, 22513, 18969, 20921, 9507, 15872, 13377, 10859, 24405, 15849, 17171, 9910, 23972, 31217]\n",
      "[1445, 25315, 12722, 16996, 14805, 18742, 26085, 14004, 2768, 4425, 9015, 14584, 19992, 21454, 9440, 7426, 11637, 7934, 13625, 17587, 23091, 4240, 21335, 18869, 6914, 5637, 5261, 5340, 14806, 16293, 5119, 13546, 5342, 17241, 18495, 27455, 15328, 7554, 3260, 3758, 3387, 2575, 3576, 22952, 5811, 7491, 3123, 15119, 15693, 7073, 12852, 6911, 9835, 29234, 7650, 8462, 15698, 15911, 16159, 5527, 10094, 10290, 6781, 8802, 8885, 17716, 17908, 9369, 5582, 8877, 8697, 6155, 6398, 5337, 6061, 13559, 22389, 10806, 10799, 12333, 2964, 1875, 9453, 11935, 22513, 18969, 20921, 9507, 15872, 13377, 10859, 9222, 15849, 6563, 9910, 3386, 23972, 5979]\n",
      "[31379, 31381, 31530, 32219, 32000]\n",
      "[25315, 26202, 26085, 28686, 30037, 26421, 27455, 26626, 27270, 29167, 29234, 25401, 26892, 29163, 32219, 28299, 25848, 29700, 31217]\n",
      "[26202, 28064, 28686, 30037, 26421, 27455, 26626, 27270, 29167, 29234, 26892, 29163, 32219, 28299, 29700, 31217]\n",
      "[12722, 16996, 14805, 18742, 26085, 14004, 21365, 14584, 19992, 21454, 13047, 13559, 13625, 17587, 23091, 21335, 18869, 18924, 24894, 14806, 16293, 13546, 26421, 17241, 18495, 27455, 15328, 15008, 14929, 16020, 22952, 13294, 15119, 15693, 12852, 13364, 29234, 15698, 15911, 16159, 17716, 17908, 16073, 15131, 14257, 13559, 22389, 15104, 22513, 18969, 20921, 15872, 13377, 28299, 24405, 15849, 17171, 21084, 23972, 31217]\n",
      "[28064, 28686, 30037, 28126, 30118, 29167, 29234, 29163, 32219, 28299, 29700, 31217]\n",
      "[16996, 17181, 18742, 26085, 21365, 19992, 21454, 17203, 17587, 23091, 21335, 18869, 18924, 24894, 23732, 26421, 17241, 18495, 27455, 26626, 20743, 22952, 19109, 23442, 29167, 29234, 23325, 25401, 17716, 17908, 17269, 18831, 22389, 22513, 18969, 20921, 21723, 23166, 28299, 24405, 17171, 21084, 23972, 31217]\n",
      "[17181, 18742, 26085, 21365, 19992, 21454, 17203, 17587, 23091, 21335, 18869, 18924, 24894, 23732, 26421, 17241, 18495, 27455, 26626, 20743, 22952, 19109, 23442, 29167, 29234, 23325, 25401, 17716, 17908, 17269, 18831, 22389, 22513, 18969, 20921, 21723, 23166, 28299, 24405, 21084, 23972, 31217]\n",
      "[14805, 18742, 26085, 21365, 19992, 21454, 17203, 17587, 23091, 21335, 18869, 18924, 24894, 14806, 16293, 23732, 26421, 17241, 18495, 27455, 15328, 15008, 14929, 16020, 22952, 19109, 15119, 15693, 29167, 29234, 15698, 15911, 16159, 17716, 17908, 16073, 15131, 18831, 22389, 15104, 22513, 18969, 20921, 15872, 23166, 28299, 24405, 15849, 17171, 21084, 23972, 31217]\n",
      "[18742, 26085, 21365, 19992, 21454, 23091, 21335, 18869, 18924, 24894, 23732, 26421, 27455, 26626, 20743, 22952, 19109, 23442, 29167, 29234, 23325, 25401, 18891, 18831, 22389, 22513, 18969, 20921, 21723, 23166, 28299, 24405, 21084, 23972, 31217]\n",
      "[26085, 28686, 30037, 26421, 27455, 26626, 27270, 29167, 29234, 26892, 29163, 32219, 28299, 29700, 31217]\n",
      "[32534]\n",
      "[14004, 21365, 14584, 19992, 21454, 17203, 17587, 23091, 21335, 18869, 18924, 24894, 14806, 16293, 23732, 26421, 17241, 18495, 27455, 15328, 15008, 14929, 16020, 22952, 19109, 15119, 15693, 29167, 29234, 15698, 15911, 16159, 17716, 17908, 16073, 15131, 14257, 18831, 22389, 15104, 22513, 18969, 20921, 15872, 23166, 28299, 24405, 15849, 17171, 21084, 23972, 31217]\n",
      "[21365, 21454, 23091, 24221, 24894, 23732, 26421, 27455, 26626, 27270, 22952, 24383, 23442, 29167, 29234, 23325, 25401, 26892, 21953, 22389, 22513, 21723, 23166, 28299, 24405, 25848, 23972, 31217]\n",
      "[2768, 4425, 9015, 14584, 19992, 21454, 9440, 7426, 11637, 7934, 13625, 17587, 23091, 4240, 21335, 18869, 6914, 5637, 5261, 5340, 14806, 16293, 5119, 13546, 5342, 17241, 18495, 27455, 15328, 7554, 3260, 3758, 3387, 3576, 22952, 5811, 7491, 3123, 15119, 15693, 7073, 12852, 6911, 9835, 29234, 7650, 8462, 15698, 15911, 16159, 5527, 10094, 10290, 6781, 8802, 8885, 17716, 17908, 9369, 5582, 8877, 8697, 6155, 6398, 5337, 6061, 13559, 22389, 10806, 10799, 12333, 2964, 9453, 11935, 22513, 18969, 20921, 9507, 15872, 13377, 10859, 9222, 15849, 6563, 9910, 3386, 23972, 5979]\n",
      "[29334, 30037, 29495, 30118, 30621, 29498, 32219, 29700, 31217]\n",
      "[11697, 14584, 19992, 21454, 13047, 13559, 13625, 17587, 23091, 21335, 18869, 18924, 24894, 14806, 16293, 13546, 26421, 17241, 18495, 27455, 15328, 15008, 14929, 16020, 22952, 13294, 15119, 15693, 12852, 13364, 29234, 11763, 15698, 15911, 16159, 17716, 17908, 16073, 15131, 14257, 11979, 13559, 22389, 12333, 11935, 22513, 18969, 20921, 15872, 13377, 28299, 24405, 15849, 17171, 21084, 23972, 31217]\n",
      "[4425, 9015, 14584, 19992, 21454, 9440, 7426, 11637, 7934, 13625, 17587, 23091, 21335, 18869, 6914, 5637, 5261, 5340, 14806, 16293, 5119, 13546, 5342, 17241, 18495, 27455, 15328, 7554, 14929, 6917, 22952, 5811, 7491, 7567, 15119, 15693, 7073, 12852, 6911, 9835, 29234, 7650, 8462, 15698, 15911, 16159, 5527, 10094, 10290, 6781, 8802, 8885, 17716, 17908, 9369, 5582, 8877, 8697, 6155, 6398, 5337, 6061, 13559, 22389, 10806, 10799, 12333, 9453, 11935, 22513, 18969, 20921, 9507, 15872, 13377, 10859, 9222, 15849, 6563, 9910, 23972, 5979]\n",
      "[9015, 14584, 19992, 21454, 9440, 11637, 9688, 13625, 17587, 23091, 21335, 18869, 18924, 24894, 14806, 16293, 13546, 26421, 17241, 18495, 27455, 15328, 15008, 14929, 16020, 22952, 13294, 15119, 15693, 12852, 9835, 29234, 11763, 15698, 15911, 16159, 10094, 10290, 17716, 17908, 9369, 16073, 10308, 14257, 9964, 11979, 13559, 22389, 10806, 10799, 12333, 9453, 11935, 22513, 18969, 20921, 9507, 15872, 13377, 10859, 9222, 15849, 17171, 9910, 23972, 31217]\n",
      "[1270, 14584, 19992, 21454, 9440, 7426, 11637, 7934, 13625, 17587, 23091, 4240, 21335, 18869, 6914, 1390, 5261, 5340, 14806, 16293, 5119, 13546, 5342, 17241, 18495, 27455, 15328, 1371, 3260, 3758, 3387, 2575, 3576, 22952, 5811, 7491, 3123, 15119, 15693, 7073, 12852, 6911, 9835, 29234, 7650, 8462, 15698, 15911, 16159, 5527, 10094, 10290, 6781, 8802, 8885, 17716, 17908, 9369, 5582, 8877, 8697, 6155, 6398, 5337, 6061, 13559, 22389, 10806, 10799, 12333, 2964, 1875, 9453, 11935, 22513, 18969, 20921, 9507, 15872, 13377, 10859, 9222, 15849, 6563, 9910, 3386, 23972, 5979]\n",
      "[28686, 30037, 29495, 30118, 29167, 29234, 29163, 32219, 29700, 31217]\n",
      "[14584, 19992, 21454, 17203, 17587, 23091, 21335, 18869, 18924, 24894, 14806, 16293, 23732, 26421, 17241, 18495, 27455, 15328, 15008, 14929, 16020, 22952, 19109, 15119, 15693, 29167, 29234, 15698, 15911, 16159, 17716, 17908, 16073, 15131, 18831, 22389, 15104, 22513, 18969, 20921, 15872, 23166, 28299, 24405, 15849, 17171, 21084, 23972, 31217]\n",
      "[19992, 21454, 23091, 21335, 24894, 23732, 26421, 27455, 26626, 20743, 22952, 24383, 23442, 29167, 29234, 23325, 25401, 26892, 21953, 22389, 22513, 20921, 21723, 23166, 28299, 24405, 21084, 23972, 31217]\n",
      "[21454, 23091, 24221, 24894, 23732, 26421, 27455, 26626, 27270, 22952, 24383, 23442, 29167, 29234, 23325, 25401, 26892, 21953, 22389, 22513, 21723, 23166, 28299, 24405, 25848, 23972, 31217]\n",
      "[30037, 30118, 30621, 31530, 32219, 31217]\n",
      "[13047, 13559, 13625, 17587, 23091, 21335, 18869, 18924, 24894, 14806, 16293, 13546, 26421, 17241, 18495, 27455, 15328, 15008, 14929, 16020, 22952, 13294, 15119, 15693, 13364, 29234, 15698, 15911, 16159, 17716, 17908, 16073, 15131, 14257, 13559, 22389, 15104, 22513, 18969, 20921, 15872, 13377, 28299, 24405, 15849, 17171, 21084, 23972, 31217]\n",
      "[9440, 11637, 9688, 13625, 17587, 23091, 21335, 18869, 18924, 24894, 14806, 16293, 13546, 26421, 17241, 18495, 27455, 15328, 15008, 14929, 16020, 22952, 13294, 15119, 15693, 12852, 9835, 29234, 11763, 15698, 15911, 16159, 10094, 10290, 17716, 17908, 16073, 10308, 14257, 9964, 11979, 13559, 22389, 10806, 10799, 12333, 9453, 11935, 22513, 18969, 20921, 9507, 15872, 13377, 10859, 24405, 15849, 17171, 9910, 23972, 31217]\n",
      "[23144, 24221, 24894, 23732, 26421, 27455, 26626, 27270, 24383, 23442, 29167, 29234, 23325, 25401, 26892, 29163, 32219, 23166, 28299, 24405, 25848, 23972, 31217]\n",
      "[13559, 13625, 17587, 23091, 21335, 18869, 18924, 24894, 14806, 16293, 23732, 26421, 17241, 18495, 27455, 15328, 15008, 14929, 16020, 22952, 19109, 15119, 15693, 29167, 29234, 15698, 15911, 16159, 17716, 17908, 16073, 15131, 14257, 18831, 22389, 15104, 22513, 18969, 20921, 15872, 23166, 28299, 24405, 15849, 17171, 21084, 23972, 31217]\n",
      "[7426, 11637, 7934, 13625, 17587, 23091, 21335, 18869, 18924, 24894, 14806, 16293, 13546, 26421, 17241, 18495, 27455, 15328, 7554, 14929, 16020, 22952, 7491, 7567, 15119, 15693, 12852, 9835, 29234, 7650, 8462, 15698, 15911, 16159, 10094, 10290, 8760, 8802, 8885, 17716, 17908, 9369, 16073, 8877, 8697, 9964, 8890, 13559, 22389, 10806, 10799, 12333, 9453, 11935, 22513, 18969, 20921, 9507, 15872, 13377, 10859, 9222, 15849, 17171, 9910, 23972, 31217]\n",
      "[557, 11637, 875, 7934, 13625, 17587, 23091, 4240, 21335, 18869, 6914, 1390, 5261, 5340, 14806, 16293, 5119, 13546, 5342, 17241, 18495, 27455, 15328, 1371, 3260, 3758, 3387, 2575, 3576, 22952, 5811, 7491, 3123, 15119, 15693, 7073, 12852, 6911, 9835, 29234, 7650, 8462, 15698, 15911, 16159, 5527, 10094, 10290, 6781, 8802, 8885, 17716, 17908, 9369, 5582, 8877, 8697, 6155, 6398, 5337, 6061, 13559, 22389, 10806, 10799, 12333, 2964, 1875, 9453, 11935, 22513, 18969, 20921, 9507, 15872, 817, 13377, 10859, 9222, 15849, 6563, 9910, 3386, 23972, 5979]\n",
      "[11637, 13625, 17587, 23091, 21335, 18869, 18924, 24894, 14806, 16293, 13546, 26421, 17241, 18495, 27455, 15328, 15008, 14929, 16020, 22952, 13294, 15119, 15693, 12852, 13364, 29234, 11763, 15698, 15911, 16159, 17716, 17908, 16073, 15131, 14257, 11979, 13559, 22389, 12333, 11935, 22513, 18969, 20921, 15872, 13377, 28299, 24405, 15849, 17171, 21084, 23972, 31217]\n",
      "[17203, 17587, 23091, 21335, 18869, 18924, 24894, 23732, 26421, 17241, 18495, 27455, 26626, 20743, 22952, 19109, 23442, 29167, 29234, 23325, 25401, 17716, 17908, 17269, 18831, 22389, 22513, 18969, 20921, 21723, 23166, 28299, 24405, 21084, 23972, 31217]\n",
      "[875, 7934, 13625, 17587, 23091, 4240, 21335, 18869, 6914, 1390, 5261, 5340, 14806, 16293, 5119, 13546, 5342, 17241, 18495, 27455, 15328, 1371, 3260, 3758, 3387, 2575, 3576, 22952, 5811, 7491, 3123, 15119, 15693, 7073, 12852, 6911, 9835, 29234, 7650, 8462, 15698, 15911, 16159, 5527, 10094, 10290, 6781, 8802, 8885, 17716, 17908, 9369, 5582, 8877, 8697, 6155, 6398, 5337, 6061, 13559, 22389, 10806, 10799, 12333, 2964, 1875, 9453, 11935, 22513, 18969, 20921, 9507, 15872, 13377, 10859, 9222, 15849, 6563, 9910, 3386, 23972, 5979]\n",
      "[9688, 13625, 17587, 23091, 21335, 18869, 18924, 24894, 14806, 16293, 13546, 26421, 17241, 18495, 27455, 15328, 15008, 14929, 16020, 22952, 13294, 15119, 15693, 12852, 9835, 29234, 11763, 15698, 15911, 16159, 10094, 10290, 17716, 17908, 16073, 10308, 14257, 9964, 11979, 13559, 22389, 10806, 10799, 12333, 11935, 22513, 18969, 20921, 15872, 13377, 10859, 24405, 15849, 17171, 9910, 23972, 31217]\n",
      "[7934, 13625, 17587, 23091, 21335, 18869, 18924, 24894, 14806, 16293, 13546, 26421, 17241, 18495, 27455, 15328, 15008, 14929, 16020, 22952, 13294, 15119, 15693, 12852, 9835, 29234, 8462, 15698, 15911, 16159, 10094, 10290, 8760, 8802, 8885, 17716, 17908, 9369, 16073, 8877, 8697, 9964, 8890, 13559, 22389, 10806, 10799, 12333, 9453, 11935, 22513, 18969, 20921, 9507, 15872, 13377, 10859, 9222, 15849, 17171, 9910, 23972, 31217]\n",
      "[13625, 17587, 23091, 21335, 18869, 18924, 24894, 14806, 16293, 23732, 26421, 17241, 18495, 27455, 15328, 15008, 14929, 16020, 22952, 19109, 15119, 15693, 29167, 29234, 15698, 15911, 16159, 17716, 17908, 16073, 15131, 14257, 18831, 22389, 15104, 22513, 18969, 20921, 15872, 23166, 28299, 24405, 15849, 17171, 21084, 23972, 31217]\n",
      "[17587, 23091, 21335, 18869, 18924, 24894, 23732, 26421, 18495, 27455, 26626, 20743, 22952, 19109, 23442, 29167, 29234, 23325, 25401, 17716, 17908, 18831, 22389, 22513, 18969, 20921, 21723, 23166, 28299, 24405, 21084, 23972, 31217]\n",
      "[23091, 24221, 24894, 23732, 26421, 27455, 26626, 27270, 24383, 23442, 29167, 29234, 23325, 25401, 26892, 29163, 32219, 23166, 28299, 24405, 25848, 23972, 31217]\n",
      "[24221, 24894, 24935, 26421, 27455, 26626, 27270, 24383, 24668, 29167, 29234, 25401, 26892, 29163, 32219, 24642, 28299, 24405, 25848, 29700, 31217]\n",
      "[4240, 21335, 18869, 6914, 5637, 5261, 5340, 14806, 16293, 5119, 13546, 5342, 17241, 18495, 27455, 15328, 7554, 14929, 6917, 22952, 5811, 7491, 7567, 15119, 15693, 7073, 12852, 6911, 9835, 29234, 7650, 8462, 15698, 15911, 16159, 5527, 10094, 10290, 6781, 8802, 8885, 17716, 17908, 9369, 5582, 8877, 8697, 6155, 6398, 5337, 6061, 13559, 22389, 10806, 10799, 12333, 9453, 11935, 22513, 18969, 20921, 9507, 15872, 13377, 10859, 9222, 15849, 6563, 9910, 23972, 5979]\n",
      "[21335, 24894, 23732, 26421, 27455, 26626, 27270, 22952, 24383, 23442, 29167, 29234, 23325, 25401, 26892, 21953, 22389, 22513, 21723, 23166, 28299, 24405, 25848, 23972, 31217]\n",
      "[32399, 32500]\n",
      "[27116, 27455, 27587, 27270, 29167, 29234, 29163, 32219, 28299, 29700, 31217]\n",
      "[18869, 18924, 24894, 23732, 26421, 27455, 26626, 20743, 22952, 19109, 23442, 29167, 29234, 23325, 25401, 18891, 21953, 22389, 22513, 18969, 20921, 21723, 23166, 28299, 24405, 21084, 23972, 31217]\n",
      "[18924, 24894, 23732, 26421, 27455, 26626, 20743, 22952, 19109, 23442, 29167, 29234, 23325, 25401, 19358, 21953, 22389, 22513, 18969, 20921, 21723, 23166, 28299, 24405, 21084, 23972, 31217]\n",
      "[6914, 24894, 14806, 16293, 13546, 26421, 17241, 18495, 27455, 15328, 7554, 14929, 6917, 22952, 7491, 7567, 15119, 15693, 7073, 12852, 9835, 29234, 7650, 8462, 15698, 15911, 16159, 10094, 10290, 8760, 8802, 8885, 17716, 17908, 9369, 16073, 8877, 8697, 7025, 9964, 7067, 13559, 22389, 10806, 10799, 12333, 9453, 11935, 22513, 18969, 20921, 9507, 15872, 13377, 10859, 9222, 15849, 17171, 9910, 23972, 31217]\n",
      "[24894, 24935, 26421, 27455, 26626, 27270, 29167, 29234, 25401, 26892, 29163, 32219, 28299, 25848, 29700, 31217]\n",
      "[5637, 14806, 16293, 13546, 26421, 17241, 18495, 27455, 15328, 7554, 14929, 6917, 22952, 5811, 7491, 7567, 15119, 15693, 7073, 12852, 6911, 9835, 29234, 7650, 8462, 15698, 15911, 16159, 10094, 10290, 6781, 8802, 8885, 17716, 17908, 9369, 6062, 8877, 8697, 6155, 6398, 6061, 13559, 22389, 10806, 10799, 12333, 9453, 11935, 22513, 18969, 20921, 9507, 15872, 13377, 10859, 9222, 15849, 6563, 9910, 23972, 5979]\n",
      "[1390, 5261, 5340, 14806, 16293, 5119, 13546, 5342, 17241, 18495, 27455, 15328, 7554, 3260, 3758, 3387, 2575, 3576, 22952, 5811, 7491, 3123, 15119, 15693, 7073, 12852, 6911, 9835, 29234, 7650, 8462, 15698, 15911, 16159, 5527, 10094, 10290, 6781, 8802, 8885, 17716, 17908, 9369, 5582, 8877, 8697, 6155, 6398, 5337, 6061, 13559, 22389, 10806, 10799, 12333, 2964, 1875, 9453, 11935, 22513, 18969, 20921, 9507, 15872, 13377, 10859, 9222, 15849, 6563, 9910, 3386, 23972, 5979]\n",
      "[24935, 26421, 27455, 26626, 27270, 29167, 29234, 25401, 26892, 29163, 32219, 28299, 25848, 29700, 31217]\n",
      "[5261, 5340, 14806, 16293, 13546, 5342, 17241, 18495, 27455, 15328, 7554, 14929, 6917, 22952, 5811, 7491, 7567, 15119, 15693, 7073, 12852, 6911, 9835, 29234, 7650, 8462, 15698, 15911, 16159, 5527, 10094, 10290, 6781, 8802, 8885, 17716, 17908, 9369, 5582, 8877, 8697, 6155, 6398, 5337, 6061, 13559, 22389, 10806, 10799, 12333, 9453, 11935, 22513, 18969, 20921, 9507, 15872, 13377, 10859, 9222, 15849, 6563, 9910, 23972, 5979]\n",
      "[5340, 14806, 16293, 13546, 5342, 17241, 18495, 27455, 15328, 7554, 14929, 6917, 22952, 5811, 7491, 7567, 15119, 15693, 7073, 12852, 6911, 9835, 29234, 7650, 8462, 15698, 15911, 16159, 5527, 10094, 10290, 6781, 8802, 8885, 17716, 17908, 9369, 5582, 8877, 8697, 6155, 6398, 6061, 13559, 22389, 10806, 10799, 12333, 9453, 11935, 22513, 18969, 20921, 9507, 15872, 13377, 10859, 9222, 15849, 6563, 9910, 23972, 5979]\n",
      "[14806, 16293, 23732, 26421, 17241, 18495, 27455, 15328, 15008, 14929, 16020, 22952, 19109, 15119, 15693, 29167, 29234, 15698, 15911, 16159, 17716, 17908, 16073, 15131, 18831, 22389, 15104, 22513, 18969, 20921, 15872, 23166, 28299, 24405, 15849, 17171, 21084, 23972, 31217]\n",
      "[16293, 23732, 26421, 17241, 18495, 27455, 26626, 20743, 22952, 19109, 16555, 29167, 29234, 23325, 25401, 17716, 17908, 17269, 18831, 22389, 22513, 18969, 20921, 21723, 23166, 28299, 24405, 17171, 21084, 23972, 31217]\n",
      "[23732, 26421, 27455, 26626, 27270, 24383, 24668, 29167, 29234, 25401, 26892, 29163, 32219, 24642, 28299, 24405, 25848, 23972, 31217]\n",
      "[5119, 13546, 5342, 17241, 18495, 27455, 15328, 7554, 14929, 6917, 22952, 5811, 7491, 7567, 15119, 15693, 7073, 12852, 6911, 9835, 29234, 7650, 8462, 15698, 15911, 16159, 5527, 10094, 10290, 6781, 8802, 8885, 17716, 17908, 9369, 5582, 8877, 8697, 6155, 6398, 5337, 6061, 13559, 22389, 10806, 10799, 12333, 9453, 11935, 22513, 18969, 20921, 9507, 15872, 13377, 10859, 9222, 15849, 6563, 9910, 23972, 5979]\n",
      "[13546, 26421, 17241, 18495, 27455, 15328, 15008, 14929, 16020, 22952, 19109, 15119, 15693, 29167, 29234, 15698, 15911, 16159, 17716, 17908, 16073, 15131, 14257, 13559, 22389, 15104, 22513, 18969, 20921, 15872, 23166, 28299, 24405, 15849, 17171, 21084, 23972, 31217]\n",
      "[26421, 27455, 26626, 27270, 29167, 29234, 26892, 29163, 32219, 28299, 29700, 31217]\n",
      "[5342, 17241, 18495, 27455, 15328, 7554, 14929, 6917, 22952, 5811, 7491, 7567, 15119, 15693, 7073, 12852, 6911, 9835, 29234, 7650, 8462, 15698, 15911, 16159, 5527, 10094, 10290, 6781, 8802, 8885, 17716, 17908, 9369, 5582, 8877, 8697, 6155, 6398, 6061, 13559, 22389, 10806, 10799, 12333, 9453, 11935, 22513, 18969, 20921, 9507, 15872, 13377, 10859, 9222, 15849, 6563, 9910, 23972, 5979]\n",
      "[29495, 30118, 30621, 29498, 32219, 29700, 31217]\n",
      "[17241, 18495, 27455, 26626, 20743, 22952, 19109, 23442, 29167, 29234, 23325, 25401, 17716, 17908, 17269, 18831, 22389, 22513, 18969, 20921, 21723, 23166, 28299, 24405, 21084, 23972, 31217]\n",
      "[28126, 30118, 29167, 29234, 29163, 32219, 28299, 29700, 31217]\n",
      "[18495, 27455, 26626, 20743, 22952, 19109, 23442, 29167, 29234, 23325, 25401, 18891, 18831, 22389, 22513, 18969, 20921, 21723, 23166, 28299, 24405, 21084, 23972, 31217]\n",
      "[27455, 27587, 30118, 29167, 29234, 29163, 32219, 28299, 29700, 31217]\n",
      "[27655, 30118, 29167, 29234, 29163, 32219, 28299, 29700, 31217]\n",
      "[27587, 30118, 29167, 29234, 29163, 32219, 28299, 29700, 31217]\n",
      "[26626, 27270, 29167, 29234, 26892, 29163, 32219, 28299, 29700, 31217]\n",
      "[15328, 16020, 22952, 19109, 15693, 29167, 29234, 15698, 15911, 16159, 17716, 17908, 16073, 17269, 18831, 22389, 22513, 18969, 20921, 15872, 23166, 28299, 24405, 15849, 17171, 21084, 23972, 31217]\n",
      "[30118, 30621, 31530, 32219, 31217]\n",
      "[15008, 16020, 22952, 19109, 15119, 15693, 29167, 29234, 15698, 15911, 16159, 17716, 17908, 16073, 15131, 18831, 22389, 15104, 22513, 18969, 20921, 15872, 23166, 28299, 24405, 15849, 17171, 21084, 23972, 31217]\n",
      "[7554, 14929, 16020, 22952, 7567, 15119, 15693, 12852, 9835, 29234, 7650, 8462, 15698, 15911, 16159, 10094, 10290, 8760, 8802, 8885, 17716, 17908, 9369, 16073, 8877, 8697, 9964, 8890, 13559, 22389, 10806, 10799, 12333, 9453, 11935, 22513, 18969, 20921, 9507, 15872, 13377, 10859, 9222, 15849, 17171, 9910, 23972, 31217]\n",
      "[1371, 3260, 3758, 3387, 2575, 3576, 22952, 5811, 7491, 3123, 15119, 15693, 7073, 12852, 6911, 9835, 29234, 7650, 8462, 15698, 15911, 16159, 5527, 10094, 10290, 6781, 8802, 8885, 17716, 17908, 9369, 5582, 8877, 8697, 6155, 6398, 5337, 6061, 13559, 22389, 10806, 10799, 12333, 2964, 1875, 9453, 11935, 22513, 18969, 20921, 9507, 15872, 13377, 10859, 9222, 15849, 6563, 9910, 3386, 23972, 5979]\n",
      "[27270, 29167, 29234, 29163, 32219, 28299, 29700, 31217]\n",
      "[14929, 16020, 22952, 19109, 15119, 15693, 29167, 29234, 15698, 15911, 16159, 17716, 17908, 16073, 15131, 18831, 22389, 15104, 22513, 18969, 20921, 15872, 23166, 28299, 24405, 15849, 17171, 21084, 23972, 31217]\n",
      "[3260, 3758, 3387, 3576, 22952, 5811, 7491, 7567, 15119, 15693, 7073, 12852, 6911, 9835, 29234, 7650, 8462, 15698, 15911, 16159, 5527, 10094, 10290, 6781, 8802, 8885, 17716, 17908, 9369, 5582, 8877, 8697, 6155, 6398, 5337, 6061, 13559, 22389, 10806, 10799, 12333, 9453, 11935, 22513, 18969, 20921, 9507, 15872, 13377, 10859, 9222, 15849, 6563, 9910, 3386, 23972, 5979]\n",
      "[20743, 22952, 24383, 23442, 29167, 29234, 23325, 25401, 26892, 21953, 22389, 22513, 20921, 21723, 23166, 28299, 24405, 21084, 23972, 31217]\n",
      "[3758, 6917, 22952, 5811, 7491, 7567, 15119, 15693, 7073, 12852, 6911, 9835, 29234, 7650, 8462, 15698, 15911, 16159, 5527, 10094, 10290, 6781, 8802, 8885, 17716, 17908, 9369, 5582, 8877, 8697, 6155, 6398, 5337, 6061, 13559, 22389, 10806, 10799, 12333, 9453, 11935, 22513, 18969, 20921, 9507, 15872, 13377, 10859, 9222, 15849, 6563, 9910, 23972, 5979]\n",
      "[16020, 22952, 19109, 16555, 29167, 29234, 23325, 16159, 17716, 17908, 16073, 17269, 18831, 22389, 22513, 18969, 20921, 21723, 23166, 28299, 24405, 17171, 21084, 23972, 31217]\n",
      "[6917, 22952, 7491, 7567, 15119, 15693, 7073, 12852, 9835, 29234, 7650, 8462, 15698, 15911, 16159, 10094, 10290, 8760, 8802, 8885, 17716, 17908, 9369, 16073, 8877, 8697, 7025, 9964, 7067, 13559, 22389, 10806, 10799, 12333, 9453, 11935, 22513, 18969, 20921, 9507, 15872, 13377, 10859, 9222, 15849, 17171, 9910, 23972, 31217]\n",
      "[3387, 3576, 22952, 5811, 7491, 7567, 15119, 15693, 7073, 12852, 6911, 9835, 29234, 7650, 8462, 15698, 15911, 16159, 5527, 10094, 10290, 6781, 8802, 8885, 17716, 17908, 9369, 5582, 8877, 8697, 6155, 6398, 5337, 6061, 13559, 22389, 10806, 10799, 12333, 9453, 11935, 22513, 18969, 20921, 9507, 15872, 13377, 10859, 9222, 15849, 6563, 9910, 23972, 5979]\n",
      "[31787, 31854, 32219, 32000]\n",
      "[2575, 3576, 22952, 5811, 7491, 3123, 15119, 15693, 7073, 12852, 6911, 9835, 29234, 7650, 8462, 15698, 15911, 16159, 5527, 10094, 10290, 6781, 8802, 8885, 17716, 17908, 9369, 5582, 8877, 8697, 6155, 6398, 5337, 6061, 13559, 22389, 10806, 10799, 12333, 2964, 9453, 11935, 22513, 18969, 20921, 9507, 15872, 13377, 10859, 9222, 15849, 6563, 9910, 3386, 23972, 5979]\n",
      "[3576, 22952, 5811, 7491, 7567, 15119, 15693, 7073, 12852, 6911, 9835, 29234, 7650, 8462, 15698, 15911, 16159, 5527, 10094, 10290, 6781, 8802, 8885, 17716, 17908, 9369, 5582, 8877, 8697, 6155, 6398, 5337, 6061, 13559, 22389, 10806, 10799, 12333, 9453, 11935, 22513, 18969, 20921, 9507, 15872, 13377, 10859, 9222, 15849, 6563, 9910, 23972, 5979]\n",
      "[110, 22952, 5811, 7491, 3123, 15119, 15693, 7073, 12852, 6911, 9835, 29234, 7650, 8462, 15698, 15911, 16159, 5527, 10094, 10290, 6781, 8802, 8885, 17716, 17908, 9369, 5582, 8877, 8697, 6155, 6398, 5337, 6061, 13559, 22389, 10806, 10799, 12333, 2964, 357, 1875, 9453, 11935, 22513, 18969, 20921, 9507, 15872, 817, 13377, 10859, 9222, 15849, 6563, 9910, 3386, 23972, 5979]\n",
      "[22952, 24383, 23442, 29167, 29234, 23325, 25401, 26892, 29163, 32219, 23166, 28299, 24405, 25848, 23972, 31217]\n",
      "[31381, 31530, 32219, 32000]\n",
      "[5811, 7491, 7567, 15119, 15693, 7073, 12852, 6911, 9835, 29234, 7650, 8462, 15698, 15911, 16159, 10094, 10290, 6781, 8802, 8885, 17716, 17908, 9369, 6062, 8877, 8697, 6155, 6398, 6061, 13559, 22389, 10806, 10799, 12333, 9453, 11935, 22513, 18969, 20921, 9507, 15872, 13377, 10859, 9222, 15849, 6563, 9910, 23972, 5979]\n",
      "[30621, 31530, 32219, 31217]\n",
      "[24383, 24668, 29167, 29234, 25401, 26892, 29163, 32219, 24642, 28299, 24405, 25848, 29700, 31217]\n",
      "[19109, 23442, 29167, 29234, 23325, 25401, 19358, 21953, 22389, 22513, 20921, 21723, 23166, 28299, 24405, 21084, 23972, 31217]\n",
      "[7491, 7567, 15119, 15693, 12852, 9835, 29234, 7650, 8462, 15698, 15911, 16159, 10094, 10290, 8760, 8802, 8885, 17716, 17908, 9369, 16073, 8877, 8697, 9964, 8890, 13559, 22389, 10806, 10799, 12333, 9453, 11935, 22513, 18969, 20921, 9507, 15872, 13377, 10859, 9222, 15849, 17171, 9910, 23972, 31217]\n",
      "[13294, 15119, 15693, 13364, 29234, 15698, 15911, 16159, 17716, 17908, 16073, 15131, 14257, 13559, 22389, 15104, 22513, 18969, 20921, 15872, 13377, 28299, 24405, 15849, 17171, 21084, 23972, 31217]\n",
      "[7567, 15119, 15693, 12852, 9835, 29234, 7650, 8462, 15698, 15911, 16159, 10094, 10290, 8760, 8802, 8885, 17716, 17908, 9369, 16073, 8877, 8697, 9964, 8890, 13559, 22389, 10806, 10799, 12333, 9453, 11935, 22513, 18969, 20921, 9507, 15872, 13377, 10859, 9222, 15849, 17171, 9910, 23972, 31217]\n",
      "[3123, 15119, 15693, 7073, 12852, 6911, 9835, 29234, 7650, 8462, 15698, 15911, 16159, 5527, 10094, 10290, 6781, 8802, 8885, 17716, 17908, 9369, 5582, 8877, 8697, 6155, 6398, 5337, 6061, 13559, 22389, 10806, 10799, 12333, 9453, 11935, 22513, 18969, 20921, 9507, 15872, 13377, 10859, 9222, 15849, 6563, 9910, 3386, 23972, 5979]\n",
      "[24668, 29167, 29234, 25401, 26892, 29163, 32219, 28299, 25848, 29700, 31217]\n",
      "[23442, 29167, 29234, 25401, 26892, 29163, 32219, 24642, 28299, 24405, 25848, 23972, 31217]\n",
      "[15119, 15693, 29167, 29234, 15698, 15911, 16159, 17716, 17908, 16073, 15131, 18831, 22389, 22513, 18969, 20921, 15872, 23166, 28299, 24405, 15849, 17171, 21084, 23972, 31217]\n",
      "[16555, 29167, 29234, 23325, 25401, 17716, 17908, 17269, 18831, 22389, 22513, 18969, 20921, 21723, 23166, 28299, 24405, 17171, 21084, 23972, 31217]\n",
      "[15693, 29167, 29234, 15698, 15911, 16159, 17716, 17908, 16073, 17269, 18831, 22389, 22513, 18969, 20921, 15872, 23166, 28299, 24405, 15849, 17171, 21084, 23972, 31217]\n",
      "[29167, 29234, 29498, 32219, 29700, 31217]\n",
      "[7073, 12852, 9835, 29234, 7650, 8462, 15698, 15911, 16159, 10094, 10290, 8760, 8802, 8885, 17716, 17908, 9369, 16073, 8877, 8697, 9964, 8890, 13559, 22389, 10806, 10799, 12333, 9453, 11935, 22513, 18969, 20921, 9507, 15872, 13377, 10859, 9222, 15849, 17171, 9910, 23972, 31217]\n",
      "[12852, 13364, 29234, 15698, 15911, 16159, 17716, 17908, 16073, 15131, 14257, 13559, 22389, 15104, 22513, 18969, 20921, 15872, 13377, 28299, 24405, 15849, 17171, 21084, 23972, 31217]\n",
      "[13364, 29234, 15698, 15911, 16159, 17716, 17908, 16073, 15131, 14257, 13559, 22389, 15104, 22513, 18969, 20921, 15872, 13377, 28299, 24405, 15849, 17171, 21084, 23972, 31217]\n",
      "[6911, 9835, 29234, 7650, 8462, 15698, 15911, 16159, 10094, 10290, 8760, 8802, 8885, 17716, 17908, 9369, 16073, 8877, 8697, 7025, 9964, 7067, 13559, 22389, 10806, 10799, 12333, 9453, 11935, 22513, 18969, 20921, 9507, 15872, 13377, 10859, 9222, 15849, 17171, 9910, 23972, 31217]\n",
      "[9835, 29234, 11763, 15698, 15911, 16159, 10094, 10290, 17716, 17908, 16073, 10308, 14257, 9964, 11979, 13559, 22389, 10806, 10799, 12333, 11935, 22513, 18969, 20921, 15872, 13377, 10859, 24405, 15849, 17171, 9910, 23972, 31217]\n",
      "[29234, 29498, 32219, 29700, 31217]\n",
      "[31854, 32219, 32000]\n",
      "[11763, 15698, 15911, 16159, 17716, 17908, 16073, 15131, 14257, 11979, 13559, 22389, 12333, 11935, 22513, 18969, 20921, 15872, 13377, 28299, 24405, 15849, 17171, 21084, 23972, 31217]\n",
      "[7650, 8462, 15698, 15911, 16159, 10094, 10290, 8760, 8802, 8885, 17716, 17908, 9369, 16073, 8877, 8697, 9964, 8890, 13559, 22389, 10806, 10799, 12333, 9453, 11935, 22513, 18969, 20921, 9507, 15872, 13377, 10859, 9222, 15849, 17171, 9910, 23972, 31217]\n",
      "[8462, 15698, 15911, 16159, 10094, 10290, 8760, 8802, 8885, 17716, 17908, 9369, 16073, 8877, 8697, 9964, 8890, 13559, 22389, 10806, 10799, 12333, 9453, 11935, 22513, 18969, 20921, 9507, 15872, 13377, 10859, 9222, 15849, 17171, 9910, 23972, 31217]\n",
      "[15698, 15911, 16159, 17716, 17908, 16073, 17269, 18831, 22389, 22513, 18969, 20921, 15872, 23166, 28299, 24405, 15849, 17171, 21084, 23972, 31217]\n",
      "[23325, 25401, 26892, 29163, 32219, 24642, 28299, 24405, 25848, 23972, 31217]\n",
      "[15911, 16159, 17716, 17908, 16073, 17269, 18831, 22389, 22513, 18969, 20921, 21723, 23166, 28299, 24405, 17171, 21084, 23972, 31217]\n",
      "[25401, 26892, 29163, 32219, 28299, 25848, 29700, 31217]\n",
      "[16159, 17716, 17908, 17269, 18831, 22389, 22513, 18969, 20921, 21723, 23166, 28299, 24405, 17171, 21084, 23972, 31217]\n",
      "[26892, 29163, 32219, 28299, 29700, 31217]\n",
      "[5527, 10094, 10290, 6781, 8802, 8885, 17716, 17908, 9369, 5582, 8877, 8697, 6155, 6398, 6061, 13559, 22389, 10806, 10799, 12333, 9453, 11935, 22513, 18969, 20921, 9507, 15872, 13377, 10859, 9222, 15849, 6563, 9910, 23972, 5979]\n",
      "[10094, 10290, 17716, 17908, 16073, 10308, 14257, 11979, 13559, 22389, 10806, 10799, 12333, 11935, 22513, 18969, 20921, 15872, 13377, 10859, 24405, 15849, 17171, 21084, 23972, 31217]\n",
      "[10290, 17716, 17908, 16073, 10308, 14257, 11979, 13559, 22389, 10806, 10799, 12333, 11935, 22513, 18969, 20921, 15872, 13377, 10859, 24405, 15849, 17171, 21084, 23972, 31217]\n",
      "[19705, 21953, 22389, 22513, 20921, 21723, 23166, 28299, 24405, 21084, 23972, 31217]\n",
      "[19358, 21953, 22389, 22513, 20921, 21723, 23166, 28299, 24405, 21084, 23972, 31217]\n",
      "[8760, 8802, 8885, 17716, 17908, 9369, 16073, 8877, 14257, 9964, 8890, 13559, 22389, 10806, 10799, 12333, 9453, 11935, 22513, 18969, 20921, 9507, 15872, 13377, 10859, 9222, 15849, 17171, 9910, 23972, 31217]\n",
      "[6781, 8802, 8885, 17716, 17908, 9369, 16073, 8877, 8697, 7025, 9964, 7067, 13559, 22389, 10806, 10799, 12333, 9453, 11935, 22513, 18969, 20921, 9507, 15872, 13377, 10859, 9222, 15849, 17171, 9910, 23972, 31217]\n",
      "[8802, 8885, 17716, 17908, 9369, 16073, 8877, 14257, 9964, 8890, 13559, 22389, 10806, 10799, 12333, 9453, 11935, 22513, 18969, 20921, 9507, 15872, 13377, 10859, 9222, 15849, 17171, 9910, 23972, 31217]\n",
      "[18891, 21953, 22389, 22513, 18969, 20921, 21723, 23166, 28299, 24405, 21084, 23972, 31217]\n",
      "[8885, 17716, 17908, 9369, 16073, 10308, 14257, 9964, 8890, 13559, 22389, 10806, 10799, 12333, 9453, 11935, 22513, 18969, 20921, 9507, 15872, 13377, 10859, 9222, 15849, 17171, 9910, 23972, 31217]\n",
      "[17716, 17908, 18831, 22389, 22513, 18969, 20921, 21723, 23166, 28299, 24405, 21084, 23972, 31217]\n",
      "[17908, 18831, 22389, 22513, 18969, 20921, 21723, 23166, 28299, 24405, 21084, 23972, 31217]\n",
      "[31530, 32219, 32000]\n",
      "[9369, 16073, 10308, 14257, 9964, 11979, 13559, 22389, 10806, 10799, 12333, 9453, 11935, 22513, 18969, 20921, 9507, 15872, 13377, 10859, 24405, 15849, 17171, 9910, 23972, 31217]\n",
      "[16073, 17269, 18831, 22389, 22513, 18969, 20921, 21723, 23166, 28299, 24405, 17171, 21084, 23972, 31217]\n",
      "[6062, 8877, 8697, 6155, 6398, 7067, 13559, 22389, 10806, 10799, 12333, 9453, 11935, 22513, 18969, 20921, 9507, 15872, 13377, 10859, 9222, 15849, 6563, 9910, 23972, 31217]\n",
      "[5582, 8877, 8697, 6155, 6398, 6061, 13559, 22389, 10806, 10799, 12333, 9453, 11935, 22513, 18969, 20921, 9507, 15872, 13377, 10859, 9222, 15849, 6563, 9910, 23972, 5979]\n",
      "[17269, 18831, 22389, 22513, 18969, 20921, 21723, 23166, 28299, 24405, 21084, 23972, 31217]\n",
      "[15131, 18831, 22389, 22513, 18969, 20921, 15872, 23166, 28299, 24405, 15849, 17171, 21084, 23972, 31217]\n",
      "[10308, 14257, 11979, 13559, 22389, 10806, 10799, 12333, 11935, 22513, 18969, 20921, 15872, 13377, 10859, 24405, 15849, 17171, 21084, 23972, 31217]\n",
      "[8877, 14257, 9964, 8890, 13559, 22389, 10806, 10799, 12333, 9453, 11935, 22513, 18969, 20921, 9507, 15872, 13377, 10859, 9222, 15849, 17171, 9910, 23972, 31217]\n",
      "[29498, 32219, 29700, 31217]\n",
      "[29163, 32219, 29700, 31217]\n",
      "[21953, 22389, 22513, 23166, 28299, 24405, 25848, 23972, 31217]\n",
      "[14257, 18831, 22389, 15104, 22513, 18969, 20921, 15872, 23166, 28299, 24405, 15849, 17171, 21084, 23972, 31217]\n",
      "[8697, 9964, 8890, 13559, 22389, 10806, 10799, 12333, 9453, 11935, 22513, 18969, 20921, 9507, 15872, 13377, 10859, 9222, 15849, 17171, 9910, 23972, 31217]\n",
      "[18831, 22389, 22513, 18969, 20921, 21723, 23166, 28299, 24405, 21084, 23972, 31217]\n",
      "[7025, 9964, 7067, 13559, 22389, 10806, 10799, 12333, 9453, 11935, 22513, 18969, 20921, 9507, 15872, 13377, 10859, 9222, 15849, 17171, 9910, 23972, 31217]\n",
      "[6155, 6398, 7067, 13559, 22389, 10806, 10799, 12333, 9453, 11935, 22513, 18969, 20921, 9507, 15872, 13377, 10859, 9222, 15849, 6563, 9910, 23972, 31217]\n",
      "[9964, 11979, 13559, 22389, 10806, 10799, 12333, 11935, 22513, 18969, 20921, 15872, 13377, 10859, 24405, 15849, 17171, 21084, 23972, 31217]\n",
      "[6634, 7067, 13559, 22389, 10806, 10799, 12333, 9453, 11935, 22513, 18969, 20921, 9507, 15872, 13377, 10859, 9222, 15849, 17171, 9910, 23972, 31217]\n",
      "[6398, 7067, 13559, 22389, 10806, 10799, 12333, 9453, 11935, 22513, 18969, 20921, 9507, 15872, 13377, 10859, 9222, 15849, 6563, 9910, 23972, 31217]\n",
      "[11979, 13559, 22389, 12333, 12381, 22513, 18969, 20921, 15872, 13377, 28299, 24405, 15849, 17171, 21084, 23972, 31217]\n",
      "[8890, 13559, 22389, 10806, 10799, 12333, 9453, 11935, 22513, 18969, 20921, 9507, 15872, 13377, 10859, 9222, 15849, 17171, 9910, 23972, 31217]\n",
      "[7067, 13559, 22389, 10806, 10799, 12333, 9453, 11935, 22513, 18969, 20921, 9507, 15872, 13377, 10859, 9222, 15849, 17171, 9910, 23972, 31217]\n",
      "[5337, 6061, 13559, 22389, 10806, 10799, 12333, 9453, 11935, 22513, 18969, 20921, 9507, 15872, 13377, 10859, 9222, 15849, 6563, 9910, 23972, 5979]\n",
      "[6061, 13559, 22389, 10806, 10799, 12333, 9453, 11935, 22513, 18969, 20921, 9507, 15872, 13377, 10859, 9222, 15849, 6563, 9910, 23972, 31217]\n",
      "[13559, 22389, 15104, 22513, 18969, 20921, 15872, 23166, 28299, 24405, 15849, 17171, 21084, 23972, 31217]\n",
      "[22389, 22513, 23166, 28299, 24405, 25848, 23972, 31217]\n",
      "[32219, 32369]\n",
      "[10806, 10986, 12333, 11935, 22513, 18969, 20921, 15872, 13377, 10859, 24405, 15849, 17171, 21084, 23972, 31217]\n",
      "[10986, 12333, 11935, 22513, 18969, 20921, 15872, 13377, 28299, 24405, 15849, 17171, 21084, 23972, 31217]\n",
      "[10799, 12333, 11935, 22513, 18969, 20921, 15872, 13377, 10859, 24405, 15849, 17171, 21084, 23972, 31217]\n",
      "[12333, 12381, 22513, 18969, 20921, 15872, 13377, 28299, 24405, 15849, 17171, 21084, 23972, 31217]\n",
      "[15104, 22513, 18969, 20921, 15872, 23166, 28299, 24405, 15849, 17171, 21084, 23972, 31217]\n",
      "[2964, 9453, 11935, 22513, 18969, 20921, 9507, 15872, 13377, 10859, 9222, 15849, 6563, 9910, 3386, 23972, 5979]\n",
      "[12381, 22513, 18969, 20921, 15872, 13377, 28299, 24405, 15849, 17171, 21084, 23972, 31217]\n",
      "[357, 1875, 9453, 11935, 22513, 18969, 20921, 9507, 15872, 817, 13377, 10859, 9222, 15849, 6563, 9910, 3386, 23972, 5979]\n",
      "[1875, 9453, 11935, 22513, 18969, 20921, 9507, 15872, 13377, 10859, 9222, 15849, 6563, 9910, 3386, 23972, 5979]\n",
      "[9453, 11935, 22513, 18969, 20921, 9507, 15872, 13377, 10859, 24405, 15849, 17171, 9910, 23972, 31217]\n",
      "[11935, 22513, 18969, 20921, 15872, 13377, 28299, 24405, 15849, 17171, 21084, 23972, 31217]\n",
      "[22513, 23166, 28299, 24405, 25848, 23972, 31217]\n",
      "[32500]\n",
      "[32369]\n",
      "[18969, 20921, 21723, 23166, 28299, 24405, 21084, 23972, 31217]\n",
      "[20921, 21723, 23166, 28299, 24405, 21084, 23972, 31217]\n",
      "[24642, 28299, 25848, 29700, 31217]\n",
      "[21723, 23166, 28299, 24405, 25848, 23972, 31217]\n",
      "[9507, 15872, 13377, 10859, 24405, 15849, 17171, 9910, 23972, 31217]\n",
      "[15872, 23166, 28299, 24405, 17171, 21084, 23972, 31217]\n",
      "[23166, 28299, 24405, 25848, 23972, 31217]\n",
      "[817, 13377, 10859, 9222, 15849, 6563, 9910, 3386, 23972, 5979]\n",
      "[13377, 28299, 24405, 15849, 17171, 21084, 23972, 31217]\n",
      "[28299, 29700, 31217]\n",
      "[10859, 24405, 15849, 17171, 21084, 23972, 31217]\n",
      "[32000]\n",
      "[24405, 25848, 29700, 31217]\n",
      "[9222, 15849, 17171, 9910, 23972, 31217]\n",
      "[25879, 29700, 31217]\n",
      "[15849, 17171, 21084, 23972, 31217]\n",
      "[17171, 21084, 23972, 31217]\n",
      "[6563, 9910, 23972, 31217]\n",
      "[25848, 29700, 31217]\n",
      "[21084, 23972, 31217]\n",
      "[9910, 23972, 31217]\n",
      "[29700, 31217]\n",
      "[3386, 23972, 5979]\n",
      "[23972, 31217]\n",
      "[31217]\n",
      "[5979]\n",
      "299\n"
     ]
    }
   ],
   "source": [
    "cal(1, [624], [[18341,30774,9992,2806,14382,26352,13081,4675,774,14951,6649,16915,11651,22373,3799,7210,8298,31090,15793,16609,19901,4434,16324,25035,26836,27855,13383,18327,25775,3001,20824,28472,11403,17962,311,580,19123,10254,24498,11930,29081,9699,11232,8520,6949,3774,530,10412,12877,24463,29191,16857,31462,23461,17759,5435,11194,3701,2642,9855,28378,6807,13986,15277,15414,31249,30414,16279,17002,5080,32137,9079,20955,19092,26474,980,32259,26788,1765,5285,26889,3426,11386,6329,28053,32680,16172,26710,6882,2451,14645,19233,14101,16774,23800,10557,15309,25714,13879,22455,251,9557,15238,1058,2548,5633,9216,894,10436,3359,17720,2143,27589,11635,3443,1099,2417,29282,28180,14435,15989,26033,19031,14661,20998,25231,15938,27186,13432,2518,20953,13164,27661,19342,27794,30690,17419,10675,7432,3599,29201,6199,2291,16416,9642,7755,6488,5973,13859,7387,14077,30377,25242,24151,11040,18613,22616,21433,30824,17618,29537,8900,16412,3966,27976,27017,1939,14849,28232,23344,29164,25936,13457,6645,16895,3121,17888,29297,14482,14496,24402,23579,8913,10353,6010,25358,11512,9528,26289,24333,19795,4966,2477,7108,23400,31924,29270,22096,10099,6597,15060,13314,9746,7942,20205,5728,1090,20698,16270,28781,14218,8948,29863,299,24182,26371,12604,5981,1351,20117,7610,17041,8937,17461,19591,5470,25125,24535,27868,23787,2840,31351,8151,29104,8420,9468,9164,1409,1957,1634,18909,4808,18087,25880,27082,20754,15062,24487,18442,21197,19829,6293,8730,12367,787,22921,21781,25627,30395,29103,21125,15456,5484,21342,22392,1475,11720,13561,6615,21342,10256,14611,24564,2057,31312,25046,13922,1240,11479,21413,14345,8421,746,11008,7289,20047,7098,27048,127,4226,8083,16132,7414,10169,19797,12228,24544,5570,31784,24772,7094,24577,25964,2355,16636,12984,19183,20468,22039,18822,19811,6212,8547,16685,1807,414,14721,13976,16068,7899,28654,22300,18195,10398,18906,17918,23997,12015,31543,31541,8043,3622,6160,32626,25503,11019,28700,10590,5355,14907,18579,16418,22881,5838,26688,10029,8010,27702,10712,30513,25115,14186,2186,10351,15268,25413,23255,12853,5515,1064,12196,17317,3833,30439,397,31159,27283,26339,13437,13954,6316,32627,4475,32183,12728,19593,13511,31342,29956,3730,8742,4645,8101,1437,29562,10501,12207,30656,21909,31592,26535,30391,18255,12441,9786,10447,20182,2778,26158,6403,6470,22700,31386,21092,14458,2890,23378,19134,29473,5751,5542,24696,23316,32121,13644,28604,7655,12646,14746,17112,17341,9374,27384,25060,20577,14233,9366,1445,31379,25315,26202,12722,28064,16996,17181,14805,18742,26085,32534,14004,21365,2768,29334,11697,4425,9015,1270,28686,14584,19992,21454,30037,13047,9440,23144,13559,7426,557,11637,17203,875,9688,7934,13625,17587,23091,24221,4240,21335,32399,27116,18869,18924,6914,24894,5637,1390,24935,5261,5340,14806,16293,23732,5119,13546,26421,5342,29495,17241,28126,18495,27455,27655,27587,26626,15328,30118,15008,7554,1371,27270,14929,3260,20743,3758,16020,6917,3387,31787,2575,3576,110,22952,31381,5811,30621,24383,19109,7491,13294,7567,3123,24668,23442,15119,16555,15693,29167,7073,12852,13364,6911,9835,29234,31854,11763,7650,8462,15698,23325,15911,25401,16159,26892,5527,10094,10290,19705,19358,8760,6781,8802,18891,8885,17716,17908,31530,9369,16073,6062,5582,17269,15131,10308,8877,29498,29163,21953,14257,8697,18831,7025,6155,9964,6634,6398,11979,8890,7067,5337,6061,13559,22389,32219,10806,10986,10799,12333,15104,2964,12381,357,1875,9453,11935,22513,32500,32369,18969,20921,24642,21723,9507,15872,23166,817,13377,28299,10859,32000,24405,9222,25879,15849,17171,6563,25848,21084,9910,29700,3386,23972,31217,5979]])"
   ]
  },
  {
   "cell_type": "code",
   "execution_count": 480,
   "metadata": {
    "collapsed": false
   },
   "outputs": [
    {
     "name": "stdout",
     "output_type": "stream",
     "text": [
      "624\n"
     ]
    }
   ],
   "source": [
    "print len([18341,30774,9992,2806,14382,26352,13081,4675,774,14951,6649,16915,11651,22373,3799,7210,8298,31090,15793,16609,19901,4434,16324,25035,26836,27855,13383,18327,25775,3001,20824,28472,11403,17962,311,580,19123,10254,24498,11930,29081,9699,11232,8520,6949,3774,530,10412,12877,24463,29191,16857,31462,23461,17759,5435,11194,3701,2642,9855,28378,6807,13986,15277,15414,31249,30414,16279,17002,5080,32137,9079,20955,19092,26474,980,32259,26788,1765,5285,26889,3426,11386,6329,28053,32680,16172,26710,6882,2451,14645,19233,14101,16774,23800,10557,15309,25714,13879,22455,251,9557,15238,1058,2548,5633,9216,894,10436,3359,17720,2143,27589,11635,3443,1099,2417,29282,28180,14435,15989,26033,19031,14661,20998,25231,15938,27186,13432,2518,20953,13164,27661,19342,27794,30690,17419,10675,7432,3599,29201,6199,2291,16416,9642,7755,6488,5973,13859,7387,14077,30377,25242,24151,11040,18613,22616,21433,30824,17618,29537,8900,16412,3966,27976,27017,1939,14849,28232,23344,29164,25936,13457,6645,16895,3121,17888,29297,14482,14496,24402,23579,8913,10353,6010,25358,11512,9528,26289,24333,19795,4966,2477,7108,23400,31924,29270,22096,10099,6597,15060,13314,9746,7942,20205,5728,1090,20698,16270,28781,14218,8948,29863,299,24182,26371,12604,5981,1351,20117,7610,17041,8937,17461,19591,5470,25125,24535,27868,23787,2840,31351,8151,29104,8420,9468,9164,1409,1957,1634,18909,4808,18087,25880,27082,20754,15062,24487,18442,21197,19829,6293,8730,12367,787,22921,21781,25627,30395,29103,21125,15456,5484,21342,22392,1475,11720,13561,6615,21342,10256,14611,24564,2057,31312,25046,13922,1240,11479,21413,14345,8421,746,11008,7289,20047,7098,27048,127,4226,8083,16132,7414,10169,19797,12228,24544,5570,31784,24772,7094,24577,25964,2355,16636,12984,19183,20468,22039,18822,19811,6212,8547,16685,1807,414,14721,13976,16068,7899,28654,22300,18195,10398,18906,17918,23997,12015,31543,31541,8043,3622,6160,32626,25503,11019,28700,10590,5355,14907,18579,16418,22881,5838,26688,10029,8010,27702,10712,30513,25115,14186,2186,10351,15268,25413,23255,12853,5515,1064,12196,17317,3833,30439,397,31159,27283,26339,13437,13954,6316,32627,4475,32183,12728,19593,13511,31342,29956,3730,8742,4645,8101,1437,29562,10501,12207,30656,21909,31592,26535,30391,18255,12441,9786,10447,20182,2778,26158,6403,6470,22700,31386,21092,14458,2890,23378,19134,29473,5751,5542,24696,23316,32121,13644,28604,7655,12646,14746,17112,17341,9374,27384,25060,20577,14233,9366,1445,31379,25315,26202,12722,28064,16996,17181,14805,18742,26085,32534,14004,21365,2768,29334,11697,4425,9015,1270,28686,14584,19992,21454,30037,13047,9440,23144,13559,7426,557,11637,17203,875,9688,7934,13625,17587,23091,24221,4240,21335,32399,27116,18869,18924,6914,24894,5637,1390,24935,5261,5340,14806,16293,23732,5119,13546,26421,5342,29495,17241,28126,18495,27455,27655,27587,26626,15328,30118,15008,7554,1371,27270,14929,3260,20743,3758,16020,6917,3387,31787,2575,3576,110,22952,31381,5811,30621,24383,19109,7491,13294,7567,3123,24668,23442,15119,16555,15693,29167,7073,12852,13364,6911,9835,29234,31854,11763,7650,8462,15698,23325,15911,25401,16159,26892,5527,10094,10290,19705,19358,8760,6781,8802,18891,8885,17716,17908,31530,9369,16073,6062,5582,17269,15131,10308,8877,29498,29163,21953,14257,8697,18831,7025,6155,9964,6634,6398,11979,8890,7067,5337,6061,13559,22389,32219,10806,10986,10799,12333,15104,2964,12381,357,1875,9453,11935,22513,32500,32369,18969,20921,24642,21723,9507,15872,23166,817,13377,28299,10859,32000,24405,9222,25879,15849,17171,6563,25848,21084,9910,29700,3386,23972,31217,5979])"
   ]
  },
  {
   "cell_type": "code",
   "execution_count": 1004,
   "metadata": {
    "collapsed": false
   },
   "outputs": [],
   "source": [
    "def calOnegroup(totalNum, lineList):\n",
    "    # save real information\n",
    "    listgroup = [[]] * totalNum\n",
    "    listgroup[0] = [lineList[0]]\n",
    "    lengthgroup = [0] * totalNum\n",
    "    lengthgroup[0] = 1\n",
    "    # used for comparasion\n",
    "    tempgroup = [[]] * totalNum\n",
    "    tempgroup[0] = [lineList[0]]\n",
    "    templength = [0] * totalNum\n",
    "    templength[0] = 1\n",
    "    for i in range(1, totalNum):\n",
    "        print 'i={}'.format(i)\n",
    "        for j in range(0, i):\n",
    "            print 'j={}'.format(j)\n",
    "            print 'listgroup={}'.format(listgroup)\n",
    "            print 'lengthgroup={}'.format(lengthgroup)\n",
    "            if listgroup[j]:\n",
    "                if listgroup[j][-1] < lineList[i]:\n",
    "                    tempgroup[j] = listgroup[j] + [lineList[i]]\n",
    "                    templength[j] = len(tempgroup[j])\n",
    "                else:\n",
    "                    tempgroup[j] = listgroup[j]\n",
    "                    templength[j] = len(tempgroup[j])\n",
    "            else:\n",
    "                listgroup[j] = [lineList[j]]\n",
    "                if listgroup[j][-1] < lineList[i]:\n",
    "                    tempgroup[j] = listgroup[j] + [lineList[i]]\n",
    "                    templength[j] = len(tempgroup[j])\n",
    "                    listgroup[j+1] = tempgroup[j]\n",
    "                else:\n",
    "                    tempgroup[j] = listgroup[j]\n",
    "                    templength[j] = len(tempgroup[j])\n",
    "            print 'tempgroup={}'.format(tempgroup)\n",
    "            print 'templength={}'.format(templength)\n",
    "        if max(templength) > max(lengthgroup):\n",
    "            satisfiedIndex = templength.index(max(templength))\n",
    "            print 'satisfiedIndex={}'.format(satisfiedIndex)\n",
    "            print tempgroup[satisfiedIndex]\n",
    "            listgroup[satisfiedIndex+1] = tempgroup[satisfiedIndex]\n",
    "            lengthgroup[satisfiedIndex+1] = templength[satisfiedIndex]\n",
    "\n",
    "        print 'listgroup={}'.format(listgroup)\n",
    "        print 'lengthgroup={}'.format(lengthgroup)\n",
    "    \n",
    "def cal(group, totalNum, lineList):\n",
    "    for j in range(0, group):\n",
    "        calOnegroup(totalNum[j], lineList[j])"
   ]
  },
  {
   "cell_type": "code",
   "execution_count": 688,
   "metadata": {
    "collapsed": false
   },
   "outputs": [],
   "source": [
    "def calOnegroup(totalNum, lineList):\n",
    "    maxLength = 1\n",
    "    d = [[]] * 3001\n",
    "    for i in range(0, totalNum):\n",
    "        d[i] = 1\n",
    "#         print 'i={}'.format(i)\n",
    "#         print 'd[i]={}'.format(d[i])\n",
    "        for j in range(i - 1, 0, -1):\n",
    "#             print 'j={}'.format(j)\n",
    "            if lineList[j] < lineList[i]:\n",
    "#                 print 'satisfied 1'\n",
    "#                 print 'lineList[j]={}'.format(lineList[j])\n",
    "#                 print 'lineList[i]={}'.format(lineList[i])\n",
    "                temp = d[j] + 1\n",
    "#                 print 'temp={}'.format(temp)\n",
    "                if temp > d[i]:\n",
    "#                     print 'satisfied 2'\n",
    "#                     print 'temp={}'.format(temp)\n",
    "#                     print 'd[i]={}'.format(d[i])\n",
    "                    d[i] = temp\n",
    "        if d[i] > maxLength:\n",
    "#             print 'satisfied 3'\n",
    "#             print 'd[i]={}'.format(d[i])\n",
    "#             print 'maxLength={}'.format(maxLength)\n",
    "            maxLength = d[i]\n",
    "    print maxLength"
   ]
  },
  {
   "cell_type": "code",
   "execution_count": 689,
   "metadata": {
    "collapsed": false
   },
   "outputs": [
    {
     "name": "stdout",
     "output_type": "stream",
     "text": [
      "3\n"
     ]
    }
   ],
   "source": [
    "calOnegroup(5, [6,4,8,2,17])"
   ]
  },
  {
   "cell_type": "code",
   "execution_count": 690,
   "metadata": {
    "collapsed": false
   },
   "outputs": [
    {
     "name": "stdout",
     "output_type": "stream",
     "text": [
      "3\n"
     ]
    }
   ],
   "source": [
    "calOnegroup(7, [89,256,78,1,46,78,8])"
   ]
  },
  {
   "cell_type": "code",
   "execution_count": 691,
   "metadata": {
    "collapsed": false
   },
   "outputs": [
    {
     "name": "stdout",
     "output_type": "stream",
     "text": [
      "47\n"
     ]
    }
   ],
   "source": [
    "calOnegroup(624,[18341,30774,9992,2806,14382,26352,13081,4675,774,14951,6649,16915,11651,22373,3799,7210,8298,31090,15793,16609,19901,4434,16324,25035,26836,27855,13383,18327,25775,3001,20824,28472,11403,17962,311,580,19123,10254,24498,11930,29081,9699,11232,8520,6949,3774,530,10412,12877,24463,29191,16857,31462,23461,17759,5435,11194,3701,2642,9855,28378,6807,13986,15277,15414,31249,30414,16279,17002,5080,32137,9079,20955,19092,26474,980,32259,26788,1765,5285,26889,3426,11386,6329,28053,32680,16172,26710,6882,2451,14645,19233,14101,16774,23800,10557,15309,25714,13879,22455,251,9557,15238,1058,2548,5633,9216,894,10436,3359,17720,2143,27589,11635,3443,1099,2417,29282,28180,14435,15989,26033,19031,14661,20998,25231,15938,27186,13432,2518,20953,13164,27661,19342,27794,30690,17419,10675,7432,3599,29201,6199,2291,16416,9642,7755,6488,5973,13859,7387,14077,30377,25242,24151,11040,18613,22616,21433,30824,17618,29537,8900,16412,3966,27976,27017,1939,14849,28232,23344,29164,25936,13457,6645,16895,3121,17888,29297,14482,14496,24402,23579,8913,10353,6010,25358,11512,9528,26289,24333,19795,4966,2477,7108,23400,31924,29270,22096,10099,6597,15060,13314,9746,7942,20205,5728,1090,20698,16270,28781,14218,8948,29863,299,24182,26371,12604,5981,1351,20117,7610,17041,8937,17461,19591,5470,25125,24535,27868,23787,2840,31351,8151,29104,8420,9468,9164,1409,1957,1634,18909,4808,18087,25880,27082,20754,15062,24487,18442,21197,19829,6293,8730,12367,787,22921,21781,25627,30395,29103,21125,15456,5484,21342,22392,1475,11720,13561,6615,21342,10256,14611,24564,2057,31312,25046,13922,1240,11479,21413,14345,8421,746,11008,7289,20047,7098,27048,127,4226,8083,16132,7414,10169,19797,12228,24544,5570,31784,24772,7094,24577,25964,2355,16636,12984,19183,20468,22039,18822,19811,6212,8547,16685,1807,414,14721,13976,16068,7899,28654,22300,18195,10398,18906,17918,23997,12015,31543,31541,8043,3622,6160,32626,25503,11019,28700,10590,5355,14907,18579,16418,22881,5838,26688,10029,8010,27702,10712,30513,25115,14186,2186,10351,15268,25413,23255,12853,5515,1064,12196,17317,3833,30439,397,31159,27283,26339,13437,13954,6316,32627,4475,32183,12728,19593,13511,31342,29956,3730,8742,4645,8101,1437,29562,10501,12207,30656,21909,31592,26535,30391,18255,12441,9786,10447,20182,2778,26158,6403,6470,22700,31386,21092,14458,2890,23378,19134,29473,5751,5542,24696,23316,32121,13644,28604,7655,12646,14746,17112,17341,9374,27384,25060,20577,14233,9366,1445,31379,25315,26202,12722,28064,16996,17181,14805,18742,26085,32534,14004,21365,2768,29334,11697,4425,9015,1270,28686,14584,19992,21454,30037,13047,9440,23144,13559,7426,557,11637,17203,875,9688,7934,13625,17587,23091,24221,4240,21335,32399,27116,18869,18924,6914,24894,5637,1390,24935,5261,5340,14806,16293,23732,5119,13546,26421,5342,29495,17241,28126,18495,27455,27655,27587,26626,15328,30118,15008,7554,1371,27270,14929,3260,20743,3758,16020,6917,3387,31787,2575,3576,110,22952,31381,5811,30621,24383,19109,7491,13294,7567,3123,24668,23442,15119,16555,15693,29167,7073,12852,13364,6911,9835,29234,31854,11763,7650,8462,15698,23325,15911,25401,16159,26892,5527,10094,10290,19705,19358,8760,6781,8802,18891,8885,17716,17908,31530,9369,16073,6062,5582,17269,15131,10308,8877,29498,29163,21953,14257,8697,18831,7025,6155,9964,6634,6398,11979,8890,7067,5337,6061,13559,22389,32219,10806,10986,10799,12333,15104,2964,12381,357,1875,9453,11935,22513,32500,32369,18969,20921,24642,21723,9507,15872,23166,817,13377,28299,10859,32000,24405,9222,25879,15849,17171,6563,25848,21084,9910,29700,3386,23972,31217,5979])"
   ]
  },
  {
   "cell_type": "code",
   "execution_count": 559,
   "metadata": {
    "collapsed": false
   },
   "outputs": [
    {
     "name": "stdout",
     "output_type": "stream",
     "text": [
      "[4, 3, 2, 1]\n"
     ]
    }
   ],
   "source": [
    "print range(4,0,-1)"
   ]
  },
  {
   "cell_type": "code",
   "execution_count": 53,
   "metadata": {
    "collapsed": false
   },
   "outputs": [],
   "source": [
    "def calOnegroup(totalNum, lineList):\n",
    "    length = [1] * totalNum #记录当前各元素作为最大元素时的最长递增序列长度\n",
    "    prePoint = [[]] * totalNum\n",
    "    for i in range(0, totalNum):\n",
    "        prePoint[i] = i #记录当前以该元素作为最大元素时的最长递增序列中该元素的前驱节点(默认情况是序列只有自己一个元素，则前驱节点写自己的所在位置)\n",
    "#     print length\n",
    "#     print prePoint\n",
    "    for i in range(1, totalNum):\n",
    "        maxLength = 1\n",
    "#         print 'i={}'.format(i)\n",
    "        for j in range(0, i):\n",
    "#             print 'j={}'.format(j)\n",
    "#             print 'prePoint={}'.format(prePoint)\n",
    "#             print 'length={}'.format(length)\n",
    "            if lineList[j] < lineList[i] and length[j] + 1 > length[i]:\n",
    "                length[i] = length[j] + 1\n",
    "                prePoint[i] = j\n",
    "                if  maxLength < length[i]:\n",
    "                    maxLength = length[i]\n",
    "#         print 'prePoint={}'.format(prePoint)\n",
    "#         print 'length={}'.format(length)\n",
    "#     print max(length)\n",
    "    finalMaxLength = max(length)\n",
    "    lastIndex = length.index(finalMaxLength)\n",
    "    finalList = [0] * finalMaxLength\n",
    "    finalList[finalMaxLength - 1] = lineList[lastIndex]\n",
    "    temp = lastIndex\n",
    "    j = finalMaxLength - 2\n",
    "    for j in range(finalMaxLength - 2, -1, -1):\n",
    "        if prePoint[temp] != temp:\n",
    "            finalList[j] = lineList[prePoint[temp]]\n",
    "            temp = prePoint[temp]\n",
    "    print ' '.join(map(str, finalList))\n",
    "def cal(group, totalNum, lineList):\n",
    "    for j in range(0, group):\n",
    "        calOnegroup(totalNum[j], lineList[j])"
   ]
  },
  {
   "cell_type": "code",
   "execution_count": 54,
   "metadata": {
    "collapsed": false
   },
   "outputs": [
    {
     "name": "stdout",
     "output_type": "stream",
     "text": [
      "35 36 39\n"
     ]
    }
   ],
   "source": [
    "calOnegroup(7,[35,36,39,3,15,27,6])"
   ]
  },
  {
   "cell_type": "code",
   "execution_count": 55,
   "metadata": {
    "collapsed": false
   },
   "outputs": [
    {
     "name": "stdout",
     "output_type": "stream",
     "text": [
      "6 8 17\n",
      "1 46 78\n"
     ]
    }
   ],
   "source": [
    "cal(2, [5,7], [[6,4,8,2,17], [89,256,78,1,46,78,8]])"
   ]
  },
  {
   "cell_type": "code",
   "execution_count": 56,
   "metadata": {
    "collapsed": false
   },
   "outputs": [
    {
     "name": "stdout",
     "output_type": "stream",
     "text": [
      "311 580 980 1765 2451 2548 3359 3443 3599 6199 6488 6645 7108 7942 8151 8420 9468 10256 10398 10590 10712 12196 12207 12441 12646 12722 13047 13559 13625 14806 15008 15119 15693 15698 15911 16159 17716 17908 18831 18969 20921 21723 23166 24405 25879 29700 31217\n"
     ]
    }
   ],
   "source": [
    "calOnegroup(624,[18341,30774,9992,2806,14382,26352,13081,4675,774,14951,6649,16915,11651,22373,3799,7210,8298,31090,15793,16609,19901,4434,16324,25035,26836,27855,13383,18327,25775,3001,20824,28472,11403,17962,311,580,19123,10254,24498,11930,29081,9699,11232,8520,6949,3774,530,10412,12877,24463,29191,16857,31462,23461,17759,5435,11194,3701,2642,9855,28378,6807,13986,15277,15414,31249,30414,16279,17002,5080,32137,9079,20955,19092,26474,980,32259,26788,1765,5285,26889,3426,11386,6329,28053,32680,16172,26710,6882,2451,14645,19233,14101,16774,23800,10557,15309,25714,13879,22455,251,9557,15238,1058,2548,5633,9216,894,10436,3359,17720,2143,27589,11635,3443,1099,2417,29282,28180,14435,15989,26033,19031,14661,20998,25231,15938,27186,13432,2518,20953,13164,27661,19342,27794,30690,17419,10675,7432,3599,29201,6199,2291,16416,9642,7755,6488,5973,13859,7387,14077,30377,25242,24151,11040,18613,22616,21433,30824,17618,29537,8900,16412,3966,27976,27017,1939,14849,28232,23344,29164,25936,13457,6645,16895,3121,17888,29297,14482,14496,24402,23579,8913,10353,6010,25358,11512,9528,26289,24333,19795,4966,2477,7108,23400,31924,29270,22096,10099,6597,15060,13314,9746,7942,20205,5728,1090,20698,16270,28781,14218,8948,29863,299,24182,26371,12604,5981,1351,20117,7610,17041,8937,17461,19591,5470,25125,24535,27868,23787,2840,31351,8151,29104,8420,9468,9164,1409,1957,1634,18909,4808,18087,25880,27082,20754,15062,24487,18442,21197,19829,6293,8730,12367,787,22921,21781,25627,30395,29103,21125,15456,5484,21342,22392,1475,11720,13561,6615,21342,10256,14611,24564,2057,31312,25046,13922,1240,11479,21413,14345,8421,746,11008,7289,20047,7098,27048,127,4226,8083,16132,7414,10169,19797,12228,24544,5570,31784,24772,7094,24577,25964,2355,16636,12984,19183,20468,22039,18822,19811,6212,8547,16685,1807,414,14721,13976,16068,7899,28654,22300,18195,10398,18906,17918,23997,12015,31543,31541,8043,3622,6160,32626,25503,11019,28700,10590,5355,14907,18579,16418,22881,5838,26688,10029,8010,27702,10712,30513,25115,14186,2186,10351,15268,25413,23255,12853,5515,1064,12196,17317,3833,30439,397,31159,27283,26339,13437,13954,6316,32627,4475,32183,12728,19593,13511,31342,29956,3730,8742,4645,8101,1437,29562,10501,12207,30656,21909,31592,26535,30391,18255,12441,9786,10447,20182,2778,26158,6403,6470,22700,31386,21092,14458,2890,23378,19134,29473,5751,5542,24696,23316,32121,13644,28604,7655,12646,14746,17112,17341,9374,27384,25060,20577,14233,9366,1445,31379,25315,26202,12722,28064,16996,17181,14805,18742,26085,32534,14004,21365,2768,29334,11697,4425,9015,1270,28686,14584,19992,21454,30037,13047,9440,23144,13559,7426,557,11637,17203,875,9688,7934,13625,17587,23091,24221,4240,21335,32399,27116,18869,18924,6914,24894,5637,1390,24935,5261,5340,14806,16293,23732,5119,13546,26421,5342,29495,17241,28126,18495,27455,27655,27587,26626,15328,30118,15008,7554,1371,27270,14929,3260,20743,3758,16020,6917,3387,31787,2575,3576,110,22952,31381,5811,30621,24383,19109,7491,13294,7567,3123,24668,23442,15119,16555,15693,29167,7073,12852,13364,6911,9835,29234,31854,11763,7650,8462,15698,23325,15911,25401,16159,26892,5527,10094,10290,19705,19358,8760,6781,8802,18891,8885,17716,17908,31530,9369,16073,6062,5582,17269,15131,10308,8877,29498,29163,21953,14257,8697,18831,7025,6155,9964,6634,6398,11979,8890,7067,5337,6061,13559,22389,32219,10806,10986,10799,12333,15104,2964,12381,357,1875,9453,11935,22513,32500,32369,18969,20921,24642,21723,9507,15872,23166,817,13377,28299,10859,32000,24405,9222,25879,15849,17171,6563,25848,21084,9910,29700,3386,23972,31217,5979])"
   ]
  },
  {
   "cell_type": "code",
   "execution_count": 692,
   "metadata": {
    "collapsed": false
   },
   "outputs": [
    {
     "name": "stdout",
     "output_type": "stream",
     "text": [
      "[[], [], [], [], []]\n"
     ]
    }
   ],
   "source": [
    "print [[]] * 5"
   ]
  },
  {
   "cell_type": "code",
   "execution_count": 46,
   "metadata": {
    "collapsed": false
   },
   "outputs": [
    {
     "name": "stdout",
     "output_type": "stream",
     "text": [
      "1 46 78\n"
     ]
    }
   ],
   "source": [
    "calOnegroup(7, [89,256,78,1,46,78,8])"
   ]
  },
  {
   "cell_type": "code",
   "execution_count": 47,
   "metadata": {
    "collapsed": false
   },
   "outputs": [
    {
     "name": "stdout",
     "output_type": "stream",
     "text": [
      "6 8 17\n"
     ]
    }
   ],
   "source": [
    "calOnegroup(5, [6,4,8,2,17])"
   ]
  },
  {
   "cell_type": "code",
   "execution_count": 820,
   "metadata": {
    "collapsed": false
   },
   "outputs": [
    {
     "name": "stdout",
     "output_type": "stream",
     "text": [
      "[[35], []]\n",
      "[[35], [35]]\n",
      "[[35, 42], [35, 42]]\n"
     ]
    }
   ],
   "source": [
    "c = [[35],[]]\n",
    "print c\n",
    "c[1] = c[0] #这样相等以后二者的地址是一样的，所以一个append，全部都append\n",
    "print c\n",
    "c[1].append(42)\n",
    "print c"
   ]
  },
  {
   "cell_type": "code",
   "execution_count": 821,
   "metadata": {
    "collapsed": false
   },
   "outputs": [
    {
     "name": "stdout",
     "output_type": "stream",
     "text": [
      "[[35], []]\n",
      "[[35], [35]]\n",
      "[[35], [35, 42]]\n"
     ]
    }
   ],
   "source": [
    "c = [[35],[]]\n",
    "print c\n",
    "c[1].append(c[0][0])#第二个0是为了去掉35的外括号\n",
    "print c\n",
    "c[1].append(42)\n",
    "print c\n",
    "#这种方法在最长自增子序列里还是有问题，同时都加了42"
   ]
  },
  {
   "cell_type": "code",
   "execution_count": 924,
   "metadata": {
    "collapsed": false
   },
   "outputs": [
    {
     "name": "stdout",
     "output_type": "stream",
     "text": [
      "[[35], []]\n",
      "[[35], [35, 42]]\n"
     ]
    }
   ],
   "source": [
    "c = [[35],[]]\n",
    "print c\n",
    "c[1] = [c[0][0], 42]\n",
    "print c"
   ]
  },
  {
   "cell_type": "code",
   "execution_count": 930,
   "metadata": {
    "collapsed": false
   },
   "outputs": [
    {
     "name": "stdout",
     "output_type": "stream",
     "text": [
      "[[35], [], []]\n",
      "[[35], [35, 36], []]\n",
      "[[35], [35, 36], [35, 36, 39]]\n"
     ]
    }
   ],
   "source": [
    "d = [[35],[],[]]\n",
    "print d\n",
    "d[1] = d[0] + [36]\n",
    "print d\n",
    "d[2] = d[1] + [39]\n",
    "print d"
   ]
  },
  {
   "cell_type": "code",
   "execution_count": 978,
   "metadata": {
    "collapsed": true
   },
   "outputs": [],
   "source": [
    "e = [1,2,3,4,4,3,2,1]"
   ]
  },
  {
   "cell_type": "code",
   "execution_count": 979,
   "metadata": {
    "collapsed": false
   },
   "outputs": [
    {
     "name": "stdout",
     "output_type": "stream",
     "text": [
      "3\n"
     ]
    }
   ],
   "source": [
    "print e.index(max(e))"
   ]
  },
  {
   "cell_type": "code",
   "execution_count": 57,
   "metadata": {
    "collapsed": false
   },
   "outputs": [
    {
     "name": "stdout",
     "output_type": "stream",
     "text": [
      "2\n"
     ]
    }
   ],
   "source": [
    "print 5/2"
   ]
  },
  {
   "cell_type": "code",
   "execution_count": 58,
   "metadata": {
    "collapsed": false
   },
   "outputs": [
    {
     "name": "stdout",
     "output_type": "stream",
     "text": [
      "2\n"
     ]
    }
   ],
   "source": [
    "print 7/3"
   ]
  },
  {
   "cell_type": "code",
   "execution_count": 70,
   "metadata": {
    "collapsed": false
   },
   "outputs": [
    {
     "name": "stdout",
     "output_type": "stream",
     "text": [
      "4294967295\n"
     ]
    }
   ],
   "source": [
    "i = 0xFFFFFFFF\n",
    "print i"
   ]
  },
  {
   "cell_type": "code",
   "execution_count": 77,
   "metadata": {
    "collapsed": false
   },
   "outputs": [],
   "source": [
    "n = -1"
   ]
  },
  {
   "cell_type": "code",
   "execution_count": 79,
   "metadata": {
    "collapsed": false
   },
   "outputs": [
    {
     "name": "stdout",
     "output_type": "stream",
     "text": [
      "-0b1\n"
     ]
    }
   ],
   "source": [
    "print bin(n)"
   ]
  },
  {
   "cell_type": "code",
   "execution_count": 78,
   "metadata": {
    "collapsed": false
   },
   "outputs": [
    {
     "name": "stdout",
     "output_type": "stream",
     "text": [
      "1\n"
     ]
    }
   ],
   "source": [
    "print bin(n).count('1')"
   ]
  },
  {
   "cell_type": "code",
   "execution_count": 80,
   "metadata": {
    "collapsed": false
   },
   "outputs": [],
   "source": [
    "n = -1\n",
    "n = n & 0xFFFFFFFF"
   ]
  },
  {
   "cell_type": "code",
   "execution_count": 81,
   "metadata": {
    "collapsed": false
   },
   "outputs": [
    {
     "name": "stdout",
     "output_type": "stream",
     "text": [
      "0b11111111111111111111111111111111\n"
     ]
    }
   ],
   "source": [
    "print bin(n)"
   ]
  },
  {
   "cell_type": "code",
   "execution_count": 83,
   "metadata": {
    "collapsed": false
   },
   "outputs": [
    {
     "name": "stdout",
     "output_type": "stream",
     "text": [
      "32\n"
     ]
    }
   ],
   "source": [
    "print bin(n).count('1')"
   ]
  },
  {
   "cell_type": "code",
   "execution_count": 82,
   "metadata": {
    "collapsed": false
   },
   "outputs": [
    {
     "name": "stdout",
     "output_type": "stream",
     "text": [
      "0b10\n"
     ]
    }
   ],
   "source": [
    "print bin(2)"
   ]
  },
  {
   "cell_type": "code",
   "execution_count": 6,
   "metadata": {
    "collapsed": true
   },
   "outputs": [],
   "source": [
    "def swap(x, y):\n",
    "    print bin(x),bin(y)\n",
    "    x = x ^ y\n",
    "    print bin(x)\n",
    "    y = x ^ y\n",
    "    print bin(y)\n",
    "    x = x ^ y\n",
    "    print bin(x)\n",
    "    return x,y"
   ]
  },
  {
   "cell_type": "code",
   "execution_count": 7,
   "metadata": {
    "collapsed": false
   },
   "outputs": [
    {
     "name": "stdout",
     "output_type": "stream",
     "text": [
      "0b101 0b1010\n",
      "0b1111\n",
      "0b101\n",
      "0b1010\n"
     ]
    },
    {
     "data": {
      "text/plain": [
       "(10, 5)"
      ]
     },
     "execution_count": 7,
     "metadata": {},
     "output_type": "execute_result"
    }
   ],
   "source": [
    "swap(5,10)"
   ]
  },
  {
   "cell_type": "code",
   "execution_count": null,
   "metadata": {
    "collapsed": true
   },
   "outputs": [],
   "source": []
  }
 ],
 "metadata": {
  "anaconda-cloud": {},
  "kernelspec": {
   "display_name": "Python [conda env:fengchuyi]",
   "language": "python",
   "name": "conda-env-fengchuyi-py"
  },
  "language_info": {
   "codemirror_mode": {
    "name": "ipython",
    "version": 2
   },
   "file_extension": ".py",
   "mimetype": "text/x-python",
   "name": "python",
   "nbconvert_exporter": "python",
   "pygments_lexer": "ipython2",
   "version": "2.7.12"
  }
 },
 "nbformat": 4,
 "nbformat_minor": 2
}
